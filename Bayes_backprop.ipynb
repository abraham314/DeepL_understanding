{
 "cells": [
  {
   "cell_type": "markdown",
   "metadata": {},
   "source": [
    "https://gluon.mxnet.io/chapter18_variational-methods-and-uncertainty/bayes-by-backprop.html#Weight-pruning"
   ]
  },
  {
   "cell_type": "markdown",
   "metadata": {},
   "source": [
    "# Datos stock MXN_DLL"
   ]
  },
  {
   "cell_type": "code",
   "execution_count": 1,
   "metadata": {},
   "outputs": [],
   "source": [
    "import pandas as pd\n",
    "import seaborn as sns\n",
    "import matplotlib.pyplot as plt\n",
    "from ipywidgets import interact\n",
    "import pandas_datareader as pdr\n",
    "import datetime\n",
    "import numpy as np\n",
    "import pandas as pd\n",
    "import yfinance as yf\n",
    "from finta import TA\n",
    "from sklearn.preprocessing import StandardScaler, LabelEncoder\n",
    "from tensorflow.keras.utils import to_categorical \n",
    "from sklearn.metrics import classification_report,confusion_matrix,accuracy_score\n",
    "from scipy.special import expit"
   ]
  },
  {
   "cell_type": "code",
   "execution_count": 2,
   "metadata": {},
   "outputs": [
    {
     "data": {
      "text/html": [
       "<div>\n",
       "<style scoped>\n",
       "    .dataframe tbody tr th:only-of-type {\n",
       "        vertical-align: middle;\n",
       "    }\n",
       "\n",
       "    .dataframe tbody tr th {\n",
       "        vertical-align: top;\n",
       "    }\n",
       "\n",
       "    .dataframe thead th {\n",
       "        text-align: right;\n",
       "    }\n",
       "</style>\n",
       "<table border=\"1\" class=\"dataframe\">\n",
       "  <thead>\n",
       "    <tr style=\"text-align: right;\">\n",
       "      <th></th>\n",
       "      <th>Open</th>\n",
       "      <th>High</th>\n",
       "      <th>Low</th>\n",
       "      <th>Close</th>\n",
       "    </tr>\n",
       "    <tr>\n",
       "      <th>Date</th>\n",
       "      <th></th>\n",
       "      <th></th>\n",
       "      <th></th>\n",
       "      <th></th>\n",
       "    </tr>\n",
       "  </thead>\n",
       "  <tbody>\n",
       "    <tr>\n",
       "      <th>2020-09-29</th>\n",
       "      <td>22.3654</td>\n",
       "      <td>22.5348</td>\n",
       "      <td>22.1852</td>\n",
       "      <td>22.3491</td>\n",
       "    </tr>\n",
       "    <tr>\n",
       "      <th>2020-09-30</th>\n",
       "      <td>22.3792</td>\n",
       "      <td>22.5253</td>\n",
       "      <td>22.0493</td>\n",
       "      <td>22.3735</td>\n",
       "    </tr>\n",
       "    <tr>\n",
       "      <th>2020-10-01</th>\n",
       "      <td>22.0745</td>\n",
       "      <td>22.1092</td>\n",
       "      <td>21.7896</td>\n",
       "      <td>22.0816</td>\n",
       "    </tr>\n",
       "    <tr>\n",
       "      <th>2020-10-02</th>\n",
       "      <td>21.8468</td>\n",
       "      <td>22.0578</td>\n",
       "      <td>21.6533</td>\n",
       "      <td>21.8447</td>\n",
       "    </tr>\n",
       "    <tr>\n",
       "      <th>2020-10-05</th>\n",
       "      <td>21.5972</td>\n",
       "      <td>21.6132</td>\n",
       "      <td>21.3006</td>\n",
       "      <td>21.5950</td>\n",
       "    </tr>\n",
       "  </tbody>\n",
       "</table>\n",
       "</div>"
      ],
      "text/plain": [
       "               Open     High      Low    Close\n",
       "Date                                          \n",
       "2020-09-29  22.3654  22.5348  22.1852  22.3491\n",
       "2020-09-30  22.3792  22.5253  22.0493  22.3735\n",
       "2020-10-01  22.0745  22.1092  21.7896  22.0816\n",
       "2020-10-02  21.8468  22.0578  21.6533  21.8447\n",
       "2020-10-05  21.5972  21.6132  21.3006  21.5950"
      ]
     },
     "execution_count": 2,
     "metadata": {},
     "output_type": "execute_result"
    }
   ],
   "source": [
    "data=yf.Ticker('MXN=X')\n",
    "data=data.history(period=\"max\")\n",
    "data=data.loc[\"2000-01-20\":\"2020-12-31\"][[\"Open\",\"High\",\"Low\",'Close']]\n",
    "data.tail()"
   ]
  },
  {
   "cell_type": "code",
   "execution_count": 3,
   "metadata": {},
   "outputs": [
    {
     "data": {
      "text/html": [
       "<div>\n",
       "<style scoped>\n",
       "    .dataframe tbody tr th:only-of-type {\n",
       "        vertical-align: middle;\n",
       "    }\n",
       "\n",
       "    .dataframe tbody tr th {\n",
       "        vertical-align: top;\n",
       "    }\n",
       "\n",
       "    .dataframe thead th {\n",
       "        text-align: right;\n",
       "    }\n",
       "</style>\n",
       "<table border=\"1\" class=\"dataframe\">\n",
       "  <thead>\n",
       "    <tr style=\"text-align: right;\">\n",
       "      <th></th>\n",
       "      <th>Open</th>\n",
       "      <th>High</th>\n",
       "      <th>Low</th>\n",
       "      <th>Close</th>\n",
       "    </tr>\n",
       "    <tr>\n",
       "      <th>Date</th>\n",
       "      <th></th>\n",
       "      <th></th>\n",
       "      <th></th>\n",
       "      <th></th>\n",
       "    </tr>\n",
       "  </thead>\n",
       "  <tbody>\n",
       "    <tr>\n",
       "      <th>2020-09-29</th>\n",
       "      <td>333.97</td>\n",
       "      <td>334.77</td>\n",
       "      <td>331.62</td>\n",
       "      <td>332.37</td>\n",
       "    </tr>\n",
       "    <tr>\n",
       "      <th>2020-09-30</th>\n",
       "      <td>333.09</td>\n",
       "      <td>338.29</td>\n",
       "      <td>332.88</td>\n",
       "      <td>334.89</td>\n",
       "    </tr>\n",
       "    <tr>\n",
       "      <th>2020-10-01</th>\n",
       "      <td>337.69</td>\n",
       "      <td>338.74</td>\n",
       "      <td>335.01</td>\n",
       "      <td>337.04</td>\n",
       "    </tr>\n",
       "    <tr>\n",
       "      <th>2020-10-02</th>\n",
       "      <td>331.70</td>\n",
       "      <td>337.01</td>\n",
       "      <td>331.19</td>\n",
       "      <td>333.84</td>\n",
       "    </tr>\n",
       "    <tr>\n",
       "      <th>2020-10-05</th>\n",
       "      <td>336.06</td>\n",
       "      <td>339.95</td>\n",
       "      <td>336.01</td>\n",
       "      <td>339.76</td>\n",
       "    </tr>\n",
       "  </tbody>\n",
       "</table>\n",
       "</div>"
      ],
      "text/plain": [
       "              Open    High     Low   Close\n",
       "Date                                      \n",
       "2020-09-29  333.97  334.77  331.62  332.37\n",
       "2020-09-30  333.09  338.29  332.88  334.89\n",
       "2020-10-01  337.69  338.74  335.01  337.04\n",
       "2020-10-02  331.70  337.01  331.19  333.84\n",
       "2020-10-05  336.06  339.95  336.01  339.76"
      ]
     },
     "execution_count": 3,
     "metadata": {},
     "output_type": "execute_result"
    }
   ],
   "source": [
    "sp=yf.Ticker('SPY')\n",
    "sp=sp.history(period=\"max\")\n",
    "sp=sp.loc[\"2000-01-20\":\"2020-12-31\"][[\"Open\",\"High\",\"Low\",'Close']]\n",
    "sp.tail()"
   ]
  },
  {
   "cell_type": "code",
   "execution_count": 4,
   "metadata": {},
   "outputs": [],
   "source": [
    "data=data.join(sp,how=\"left\",rsuffix=\"sp\")"
   ]
  },
  {
   "cell_type": "code",
   "execution_count": 5,
   "metadata": {},
   "outputs": [
    {
     "data": {
      "text/html": [
       "<div>\n",
       "<style scoped>\n",
       "    .dataframe tbody tr th:only-of-type {\n",
       "        vertical-align: middle;\n",
       "    }\n",
       "\n",
       "    .dataframe tbody tr th {\n",
       "        vertical-align: top;\n",
       "    }\n",
       "\n",
       "    .dataframe thead th {\n",
       "        text-align: right;\n",
       "    }\n",
       "</style>\n",
       "<table border=\"1\" class=\"dataframe\">\n",
       "  <thead>\n",
       "    <tr style=\"text-align: right;\">\n",
       "      <th></th>\n",
       "      <th>Open</th>\n",
       "      <th>High</th>\n",
       "      <th>Low</th>\n",
       "      <th>Close</th>\n",
       "      <th>Opensp</th>\n",
       "      <th>Highsp</th>\n",
       "      <th>Lowsp</th>\n",
       "      <th>Closesp</th>\n",
       "      <th>sp_percent_change</th>\n",
       "      <th>percent_change</th>\n",
       "      <th>relative_change</th>\n",
       "    </tr>\n",
       "    <tr>\n",
       "      <th>Date</th>\n",
       "      <th></th>\n",
       "      <th></th>\n",
       "      <th></th>\n",
       "      <th></th>\n",
       "      <th></th>\n",
       "      <th></th>\n",
       "      <th></th>\n",
       "      <th></th>\n",
       "      <th></th>\n",
       "      <th></th>\n",
       "      <th></th>\n",
       "    </tr>\n",
       "  </thead>\n",
       "  <tbody>\n",
       "    <tr>\n",
       "      <th>2020-09-29</th>\n",
       "      <td>22.3654</td>\n",
       "      <td>22.5348</td>\n",
       "      <td>22.1852</td>\n",
       "      <td>22.3491</td>\n",
       "      <td>333.97</td>\n",
       "      <td>334.77</td>\n",
       "      <td>331.62</td>\n",
       "      <td>332.37</td>\n",
       "      <td>-0.005446</td>\n",
       "      <td>0.001780</td>\n",
       "      <td>0.007226</td>\n",
       "    </tr>\n",
       "    <tr>\n",
       "      <th>2020-09-30</th>\n",
       "      <td>22.3792</td>\n",
       "      <td>22.5253</td>\n",
       "      <td>22.0493</td>\n",
       "      <td>22.3735</td>\n",
       "      <td>333.09</td>\n",
       "      <td>338.29</td>\n",
       "      <td>332.88</td>\n",
       "      <td>334.89</td>\n",
       "      <td>0.007582</td>\n",
       "      <td>0.001092</td>\n",
       "      <td>-0.006490</td>\n",
       "    </tr>\n",
       "    <tr>\n",
       "      <th>2020-10-01</th>\n",
       "      <td>22.0745</td>\n",
       "      <td>22.1092</td>\n",
       "      <td>21.7896</td>\n",
       "      <td>22.0816</td>\n",
       "      <td>337.69</td>\n",
       "      <td>338.74</td>\n",
       "      <td>335.01</td>\n",
       "      <td>337.04</td>\n",
       "      <td>0.006420</td>\n",
       "      <td>-0.013047</td>\n",
       "      <td>-0.019467</td>\n",
       "    </tr>\n",
       "    <tr>\n",
       "      <th>2020-10-02</th>\n",
       "      <td>21.8468</td>\n",
       "      <td>22.0578</td>\n",
       "      <td>21.6533</td>\n",
       "      <td>21.8447</td>\n",
       "      <td>331.70</td>\n",
       "      <td>337.01</td>\n",
       "      <td>331.19</td>\n",
       "      <td>333.84</td>\n",
       "      <td>-0.009494</td>\n",
       "      <td>-0.010728</td>\n",
       "      <td>-0.001234</td>\n",
       "    </tr>\n",
       "    <tr>\n",
       "      <th>2020-10-05</th>\n",
       "      <td>21.5972</td>\n",
       "      <td>21.6132</td>\n",
       "      <td>21.3006</td>\n",
       "      <td>21.5950</td>\n",
       "      <td>336.06</td>\n",
       "      <td>339.95</td>\n",
       "      <td>336.01</td>\n",
       "      <td>339.76</td>\n",
       "      <td>0.017733</td>\n",
       "      <td>-0.011431</td>\n",
       "      <td>-0.029164</td>\n",
       "    </tr>\n",
       "  </tbody>\n",
       "</table>\n",
       "</div>"
      ],
      "text/plain": [
       "               Open     High      Low    Close  Opensp  Highsp   Lowsp  \\\n",
       "Date                                                                     \n",
       "2020-09-29  22.3654  22.5348  22.1852  22.3491  333.97  334.77  331.62   \n",
       "2020-09-30  22.3792  22.5253  22.0493  22.3735  333.09  338.29  332.88   \n",
       "2020-10-01  22.0745  22.1092  21.7896  22.0816  337.69  338.74  335.01   \n",
       "2020-10-02  21.8468  22.0578  21.6533  21.8447  331.70  337.01  331.19   \n",
       "2020-10-05  21.5972  21.6132  21.3006  21.5950  336.06  339.95  336.01   \n",
       "\n",
       "            Closesp  sp_percent_change  percent_change  relative_change  \n",
       "Date                                                                     \n",
       "2020-09-29   332.37          -0.005446        0.001780         0.007226  \n",
       "2020-09-30   334.89           0.007582        0.001092        -0.006490  \n",
       "2020-10-01   337.04           0.006420       -0.013047        -0.019467  \n",
       "2020-10-02   333.84          -0.009494       -0.010728        -0.001234  \n",
       "2020-10-05   339.76           0.017733       -0.011431        -0.029164  "
      ]
     },
     "execution_count": 5,
     "metadata": {},
     "output_type": "execute_result"
    }
   ],
   "source": [
    "data[\"sp_percent_change\"] = data[\"Closesp\"].pct_change(periods=1).astype(float)\n",
    "#data = data.merge(SP[\"sp_percent_change\"], left_index=True, right_index=True,how=\"left\")\n",
    "data[\"percent_change\"] = data[\"Close\"].pct_change(periods=1).astype(float)\n",
    "# Daily percent change as compared to the S&P 500\n",
    "data[\"relative_change\"] = data[\"percent_change\"] - data[\"sp_percent_change\"]\n",
    "data.tail()"
   ]
  },
  {
   "cell_type": "code",
   "execution_count": 6,
   "metadata": {},
   "outputs": [],
   "source": [
    "data.columns=data.columns.str.lower()"
   ]
  },
  {
   "cell_type": "code",
   "execution_count": 7,
   "metadata": {},
   "outputs": [],
   "source": [
    "def add_indicators(data):\n",
    "        # This is a list of all possible indicators we can use\n",
    "        # indicators = ['ADL', 'ADX', 'AO', 'APZ', 'ATR',\n",
    "        # 'BASP', 'BASPN', 'BBANDS', 'BBWIDTH', 'CCI', 'CFI', 'CHAIKIN', 'CHANDELIER', 'CMO', 'COPP', 'DEMA', 'DMI',\n",
    "        # 'DO', 'EBBP', 'EFI', 'EMA', 'EMV', 'ER', 'EVWMA', 'EV_MACD', 'FISH', 'FVE', 'HMA', 'ICHIMOKU', 'IFT_RSI',\n",
    "        # 'KAMA', 'KC', 'KST', 'MACD', 'MFI', 'MI', 'MOM', 'MSD', 'OBV', 'PERCENT_B', 'PIVOT', 'PIVOT_FIB', 'PPO',\n",
    "        # 'PZO', 'QSTICK', 'ROC', 'RSI', 'SAR', 'SMA', 'SMM', 'SMMA', 'SQZMI', 'SSMA', 'STC', 'STOCH', 'STOCHD',\n",
    "        # 'STOCHRSI', 'TEMA', 'TMF', 'TP', 'TR', 'TRIMA', 'TRIX', 'TSI', 'UO', 'VAMA', 'VFI', 'VORTEX', 'VPT', 'VR',\n",
    "        # 'VWAP', 'VW_MACD', 'VZO', 'WILLIAMS', 'WMA', 'WOBV', 'WTO', 'ZLEMA']\n",
    "\n",
    "        # Here are all indicators we are using\n",
    "    indicators = ['SMA', 'SMM', 'SSMA', 'EMA', 'DEMA', 'TEMA', 'TRIMA', 'TRIX', 'ER', 'KAMA', 'ZLEMA',\n",
    "                      'WMA', 'HMA', 'SMMA', 'MACD', 'PPO', 'MOM', 'ROC', 'RSI',\n",
    "                      'IFT_RSI']\n",
    "        # These indicators need more tuning or are broken\n",
    "    broken_indicators = ['SAR', 'TMF', 'QSTICK']\n",
    "    for indicator in indicators:\n",
    "        if indicator not in broken_indicators:\n",
    "            df = None\n",
    "                # Using python's eval function to create a method from a string instead of having every method defined\n",
    "            df = eval('TA.' + indicator + '(data)')\n",
    "                # Some method return series, so we can check to convert here\n",
    "            if not isinstance(df, pd.DataFrame):\n",
    "                df = df.to_frame()\n",
    "                # Appropriate labels on each column\n",
    "            df = df.add_prefix(indicator + '_')\n",
    "                # Join merge dataframes based on the date\n",
    "            data = data.merge(df, left_index=True, right_index=True)\n",
    "        # Fix labels\n",
    "    data.columns = data.columns.str.replace(' ', '_')\n",
    "    return(data)"
   ]
  },
  {
   "cell_type": "code",
   "execution_count": 8,
   "metadata": {},
   "outputs": [],
   "source": [
    "data=add_indicators(data)"
   ]
  },
  {
   "cell_type": "code",
   "execution_count": 9,
   "metadata": {},
   "outputs": [],
   "source": [
    "data.dropna(inplace=True)"
   ]
  },
  {
   "cell_type": "code",
   "execution_count": 10,
   "metadata": {},
   "outputs": [],
   "source": [
    "data[\"dir\"]=np.sign(data[\"percent_change\"]).shift(-1)\n",
    "data.dropna(inplace=True)\n",
    "data[\"dir\"]=data[\"dir\"].apply(lambda x: 1 if x>=0 else 0)\n",
    "data[\"dir_ant30\"]=data[\"dir\"].rolling(window=30).mean()\n",
    "data.dropna(inplace=True)"
   ]
  },
  {
   "cell_type": "code",
   "execution_count": 11,
   "metadata": {},
   "outputs": [
    {
     "data": {
      "text/html": [
       "<div>\n",
       "<style scoped>\n",
       "    .dataframe tbody tr th:only-of-type {\n",
       "        vertical-align: middle;\n",
       "    }\n",
       "\n",
       "    .dataframe tbody tr th {\n",
       "        vertical-align: top;\n",
       "    }\n",
       "\n",
       "    .dataframe thead th {\n",
       "        text-align: right;\n",
       "    }\n",
       "</style>\n",
       "<table border=\"1\" class=\"dataframe\">\n",
       "  <thead>\n",
       "    <tr style=\"text-align: right;\">\n",
       "      <th></th>\n",
       "      <th>open</th>\n",
       "      <th>high</th>\n",
       "      <th>low</th>\n",
       "      <th>close</th>\n",
       "      <th>opensp</th>\n",
       "      <th>highsp</th>\n",
       "      <th>lowsp</th>\n",
       "      <th>closesp</th>\n",
       "      <th>sp_percent_change</th>\n",
       "      <th>percent_change</th>\n",
       "      <th>...</th>\n",
       "      <th>MACD_SIGNAL</th>\n",
       "      <th>PPO_PPO</th>\n",
       "      <th>PPO_SIGNAL</th>\n",
       "      <th>PPO_HISTO</th>\n",
       "      <th>MOM_MOM</th>\n",
       "      <th>ROC_ROC</th>\n",
       "      <th>RSI_14_period_RSI</th>\n",
       "      <th>IFT_RSI_IFT_RSI</th>\n",
       "      <th>dir</th>\n",
       "      <th>dir_ant30</th>\n",
       "    </tr>\n",
       "    <tr>\n",
       "      <th>Date</th>\n",
       "      <th></th>\n",
       "      <th></th>\n",
       "      <th></th>\n",
       "      <th></th>\n",
       "      <th></th>\n",
       "      <th></th>\n",
       "      <th></th>\n",
       "      <th></th>\n",
       "      <th></th>\n",
       "      <th></th>\n",
       "      <th></th>\n",
       "      <th></th>\n",
       "      <th></th>\n",
       "      <th></th>\n",
       "      <th></th>\n",
       "      <th></th>\n",
       "      <th></th>\n",
       "      <th></th>\n",
       "      <th></th>\n",
       "      <th></th>\n",
       "      <th></th>\n",
       "    </tr>\n",
       "  </thead>\n",
       "  <tbody>\n",
       "    <tr>\n",
       "      <th>2020-09-24</th>\n",
       "      <td>22.3936</td>\n",
       "      <td>22.6901</td>\n",
       "      <td>22.2702</td>\n",
       "      <td>22.3904</td>\n",
       "      <td>321.22</td>\n",
       "      <td>326.80</td>\n",
       "      <td>319.80</td>\n",
       "      <td>323.50</td>\n",
       "      <td>0.002666</td>\n",
       "      <td>0.033030</td>\n",
       "      <td>...</td>\n",
       "      <td>-0.219611</td>\n",
       "      <td>-0.559260</td>\n",
       "      <td>-1.013447</td>\n",
       "      <td>0.454187</td>\n",
       "      <td>1.0034</td>\n",
       "      <td>3.687101</td>\n",
       "      <td>63.747280</td>\n",
       "      <td>246.758585</td>\n",
       "      <td>0</td>\n",
       "      <td>0.466667</td>\n",
       "    </tr>\n",
       "    <tr>\n",
       "      <th>2020-09-25</th>\n",
       "      <td>22.1336</td>\n",
       "      <td>22.5272</td>\n",
       "      <td>21.9766</td>\n",
       "      <td>22.1384</td>\n",
       "      <td>322.58</td>\n",
       "      <td>329.58</td>\n",
       "      <td>321.64</td>\n",
       "      <td>328.73</td>\n",
       "      <td>0.016167</td>\n",
       "      <td>-0.011255</td>\n",
       "      <td>...</td>\n",
       "      <td>-0.188208</td>\n",
       "      <td>-0.288762</td>\n",
       "      <td>-0.868510</td>\n",
       "      <td>0.579748</td>\n",
       "      <td>0.7018</td>\n",
       "      <td>1.216145</td>\n",
       "      <td>58.289188</td>\n",
       "      <td>5.342111</td>\n",
       "      <td>1</td>\n",
       "      <td>0.500000</td>\n",
       "    </tr>\n",
       "    <tr>\n",
       "      <th>2020-09-28</th>\n",
       "      <td>22.3115</td>\n",
       "      <td>22.5675</td>\n",
       "      <td>22.1583</td>\n",
       "      <td>22.3094</td>\n",
       "      <td>333.22</td>\n",
       "      <td>334.96</td>\n",
       "      <td>332.15</td>\n",
       "      <td>334.19</td>\n",
       "      <td>0.016609</td>\n",
       "      <td>0.007724</td>\n",
       "      <td>...</td>\n",
       "      <td>-0.151059</td>\n",
       "      <td>-0.011335</td>\n",
       "      <td>-0.697075</td>\n",
       "      <td>0.685741</td>\n",
       "      <td>1.0419</td>\n",
       "      <td>4.312900</td>\n",
       "      <td>60.745316</td>\n",
       "      <td>0.245677</td>\n",
       "      <td>1</td>\n",
       "      <td>0.533333</td>\n",
       "    </tr>\n",
       "    <tr>\n",
       "      <th>2020-09-29</th>\n",
       "      <td>22.3654</td>\n",
       "      <td>22.5348</td>\n",
       "      <td>22.1852</td>\n",
       "      <td>22.3491</td>\n",
       "      <td>333.97</td>\n",
       "      <td>334.77</td>\n",
       "      <td>331.62</td>\n",
       "      <td>332.37</td>\n",
       "      <td>-0.005446</td>\n",
       "      <td>0.001780</td>\n",
       "      <td>...</td>\n",
       "      <td>-0.111278</td>\n",
       "      <td>0.219773</td>\n",
       "      <td>-0.513705</td>\n",
       "      <td>0.733479</td>\n",
       "      <td>1.2843</td>\n",
       "      <td>4.256738</td>\n",
       "      <td>61.314858</td>\n",
       "      <td>0.000361</td>\n",
       "      <td>1</td>\n",
       "      <td>0.533333</td>\n",
       "    </tr>\n",
       "    <tr>\n",
       "      <th>2020-09-30</th>\n",
       "      <td>22.3792</td>\n",
       "      <td>22.5253</td>\n",
       "      <td>22.0493</td>\n",
       "      <td>22.3735</td>\n",
       "      <td>333.09</td>\n",
       "      <td>338.29</td>\n",
       "      <td>332.88</td>\n",
       "      <td>334.89</td>\n",
       "      <td>0.007582</td>\n",
       "      <td>0.001092</td>\n",
       "      <td>...</td>\n",
       "      <td>-0.071291</td>\n",
       "      <td>0.406423</td>\n",
       "      <td>-0.329680</td>\n",
       "      <td>0.736103</td>\n",
       "      <td>1.2315</td>\n",
       "      <td>5.200423</td>\n",
       "      <td>61.682827</td>\n",
       "      <td>0.037618</td>\n",
       "      <td>0</td>\n",
       "      <td>0.533333</td>\n",
       "    </tr>\n",
       "    <tr>\n",
       "      <th>2020-10-01</th>\n",
       "      <td>22.0745</td>\n",
       "      <td>22.1092</td>\n",
       "      <td>21.7896</td>\n",
       "      <td>22.0816</td>\n",
       "      <td>337.69</td>\n",
       "      <td>338.74</td>\n",
       "      <td>335.01</td>\n",
       "      <td>337.04</td>\n",
       "      <td>0.006420</td>\n",
       "      <td>-0.013047</td>\n",
       "      <td>...</td>\n",
       "      <td>-0.037765</td>\n",
       "      <td>0.441236</td>\n",
       "      <td>-0.175497</td>\n",
       "      <td>0.616733</td>\n",
       "      <td>1.1024</td>\n",
       "      <td>4.827010</td>\n",
       "      <td>54.949081</td>\n",
       "      <td>0.052624</td>\n",
       "      <td>0</td>\n",
       "      <td>0.500000</td>\n",
       "    </tr>\n",
       "    <tr>\n",
       "      <th>2020-10-02</th>\n",
       "      <td>21.8468</td>\n",
       "      <td>22.0578</td>\n",
       "      <td>21.6533</td>\n",
       "      <td>21.8447</td>\n",
       "      <td>331.70</td>\n",
       "      <td>337.01</td>\n",
       "      <td>331.19</td>\n",
       "      <td>333.84</td>\n",
       "      <td>-0.009494</td>\n",
       "      <td>-0.010728</td>\n",
       "      <td>...</td>\n",
       "      <td>-0.013739</td>\n",
       "      <td>0.377205</td>\n",
       "      <td>-0.064956</td>\n",
       "      <td>0.442161</td>\n",
       "      <td>0.9520</td>\n",
       "      <td>3.323716</td>\n",
       "      <td>50.162884</td>\n",
       "      <td>0.028584</td>\n",
       "      <td>0</td>\n",
       "      <td>0.500000</td>\n",
       "    </tr>\n",
       "  </tbody>\n",
       "</table>\n",
       "<p>7 rows × 37 columns</p>\n",
       "</div>"
      ],
      "text/plain": [
       "               open     high      low    close  opensp  highsp   lowsp  \\\n",
       "Date                                                                     \n",
       "2020-09-24  22.3936  22.6901  22.2702  22.3904  321.22  326.80  319.80   \n",
       "2020-09-25  22.1336  22.5272  21.9766  22.1384  322.58  329.58  321.64   \n",
       "2020-09-28  22.3115  22.5675  22.1583  22.3094  333.22  334.96  332.15   \n",
       "2020-09-29  22.3654  22.5348  22.1852  22.3491  333.97  334.77  331.62   \n",
       "2020-09-30  22.3792  22.5253  22.0493  22.3735  333.09  338.29  332.88   \n",
       "2020-10-01  22.0745  22.1092  21.7896  22.0816  337.69  338.74  335.01   \n",
       "2020-10-02  21.8468  22.0578  21.6533  21.8447  331.70  337.01  331.19   \n",
       "\n",
       "            closesp  sp_percent_change  percent_change  ...  MACD_SIGNAL  \\\n",
       "Date                                                    ...                \n",
       "2020-09-24   323.50           0.002666        0.033030  ...    -0.219611   \n",
       "2020-09-25   328.73           0.016167       -0.011255  ...    -0.188208   \n",
       "2020-09-28   334.19           0.016609        0.007724  ...    -0.151059   \n",
       "2020-09-29   332.37          -0.005446        0.001780  ...    -0.111278   \n",
       "2020-09-30   334.89           0.007582        0.001092  ...    -0.071291   \n",
       "2020-10-01   337.04           0.006420       -0.013047  ...    -0.037765   \n",
       "2020-10-02   333.84          -0.009494       -0.010728  ...    -0.013739   \n",
       "\n",
       "             PPO_PPO  PPO_SIGNAL  PPO_HISTO  MOM_MOM   ROC_ROC  \\\n",
       "Date                                                             \n",
       "2020-09-24 -0.559260   -1.013447   0.454187   1.0034  3.687101   \n",
       "2020-09-25 -0.288762   -0.868510   0.579748   0.7018  1.216145   \n",
       "2020-09-28 -0.011335   -0.697075   0.685741   1.0419  4.312900   \n",
       "2020-09-29  0.219773   -0.513705   0.733479   1.2843  4.256738   \n",
       "2020-09-30  0.406423   -0.329680   0.736103   1.2315  5.200423   \n",
       "2020-10-01  0.441236   -0.175497   0.616733   1.1024  4.827010   \n",
       "2020-10-02  0.377205   -0.064956   0.442161   0.9520  3.323716   \n",
       "\n",
       "            RSI_14_period_RSI  IFT_RSI_IFT_RSI  dir  dir_ant30  \n",
       "Date                                                            \n",
       "2020-09-24          63.747280       246.758585    0   0.466667  \n",
       "2020-09-25          58.289188         5.342111    1   0.500000  \n",
       "2020-09-28          60.745316         0.245677    1   0.533333  \n",
       "2020-09-29          61.314858         0.000361    1   0.533333  \n",
       "2020-09-30          61.682827         0.037618    0   0.533333  \n",
       "2020-10-01          54.949081         0.052624    0   0.500000  \n",
       "2020-10-02          50.162884         0.028584    0   0.500000  \n",
       "\n",
       "[7 rows x 37 columns]"
      ]
     },
     "execution_count": 11,
     "metadata": {},
     "output_type": "execute_result"
    }
   ],
   "source": [
    "data.tail(7)"
   ]
  },
  {
   "cell_type": "code",
   "execution_count": 12,
   "metadata": {},
   "outputs": [],
   "source": [
    "X = data.drop('dir', axis=1).values\n",
    "y = data['dir'].values"
   ]
  },
  {
   "cell_type": "code",
   "execution_count": 13,
   "metadata": {},
   "outputs": [],
   "source": [
    "split=int(X.shape[0]*.8)\n",
    "x_train,x_test,y_train,y_test=X[:split],X[split:],y[:split],y[split:]"
   ]
  },
  {
   "cell_type": "code",
   "execution_count": 14,
   "metadata": {},
   "outputs": [],
   "source": [
    "sc=StandardScaler()\n",
    "x_train=sc.fit_transform(x_train)\n",
    "x_test=sc.transform(x_test)"
   ]
  },
  {
   "cell_type": "markdown",
   "metadata": {},
   "source": [
    "# Definición del Modelo\n",
    "\n",
    "## función de activación ReLu"
   ]
  },
  {
   "cell_type": "code",
   "execution_count": 15,
   "metadata": {},
   "outputs": [],
   "source": [
    "def relu(X):\n",
    "    return(np.maximum(X,np.zeros_like(X)))"
   ]
  },
  {
   "cell_type": "markdown",
   "metadata": {},
   "source": [
    "## MLP Evaluación\n",
    "\n",
    "Como en el esquema vamos a hacer una red con 2 capas ocultas + sus respectivas capas de inputs y outputs"
   ]
  },
  {
   "cell_type": "code",
   "execution_count": 16,
   "metadata": {},
   "outputs": [],
   "source": [
    "num_inputs=X.shape[1]\n",
    "num_outputs=to_categorical(y).shape[1]"
   ]
  },
  {
   "cell_type": "code",
   "execution_count": 17,
   "metadata": {},
   "outputs": [],
   "source": [
    "def agunos(x):\n",
    "    \"\"\"\n",
    "    Está función agrega el bias con una columna de 1's al principio\n",
    "    \n",
    "    input:\n",
    "          array de mxn \n",
    "    output:\n",
    "          array de (mx(n+1))\n",
    "    \"\"\"\n",
    "    unos=np.ones((len(x),1))\n",
    "    #print(unos.shape,x.shape)\n",
    "    return np.concatenate([unos,x],axis=1)"
   ]
  },
  {
   "cell_type": "code",
   "execution_count": 18,
   "metadata": {},
   "outputs": [
    {
     "name": "stdout",
     "output_type": "stream",
     "text": [
      "Bayes NN\n"
     ]
    },
    {
     "data": {
      "image/png": "[encoded data removed]",
      "text/plain": [
       "<IPython.core.display.Image object>"
      ]
     },
     "execution_count": 18,
     "metadata": {},
     "output_type": "execute_result"
    }
   ],
   "source": [
    "from IPython.display import Image\n",
    "print(\"Bayes NN\")\n",
    "Image(filename='bbb_nn_bayes.png')"
   ]
  },
  {
   "cell_type": "code",
   "execution_count": 19,
   "metadata": {},
   "outputs": [],
   "source": [
    "#número de capas ocultas\n",
    "num_layers=2\n",
    "\n",
    "# define function for evaluating MLP\n",
    "def net(X, layer_params):\n",
    "    \"\"\"\n",
    "    función que creo la aqrquitectura de la NN de arriba\n",
    "    \n",
    "    Input:\n",
    "         X.- array mxn\n",
    "         layer_params.- lista de arrays con los wi's o pesos  de cada etapa, los pares cson w's y nones biases\n",
    "    Output:\n",
    "         output: mx1 estimación \n",
    "    \"\"\"\n",
    "    H=[]\n",
    "    layer_input = X\n",
    "    for i in range(len(layer_params) // 2 - 1):\n",
    "        #H=X@W+b\n",
    "        h_linear = np.dot(layer_input, layer_params[2*i]) #+ layer_params[2*i + 1]\n",
    "        H.append(h_linear)\n",
    "        #ReLU(H)=RELU(X@W+b)\n",
    "        layer_input = np.append(1,relu(h_linear))\n",
    "    # last layer without ReLU\n",
    "    output = np.dot(layer_input, layer_params[-2]) #+ layer_params[-1]\n",
    "    return output,H\n",
    "\n",
    "# define network weight shapes\n",
    "layer_param_shapes = []\n",
    "num_hidden = 400\n",
    "for i in range(num_layers + 1):\n",
    "    if i == 0: # input layer\n",
    "        W_shape = (num_inputs+1, num_hidden)\n",
    "        b_shape = (num_hidden,)\n",
    "    elif i == num_layers: # last layer\n",
    "        W_shape = (num_hidden+1, num_outputs)\n",
    "        b_shape = (num_outputs,)\n",
    "    else: # hidden layers\n",
    "        W_shape = (num_hidden+1, num_hidden)\n",
    "        b_shape = (num_hidden,)\n",
    "    layer_param_shapes.extend([W_shape, b_shape])"
   ]
  },
  {
   "cell_type": "code",
   "execution_count": 20,
   "metadata": {},
   "outputs": [
    {
     "data": {
      "text/plain": [
       "[0, 1]"
      ]
     },
     "execution_count": 20,
     "metadata": {},
     "output_type": "execute_result"
    }
   ],
   "source": [
    "list(range(6 // 2 - 1))\n",
    "#H[0]"
   ]
  },
  {
   "cell_type": "code",
   "execution_count": 21,
   "metadata": {},
   "outputs": [
    {
     "data": {
      "text/plain": [
       "[(37, 400), (400,), (401, 400), (400,), (401, 2), (2,)]"
      ]
     },
     "execution_count": 21,
     "metadata": {},
     "output_type": "execute_result"
    }
   ],
   "source": [
    "#número de unidades por layer en toda la NN\n",
    "layer_param_shapes"
   ]
  },
  {
   "cell_type": "markdown",
   "metadata": {},
   "source": [
    "# Función de costos"
   ]
  },
  {
   "cell_type": "markdown",
   "metadata": {},
   "source": [
    "As we briefly mentioned at the beginning of the notebook, we will use variational inference in order to make the prediction of the posterior tractable. While we can not model the posterior P(w | D) directly, we try to find the parameters θ of a distribution on the weights q(w | θ) (commly referred to as the variational posterior) that minimizes the KL divergence with the true posterior. Formally this can be expressed as:"
   ]
  },
  {
   "cell_type": "markdown",
   "metadata": {},
   "source": [
    "$$\\begin{aligned}\n",
    "\\theta^{*} &=\\arg \\min _{\\theta} \\mathrm{KL}[q(\\mathbf{w} \\mid \\theta) \\| P(\\mathbf{w} \\mid \\mathcal{D}]\\\\\n",
    "&=\\arg \\min _{\\theta} \\int q(\\mathbf{w} \\mid \\theta) \\log \\frac{q(\\mathbf{w} \\mid \\theta)}{P(\\mathbf{w}) P(\\mathcal{D} \\mid \\mathbf{w})} d \\mathbf{w} \\\\\n",
    "&=\\arg \\min _{\\theta} \\mathrm{KL}[q(\\mathbf{w} \\mid \\theta) \\| P(\\mathbf{w})]-\\mathbb{E}_{q(\\mathbf{w} \\mid \\theta)}[\\log P(\\mathcal{D} \\mid \\mathbf{w})]\n",
    "\\end{aligned}$$"
   ]
  },
  {
   "cell_type": "markdown",
   "metadata": {},
   "source": [
    "The resulting loss function, commonly referred to as either variational free energy or expected lower bound (ELBO), has to be minimized and is then given as follows:\n",
    "\n",
    "$$\\mathcal{F}(\\mathcal{D}, \\theta)=\\operatorname{KL}[q(\\mathbf{w} \\mid \\theta) \\| P(\\mathbf{w})]-\\mathbb{E}_{q(\\mathbf{w} \\mid \\theta)}[\\log P(\\mathcal{D} \\mid \\mathbf{w})]$$\n",
    "\n",
    "As one can easily see, the cost function tries to balance the complexity of the data P(D | w) and the simplicity of the prior P(w).\n",
    "\n",
    "We can approximate this exact cost through a Monte Carlo sampling procedure as follows\n",
    "\n",
    "$$\\mathcal{F}(\\mathcal{D}, \\theta) \\approx \\sum_{i=1}^{n} \\log q\\left(\\mathbf{w}^{(i)} \\mid \\theta\\right)-\\log P\\left(\\mathbf{w}^{(i)}\\right)-\\log P\\left(\\mathcal{D} \\mid \\mathbf{w}^{(i)}\\right)$$\n",
    "\n",
    "where w(i) corresponds to the i-th Monte Carlo sample from the variational posterior. While writing this notebook, we noticed that even taking just one sample leads to good results and we will therefore stick to just sampling once throughout the notebook.\n",
    "\n",
    "Since we will be working with mini-batches, the exact loss form on mini-batch i we will be using looks as follows:\n",
    "\n",
    "$$\n",
    "\\begin{aligned}\n",
    "\\mathcal{F}\\left(\\mathcal{D}_{i}, \\theta\\right) &=\\frac{1}{M} \\mathrm{KL}[\\log q(\\mathbf{w} \\mid \\theta) \\| \\log P(\\mathbf{w})]-\\mathbb{E}_{q(\\mathbf{w} \\mid \\theta)}\\left[\\log P\\left(\\mathcal{D}_{i} \\mid \\mathbf{w}\\right)\\right] \\\\\n",
    "& \\approx \\frac{1}{M}\\left(\\log q\\left(\\mathbf{w}^{(1)} \\mid \\theta\\right)-\\log P\\left(\\mathbf{w}^{(1)}\\right)\\right)-\\log P\\left(\\mathcal{D}_{i} \\mid \\mathbf{w}^{(1)}\\right)\n",
    "\\end{aligned}\n",
    "$$\n",
    "where $M$ corresponds to the number of batches, and $\\mathcal{F}(\\mathcal{D}, \\theta)=\\sum_{i=1}^{M} \\mathcal{F}\\left(\\mathcal{D}_{i}, \\theta\\right)$"
   ]
  },
  {
   "cell_type": "markdown",
   "metadata": {},
   "source": [
    "## log_softmax\n",
    "\n",
    "$$logsoftmax=log({\\frac{e^{x_{j}}}{\\sum e^{x_{j}}}})$$"
   ]
  },
  {
   "cell_type": "code",
   "execution_count": 22,
   "metadata": {},
   "outputs": [],
   "source": [
    "def softmax(x):\n",
    "    #x=x/1.0\n",
    "    ex=np.exp(x)\n",
    "    return(ex/ex.sum())    "
   ]
  },
  {
   "cell_type": "code",
   "execution_count": 23,
   "metadata": {},
   "outputs": [],
   "source": [
    "def log_softmax(x):\n",
    "    if abs(x).max()>700:\n",
    "        x=x/abs(x).max()\n",
    "        #[np.argmax(x,axis=0)]=700\n",
    "    #elif x.max()<-730:\n",
    "    #    x=x/abs(x[np.argmin(x,axis=0)])\n",
    "        \n",
    "    ex=np.exp(x)\n",
    "    #print(ex/ex.sum())\n",
    "    return(np.log((ex/ex.sum())+1))\n"
   ]
  },
  {
   "cell_type": "markdown",
   "metadata": {},
   "source": [
    "## Likelihood\n",
    "\n",
    "We will use the softmax to define our likelihood $P\\left(\\mathcal{D}_{i} \\mid \\mathbf{w}\\right)$.\n",
    "\n",
    "Mi entendimiento: $P\\left(\\mathcal{D}_{i} \\mid \\mathbf{w}\\right)=P\\left(\\mathcal{Y}_{i} \\mid \\mathbf{X} , \\mathbf{w}\\right)$ notar que la verosimiitud no es otra cosa que que la función que nos da el ouput final en este caso es un problema de clasificación (sube/baja)(0/1) por eso usamos softmax como la función para la verosimilitud, e particular log softmax."
   ]
  },
  {
   "cell_type": "code",
   "execution_count": 24,
   "metadata": {},
   "outputs": [],
   "source": [
    "def log_softmax_likelihood(yhat_linear, y):\n",
    "    return np.sum(y * log_softmax(yhat_linear), axis=0)"
   ]
  },
  {
   "cell_type": "markdown",
   "metadata": {},
   "source": [
    "## Prior"
   ]
  },
  {
   "cell_type": "markdown",
   "metadata": {},
   "source": [
    "A popular and simple prior is the Gaussian distribution. The prior over the entire weight vector\n",
    "simply corresponds to the prodcut of the individual Gaussians:\n",
    "$$\n",
    "P(\\mathbf{w})=\\prod_{i} \\mathcal{N}\\left(\\mathbf{w}_{i} \\mid 0, \\sigma_{p}^{2}\\right)\n",
    "$$\n",
    "We can define the Gaussian distribution and our Gaussian prior as seen below. Note that we are ultimately intersted in the log-prior $\\log P(\\mathbf{w})$ and therefore compute the sum of the log-Gaussians.\n",
    "$$\n",
    "\\log P(\\mathbf{w})=\\sum_{i} \\log \\mathcal{N}\\left(\\mathbf{w}_{i} \\mid 0, \\sigma_{p}^{2}\\right)\n",
    "$$"
   ]
  },
  {
   "cell_type": "markdown",
   "metadata": {},
   "source": [
    "$$\\phi_{\\mu, \\sigma^{2}}(w)=\\frac{1}{\\sigma \\sqrt{2 \\pi}} e^{-\\frac{(w-\\mu)^{2}}{2 \\sigma^{2}}}, \\quad w \\in \\mathbb{R}$$\n",
    "\n",
    "$$log({\\frac{1}{\\sigma \\sqrt{2 \\pi}} e^{-\\frac{(w-\\mu)^{2}}{2 \\sigma^{2}}}})=log(\\frac{1}{\\sigma \\sqrt{2 \\pi}})+{-\\frac{(w-\\mu)^{2}}{2 \\sigma^{2}}}=-log(\\sigma)-\\frac{1}{2}log(2\\pi)+{-\\frac{(w-\\mu)^{2}}{2 \\sigma^{2}}}$$"
   ]
  },
  {
   "cell_type": "code",
   "execution_count": 25,
   "metadata": {},
   "outputs": [],
   "source": [
    "LOG2PI = np.log(2.0 * np.pi)\n",
    "\n",
    "def log_norm(x, mu, sigma):\n",
    "    return -0.5 * LOG2PI - np.log(sigma) - (x - mu) ** 2 / (2 * sigma ** 2)\n",
    "\n",
    "def norm_prior(x,sigma_p=1):\n",
    "    return np.sum(log_norm(x, 0., sigma_p))"
   ]
  },
  {
   "cell_type": "markdown",
   "metadata": {},
   "source": [
    "## Scale mixture prior"
   ]
  },
  {
   "cell_type": "markdown",
   "metadata": {},
   "source": [
    "Instead of a single Gaussian, the paper also suggests the usage of a scale mixture prior for $P(\\mathbf{w})$ as\n",
    "an alternative:\n",
    "$$\n",
    "P(\\mathbf{w})=\\prod_{i}\\left(\\pi \\mathcal{N}\\left(\\mathbf{w}_{i} \\mid 0, \\sigma_{1}^{2}\\right)+(1-\\pi) \\mathcal{N}\\left(\\mathbf{w}_{i} \\mid 0, \\sigma_{2}^{2}\\right)\\right)\n",
    "$$\n",
    "where $\\pi \\in[0,1], \\sigma_{1}>\\sigma_{2}$ and $\\sigma_{2} \\ll 1 .$ Again we are intersted in the log-prior $\\log P(\\mathbf{w}),$ which can be expressed as follows:\n",
    "$$\n",
    "\\log P(\\mathbf{w})=\\sum_{i} \\log \\left(\\pi \\mathcal{N}\\left(\\mathbf{w}_{i} \\mid 0, \\sigma_{1}^{2}\\right)+(1-\\pi) \\mathcal{N}\\left(\\mathbf{w}_{i} \\mid 0, \\sigma_{2}^{2}\\right)\\right)\n",
    "$$"
   ]
  },
  {
   "cell_type": "code",
   "execution_count": 26,
   "metadata": {},
   "outputs": [],
   "source": [
    "\n",
    "def gaussian(x, mu, sigma):\n",
    "    scaling = 1.0 / np.sqrt(2.0 * np.pi * (sigma ** 2))\n",
    "    bell = np.exp(- (x - mu) ** 2 / (2.0 * sigma ** 2))\n",
    "\n",
    "    return scaling * bell\n",
    "\n",
    "def scale_mixture_prior(x):\n",
    "    sigma_p1 =.75\n",
    "    sigma_p2 = .1\n",
    "    pi = .25\n",
    "\n",
    "    first_gaussian = pi * gaussian(x, 0., sigma_p1)\n",
    "    second_gaussian = (1 - pi) * gaussian(x, 0., sigma_p2)\n",
    "\n",
    "    return np.log(first_gaussian + second_gaussian)"
   ]
  },
  {
   "cell_type": "markdown",
   "metadata": {},
   "source": [
    "## Variational Posterior"
   ]
  },
  {
   "cell_type": "markdown",
   "metadata": {},
   "source": [
    "The last missing piece in the equation is the variational posterior. Again, we choose a Gaussian\n",
    "disribution for this purpose. The variational posterior on the weights is centered on the mean vector $\\mu$ and has variance $\\sigma^{2}$ :\n",
    "$$\n",
    "q(\\mathbf{w} \\mid \\theta)=\\prod_{i} \\mathcal{N}\\left(\\mathbf{w}_{i} \\mid \\mu, \\sigma^{2}\\right)\n",
    "$$\n",
    "The log-posterior $\\log q(\\mathbf{w} \\mid \\theta)$ is given by:\n",
    "$$\n",
    "\\log q(\\mathbf{w} \\mid \\theta)=\\sum_{i} \\log \\mathcal{N}\\left(\\mathbf{w}_{i} \\mid \\mu, \\sigma^{2}\\right)\n",
    "$$\n",
    "**Combined Loss**\n",
    "\n",
    "After introducing the data likelihood, the prior, and the variational posterior, we are now able to build our combined loss function: $\\mathcal{F}\\left(\\mathcal{D}_{i}, \\theta\\right)=\\frac{1}{M}(\\log q(\\mathbf{w} \\mid \\theta)-\\log P(\\mathbf{w}))-\\log P\\left(\\mathcal{D}_{i} \\mid \\mathbf{w}\\right)$"
   ]
  },
  {
   "cell_type": "code",
   "execution_count": 27,
   "metadata": {},
   "outputs": [],
   "source": [
    "num_batches=len(x_train)/30\n",
    "\n",
    "def combined_loss(output, label_one_hot, params, mus, sigmas, log_prior, log_likelihood):\n",
    "\n",
    "    # Calculate data likelihood\n",
    "    log_likelihood_sum = np.sum(log_likelihood(output, label_one_hot))\n",
    "\n",
    "    # Calculate prior\n",
    "    log_prior_sum = sum([np.sum(log_prior(param)) for param in params])\n",
    "\n",
    "    # Calculate variational posterior\n",
    "    log_var_posterior_sum = sum([np.sum(log_norm(params[i], mus[i], sigmas[i])) for i in range(len(params))])\n",
    "\n",
    "    # Calculate total loss\n",
    "    return (1.0 / num_batches * (log_var_posterior_sum - log_prior_sum) - log_likelihood_sum),log_prior_sum"
   ]
  },
  {
   "cell_type": "markdown",
   "metadata": {},
   "source": [
    "# Optimizer"
   ]
  },
  {
   "cell_type": "markdown",
   "metadata": {},
   "source": [
    "We use vanilla stochastic gradient descent to optimize the variational parameters. Note that this implements the updates described in the paper, as the gradient contribution due to the reparametrization trick is automatically included by taking the gradients of the combined loss function with respect to the variational parameters."
   ]
  },
  {
   "cell_type": "code",
   "execution_count": 28,
   "metadata": {},
   "outputs": [],
   "source": [
    "def SGD(params, lr):\n",
    "    for param in params:\n",
    "        param[:] = param - lr * np.gradient(param)#param.grad"
   ]
  },
  {
   "cell_type": "markdown",
   "metadata": {},
   "source": [
    "# Evaluation metric\n",
    "\n",
    "In order to being able to assess our model performance we define a helper function which evaluates our accuracy on an ongoing basis."
   ]
  },
  {
   "cell_type": "code",
   "execution_count": 29,
   "metadata": {},
   "outputs": [],
   "source": [
    "def evaluate_accuracy(X,y, net, layer_params):\n",
    "    numerator = 0.\n",
    "    denominator = 0.\n",
    "    for i in range(len(X)):#, (data, label) in enumerate(data_iterator):\n",
    "        \n",
    "        \n",
    "        output,_ = net(X[i], layer_params)\n",
    "        predictions = np.argmax(softmax(output),axis=0)\n",
    "        \n",
    "        if (predictions == y[i]):\n",
    "            numerator += 1\n",
    "            \n",
    "        denominator += 1\n",
    "    return (numerator / denominator)"
   ]
  },
  {
   "cell_type": "markdown",
   "metadata": {},
   "source": [
    "# Parameter initialization"
   ]
  },
  {
   "cell_type": "markdown",
   "metadata": {},
   "source": [
    "We are using a Gaussian distribution for each individual weight as our variational posterior, which\n",
    "means that we need to store two parameters, mean and variance, for each weight. For the variance\n",
    "we need to ensure that it is non-negative, which we will do by using the softplus function to express $\\sigma$ in terms of an unconstrained parameter $\\rho .$ While gradient descent will be performed on $\\theta=(\\mu, \\rho),$ the distribution for each individual weight is represented as $w_{i} \\sim \\mathcal{N}\\left(w_{i} \\mid \\mu_{i}, \\sigma_{i}\\right)$ with $\\sigma_{i}=\\operatorname{softplus}\\left(\\rho_{i}\\right)$\n",
    "We initialize $\\mu$ with a Gaussian around 0 (just as we would initialize standard weights of a neural network). It is important to initialize $\\rho$ (and hence $\\sigma$ ) to a small value, otherwise learning might not\n",
    "work properly.\n",
    "\n",
    "Mis notas: a diferencia del modelo determinístico este paso inicializa los parámetros $\\theta=(\\mathcal{\\mu},\\sigma)$ en vez de las $w's$ en este caso $\\mu \\sim \\mathcal{N}(\\mathcal{0},\\Sigma)$ y en vez de inicializar $\\Sigma$ lo hacemos con $\\rho\\mathbf{I}=\\rho_{0}\\mathbf{I}$"
   ]
  },
  {
   "cell_type": "code",
   "execution_count": 54,
   "metadata": {},
   "outputs": [],
   "source": [
    "weight_scale = .1\n",
    "rho_offset = -3\n",
    "\n",
    "# initialize variational parameters; mean and variance for each weight\n",
    "mus = []\n",
    "rhos = []\n",
    "\n",
    "#Esto es el equivalente a la inicialización de pesos a diferencia del algoritmo determinístico\n",
    "#aquí no se inicializan las w's sino las mus y sigmas\n",
    "for shape in layer_param_shapes:\n",
    "    mu = np.random.normal(size=shape,scale=weight_scale)\n",
    "    rho = rho_offset + np.zeros(shape=shape)\n",
    "    mus.append(mu)\n",
    "    rhos.append(rho)\n",
    "\n",
    "variational_params = mus + rhos"
   ]
  },
  {
   "cell_type": "code",
   "execution_count": 31,
   "metadata": {},
   "outputs": [],
   "source": [
    "#weight_scale = .1\n",
    "#rho_offset = -3\n",
    "#np.random.normal(size=layer_param_shapes[0],scale=weight_scale)\n"
   ]
  },
  {
   "cell_type": "markdown",
   "metadata": {},
   "source": [
    "Variational_params es la lista de que contienen las matrices de $\\mu$ y $\\rho$ en este caso hay 6*2=12 matrices de pesos contando los vectores $b$ de bias, estas matrices son la representación de la estructura e la red. "
   ]
  },
  {
   "cell_type": "code",
   "execution_count": 32,
   "metadata": {},
   "outputs": [
    {
     "data": {
      "text/plain": [
       "12"
      ]
     },
     "execution_count": 32,
     "metadata": {},
     "output_type": "execute_result"
    }
   ],
   "source": [
    "len(variational_params)"
   ]
  },
  {
   "cell_type": "code",
   "execution_count": 33,
   "metadata": {},
   "outputs": [
    {
     "data": {
      "text/plain": [
       "[(37, 400), (400,), (401, 400), (400,), (401, 2), (2,)]"
      ]
     },
     "execution_count": 33,
     "metadata": {},
     "output_type": "execute_result"
    }
   ],
   "source": [
    "layer_param_shapes"
   ]
  },
  {
   "cell_type": "markdown",
   "metadata": {},
   "source": [
    "Since these are the parameters we wish to do gradient descent on, we need to allocate space for storing the gradients."
   ]
  },
  {
   "cell_type": "code",
   "execution_count": 34,
   "metadata": {},
   "outputs": [],
   "source": [
    "grad_l=[]\n",
    "for param in variational_params:\n",
    "    grad_l.append(np.gradient(param))\n",
    "    "
   ]
  },
  {
   "cell_type": "code",
   "execution_count": 35,
   "metadata": {},
   "outputs": [],
   "source": [
    "#grad_l"
   ]
  },
  {
   "cell_type": "markdown",
   "metadata": {},
   "source": [
    "# Main training loop\n",
    "\n",
    "The main training loop is pretty similar to the one we used in the MLP example. The only adaptation we need to make is to add the weight sampling which is performed during each optimization step. Generating a set of weights, which will subsequently be used in the neural network and the loss function, is a 3-step process:"
   ]
  },
  {
   "cell_type": "markdown",
   "metadata": {},
   "source": [
    "$\\text { 1. Sample } \\epsilon \\sim \\mathcal{N}\\left(\\mathbf{0}, \\mathbf{I}^{d}\\right)$"
   ]
  },
  {
   "cell_type": "code",
   "execution_count": 36,
   "metadata": {},
   "outputs": [],
   "source": [
    "def sample_epsilons(param_shapes):\n",
    "    epsilons = [np.random.normal(size=shape, loc=0., scale=1.0) for shape in param_shapes]\n",
    "    return epsilons"
   ]
  },
  {
   "cell_type": "markdown",
   "metadata": {},
   "source": [
    "$\\text { 2. Transform } \\rho \\text { to a postive vector via the softplus function: } \\sigma=\\operatorname{softplus}(\\rho)=\\log (1+\\exp (\\rho))$"
   ]
  },
  {
   "cell_type": "code",
   "execution_count": 37,
   "metadata": {},
   "outputs": [],
   "source": [
    "def softplus(x):\n",
    "    return np.log(1. + np.exp(x))\n",
    "\n",
    "def transform_rhos(rhos):\n",
    "    return [softplus(rho) for rho in rhos]"
   ]
  },
  {
   "cell_type": "markdown",
   "metadata": {},
   "source": [
    "3. Compute $\\mathbf{w}: \\mathbf{w}=\\mu+\\sigma$ o $\\epsilon,$ where the o operator represents the element-wise multiplication.\n",
    "This is the \"reparametrization trick\" for separating the randomness from the parameters of $q$.\n",
    "\n",
    "mis notas: esto es equivalente a lo siguiente:\n",
    "\n",
    "**Local Reparamerisation Trick**\n",
    "\n",
    "Let us once again remember that we want to implement the above procedure in a neural network, and therefore must calculate derivatives of the parameters being learnt, i.e. for us, derivatives of distributions. For doing so, the local reparameterisation trick (Kingma et al., 2015) is deployed which “moves” the parameters to be learnt, namely the mean µ and the standard deviation σ in case of a Gaussian distribution, out of the distribution function for any weight w. We define that ϵ as a sample of a standard Gaussian distribution, multiply it with the standard deviation σ and add the mean µ.\n",
    "\n",
    "![texto alternativo](KL7.png)\n"
   ]
  },
  {
   "cell_type": "code",
   "execution_count": 38,
   "metadata": {},
   "outputs": [],
   "source": [
    "def transform_gaussian_samples(mus, sigmas, epsilons):\n",
    "    samples = []\n",
    "    for j in range(len(mus)):\n",
    "        samples.append(mus[j] + sigmas[j] * epsilons[j])\n",
    "    return samples"
   ]
  },
  {
   "cell_type": "markdown",
   "metadata": {},
   "source": [
    "## Complete loop"
   ]
  },
  {
   "cell_type": "markdown",
   "metadata": {},
   "source": [
    "Doing so, we have these two parameters of interest incorporated in every weight value and can both calculate the derivative of it and re-write it into a probability distribution.\n",
    "Our parameters are then updated, i.e. learnt, according to:\n",
    "\n",
    "![texto alternativo](KL8.png)"
   ]
  },
  {
   "cell_type": "markdown",
   "metadata": {},
   "source": [
    "**Detallando lo que anteriormente se muestra, i.e. quién es $f$?**\n",
    "\n",
    "1. Sample $\\epsilon \\sim \\mathcal{N}(0, I)$\n",
    "2. Let $\\mathbf{w}=\\mu+\\log (1+\\exp (\\rho)) \\circ \\epsilon$\n",
    "3. Let $\\theta=(\\mu, \\rho)$\n",
    "4. Let $f(\\mathbf{w}, \\theta)=\\log q(\\mathbf{w} \\mid \\theta)-\\log P(\\mathbf{w}) P(\\mathcal{D} \\mid \\mathbf{w})$\n",
    "5. Calculate the gradient with respect to the mean\n",
    "$$\n",
    "\\Delta_{\\mu}=\\frac{\\partial f(\\mathbf{w}, \\theta)}{\\partial \\mathbf{w}}+\\frac{\\partial f(\\mathbf{w}, \\theta)}{\\partial \\mu}\n",
    "$$\n",
    "6. Calculate the gradient with respect to the standard deviation parameter $\\rho$\n",
    "$$\n",
    "\\Delta_{\\rho}=\\frac{\\partial f(\\mathbf{w}, \\theta)}{\\partial \\mathbf{w}} \\frac{\\epsilon}{1+\\exp (-\\rho)}+\\frac{\\partial f(\\mathbf{w}, \\theta)}{\\partial \\rho}\n",
    "$$\n",
    "7. Update the variational parameters:\n",
    "$$\n",
    "\\begin{array}{l}\n",
    "\\mu \\leftarrow \\mu-\\alpha \\Delta_{\\mu} \\\\\n",
    "\\rho \\leftarrow \\rho-\\alpha \\Delta_{\\rho}\n",
    "\\end{array}\n",
    "$$\n",
    "\n",
    "**Debemos notar que $\\sigma=\\log (1+\\exp (\\rho))$ es la función llamada softplus**"
   ]
  },
  {
   "cell_type": "code",
   "execution_count": 39,
   "metadata": {},
   "outputs": [],
   "source": [
    "epochs = 10\n",
    "learning_rate = 0.001\n",
    "smoothing_constant = .01\n",
    "train_acc = []\n",
    "test_acc = []"
   ]
  },
  {
   "cell_type": "markdown",
   "metadata": {},
   "source": [
    "### ¿Quién es $f$?\n",
    "\n",
    "$f(\\mathbf{w_{i}}, \\theta)=\\log q(\\mathbf{w_{i}} \\mid \\theta)-\\log P(\\mathbf{w_{i}}) P(\\mathcal{D} \\mid \\mathbf{w_{i}})=-log(\\sigma)-\\frac{1}{2}log(2\\pi){-\\frac{(w_{i}-\\mu)^{2}}{2 \\sigma^{2}}}-\\frac{1}{2}log(2\\pi){-\\frac{w_{i}^{2}}{2}}-\\Sigma y*log(softmax(y_{est}))$ \n",
    "\n",
    "ahora:\n",
    "\n",
    "de acuerdo con nuestra arquitectura tenemos lo siguiente:\n",
    "$O=H2@W_{3}+b_{3}$, $H2=Relu(H1@W_{2}+b_{2}), H1=Relu(I@W_{1}+b_{1})$ donde $H's$ representan las capas ocultas y $O,I$ las salidas y entradas respectivamente por tanto para hacer backpropagation tenemos lo siguiente:\n",
    "\n",
    "\n",
    "$$\\frac{\\partial f(\\mathbf{w}, \\theta)}{\\partial \\mathbf{w}}=-\\frac{w-\\mu}{\\sigma^2}-w-y*[softmax(y_{est})-\\mathcal{1}]$$\n",
    "\n",
    "$$\\frac{\\partial f(\\mathbf{w}, \\theta)}{\\partial \\mu}=\\frac{w-\\mu}{\\sigma^2}$$\n",
    "\n",
    "$$\\frac{\\partial f(\\mathbf{w}, \\theta)}{\\partial \\sigma}=\\frac{(w-\\mu)^2-1}{\\sigma}$$\n",
    "\n",
    "$$\\frac{\\partial f(\\mathbf{w}, \\theta)}{\\partial \\rho}=\\frac{\\partial f(\\mathbf{w}, \\theta)}{\\partial \\sigma}\\frac{\\partial \\sigma(\\rho)}{\\partial \\rho}=\\frac{(w-\\mu)^2-1}{\\sigma}*\\frac{e^{\\rho}}{1+e^{\\rho}}$$\n",
    "\n",
    "\n",
    "Dado que va a ser necesario obtener la derivada de Relu(x) se complica mucho diferenciarla usando la definición, entonces para hacer un poco más sencillo usaremos la función softplus como aproximación de Relu ya que esta función teiene una propiedad muy interesante que es que la derivada es nada más que la función sigmoide!:\n",
    "\n",
    "$$Relu(x)\\approx Softplus(x)=ln(1+e^{x})$$\n",
    "\n",
    "$$\\frac{\\partial Softplus(x)}{\\partial x}=\\frac{e^x d_{x}}{1+e^x}=\\frac{e^x dx}{e^x(1+e^{-x})}=\\frac{1}{(1+e^{-x})}d_{x}=Sigmoid(x)dx$$\n",
    "\n",
    "\n",
    "Entonces si nos enfocamos en $\\frac{\\partial f(\\mathbf{w}, \\theta)}{\\partial \\mathbf{w}}$ debemos ver los siguiente:\n",
    "\n",
    "\n",
    "$$\\frac{\\partial f(\\mathbf{W_{3}}, \\theta)}{\\partial \\mathbf{W_{3}}}=-\\frac{W_{3}-\\mu}{\\sigma^2}-W_{3}-\\frac{\\partial f}{\\partial O}\\frac{\\partial O}{\\partial W_{3}}$$\n",
    "\n",
    "$$\\frac{\\partial f}{\\partial O}\\frac{\\partial O}{\\partial W_{3}}H_{2}^T(y*[softmax(O)-1])$$\n",
    "\n",
    "$$\\frac{\\partial f(\\mathbf{W_{2}}, \\theta)}{\\partial \\mathbf{W_{2}}}=-\\frac{W_{2}-\\mu}{\\sigma^2}-W_{2}-\\frac{\\partial f}{\\partial O}\\frac{\\partial O}{\\partial H_{2}}\\frac{\\partial H_{2}}{\\partial W_{2}}$$\n",
    "\n",
    "$$\\frac{\\partial f}{\\partial O}\\frac{\\partial O}{\\partial H_{2}}\\frac{\\partial H_{2}}{\\partial W_{2}}=W_{3}(y*[softmax(O)-1])^TH_{1}@Sigmoid(H2)^T$$\n",
    "\n",
    "$$\\frac{\\partial f(\\mathbf{W_{1}}, \\theta)}{\\partial \\mathbf{W_{1}}}=-\\frac{W_{1}-\\mu}{\\sigma^2}-W_{1}-\\frac{\\partial f}{\\partial O}\\frac{\\partial O}{\\partial H_{2}}\\frac{\\partial H_{2}}{\\partial H_{1}}\\frac{\\partial H_{1}}{\\partial W_{1}}$$\n",
    "\n",
    "$$\\frac{\\partial f}{\\partial O}\\frac{\\partial O}{\\partial H_{2}}\\frac{\\partial H_{2}}{\\partial H_{1}}\\frac{\\partial H_{1}}{\\partial W_{1}}=X^TSigmoid(H_{1})^TW_{3}(y*[softmax(O)-1])^TSigmoid(H_{2})^TW_{2}$$"
   ]
  },
  {
   "cell_type": "code",
   "execution_count": 40,
   "metadata": {},
   "outputs": [],
   "source": [
    "def sigm(x):\n",
    "    return expit(x)#(1/(1+np.exp(-x)))"
   ]
  },
  {
   "cell_type": "code",
   "execution_count": 41,
   "metadata": {},
   "outputs": [],
   "source": [
    "def dfw3(w,m,s,X,y,o,H):\n",
    "    \n",
    "    return(-((w-m)/(s**2))-w-np.dot(H.T,y*(softmax(o)-1)))\n",
    "\n",
    "def dfw2(w,m,s,X,y,o,H1,H2,Wa):\n",
    "    return(-((w-m)/(s**2))-w-Wa@(y*(softmax(o)-1)).T@H1.T@sigm(H2))\n",
    "\n",
    "#def dfw2(w,m,s,X,y,o,H,Wa):\n",
    "#    return(-((w-m)/(s**2))-w-np.dot(Wa,np.dot(y*(softmax(o)-1),H)))#np.dot(np.dot(H.T,y*(softmax(o)-1)),Wa.T))\n",
    "\n",
    "def dfw1(w,m,s,X,y,o,Wa,Wb,H1,H2):\n",
    "    return(-((w-m)/(s**2))-w-X@sigm(H1).T@Wa@(y*(softmax(o)-1)).T@sigm(H2).T@Wb)\n",
    "#def dfw1(w,m,s,X,y,o,Wa,Wb):\n",
    "#    return(-((w-m)/(s**2))-w-np.dot(np.dot(np.dot(X.T,y*(softmax(o)-1)),Wa.T),Wb))\n",
    "\n",
    "\n",
    "def dfmu(ws,m,s):\n",
    "    return((ws-m)/(s**2))\n",
    "\n",
    "def dfs(ws,m,s,r):\n",
    "    return ((((ws-m)**2)-1)/s)*(np.exp(r)/(1+np.exp(r)))\n"
   ]
  },
  {
   "cell_type": "code",
   "execution_count": 42,
   "metadata": {},
   "outputs": [],
   "source": [
    "#(x_train[9].reshape(-1,1)@sigm(H[0]).reshape(1,-1)).shape\n",
    "#layer_params[2][1:,:].shape"
   ]
  },
  {
   "cell_type": "code",
   "execution_count": 43,
   "metadata": {},
   "outputs": [],
   "source": [
    "#def dfw1(w,m,s,X,y,o,Wa,Wb,H1,H2):\n",
    "#    return(-((w-m)/(s**2))-w-X@sigm(H1).T@Wa@(y*(softmax(o)-1)).T@sigm(H2).T@Wb)\n",
    "           #np.dot(np.dot(np.dot(X.T,y*(softmax(o)-1)),Wa.T),Wb))\n",
    "#dfw1(layer_params[0],mus[0],sigmas[0],np.append(1,x_train[i]).reshape(-1,1),to_categorical(y_train)[i],output.reshape(1,-1),layer_params[4][1:,:],layer_params[2][1:,:],H[0].reshape(-1,1),H[1].reshape(-1,1))\n",
    "#np.append(1,x_train[i]).reshape(-1,1).shape,sigm(H[0]).reshape(-1,1).shape,sigm(H[1]).reshape(-1,1).shape,layer_params[2][1:,:].shape   \n",
    "#((to_categorical(y_train)[i]*(softmax(output.reshape(1,-1))-1)).T@sigm(H[1]).reshape(-1,1).T@layer_params[2][1:,:]).shape\n",
    "#(to_categorical(y_train)[i]*(softmax(output.reshape(1,-1))-1)).T\n",
    "\n",
    "#np.append(1,x_train[i]).reshape(-1,1).shape,sigm(H[0].reshape(-1,1)).T.shape,layer_params[4][1:,:].shape,(to_categorical(y_train)[i]*(softmax(output.reshape(1,-1))-1)).T.shape,sigm(H[1].reshape(-1,1)).T.shape,layer_params[2][1:,:].shape\n",
    "\n",
    "#def dfw2(w,m,s,X,y,o,H1,H2,Wa):\n",
    "#    return(-((w-m)/(s**2))-w-Wa@(y*(softmax(o)-1)).T@H1.T@sigm(H2))#np.dot(Wa,np.dot(y*(softmax(o)-1),H)))\n",
    "#dfw2(layer_params[2],mus[2],sigmas[2],x_train[i],to_categorical(y_train).reshape(-1,1)[i],output.reshape(1,-1),H[0].reshape(-1,1),H[1].reshape(-1,1),layer_params[4]).shape\n",
    "#sal=(layer_params[4]@(to_categorical(y_train)[i]*(softmax(output.reshape(1,-1))-1)).T@H[0].reshape(-1,1).T@sigm(H[1].reshape(-1,1)))\n",
    "#output"
   ]
  },
  {
   "cell_type": "code",
   "execution_count": 44,
   "metadata": {},
   "outputs": [],
   "source": [
    "#layer_params[2][:,0][0:5],(layer_params[2]-(sal+1))[:,0][0:5]"
   ]
  },
  {
   "cell_type": "markdown",
   "metadata": {},
   "source": [
    "### **Bayes backprop 1 paso**"
   ]
  },
  {
   "cell_type": "code",
   "execution_count": 45,
   "metadata": {},
   "outputs": [],
   "source": [
    "#epsilons\n",
    "epsilons=sample_epsilons(layer_param_shapes)\n",
    "#sigmas=softplus(rhos)\n",
    "sigmas=transform_rhos(rhos)\n",
    "# obtain a sample from q(w|theta) by transforming the epsilons\n",
    "#aqui estanmos obteniendo las w's y b's desde las distribuciones N(mu,sig)\n",
    "layer_params=transform_gaussian_samples(mus, sigmas, epsilons)\n",
    " \n",
    "# forward-propagate the batch\n",
    "#esto es un fit de la red neuronal\n",
    "output,H = net(np.append(1,x_train[i]), layer_params)\n",
    "# calculate the loss\n",
    "loss,lg = combined_loss(output, to_categorical(y_train)[i], layer_params, mus, sigmas, norm_prior, log_softmax_likelihood)\n",
    "\n",
    "df1=dfw1(layer_params[0],mus[0],sigmas[0],np.append(1,x_train[i]).reshape(-1,1),to_categorical(y_train)[i],output.reshape(1,-1),layer_params[4][1:,:],layer_params[2][1:,:],H[0].reshape(-1,1),H[1].reshape(-1,1))\n",
    "df2=dfw2(layer_params[2],mus[2],sigmas[2],x_train[i],to_categorical(y_train).reshape(-1,1)[i],output.reshape(1,-1),H[0].reshape(-1,1),H[1].reshape(-1,1),layer_params[4])\n",
    "#df1=dfw1(layer_params[0],mus[0],sigmas[0],np.append(1,x_train[i]).reshape(1,-1),to_categorical(y_train)[i],output.reshape(1,-1),layer_params[4],layer_params[2])\n",
    "#df2=dfw2(layer_params[2],mus[2],sigmas[2],x_train[i],to_categorical(y_train).reshape(-1,1)[i],output.reshape(-1,1),H[0].reshape(1,-1),layer_params[4])\n",
    "\n",
    "df3=dfw3(layer_params[4],mus[4],sigmas[4],x_train[i],to_categorical(y_train)[i].reshape(1,-1),output.reshape(1,-1),np.append(1,H[1]).reshape(1,-1))\n",
    "\n",
    "\n",
    "grad1=df1+dfmu(layer_params[0],mus[0],sigmas[0])\n",
    "grad2=df2+dfmu(layer_params[2],mus[2],sigmas[2])\n",
    "grad3=df3+dfmu(layer_params[4],mus[4],sigmas[4])\n",
    "\n",
    "\n",
    "gradsig1=df1*(np.random.normal(size=(sigmas[0].shape))/(1+np.exp(-rhos[0])))+dfs(layer_params[0],mus[0],sigmas[0],rhos[0])\n",
    "gradsig2=df2*(np.random.normal(size=(sigmas[2].shape))/(1+np.exp(-rhos[2])))+dfs(layer_params[2],mus[2],sigmas[2],rhos[2])\n",
    "gradsig3=df3*(np.random.normal(size=(sigmas[4].shape))/(1+np.exp(-rhos[4])))+dfs(layer_params[4],mus[4],sigmas[4],rhos[4])"
   ]
  },
  {
   "cell_type": "markdown",
   "metadata": {},
   "source": [
    "$\\mu \\leftarrow \\mu-\\alpha \\Delta_{\\mu} $"
   ]
  },
  {
   "cell_type": "code",
   "execution_count": 46,
   "metadata": {},
   "outputs": [],
   "source": [
    "mus[0]=mus[0]-learning_rate*grad1\n",
    "mus[2]=mus[2]-learning_rate*grad2\n",
    "mus[4]=mus[4]-learning_rate*grad3"
   ]
  },
  {
   "cell_type": "markdown",
   "metadata": {},
   "source": [
    "$\\rho \\leftarrow \\rho-\\alpha \\Delta_{\\rho}$"
   ]
  },
  {
   "cell_type": "code",
   "execution_count": 47,
   "metadata": {},
   "outputs": [],
   "source": [
    "rhos[0]=rhos[0]-learning_rate*gradsig1\n",
    "rhos[2]=rhos[2]-learning_rate*gradsig2\n",
    "rhos[4]=rhos[4]-learning_rate*gradsig3"
   ]
  },
  {
   "cell_type": "code",
   "execution_count": null,
   "metadata": {},
   "outputs": [],
   "source": []
  },
  {
   "cell_type": "code",
   "execution_count": 48,
   "metadata": {},
   "outputs": [],
   "source": [
    "variational_params = mus + rhos\n",
    "#variational_params\n",
    "#output,to_categorical(y_train)[i],sigmas[0],norm_prior"
   ]
  },
  {
   "cell_type": "code",
   "execution_count": 49,
   "metadata": {},
   "outputs": [
    {
     "data": {
      "text/plain": [
       "(401, 2)"
      ]
     },
     "execution_count": 49,
     "metadata": {},
     "output_type": "execute_result"
    }
   ],
   "source": [
    "grad_l=[]\n",
    "for param in variational_params:\n",
    "    grad_l.append(np.gradient(param))\n",
    "\n",
    "grad_l[10][1].shape"
   ]
  },
  {
   "cell_type": "code",
   "execution_count": 50,
   "metadata": {},
   "outputs": [],
   "source": [
    "#grad1"
   ]
  },
  {
   "cell_type": "markdown",
   "metadata": {},
   "source": [
    "### **Bayes backprop  usando funciones gradiente**"
   ]
  },
  {
   "cell_type": "code",
   "execution_count": 55,
   "metadata": {},
   "outputs": [
    {
     "name": "stdout",
     "output_type": "stream",
     "text": [
      "Epoch 0. Loss: 4028.855589018191, Train_acc 0.48889555822328934, Test_acc 0.48201438848920863\n",
      "Epoch 1. Loss: 4028.5848153953334, Train_acc 0.4891956782713085, Test_acc 0.48201438848920863\n",
      "Epoch 2. Loss: 4028.3236870992155, Train_acc 0.4894957983193277, Test_acc 0.48201438848920863\n",
      "Epoch 3. Loss: 4028.3183759171347, Train_acc 0.4876950780312125, Test_acc 0.48201438848920863\n",
      "Epoch 4. Loss: 4028.3073238332645, Train_acc 0.49009603841536614, Test_acc 0.48201438848920863\n",
      "Epoch 5. Loss: 4028.3128896935036, Train_acc 0.48889555822328934, Test_acc 0.48201438848920863\n",
      "Epoch 6. Loss: 4028.2337177545373, Train_acc 0.4885954381752701, Test_acc 0.48201438848920863\n",
      "Epoch 7. Loss: 4028.42293511375, Train_acc 0.48889555822328934, Test_acc 0.48201438848920863\n",
      "Epoch 8. Loss: 4028.3567763982414, Train_acc 0.4891956782713085, Test_acc 0.48201438848920863\n",
      "Epoch 9. Loss: 4028.470637977653, Train_acc 0.48889555822328934, Test_acc 0.48081534772182255\n"
     ]
    },
    {
     "data": {
      "image/png": "[encoded data removed]",
      "text/plain": [
       "<Figure size 432x288 with 1 Axes>"
      ]
     },
     "metadata": {
      "needs_background": "light"
     },
     "output_type": "display_data"
    },
    {
     "name": "stdout",
     "output_type": "stream",
     "text": [
      "Wall time: 22.5 s\n"
     ]
    }
   ],
   "source": [
    "%%time\n",
    "epochs = 10\n",
    "learning_rate = 0.001\n",
    "smoothing_constant = .01\n",
    "train_acc = []\n",
    "test_acc = []\n",
    "loss_train=[]\n",
    "loss_test=[]\n",
    "los=0\n",
    "\n",
    "for e in range(epochs):\n",
    "    \n",
    "    for i in range(30):\n",
    "        \n",
    "        #epsilons\n",
    "        epsilons=sample_epsilons(layer_param_shapes)\n",
    "        #sigmas=softplus(rhos)\n",
    "        sigmas=transform_rhos(rhos)\n",
    "        # obtain a sample from q(w|theta) by transforming the epsilons\n",
    "        #aqui estanmos obteniendo las w's y b's desde las distribuciones N(mu,sig)\n",
    "        layer_params=transform_gaussian_samples(mus, sigmas, epsilons)\n",
    "\n",
    "        # forward-propagate the batch\n",
    "        #esto es un fit de la red neuronal\n",
    "        #print(np.append(1,x_train[i]).shape)\n",
    "        output,H = net(np.append(1,x_train[i]), layer_params)\n",
    "        #print(i,net(np.append(1,x_train[30]), layer_params)[0])\n",
    "        # calculate the loss\n",
    "        loss,lg = combined_loss(output, to_categorical(y_train)[i], layer_params, mus, sigmas, norm_prior, log_softmax_likelihood)\n",
    "\n",
    "        variational_params = mus + rhos\n",
    "        grad_l=[]\n",
    "        for param in variational_params:\n",
    "            grad_l.append(np.gradient(param))\n",
    "\n",
    "            #grad_l[0][1]\n",
    "        \n",
    "        mus[0]=mus[0]-learning_rate*grad_l[0][1]\n",
    "        mus[2]=mus[2]-learning_rate*grad_l[2][1]\n",
    "        mus[4]=mus[4]-learning_rate*grad_l[4][1]\n",
    "        \n",
    "        rhos[0]=rhos[0]-learning_rate*grad_l[6][1]\n",
    "        rhos[2]=rhos[2]-learning_rate*grad_l[8][1]\n",
    "        rhos[4]=rhos[4]-learning_rate*grad_l[10][1]\n",
    "\n",
    "        \n",
    "        #print(lgs,loss,sigmas[0][0][0],rhos[0][0][0],gradsig1[0][0],dfs(layer_params[0],mus[0],sigmas[0],rhos[0])[0][0],(np.random.normal(size=(sigmas[0].shape))/(1+np.exp(-rhos[0])))[0][0],df1[0][0])\n",
    "        # calculate moving loss for monitoring convergence\n",
    "        curr_loss =np.mean(loss)\n",
    "        moving_loss = (curr_loss if ((i == 0) and (e == 0))\n",
    "                       else (1 - smoothing_constant) * moving_loss + (smoothing_constant) * curr_loss)\n",
    "        #print(e,i,moving_loss)\n",
    "        \n",
    "        \n",
    "    test_accuracy = evaluate_accuracy(agunos(x_test),y_test, net, mus)\n",
    "    train_accuracy = evaluate_accuracy(agunos(x_train),y_train, net, mus)\n",
    "    train_acc.append(train_accuracy)\n",
    "    test_acc.append(test_accuracy)\n",
    "    print(\"Epoch %s. Loss: %s, Train_acc %s, Test_acc %s\" %\n",
    "          (e, moving_loss, train_accuracy, test_accuracy))\n",
    "\n",
    "    \n",
    "plt.plot(train_acc)\n",
    "plt.plot(test_acc)\n",
    "plt.show()"
   ]
  },
  {
   "cell_type": "code",
   "execution_count": 49,
   "metadata": {},
   "outputs": [
    {
     "data": {
      "text/plain": [
       "(37, 400)"
      ]
     },
     "execution_count": 49,
     "metadata": {},
     "output_type": "execute_result"
    }
   ],
   "source": [
    "layer_params[0].shape"
   ]
  },
  {
   "cell_type": "markdown",
   "metadata": {},
   "source": [
    "### **Bayes backprop  usando derivadas explícitas***"
   ]
  },
  {
   "cell_type": "code",
   "execution_count": 53,
   "metadata": {},
   "outputs": [
    {
     "name": "stdout",
     "output_type": "stream",
     "text": [
      "Epoch 0. Loss: 4029.756853157882, Train_acc 0.484093637454982, Test_acc 0.5059952038369304\n",
      "Epoch 1. Loss: 4027.584622939529, Train_acc 0.4852941176470588, Test_acc 0.49640287769784175\n",
      "Epoch 2. Loss: 4024.536188643219, Train_acc 0.4849939975990396, Test_acc 0.49280575539568344\n",
      "Epoch 3. Loss: 4021.5130965592925, Train_acc 0.484093637454982, Test_acc 0.4856115107913669\n",
      "Epoch 4. Loss: 4017.862850068211, Train_acc 0.484093637454982, Test_acc 0.47961630695443647\n",
      "Epoch 5. Loss: 4014.127939254667, Train_acc 0.4849939975990396, Test_acc 0.49280575539568344\n",
      "Epoch 6. Loss: 4010.092795897818, Train_acc 0.4837935174069628, Test_acc 0.4880095923261391\n",
      "Epoch 7. Loss: 4005.969552620772, Train_acc 0.48559423769507803, Test_acc 0.49280575539568344\n",
      "Epoch 8. Loss: 4001.7238180802165, Train_acc 0.4849939975990396, Test_acc 0.49760191846522783\n",
      "Epoch 9. Loss: 3997.5066092078246, Train_acc 0.484093637454982, Test_acc 0.4856115107913669\n"
     ]
    },
    {
     "data": {
      "image/png": "[encoded data removed]",
      "text/plain": [
       "<Figure size 432x288 with 1 Axes>"
      ]
     },
     "metadata": {
      "needs_background": "light"
     },
     "output_type": "display_data"
    },
    {
     "name": "stdout",
     "output_type": "stream",
     "text": [
      "Wall time: 26.8 s\n"
     ]
    }
   ],
   "source": [
    "%%time\n",
    "epochs = 10\n",
    "learning_rate = 0.0001\n",
    "smoothing_constant = .01\n",
    "train_acc = []\n",
    "test_acc = []\n",
    "loss_train=[]\n",
    "loss_test=[]\n",
    "los=0\n",
    "\n",
    "for e in range(epochs):\n",
    "    \n",
    "    for i in range(30):\n",
    "        \n",
    "        #epsilons\n",
    "        epsilons=sample_epsilons(layer_param_shapes)\n",
    "        #sigmas=softplus(rhos)\n",
    "        sigmas=transform_rhos(rhos)\n",
    "        # obtain a sample from q(w|theta) by transforming the epsilons\n",
    "        #aqui estanmos obteniendo las w's y b's desde las distribuciones N(mu,sig)\n",
    "        layer_params=transform_gaussian_samples(mus, sigmas, epsilons)\n",
    "\n",
    "        # forward-propagate the batch\n",
    "        #esto es un fit de la red neuronal\n",
    "        #print(np.append(1,x_train[i]).shape)\n",
    "        output,H = net(np.append(1,x_train[i]), layer_params)\n",
    "        #print(i,net(np.append(1,x_train[30]), layer_params)[0])\n",
    "        # calculate the loss\n",
    "        loss,lg = combined_loss(output, to_categorical(y_train)[i], layer_params, mus, sigmas, norm_prior, log_softmax_likelihood)\n",
    "\n",
    "        df1=dfw1(layer_params[0],mus[0],sigmas[0],np.append(1,x_train[i]).reshape(-1,1),to_categorical(y_train)[i],output.reshape(1,-1),layer_params[4][1:,:],layer_params[2][1:,:],H[0].reshape(-1,1),H[1].reshape(-1,1))\n",
    "        df2=dfw2(layer_params[2],mus[2],sigmas[2],x_train[i],to_categorical(y_train).reshape(-1,1)[i],output.reshape(1,-1),H[0].reshape(-1,1),H[1].reshape(-1,1),layer_params[4])\n",
    " \n",
    "        df3=dfw3(layer_params[4],mus[4],sigmas[4],x_train[i],to_categorical(y_train)[i].reshape(1,-1),output.reshape(1,-1),np.append(1,H[1]).reshape(1,-1))\n",
    "\n",
    "\n",
    "        grad1=df1+dfmu(layer_params[0],mus[0],sigmas[0])\n",
    "        grad2=df2+dfmu(layer_params[2],mus[2],sigmas[2])\n",
    "        grad3=df3+dfmu(layer_params[4],mus[4],sigmas[4])\n",
    "\n",
    "\n",
    "        gradsig1=df1*(np.random.normal(size=(sigmas[0].shape))/(1+np.exp(-rhos[0])))+dfs(layer_params[0],mus[0],sigmas[0],rhos[0])\n",
    "        gradsig2=df2*(np.random.normal(size=(sigmas[2].shape))/(1+np.exp(-rhos[2])))+dfs(layer_params[2],mus[2],sigmas[2],rhos[2])\n",
    "        gradsig3=df3*(np.random.normal(size=(sigmas[4].shape))/(1+np.exp(-rhos[4])))+dfs(layer_params[4],mus[4],sigmas[4],rhos[4])\n",
    "        \n",
    "        #print(e,i,output,H[0][0],H[1][0],df1[0][0],df2[0][0],df3[0][0],gradsig1[0][0],gradsig2[0][0],gradsig3[0][0],grad1[0][0],grad2[0][0],grad3[0][0])\n",
    "        #if np.isnan(gradsig1[0][0]):\n",
    "         #   break         \n",
    "   # if np.isnan(gradsig1[0][0]):\n",
    "       # break        \n",
    "        #if np.isnan(df1[0][0]):\n",
    "        #    aux=layer_params\n",
    "         #   break\n",
    "        mus[0]=mus[0]-learning_rate*grad1\n",
    "        mus[2]=mus[2]-learning_rate*grad2\n",
    "        mus[4]=mus[4]-learning_rate*grad3\n",
    "        \n",
    "        rhos[0]=rhos[0]-learning_rate*gradsig1\n",
    "        rhos[2]=rhos[2]-learning_rate*gradsig2\n",
    "        rhos[4]=rhos[4]-learning_rate*gradsig3\n",
    "\n",
    "        \n",
    "        #print(lgs,loss,sigmas[0][0][0],rhos[0][0][0],gradsig1[0][0],dfs(layer_params[0],mus[0],sigmas[0],rhos[0])[0][0],(np.random.normal(size=(sigmas[0].shape))/(1+np.exp(-rhos[0])))[0][0],df1[0][0])\n",
    "        # calculate moving loss for monitoring convergence\n",
    "        curr_loss =np.mean(loss)\n",
    "        moving_loss = (curr_loss if ((i == 0) and (e == 0))\n",
    "                       else (1 - smoothing_constant) * moving_loss + (smoothing_constant) * curr_loss)\n",
    "        #print(e,i,moving_loss)\n",
    "        \n",
    "        \n",
    "    test_accuracy = evaluate_accuracy(agunos(x_test),y_test, net, mus)\n",
    "    train_accuracy = evaluate_accuracy(agunos(x_train),y_train, net, mus)\n",
    "    train_acc.append(train_accuracy)\n",
    "    test_acc.append(test_accuracy)\n",
    "    print(\"Epoch %s. Loss: %s, Train_acc %s, Test_acc %s\" %\n",
    "          (e, moving_loss, train_accuracy, test_accuracy))\n",
    "\n",
    "    \n",
    "plt.plot(train_acc)\n",
    "plt.plot(test_acc)\n",
    "plt.show()"
   ]
  },
  {
   "cell_type": "code",
   "execution_count": null,
   "metadata": {},
   "outputs": [],
   "source": []
  },
  {
   "cell_type": "code",
   "execution_count": 84,
   "metadata": {},
   "outputs": [
    {
     "data": {
      "text/plain": [
       "5.006715348489118"
      ]
     },
     "execution_count": 84,
     "metadata": {},
     "output_type": "execute_result"
    }
   ],
   "source": [
    "np.log(1+np.exp(5))"
   ]
  },
  {
   "cell_type": "code",
   "execution_count": null,
   "metadata": {},
   "outputs": [],
   "source": []
  }
 ],
 "metadata": {
  "kernelspec": {
   "display_name": "Python 3.7 (tf23)",
   "language": "python",
   "name": "tf23"
  },
  "language_info": {
   "codemirror_mode": {
    "name": "ipython",
    "version": 3
   },
   "file_extension": ".py",
   "mimetype": "text/x-python",
   "name": "python",
   "nbconvert_exporter": "python",
   "pygments_lexer": "ipython3",
   "version": "3.7.7"
  },
  "toc": {
   "base_numbering": 1,
   "nav_menu": {},
   "number_sections": true,
   "sideBar": true,
   "skip_h1_title": false,
   "title_cell": "Table of Contents",
   "title_sidebar": "Contents",
   "toc_cell": false,
   "toc_position": {
    "height": "calc(100% - 180px)",
    "left": "10px",
    "top": "150px",
    "width": "307.2px"
   },
   "toc_section_display": true,
   "toc_window_display": true
  }
 },
 "nbformat": 4,
 "nbformat_minor": 4
}
