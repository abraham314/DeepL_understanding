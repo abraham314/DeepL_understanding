{
 "cells": [
  {
   "cell_type": "code",
   "execution_count": 1,
   "metadata": {},
   "outputs": [],
   "source": [
    "import numpy as np\n",
    "import tensorflow.compat.v1 as tf\n",
    "from tensorflow.compat.v1 import keras\n",
    "from tensorflow.compat.v1.keras import layers\n",
    "import numpy as np\n",
    "import matplotlib.pyplot as plt\n",
    "import tensorflow_probability as tfp\n",
    "tfd=tfp.distributions\n",
    "from tensorflow.keras.datasets import mnist\n",
    "from sklearn.utils import shuffle\n",
    "tf.compat.v1.disable_eager_execution()\n",
    "#physical_devices = tf.config.list_physical_devices('GPU') \n",
    "#tf.config.experimental.set_memory_growth(physical_devices[0], True)"
   ]
  },
  {
   "cell_type": "markdown",
   "metadata": {},
   "source": [
    "# Class dense"
   ]
  },
  {
   "cell_type": "code",
   "execution_count": 2,
   "metadata": {},
   "outputs": [],
   "source": [
    "class Denseab(object):\n",
    "    def __init__(self,name,M1,M2,apply_batch_norm,f=tf.nn.relu):\n",
    "        \n",
    "        self.W=tf.get_variable(\"W%s\" %name,shape=(M1,M2),initializer=tf.random_normal_initializer(stddev=2/np.sqrt(M1)),dtype=tf.float32)\n",
    "        #tf.Variable(tf.random_normal((M1,M2))*2/np.sqrt(M1))\n",
    "        self.b=tf.get_variable(\"b%s\" %name,shape=(M2,),initializer=tf.zeros_initializer(),dtype=tf.float32)\n",
    "        #tf.Variable(tf.zeros(M2),dtype=tf.float32)\n",
    "        self.f=f\n",
    "        self.bm=apply_batch_norm\n",
    "    \n",
    "    def forward(self,X):\n",
    "            \n",
    "        sal=tf.matmul(X,self.W)+self.b\n",
    "    \n",
    "        if self.bm:\n",
    "            sal=tf.layers.batch_normalization(sal)\n",
    "            #tf.keras.layers.BatchNormalization(trainable=True)(sal)\n",
    "            \n",
    "        return(self.f(sal))  "
   ]
  },
  {
   "cell_type": "markdown",
   "metadata": {},
   "source": [
    "# Class Conv"
   ]
  },
  {
   "cell_type": "code",
   "execution_count": 3,
   "metadata": {},
   "outputs": [],
   "source": [
    "class ConvLayer:\n",
    "    def __init__(self,name,tam,filtros,tam_filtros,stride,pad,apply_batch_norm,f=tf.nn.relu):\n",
    "        \"\"\"\n",
    "        Input:\n",
    "              tam.-int número de canales o colores en imágenes ex: RGB son 3\n",
    "              filtros.- int número de filtros a usar\n",
    "              tam_filtros.- int tamaño de los filtros si tam=n fitro es de n x n\n",
    "              stride.- int número de strides para recorrer\n",
    "              pad.-string padding\n",
    "              apply_bm...- bool si se usa batch normalization\n",
    "              f.-object función de activación\n",
    "              \n",
    "          Out:\n",
    "              self.W.- array de tam_fitros x tam_filtros  x tam x filtros son los pesos de los filtros definidos\n",
    "              self.b.- array de biases de dimensión filtros so los biases que se usan\n",
    "        \n",
    "        \"\"\"\n",
    "        self.W=tf.get_variable(\"W%s\" %name,shape=(tam_filtros,tam_filtros,tam,filtros),initializer=tf.random_normal_initializer(stddev=(2/np.sqrt(filtros))),dtype=tf.float32)\n",
    "        #tf.Variable(tf.random_normal((tam_filtros,tam_filtros,tam,filtros))*2/np.sqrt(filtros))\n",
    "        self.b=tf.get_variable(\"b%s\" %name,shape=(filtros,),initializer=tf.zeros_initializer(),dtype=tf.float32)\n",
    "        #tf.Variable((tf.zeros(filtros)),dtype=tf.float32)\n",
    "\n",
    "        self.filtros=filtros\n",
    "        self.tam_filtros=tam_filtros\n",
    "        self.stride=stride\n",
    "        self.pad=pad\n",
    "        self.f=f\n",
    "        self.bm=apply_batch_norm\n",
    "            \n",
    "    def forward(self,X):\n",
    "        \"\"\"\n",
    "        Input:\n",
    "              X.-array input \n",
    "          Out:\n",
    "              self.f(sal)- array de f(filtros) convolucionados con X\n",
    "        \n",
    "        \"\"\"        \n",
    "        sal=tf.nn.conv2d(X,filter=self.W,strides=self.stride,padding=self.pad)\n",
    "        sal=sal+self.b\n",
    "        if self.bm:\n",
    "            return(self.f(tf.layers.batch_normalization(sal)))\n",
    "        else:\n",
    "            return(self.f(sal))\n",
    "    "
   ]
  },
  {
   "cell_type": "markdown",
   "metadata": {},
   "source": [
    "# Class ConvT"
   ]
  },
  {
   "cell_type": "code",
   "execution_count": 4,
   "metadata": {},
   "outputs": [],
   "source": [
    "class ConvLayerTranspose:\n",
    "    def __init__(self,name,out_shape,tam,filtros,tam_filtros,stride,pad,apply_batch_norm,f=tf.nn.relu):\n",
    "        \"\"\"\n",
    "        Input:\n",
    "              out_shape.-array tamaño deseado de salida normalmente es (None,2*H,2*W,filtros/2)\n",
    "              tam.-int número de canales o colores en imágenes ex: RGB son 3\n",
    "              filtros.- int número de filtros a usar\n",
    "              tam_filtros.- int tamaño de los filtros si tam=n fitro es de n x n\n",
    "              stride.- int número de strides para recorrer\n",
    "              pad.-string padding\n",
    "              apply_bm...- bool si se usa batch normalization\n",
    "              f.-object función de activación\n",
    "              \n",
    "          Out:\n",
    "              self.W.- array de tam_fitros x tam_filtros  x filtros x tam (al revés que conv) son los pesos de los filtros definidos\n",
    "              self.b.- array de biases de dimensión filtros so los biases que se usan\n",
    "        \n",
    "        \"\"\"\n",
    "        self.W=tf.get_variable(\"W%s\" %name,shape=(tam_filtros,tam_filtros,filtros,tam),initializer=tf.random_normal_initializer(stddev=(2/np.sqrt(filtros))),dtype=tf.float32)\n",
    "        #tf.Variable(tf.random_normal((tam_filtros,tam_filtros,filtros,tam))*2/np.sqrt(filtros))\n",
    "        self.b=tf.get_variable(\"b%s\" %name,shape=(filtros,),initializer=tf.zeros_initializer(),dtype=tf.float32)\n",
    "        #tf.Variable((tf.zeros(filtros)),dtype=tf.float32)\n",
    "\n",
    "        self.out_shape=out_shape\n",
    "        self.filtros=filtros\n",
    "        self.tam_filtros=tam_filtros\n",
    "        self.stride=stride\n",
    "        self.pad=pad\n",
    "        self.f=f\n",
    "        self.bm=apply_batch_norm\n",
    "            \n",
    "    def forward(self,X):\n",
    "        \"\"\"\n",
    "        Input:\n",
    "              X.-array input \n",
    "          Out:\n",
    "              self.f(sal)- array de f(filtros) convolucionados con X\n",
    "        \n",
    "        \"\"\"        \n",
    "        sal=tf.nn.conv2d_transpose(value=X,filter=self.W,output_shape=self.out_shape,strides=self.stride,padding=self.pad)\n",
    "        \n",
    "        sal=sal+self.b\n",
    "        #print(self.f(tf.keras.layers.BatchNormalization()(sal)))\n",
    "        if self.bm:\n",
    "            return(self.f(tf.layers.batch_normalization(sal)))\n",
    "        else:\n",
    "            return(self.f(sal))"
   ]
  },
  {
   "cell_type": "markdown",
   "metadata": {},
   "source": [
    "# Carga info"
   ]
  },
  {
   "cell_type": "code",
   "execution_count": 5,
   "metadata": {},
   "outputs": [],
   "source": [
    "from tensorflow.keras.datasets import mnist\n",
    "from tensorflow.keras.layers import Input\n",
    "X,Y=np.concatenate([mnist.load_data()[0][0],mnist.load_data()[1][0]]),np.concatenate([mnist.load_data()[0][1],mnist.load_data()[1][1]])\n",
    "X=X.astype(\"float32\")/255.0"
   ]
  },
  {
   "cell_type": "code",
   "execution_count": 6,
   "metadata": {},
   "outputs": [
    {
     "data": {
      "text/plain": [
       "(70000, 28, 28, 1)"
      ]
     },
     "execution_count": 6,
     "metadata": {},
     "output_type": "execute_result"
    }
   ],
   "source": [
    "Xej=X.reshape(X.shape[0],X.shape[1],X.shape[2],1)\n",
    "#Xej=Xej.reshape(-1,784)\n",
    "Xej.shape"
   ]
  },
  {
   "cell_type": "markdown",
   "metadata": {},
   "source": [
    "## Diccionarios"
   ]
  },
  {
   "cell_type": "code",
   "execution_count": 7,
   "metadata": {},
   "outputs": [],
   "source": [
    "g_sizes = {\n",
    "    'z': 100,\n",
    "    'projection': 784,#128,\n",
    "    'bn_after_project': False,\n",
    "    'conv_layers': [(128, 5, 2, True,tf.nn.relu),(1, 5, 2, False,tf.nn.tanh)],\n",
    "    'dense_layers': [(128, True)],#1024\n",
    "    'output_activation': tf.nn.tanh,\n",
    "  }\n"
   ]
  },
  {
   "cell_type": "code",
   "execution_count": 8,
   "metadata": {},
   "outputs": [],
   "source": [
    "d_sizes = {\n",
    "    'conv_layers': [(2, 5, 2, False), (64, 5, 2, True)],\n",
    "    'dense_layers': [(1024, True)],\n",
    "  }"
   ]
  },
  {
   "cell_type": "markdown",
   "metadata": {},
   "source": [
    "# Generador"
   ]
  },
  {
   "cell_type": "code",
   "execution_count": 9,
   "metadata": {},
   "outputs": [],
   "source": [
    "def generator(gsizes,img_size,Z,reuse=None):\n",
    "    with tf.variable_scope('gen',reuse=reuse):\n",
    "        \n",
    "        dims=[img_size]\n",
    "        aux=img_size\n",
    "        for j in range(len(gsizes[\"conv_layers\"])):\n",
    "            aux//=gsizes[\"conv_layers\"][j][2]\n",
    "            dims.append(aux)\n",
    "        #\"\"\"      \n",
    "        hidden1 =tf.layers.dense(inputs=z,units=128)#Denseab(\"dense1\",z.shape[1],128,True,f=tf.nn.leaky_relu).forward(z)#tf.layers.dense(inputs=z,units=128)\n",
    "        # Leaky Relu\n",
    "        alpha = 0.01\n",
    "        output = tf.maximum(alpha*hidden1,hidden1)\n",
    "        salcont=tf.shape(output)[0]\n",
    "        salinp=output.shape[-1]\n",
    "        #print(\"salinp:\",ent.shape)\n",
    "        cont=0\n",
    "        \n",
    "        for n,bm in gsizes[\"dense_layers\"]:\n",
    "            name=\"dense_gen_%s\"%cont\n",
    "            cont+=1\n",
    "            output=Denseab(name,salinp,n,bm,f=tf.nn.leaky_relu).forward(output)\n",
    "            salinp=n\n",
    "        #\"\"\"\n",
    "        #cont=0\n",
    "        #salcont=tf.shape(Z)[0]\n",
    "        #salinp=Z.shape[-1]\n",
    "        #output=Z\n",
    "        \n",
    "        name=\"dense_gen_%s\"%cont\n",
    "        output=Denseab(name,salinp,gsizes[\"projection\"]#*dims[-1]*dims[-1] #hay que comentar dims[-1]*dims[-1] \n",
    "                                 ,apply_batch_norm=g_sizes[\"bn_after_project\"],f=tf.nn.tanh).forward(output)             \n",
    "          \n",
    "        \n",
    "        \"\"\"\n",
    "\n",
    "        ent_res=tf.reshape(output,shape=(salcont,dims[-1],dims[-1],gsizes[\"projection\"]))\n",
    "        #print(\"ent_res\",ent_res.shape)\n",
    "        #conv_lay=[]\n",
    "        inp=ent_res.shape[-1]\n",
    "        i=-1\n",
    "        #outshape=[salcont,dims[i],dims[i],inp]\n",
    "\n",
    "        for f,tfilt,st,bm,fn in gsizes['conv_layers']:\n",
    "            namex=\"convt_gen_%s\"%cont\n",
    "            cont+=1\n",
    "            outshape=(salcont,dims[i-1],dims[i-1],f)\n",
    "            ent_res=ConvLayerTranspose(name=namex,out_shape=outshape,tam=inp,filtros=f,tam_filtros=tfilt,stride=st,pad=\"SAME\",apply_batch_norm=bm,f=fn).forward(ent_res)\n",
    "            inp=f\n",
    "            i-=1\n",
    "            #print(i,outshape,f)\n",
    "\n",
    "\n",
    "        \"\"\"\n",
    "        return(tf.reshape(output,shape=(salcont,dims[0],dims[0],1)))#(ent_res)# #(tf.reshape(tf.cast(output,dtype=tf.float32),shape=(-1,dims[0],dims[0],1)))#"
   ]
  },
  {
   "cell_type": "code",
   "execution_count": 10,
   "metadata": {},
   "outputs": [
    {
     "data": {
      "text/plain": [
       "'\"\\ndef generator(z,reuse=None):\\n    with tf.variable_scope(\\'gen\\',reuse=reuse):\\n        hidden1 =tf.layers.dense(inputs=z,units=128)#Denseab(\"dense1\",z.shape[1],128,True,f=tf.nn.leaky_relu).forward(z)#tf.layers.dense(inputs=z,units=128)\\n        # Leaky Relu\\n        alpha = 0.01\\n        hidden1 = tf.maximum(alpha*hidden1,hidden1)\\n        hidden2 = Denseab(\"dense2\",hidden1.shape[1],128,True,f=tf.nn.leaky_relu).forward(hidden1)#tf.layers.dense(inputs=hidden1,units=128)\\n        \\n        #hidden2 = tf.maximum(alpha*hidden2,hidden2)\\n        output = Denseab(\"dense3\",hidden2.shape[1],784,False,f=tf.nn.tanh).forward(hidden2)#tf.layers.dense(hidden2,units=784,activation=tf.nn.tanh)\\n        return output\\n'"
      ]
     },
     "execution_count": 10,
     "metadata": {},
     "output_type": "execute_result"
    }
   ],
   "source": [
    "\"\"\"\"\n",
    "def generator(z,reuse=None):\n",
    "    with tf.variable_scope('gen',reuse=reuse):\n",
    "        hidden1 =tf.layers.dense(inputs=z,units=128)#Denseab(\"dense1\",z.shape[1],128,True,f=tf.nn.leaky_relu).forward(z)#tf.layers.dense(inputs=z,units=128)\n",
    "        # Leaky Relu\n",
    "        alpha = 0.01\n",
    "        hidden1 = tf.maximum(alpha*hidden1,hidden1)\n",
    "        hidden2 = Denseab(\"dense2\",hidden1.shape[1],128,True,f=tf.nn.leaky_relu).forward(hidden1)#tf.layers.dense(inputs=hidden1,units=128)\n",
    "        \n",
    "        #hidden2 = tf.maximum(alpha*hidden2,hidden2)\n",
    "        output = Denseab(\"dense3\",hidden2.shape[1],784,False,f=tf.nn.tanh).forward(hidden2)#tf.layers.dense(hidden2,units=784,activation=tf.nn.tanh)\n",
    "        return output\n",
    "\"\"\"        "
   ]
  },
  {
   "cell_type": "code",
   "execution_count": 11,
   "metadata": {},
   "outputs": [
    {
     "data": {
      "text/plain": [
       "'\\ndef generator(z,reuse=None):\\n    with tf.variable_scope(\\'gen\\',reuse=reuse):\\n        hidden1 =tf.layers.dense(inputs=z,units=128)#Denseab(\"dense1\",z.shape[1],128,True,f=tf.nn.leaky_relu).forward(z)#tf.layers.dense(inputs=z,units=128)\\n        # Leaky Relu\\n        alpha = 0.01\\n        output = tf.maximum(alpha*hidden1,hidden1)\\n        salcont=output.shape[0]\\n        salinp=output.shape[-1]\\n        #print(\"salinp:\",ent.shape)\\n        cont=0\\n        \\n        for n,bm in g_sizes[\"dense_layers\"]:\\n            name=\"dense_gen_%s\"%cont\\n            cont+=1\\n            output=Denseab(name,salinp,n,bm,f=tf.nn.leaky_relu).forward(output)\\n            salinp=n\\n            \\n        name=\"dense_gen_%s\"%cont\\n        output=Denseab(name,salinp,g_sizes[\"projection\"]#*dims[-1]*dims[-1]\\n                                 ,apply_batch_norm=g_sizes[\"bn_after_project\"],f=tf.nn.tanh).forward(output)            \\n        \\n        return output\\n'"
      ]
     },
     "execution_count": 11,
     "metadata": {},
     "output_type": "execute_result"
    }
   ],
   "source": [
    "\"\"\"\n",
    "def generator(z,reuse=None):\n",
    "    with tf.variable_scope('gen',reuse=reuse):\n",
    "        hidden1 =tf.layers.dense(inputs=z,units=128)#Denseab(\"dense1\",z.shape[1],128,True,f=tf.nn.leaky_relu).forward(z)#tf.layers.dense(inputs=z,units=128)\n",
    "        # Leaky Relu\n",
    "        alpha = 0.01\n",
    "        output = tf.maximum(alpha*hidden1,hidden1)\n",
    "        salcont=output.shape[0]\n",
    "        salinp=output.shape[-1]\n",
    "        #print(\"salinp:\",ent.shape)\n",
    "        cont=0\n",
    "        \n",
    "        for n,bm in g_sizes[\"dense_layers\"]:\n",
    "            name=\"dense_gen_%s\"%cont\n",
    "            cont+=1\n",
    "            output=Denseab(name,salinp,n,bm,f=tf.nn.leaky_relu).forward(output)\n",
    "            salinp=n\n",
    "            \n",
    "        name=\"dense_gen_%s\"%cont\n",
    "        output=Denseab(name,salinp,g_sizes[\"projection\"]#*dims[-1]*dims[-1]\n",
    "                                 ,apply_batch_norm=g_sizes[\"bn_after_project\"],f=tf.nn.tanh).forward(output)            \n",
    "        \n",
    "        return output\n",
    "\"\"\""
   ]
  },
  {
   "cell_type": "markdown",
   "metadata": {},
   "source": [
    "# Discriminador"
   ]
  },
  {
   "cell_type": "code",
   "execution_count": 12,
   "metadata": {},
   "outputs": [],
   "source": [
    "def discriminator(dsizes,X,reuse=None):\n",
    "    with tf.variable_scope('dis',reuse=reuse):\n",
    "        \n",
    "        conv_lay=[]\n",
    "        inp=X.shape[-1]\n",
    "        cont=0\n",
    "        for f,tfilt,st,bm in dsizes['conv_layers']:\n",
    "            name=\"conv_lay_%s\"%cont\n",
    "            cont+=1\n",
    "            conv_lay.append(ConvLayer(name=name,tam=inp,filtros=f,tam_filtros=tfilt,stride=st,pad=\"SAME\",apply_batch_norm=bm))\n",
    "            inp=f\n",
    "        \n",
    "        ent=X\n",
    "        \n",
    "        for clayer in conv_lay:\n",
    "            ent=clayer.forward(ent)\n",
    "\n",
    "        #print(\"---\",tf.layers.flatten(ent))\n",
    "        \n",
    "        #cont=0\n",
    "        sal=tf.layers.flatten(ent)\n",
    "        dense_lay=[]\n",
    "        salinp=sal.shape[-1]\n",
    "        for n,bm in dsizes[\"dense_layers\"]:\n",
    "            namex=\"dense_%s\"%cont\n",
    "            cont+=1\n",
    "            dense_lay.append(Denseab(namex,salinp,n,bm))\n",
    "            salinp=n\n",
    "\n",
    "        namex=\"dense_%s\"%cont\n",
    "        dense_lay.append(Denseab(namex,salinp,1,apply_batch_norm=False,f=lambda x:x))\n",
    "\n",
    "        for layer in dense_lay:\n",
    "            sal=layer.forward(sal)\n",
    "\n",
    "        return(tf.nn.sigmoid(sal),sal)"
   ]
  },
  {
   "cell_type": "code",
   "execution_count": 13,
   "metadata": {},
   "outputs": [
    {
     "data": {
      "text/plain": [
       "'\"\\ndef discriminator(X,reuse=None):\\n    with tf.variable_scope(\\'dis\\',reuse=reuse):\\n        hidden1 = Denseab(\"pera\",X.shape[1],128,True).forward(X)#tf.keras.layers.Dense(128)(X)#(inputs=X,units=128)\\n        # Leaky Relu\\n       # alpha = 0.01\\n       # hidden1 = tf.maximum(alpha*hidden1,hidden1)\\n        \\n        hidden2 = Denseab(\"pera2\",hidden1.shape[1],128,True).forward(hidden1)#tf.layers.dense(inputs=hidden1,units=128)\\n        #hidden2 = tf.maximum(alpha*hidden2,hidden2)\\n        \\n        logits = Denseab(\"pera3\",hidden2.shape[1],1,False,f=lambda x:x).forward(hidden2)#tf.layers.dense(hidden2,units=1)\\n        output = tf.sigmoid(logits)\\n    \\n        return output, logits\\n'"
      ]
     },
     "execution_count": 13,
     "metadata": {},
     "output_type": "execute_result"
    }
   ],
   "source": [
    "\"\"\"\"\n",
    "def discriminator(X,reuse=None):\n",
    "    with tf.variable_scope('dis',reuse=reuse):\n",
    "        hidden1 = Denseab(\"pera\",X.shape[1],128,True).forward(X)#tf.keras.layers.Dense(128)(X)#(inputs=X,units=128)\n",
    "        # Leaky Relu\n",
    "       # alpha = 0.01\n",
    "       # hidden1 = tf.maximum(alpha*hidden1,hidden1)\n",
    "        \n",
    "        hidden2 = Denseab(\"pera2\",hidden1.shape[1],128,True).forward(hidden1)#tf.layers.dense(inputs=hidden1,units=128)\n",
    "        #hidden2 = tf.maximum(alpha*hidden2,hidden2)\n",
    "        \n",
    "        logits = Denseab(\"pera3\",hidden2.shape[1],1,False,f=lambda x:x).forward(hidden2)#tf.layers.dense(hidden2,units=1)\n",
    "        output = tf.sigmoid(logits)\n",
    "    \n",
    "        return output, logits\n",
    "\"\"\"        "
   ]
  },
  {
   "cell_type": "markdown",
   "metadata": {},
   "source": [
    "## Placeholders"
   ]
  },
  {
   "cell_type": "code",
   "execution_count": 14,
   "metadata": {},
   "outputs": [],
   "source": [
    "real_images =tf.placeholder(tf.float32,shape=[None,28,28,1])#tf.placeholder(tf.float32,shape=[None,784])#tf.placeholder(tf.float32,shape=[None,28,28,1])\n",
    "z = tf.placeholder(tf.float32,shape=[None,100])"
   ]
  },
  {
   "cell_type": "markdown",
   "metadata": {},
   "source": [
    "## Generar img"
   ]
  },
  {
   "cell_type": "code",
   "execution_count": 15,
   "metadata": {},
   "outputs": [
    {
     "name": "stdout",
     "output_type": "stream",
     "text": [
      "WARNING:tensorflow:From <ipython-input-9-6109dc3a89e6>:10: dense (from tensorflow.python.layers.core) is deprecated and will be removed in a future version.\n",
      "Instructions for updating:\n",
      "Use keras.layers.Dense instead.\n",
      "WARNING:tensorflow:From C:\\Users\\Abraham\\AppData\\Roaming\\Python\\Python37\\site-packages\\tensorflow\\python\\layers\\core.py:187: Layer.apply (from tensorflow.python.keras.engine.base_layer_v1) is deprecated and will be removed in a future version.\n",
      "Instructions for updating:\n",
      "Please use `layer.__call__` method instead.\n",
      "WARNING:tensorflow:From C:\\Users\\Abraham\\AppData\\Roaming\\Python\\Python37\\site-packages\\tensorflow\\python\\ops\\resource_variable_ops.py:1666: calling BaseResourceVariable.__init__ (from tensorflow.python.ops.resource_variable_ops) with constraint is deprecated and will be removed in a future version.\n",
      "Instructions for updating:\n",
      "If using Keras pass *_constraint arguments to layers.\n",
      "WARNING:tensorflow:From <ipython-input-2-3e05f2df723f>:16: batch_normalization (from tensorflow.python.layers.normalization) is deprecated and will be removed in a future version.\n",
      "Instructions for updating:\n",
      "Use keras.layers.BatchNormalization instead.  In particular, `tf.control_dependencies(tf.GraphKeys.UPDATE_OPS)` should not be used (consult the `tf.keras.layers.BatchNormalization` documentation).\n"
     ]
    }
   ],
   "source": [
    "G=generator(g_sizes,28,z,reuse=tf.AUTO_REUSE)\n",
    "#G=generator(z,reuse=tf.AUTO_REUSE)"
   ]
  },
  {
   "cell_type": "markdown",
   "metadata": {},
   "source": [
    "##  Discriminadores"
   ]
  },
  {
   "cell_type": "code",
   "execution_count": 16,
   "metadata": {},
   "outputs": [
    {
     "name": "stdout",
     "output_type": "stream",
     "text": [
      "WARNING:tensorflow:From <ipython-input-12-90417c7cea89>:21: flatten (from tensorflow.python.layers.core) is deprecated and will be removed in a future version.\n",
      "Instructions for updating:\n",
      "Use keras.layers.Flatten instead.\n"
     ]
    }
   ],
   "source": [
    "D_output_real , D_logits_real = discriminator(d_sizes,real_images)#(real_images)#discriminator(real_images,reuse=tf.AUTO_REUSE)#discriminator(real_images)#discriminator(d_sizes,real_images)#(real_images)\n",
    "D_output_fake, D_logits_fake = discriminator(d_sizes,G,reuse=True)#(real_images)#discriminator(G,reuse=True)#discriminator(d_sizes,G,reuse=True)"
   ]
  },
  {
   "cell_type": "markdown",
   "metadata": {},
   "source": [
    "**La razón por la que se usan los names en las clases es xq debemos hacer reutilizables los parámetros entonces sólo debemos tener como parámetros entrenables los de la función generador y discriminador...**"
   ]
  },
  {
   "cell_type": "code",
   "execution_count": 17,
   "metadata": {},
   "outputs": [
    {
     "data": {
      "text/plain": [
       "[<tf.Variable 'gen/dense/kernel:0' shape=(100, 128) dtype=float32>,\n",
       " <tf.Variable 'gen/dense/bias:0' shape=(128,) dtype=float32>,\n",
       " <tf.Variable 'gen/Wdense_gen_0:0' shape=(128, 128) dtype=float32>,\n",
       " <tf.Variable 'gen/bdense_gen_0:0' shape=(128,) dtype=float32>,\n",
       " <tf.Variable 'gen/batch_normalization/gamma:0' shape=(128,) dtype=float32>,\n",
       " <tf.Variable 'gen/batch_normalization/beta:0' shape=(128,) dtype=float32>,\n",
       " <tf.Variable 'gen/Wdense_gen_1:0' shape=(128, 784) dtype=float32>,\n",
       " <tf.Variable 'gen/bdense_gen_1:0' shape=(784,) dtype=float32>,\n",
       " <tf.Variable 'dis/Wconv_lay_0:0' shape=(5, 5, 1, 2) dtype=float32>,\n",
       " <tf.Variable 'dis/bconv_lay_0:0' shape=(2,) dtype=float32>,\n",
       " <tf.Variable 'dis/Wconv_lay_1:0' shape=(5, 5, 2, 64) dtype=float32>,\n",
       " <tf.Variable 'dis/bconv_lay_1:0' shape=(64,) dtype=float32>,\n",
       " <tf.Variable 'dis/batch_normalization/gamma:0' shape=(64,) dtype=float32>,\n",
       " <tf.Variable 'dis/batch_normalization/beta:0' shape=(64,) dtype=float32>,\n",
       " <tf.Variable 'dis/Wdense_2:0' shape=(3136, 1024) dtype=float32>,\n",
       " <tf.Variable 'dis/bdense_2:0' shape=(1024,) dtype=float32>,\n",
       " <tf.Variable 'dis/Wdense_3:0' shape=(1024, 1) dtype=float32>,\n",
       " <tf.Variable 'dis/bdense_3:0' shape=(1,) dtype=float32>,\n",
       " <tf.Variable 'dis/batch_normalization_1/gamma:0' shape=(1024,) dtype=float32>,\n",
       " <tf.Variable 'dis/batch_normalization_1/beta:0' shape=(1024,) dtype=float32>]"
      ]
     },
     "execution_count": 17,
     "metadata": {},
     "output_type": "execute_result"
    }
   ],
   "source": [
    "tf.trainable_variables()"
   ]
  },
  {
   "cell_type": "markdown",
   "metadata": {},
   "source": [
    "## Losses"
   ]
  },
  {
   "cell_type": "code",
   "execution_count": 18,
   "metadata": {},
   "outputs": [],
   "source": [
    "def loss_func(logits_in,labels_in):\n",
    "    return tf.reduce_mean(tf.nn.sigmoid_cross_entropy_with_logits(logits=logits_in,labels=labels_in))\n",
    "\n",
    "D_real_loss = loss_func(D_logits_real,tf.ones_like(D_logits_real)* (0.9))\n",
    "D_fake_loss = loss_func(D_logits_fake,tf.zeros_like(D_logits_real))\n",
    "\n",
    "D_loss = D_real_loss + D_fake_loss\n",
    "G_loss = loss_func(D_logits_fake,tf.ones_like(D_logits_fake))"
   ]
  },
  {
   "cell_type": "code",
   "execution_count": 19,
   "metadata": {},
   "outputs": [],
   "source": [
    "batch_size = 100\n",
    "real_predictions = tf.cast(D_logits_real > 0, tf.float32)\n",
    "fake_predictions = tf.cast(D_logits_fake < 0, tf.float32)\n",
    "num_predictions = 2.0*batch_size\n",
    "num_correct = tf.reduce_sum(real_predictions) + tf.reduce_sum(fake_predictions)\n",
    "d_acc = num_correct / num_predictions"
   ]
  },
  {
   "cell_type": "code",
   "execution_count": 20,
   "metadata": {},
   "outputs": [
    {
     "name": "stdout",
     "output_type": "stream",
     "text": [
      "['dis/Wconv_lay_0:0', 'dis/bconv_lay_0:0', 'dis/Wconv_lay_1:0', 'dis/bconv_lay_1:0', 'dis/batch_normalization/gamma:0', 'dis/batch_normalization/beta:0', 'dis/Wdense_2:0', 'dis/bdense_2:0', 'dis/Wdense_3:0', 'dis/bdense_3:0', 'dis/batch_normalization_1/gamma:0', 'dis/batch_normalization_1/beta:0']\n",
      "['gen/dense/kernel:0', 'gen/dense/bias:0', 'gen/Wdense_gen_0:0', 'gen/bdense_gen_0:0', 'gen/batch_normalization/gamma:0', 'gen/batch_normalization/beta:0', 'gen/Wdense_gen_1:0', 'gen/bdense_gen_1:0']\n"
     ]
    }
   ],
   "source": [
    "learning_rate = 0.001\n",
    "tvars = tf.trainable_variables()\n",
    "\n",
    "d_vars = [var for var in tvars if 'dis' in var.name]\n",
    "g_vars = [var for var in tvars if 'gen' in var.name]\n",
    "\n",
    "print([v.name for v in d_vars])\n",
    "print([v.name for v in g_vars])"
   ]
  },
  {
   "cell_type": "markdown",
   "metadata": {},
   "source": [
    "## Optimizers"
   ]
  },
  {
   "cell_type": "code",
   "execution_count": 21,
   "metadata": {},
   "outputs": [],
   "source": [
    "D_trainer = tf.train.AdamOptimizer(learning_rate).minimize(D_loss, var_list=d_vars)\n",
    "G_trainer = tf.train.AdamOptimizer(learning_rate).minimize(G_loss, var_list=g_vars)"
   ]
  },
  {
   "cell_type": "markdown",
   "metadata": {},
   "source": [
    "## Training Session"
   ]
  },
  {
   "cell_type": "code",
   "execution_count": 22,
   "metadata": {},
   "outputs": [],
   "source": [
    "#batch_size = 100\n",
    "epochs = 300\n",
    "init = tf.global_variables_initializer()\n",
    "saver = tf.train.Saver(var_list=g_vars)"
   ]
  },
  {
   "cell_type": "code",
   "execution_count": 23,
   "metadata": {},
   "outputs": [],
   "source": [
    "# Save a sample per epoch\n",
    "samples = []"
   ]
  },
  {
   "cell_type": "code",
   "execution_count": 24,
   "metadata": {},
   "outputs": [
    {
     "name": "stdout",
     "output_type": "stream",
     "text": [
      "Currently on Epoch 1 of 300 total...acc=1.0\n"
     ]
    },
    {
     "data": {
      "image/png": "[encoded data removed]",
      "text/plain": [
       "<Figure size 432x288 with 1 Axes>"
      ]
     },
     "metadata": {
      "needs_background": "light"
     },
     "output_type": "display_data"
    },
    {
     "name": "stdout",
     "output_type": "stream",
     "text": [
      "Currently on Epoch 2 of 300 total...acc=0.9899999499320984\n",
      "Currently on Epoch 3 of 300 total...acc=0.9899999499320984\n",
      "Currently on Epoch 4 of 300 total...acc=1.0\n",
      "Currently on Epoch 5 of 300 total...acc=0.9950000047683716\n",
      "Currently on Epoch 6 of 300 total...acc=0.9899999499320984\n"
     ]
    },
    {
     "data": {
      "image/png": "[encoded data removed]",
      "text/plain": [
       "<Figure size 432x288 with 1 Axes>"
      ]
     },
     "metadata": {
      "needs_background": "light"
     },
     "output_type": "display_data"
    },
    {
     "name": "stdout",
     "output_type": "stream",
     "text": [
      "Currently on Epoch 7 of 300 total...acc=1.0\n",
      "Currently on Epoch 8 of 300 total...acc=1.0\n",
      "Currently on Epoch 9 of 300 total...acc=0.9749999642372131\n",
      "Currently on Epoch 10 of 300 total...acc=0.9649999737739563\n",
      "Currently on Epoch 11 of 300 total...acc=0.9350000023841858\n"
     ]
    },
    {
     "data": {
      "image/png": "[encoded data removed]",
      "text/plain": [
       "<Figure size 432x288 with 1 Axes>"
      ]
     },
     "metadata": {
      "needs_background": "light"
     },
     "output_type": "display_data"
    },
    {
     "name": "stdout",
     "output_type": "stream",
     "text": [
      "Currently on Epoch 12 of 300 total...acc=0.8999999761581421\n",
      "Currently on Epoch 13 of 300 total...acc=0.9149999618530273\n",
      "Currently on Epoch 14 of 300 total...acc=0.9449999928474426\n",
      "Currently on Epoch 15 of 300 total...acc=0.9399999976158142\n",
      "Currently on Epoch 16 of 300 total...acc=0.9549999833106995\n"
     ]
    },
    {
     "data": {
      "image/png": "[encoded data removed]",
      "text/plain": [
       "<Figure size 432x288 with 1 Axes>"
      ]
     },
     "metadata": {
      "needs_background": "light"
     },
     "output_type": "display_data"
    },
    {
     "name": "stdout",
     "output_type": "stream",
     "text": [
      "Currently on Epoch 17 of 300 total...acc=0.9399999976158142\n",
      "Currently on Epoch 18 of 300 total...acc=0.9449999928474426\n",
      "Currently on Epoch 19 of 300 total...acc=0.8849999904632568\n",
      "Currently on Epoch 20 of 300 total...acc=0.949999988079071\n",
      "Currently on Epoch 21 of 300 total...acc=0.9449999928474426\n"
     ]
    },
    {
     "data": {
      "image/png": "[encoded data removed]",
      "text/plain": [
       "<Figure size 432x288 with 1 Axes>"
      ]
     },
     "metadata": {
      "needs_background": "light"
     },
     "output_type": "display_data"
    },
    {
     "name": "stdout",
     "output_type": "stream",
     "text": [
      "Currently on Epoch 22 of 300 total...acc=0.9699999690055847\n",
      "Currently on Epoch 23 of 300 total...acc=0.9300000071525574\n",
      "Currently on Epoch 24 of 300 total...acc=0.9300000071525574\n",
      "Currently on Epoch 25 of 300 total...acc=0.9699999690055847\n",
      "Currently on Epoch 26 of 300 total...acc=0.9449999928474426\n"
     ]
    },
    {
     "data": {
      "image/png": "[encoded data removed]",
      "text/plain": [
       "<Figure size 432x288 with 1 Axes>"
      ]
     },
     "metadata": {
      "needs_background": "light"
     },
     "output_type": "display_data"
    },
    {
     "name": "stdout",
     "output_type": "stream",
     "text": [
      "Currently on Epoch 27 of 300 total...acc=0.9549999833106995\n",
      "Currently on Epoch 28 of 300 total...acc=0.9449999928474426\n",
      "Currently on Epoch 29 of 300 total...acc=0.9649999737739563\n",
      "Currently on Epoch 30 of 300 total...acc=0.9599999785423279\n",
      "Currently on Epoch 31 of 300 total...acc=0.9549999833106995\n"
     ]
    },
    {
     "data": {
      "image/png": "[encoded data removed]",
      "text/plain": [
       "<Figure size 432x288 with 1 Axes>"
      ]
     },
     "metadata": {
      "needs_background": "light"
     },
     "output_type": "display_data"
    },
    {
     "name": "stdout",
     "output_type": "stream",
     "text": [
      "Currently on Epoch 32 of 300 total...acc=0.9549999833106995\n",
      "Currently on Epoch 33 of 300 total...acc=0.949999988079071\n",
      "Currently on Epoch 34 of 300 total...acc=0.9699999690055847\n",
      "Currently on Epoch 35 of 300 total...acc=0.949999988079071\n",
      "Currently on Epoch 36 of 300 total...acc=0.9649999737739563\n"
     ]
    },
    {
     "data": {
      "image/png": "[encoded data removed]",
      "text/plain": [
       "<Figure size 432x288 with 1 Axes>"
      ]
     },
     "metadata": {
      "needs_background": "light"
     },
     "output_type": "display_data"
    },
    {
     "name": "stdout",
     "output_type": "stream",
     "text": [
      "Currently on Epoch 37 of 300 total...acc=0.9649999737739563\n",
      "Currently on Epoch 38 of 300 total...acc=0.9249999523162842\n",
      "Currently on Epoch 39 of 300 total...acc=0.9699999690055847\n",
      "Currently on Epoch 40 of 300 total...acc=0.9749999642372131\n",
      "Currently on Epoch 41 of 300 total...acc=0.9899999499320984\n"
     ]
    },
    {
     "data": {
      "image/png": "[encoded data removed]",
      "text/plain": [
       "<Figure size 432x288 with 1 Axes>"
      ]
     },
     "metadata": {
      "needs_background": "light"
     },
     "output_type": "display_data"
    },
    {
     "name": "stdout",
     "output_type": "stream",
     "text": [
      "Currently on Epoch 42 of 300 total...acc=0.9749999642372131\n",
      "Currently on Epoch 43 of 300 total...acc=0.9749999642372131\n",
      "Currently on Epoch 44 of 300 total...acc=0.9649999737739563\n",
      "Currently on Epoch 45 of 300 total...acc=0.9699999690055847\n",
      "Currently on Epoch 46 of 300 total...acc=0.9699999690055847\n"
     ]
    },
    {
     "data": {
      "image/png": "[encoded data removed]",
      "text/plain": [
       "<Figure size 432x288 with 1 Axes>"
      ]
     },
     "metadata": {
      "needs_background": "light"
     },
     "output_type": "display_data"
    },
    {
     "name": "stdout",
     "output_type": "stream",
     "text": [
      "Currently on Epoch 47 of 300 total...acc=0.9699999690055847\n",
      "Currently on Epoch 48 of 300 total...acc=0.9799999594688416\n",
      "Currently on Epoch 49 of 300 total...acc=0.9749999642372131\n",
      "Currently on Epoch 50 of 300 total...acc=0.9950000047683716\n",
      "Currently on Epoch 51 of 300 total...acc=0.9899999499320984\n"
     ]
    },
    {
     "data": {
      "image/png": "[encoded data removed]",
      "text/plain": [
       "<Figure size 432x288 with 1 Axes>"
      ]
     },
     "metadata": {
      "needs_background": "light"
     },
     "output_type": "display_data"
    },
    {
     "name": "stdout",
     "output_type": "stream",
     "text": [
      "Currently on Epoch 52 of 300 total...acc=0.9899999499320984\n",
      "Currently on Epoch 53 of 300 total...acc=1.0\n",
      "Currently on Epoch 54 of 300 total...acc=0.98499995470047\n",
      "Currently on Epoch 55 of 300 total...acc=0.9899999499320984\n",
      "Currently on Epoch 56 of 300 total...acc=0.9399999976158142\n"
     ]
    },
    {
     "data": {
      "image/png": "[encoded data removed]",
      "text/plain": [
       "<Figure size 432x288 with 1 Axes>"
      ]
     },
     "metadata": {
      "needs_background": "light"
     },
     "output_type": "display_data"
    },
    {
     "name": "stdout",
     "output_type": "stream",
     "text": [
      "Currently on Epoch 57 of 300 total...acc=0.9549999833106995\n",
      "Currently on Epoch 58 of 300 total...acc=0.9749999642372131\n",
      "Currently on Epoch 59 of 300 total...acc=0.9649999737739563\n",
      "Currently on Epoch 60 of 300 total...acc=0.9799999594688416\n",
      "Currently on Epoch 61 of 300 total...acc=0.9699999690055847\n"
     ]
    },
    {
     "data": {
      "image/png": "[encoded data removed]",
      "text/plain": [
       "<Figure size 432x288 with 1 Axes>"
      ]
     },
     "metadata": {
      "needs_background": "light"
     },
     "output_type": "display_data"
    },
    {
     "name": "stdout",
     "output_type": "stream",
     "text": [
      "Currently on Epoch 62 of 300 total...acc=0.98499995470047\n",
      "Currently on Epoch 63 of 300 total...acc=0.9749999642372131\n",
      "Currently on Epoch 64 of 300 total...acc=0.9799999594688416\n",
      "Currently on Epoch 65 of 300 total...acc=0.9649999737739563\n",
      "Currently on Epoch 66 of 300 total...acc=0.9549999833106995\n"
     ]
    },
    {
     "data": {
      "image/png": "[encoded data removed]",
      "text/plain": [
       "<Figure size 432x288 with 1 Axes>"
      ]
     },
     "metadata": {
      "needs_background": "light"
     },
     "output_type": "display_data"
    },
    {
     "name": "stdout",
     "output_type": "stream",
     "text": [
      "Currently on Epoch 67 of 300 total...acc=0.9449999928474426\n",
      "Currently on Epoch 68 of 300 total...acc=0.9649999737739563\n",
      "Currently on Epoch 69 of 300 total...acc=0.9599999785423279\n",
      "Currently on Epoch 70 of 300 total...acc=0.9649999737739563\n",
      "Currently on Epoch 71 of 300 total...acc=0.9799999594688416\n"
     ]
    },
    {
     "data": {
      "image/png": "[encoded data removed]",
      "text/plain": [
       "<Figure size 432x288 with 1 Axes>"
      ]
     },
     "metadata": {
      "needs_background": "light"
     },
     "output_type": "display_data"
    },
    {
     "name": "stdout",
     "output_type": "stream",
     "text": [
      "Currently on Epoch 72 of 300 total...acc=0.9699999690055847\n",
      "Currently on Epoch 73 of 300 total...acc=0.9549999833106995\n",
      "Currently on Epoch 74 of 300 total...acc=0.9649999737739563\n",
      "Currently on Epoch 75 of 300 total...acc=0.9599999785423279\n",
      "Currently on Epoch 76 of 300 total...acc=0.9649999737739563\n"
     ]
    },
    {
     "data": {
      "image/png": "[encoded data removed]",
      "text/plain": [
       "<Figure size 432x288 with 1 Axes>"
      ]
     },
     "metadata": {
      "needs_background": "light"
     },
     "output_type": "display_data"
    },
    {
     "name": "stdout",
     "output_type": "stream",
     "text": [
      "Currently on Epoch 77 of 300 total...acc=0.9749999642372131\n",
      "Currently on Epoch 78 of 300 total...acc=0.9599999785423279\n",
      "Currently on Epoch 79 of 300 total...acc=0.9749999642372131\n",
      "Currently on Epoch 80 of 300 total...acc=0.9649999737739563\n",
      "Currently on Epoch 81 of 300 total...acc=0.9799999594688416\n"
     ]
    },
    {
     "data": {
      "image/png": "[encoded data removed]",
      "text/plain": [
       "<Figure size 432x288 with 1 Axes>"
      ]
     },
     "metadata": {
      "needs_background": "light"
     },
     "output_type": "display_data"
    },
    {
     "name": "stdout",
     "output_type": "stream",
     "text": [
      "Currently on Epoch 82 of 300 total...acc=0.9699999690055847\n",
      "Currently on Epoch 83 of 300 total...acc=0.9699999690055847\n",
      "Currently on Epoch 84 of 300 total...acc=0.9549999833106995\n",
      "Currently on Epoch 85 of 300 total...acc=0.9749999642372131\n",
      "Currently on Epoch 86 of 300 total...acc=0.9899999499320984\n"
     ]
    },
    {
     "data": {
      "image/png": "[encoded data removed]",
      "text/plain": [
       "<Figure size 432x288 with 1 Axes>"
      ]
     },
     "metadata": {
      "needs_background": "light"
     },
     "output_type": "display_data"
    },
    {
     "name": "stdout",
     "output_type": "stream",
     "text": [
      "Currently on Epoch 87 of 300 total...acc=0.9649999737739563\n",
      "Currently on Epoch 88 of 300 total...acc=0.98499995470047\n",
      "Currently on Epoch 89 of 300 total...acc=0.949999988079071\n",
      "Currently on Epoch 90 of 300 total...acc=0.9749999642372131\n",
      "Currently on Epoch 91 of 300 total...acc=0.9749999642372131\n"
     ]
    },
    {
     "data": {
      "image/png": "[encoded data removed]",
      "text/plain": [
       "<Figure size 432x288 with 1 Axes>"
      ]
     },
     "metadata": {
      "needs_background": "light"
     },
     "output_type": "display_data"
    },
    {
     "name": "stdout",
     "output_type": "stream",
     "text": [
      "Currently on Epoch 92 of 300 total...acc=0.9699999690055847\n",
      "Currently on Epoch 93 of 300 total...acc=0.9749999642372131\n",
      "Currently on Epoch 94 of 300 total...acc=0.9549999833106995\n",
      "Currently on Epoch 95 of 300 total...acc=0.98499995470047\n",
      "Currently on Epoch 96 of 300 total...acc=0.9599999785423279\n"
     ]
    },
    {
     "data": {
      "image/png": "[encoded data removed]",
      "text/plain": [
       "<Figure size 432x288 with 1 Axes>"
      ]
     },
     "metadata": {
      "needs_background": "light"
     },
     "output_type": "display_data"
    },
    {
     "name": "stdout",
     "output_type": "stream",
     "text": [
      "Currently on Epoch 97 of 300 total...acc=0.9699999690055847\n",
      "Currently on Epoch 98 of 300 total...acc=0.9699999690055847\n",
      "Currently on Epoch 99 of 300 total...acc=0.9549999833106995\n",
      "Currently on Epoch 100 of 300 total...acc=0.9649999737739563\n",
      "Currently on Epoch 101 of 300 total...acc=0.98499995470047\n"
     ]
    },
    {
     "data": {
      "image/png": "[encoded data removed]",
      "text/plain": [
       "<Figure size 432x288 with 1 Axes>"
      ]
     },
     "metadata": {
      "needs_background": "light"
     },
     "output_type": "display_data"
    },
    {
     "name": "stdout",
     "output_type": "stream",
     "text": [
      "Currently on Epoch 102 of 300 total...acc=0.9699999690055847\n",
      "Currently on Epoch 103 of 300 total...acc=0.9749999642372131\n",
      "Currently on Epoch 104 of 300 total...acc=0.9799999594688416\n",
      "Currently on Epoch 105 of 300 total...acc=1.0\n",
      "Currently on Epoch 106 of 300 total...acc=0.9699999690055847\n"
     ]
    },
    {
     "data": {
      "image/png": "[encoded data removed]",
      "text/plain": [
       "<Figure size 432x288 with 1 Axes>"
      ]
     },
     "metadata": {
      "needs_background": "light"
     },
     "output_type": "display_data"
    },
    {
     "name": "stdout",
     "output_type": "stream",
     "text": [
      "Currently on Epoch 107 of 300 total...acc=0.98499995470047\n",
      "Currently on Epoch 108 of 300 total...acc=0.9799999594688416\n",
      "Currently on Epoch 109 of 300 total...acc=1.0\n",
      "Currently on Epoch 110 of 300 total...acc=0.98499995470047\n",
      "Currently on Epoch 111 of 300 total...acc=0.9950000047683716\n"
     ]
    },
    {
     "data": {
      "image/png": "[encoded data removed]",
      "text/plain": [
       "<Figure size 432x288 with 1 Axes>"
      ]
     },
     "metadata": {
      "needs_background": "light"
     },
     "output_type": "display_data"
    },
    {
     "name": "stdout",
     "output_type": "stream",
     "text": [
      "Currently on Epoch 112 of 300 total...acc=0.98499995470047\n",
      "Currently on Epoch 113 of 300 total...acc=0.9899999499320984\n",
      "Currently on Epoch 114 of 300 total...acc=0.9899999499320984\n",
      "Currently on Epoch 115 of 300 total...acc=0.98499995470047\n",
      "Currently on Epoch 116 of 300 total...acc=0.9749999642372131\n"
     ]
    },
    {
     "data": {
      "image/png": "[encoded data removed]",
      "text/plain": [
       "<Figure size 432x288 with 1 Axes>"
      ]
     },
     "metadata": {
      "needs_background": "light"
     },
     "output_type": "display_data"
    },
    {
     "name": "stdout",
     "output_type": "stream",
     "text": [
      "Currently on Epoch 117 of 300 total...acc=0.9649999737739563\n",
      "Currently on Epoch 118 of 300 total...acc=0.9799999594688416\n",
      "Currently on Epoch 119 of 300 total...acc=0.9749999642372131\n",
      "Currently on Epoch 120 of 300 total...acc=0.98499995470047\n",
      "Currently on Epoch 121 of 300 total...acc=0.98499995470047\n"
     ]
    },
    {
     "data": {
      "image/png": "[encoded data removed]",
      "text/plain": [
       "<Figure size 432x288 with 1 Axes>"
      ]
     },
     "metadata": {
      "needs_background": "light"
     },
     "output_type": "display_data"
    },
    {
     "name": "stdout",
     "output_type": "stream",
     "text": [
      "Currently on Epoch 122 of 300 total...acc=0.9749999642372131\n",
      "Currently on Epoch 123 of 300 total...acc=0.9449999928474426\n",
      "Currently on Epoch 124 of 300 total...acc=0.98499995470047\n",
      "Currently on Epoch 125 of 300 total...acc=0.9749999642372131\n",
      "Currently on Epoch 126 of 300 total...acc=0.98499995470047\n"
     ]
    },
    {
     "data": {
      "image/png": "[encoded data removed]",
      "text/plain": [
       "<Figure size 432x288 with 1 Axes>"
      ]
     },
     "metadata": {
      "needs_background": "light"
     },
     "output_type": "display_data"
    },
    {
     "name": "stdout",
     "output_type": "stream",
     "text": [
      "Currently on Epoch 127 of 300 total...acc=0.9599999785423279\n",
      "Currently on Epoch 128 of 300 total...acc=0.9699999690055847\n",
      "Currently on Epoch 129 of 300 total...acc=0.9950000047683716\n",
      "Currently on Epoch 130 of 300 total...acc=1.0\n",
      "Currently on Epoch 131 of 300 total...acc=0.9950000047683716\n"
     ]
    },
    {
     "data": {
      "image/png": "[encoded data removed]",
      "text/plain": [
       "<Figure size 432x288 with 1 Axes>"
      ]
     },
     "metadata": {
      "needs_background": "light"
     },
     "output_type": "display_data"
    },
    {
     "name": "stdout",
     "output_type": "stream",
     "text": [
      "Currently on Epoch 132 of 300 total...acc=0.9749999642372131\n",
      "Currently on Epoch 133 of 300 total...acc=0.9899999499320984\n",
      "Currently on Epoch 134 of 300 total...acc=0.98499995470047\n",
      "Currently on Epoch 135 of 300 total...acc=0.9799999594688416\n",
      "Currently on Epoch 136 of 300 total...acc=0.98499995470047\n"
     ]
    },
    {
     "data": {
      "image/png": "[encoded data removed]",
      "text/plain": [
       "<Figure size 432x288 with 1 Axes>"
      ]
     },
     "metadata": {
      "needs_background": "light"
     },
     "output_type": "display_data"
    },
    {
     "name": "stdout",
     "output_type": "stream",
     "text": [
      "Currently on Epoch 137 of 300 total...acc=0.98499995470047\n",
      "Currently on Epoch 138 of 300 total...acc=0.9899999499320984\n",
      "Currently on Epoch 139 of 300 total...acc=0.9699999690055847\n",
      "Currently on Epoch 140 of 300 total...acc=0.9950000047683716\n",
      "Currently on Epoch 141 of 300 total...acc=0.9749999642372131\n"
     ]
    },
    {
     "data": {
      "image/png": "[encoded data removed]",
      "text/plain": [
       "<Figure size 432x288 with 1 Axes>"
      ]
     },
     "metadata": {
      "needs_background": "light"
     },
     "output_type": "display_data"
    },
    {
     "name": "stdout",
     "output_type": "stream",
     "text": [
      "Currently on Epoch 142 of 300 total...acc=0.9799999594688416\n",
      "Currently on Epoch 143 of 300 total...acc=0.9599999785423279\n",
      "Currently on Epoch 144 of 300 total...acc=0.9950000047683716\n",
      "Currently on Epoch 145 of 300 total...acc=0.9950000047683716\n",
      "Currently on Epoch 146 of 300 total...acc=0.98499995470047\n"
     ]
    },
    {
     "data": {
      "image/png": "[encoded data removed]",
      "text/plain": [
       "<Figure size 432x288 with 1 Axes>"
      ]
     },
     "metadata": {
      "needs_background": "light"
     },
     "output_type": "display_data"
    },
    {
     "name": "stdout",
     "output_type": "stream",
     "text": [
      "Currently on Epoch 147 of 300 total...acc=0.9749999642372131\n",
      "Currently on Epoch 148 of 300 total...acc=0.9699999690055847\n",
      "Currently on Epoch 149 of 300 total...acc=0.9950000047683716\n",
      "Currently on Epoch 150 of 300 total...acc=0.9749999642372131\n",
      "Currently on Epoch 151 of 300 total...acc=0.98499995470047\n"
     ]
    },
    {
     "data": {
      "image/png": "[encoded data removed]",
      "text/plain": [
       "<Figure size 432x288 with 1 Axes>"
      ]
     },
     "metadata": {
      "needs_background": "light"
     },
     "output_type": "display_data"
    },
    {
     "name": "stdout",
     "output_type": "stream",
     "text": [
      "Currently on Epoch 152 of 300 total...acc=1.0\n",
      "Currently on Epoch 153 of 300 total...acc=0.9699999690055847\n",
      "Currently on Epoch 154 of 300 total...acc=0.949999988079071\n",
      "Currently on Epoch 155 of 300 total...acc=0.9799999594688416\n",
      "Currently on Epoch 156 of 300 total...acc=1.0\n"
     ]
    },
    {
     "data": {
      "image/png": "[encoded data removed]",
      "text/plain": [
       "<Figure size 432x288 with 1 Axes>"
      ]
     },
     "metadata": {
      "needs_background": "light"
     },
     "output_type": "display_data"
    },
    {
     "name": "stdout",
     "output_type": "stream",
     "text": [
      "Currently on Epoch 157 of 300 total...acc=0.9799999594688416\n",
      "Currently on Epoch 158 of 300 total...acc=0.98499995470047\n",
      "Currently on Epoch 159 of 300 total...acc=0.9749999642372131\n",
      "Currently on Epoch 160 of 300 total...acc=0.9799999594688416\n",
      "Currently on Epoch 161 of 300 total...acc=0.9950000047683716\n"
     ]
    },
    {
     "data": {
      "image/png": "[encoded data removed]",
      "text/plain": [
       "<Figure size 432x288 with 1 Axes>"
      ]
     },
     "metadata": {
      "needs_background": "light"
     },
     "output_type": "display_data"
    },
    {
     "name": "stdout",
     "output_type": "stream",
     "text": [
      "Currently on Epoch 162 of 300 total...acc=0.9799999594688416\n",
      "Currently on Epoch 163 of 300 total...acc=0.9749999642372131\n",
      "Currently on Epoch 164 of 300 total...acc=0.9899999499320984\n",
      "Currently on Epoch 165 of 300 total...acc=0.9899999499320984\n",
      "Currently on Epoch 166 of 300 total...acc=0.98499995470047\n"
     ]
    },
    {
     "data": {
      "image/png": "[encoded data removed]",
      "text/plain": [
       "<Figure size 432x288 with 1 Axes>"
      ]
     },
     "metadata": {
      "needs_background": "light"
     },
     "output_type": "display_data"
    },
    {
     "name": "stdout",
     "output_type": "stream",
     "text": [
      "Currently on Epoch 167 of 300 total...acc=0.98499995470047\n",
      "Currently on Epoch 168 of 300 total...acc=0.9950000047683716\n",
      "Currently on Epoch 169 of 300 total...acc=0.9899999499320984\n",
      "Currently on Epoch 170 of 300 total...acc=0.9950000047683716\n",
      "Currently on Epoch 171 of 300 total...acc=1.0\n"
     ]
    },
    {
     "data": {
      "image/png": "[encoded data removed]",
      "text/plain": [
       "<Figure size 432x288 with 1 Axes>"
      ]
     },
     "metadata": {
      "needs_background": "light"
     },
     "output_type": "display_data"
    },
    {
     "name": "stdout",
     "output_type": "stream",
     "text": [
      "Currently on Epoch 172 of 300 total...acc=0.9899999499320984\n",
      "Currently on Epoch 173 of 300 total...acc=0.9950000047683716\n",
      "Currently on Epoch 174 of 300 total...acc=0.9799999594688416\n",
      "Currently on Epoch 175 of 300 total...acc=0.98499995470047\n",
      "Currently on Epoch 176 of 300 total...acc=0.9899999499320984\n"
     ]
    },
    {
     "data": {
      "image/png": "[encoded data removed]",
      "text/plain": [
       "<Figure size 432x288 with 1 Axes>"
      ]
     },
     "metadata": {
      "needs_background": "light"
     },
     "output_type": "display_data"
    },
    {
     "name": "stdout",
     "output_type": "stream",
     "text": [
      "Currently on Epoch 177 of 300 total...acc=0.9899999499320984\n",
      "Currently on Epoch 178 of 300 total...acc=0.9950000047683716\n",
      "Currently on Epoch 179 of 300 total...acc=0.9950000047683716\n",
      "Currently on Epoch 180 of 300 total...acc=0.98499995470047\n",
      "Currently on Epoch 181 of 300 total...acc=0.9799999594688416\n"
     ]
    },
    {
     "data": {
      "image/png": "[encoded data removed]",
      "text/plain": [
       "<Figure size 432x288 with 1 Axes>"
      ]
     },
     "metadata": {
      "needs_background": "light"
     },
     "output_type": "display_data"
    },
    {
     "name": "stdout",
     "output_type": "stream",
     "text": [
      "Currently on Epoch 182 of 300 total...acc=0.98499995470047\n",
      "Currently on Epoch 183 of 300 total...acc=0.98499995470047\n",
      "Currently on Epoch 184 of 300 total...acc=1.0\n",
      "Currently on Epoch 185 of 300 total...acc=0.9899999499320984\n",
      "Currently on Epoch 186 of 300 total...acc=0.9899999499320984\n"
     ]
    },
    {
     "data": {
      "image/png": "[encoded data removed]",
      "text/plain": [
       "<Figure size 432x288 with 1 Axes>"
      ]
     },
     "metadata": {
      "needs_background": "light"
     },
     "output_type": "display_data"
    },
    {
     "name": "stdout",
     "output_type": "stream",
     "text": [
      "Currently on Epoch 187 of 300 total...acc=1.0\n",
      "Currently on Epoch 188 of 300 total...acc=0.98499995470047\n",
      "Currently on Epoch 189 of 300 total...acc=0.9899999499320984\n",
      "Currently on Epoch 190 of 300 total...acc=0.9950000047683716\n",
      "Currently on Epoch 191 of 300 total...acc=0.98499995470047\n"
     ]
    },
    {
     "data": {
      "image/png": "[encoded data removed]",
      "text/plain": [
       "<Figure size 432x288 with 1 Axes>"
      ]
     },
     "metadata": {
      "needs_background": "light"
     },
     "output_type": "display_data"
    },
    {
     "name": "stdout",
     "output_type": "stream",
     "text": [
      "Currently on Epoch 192 of 300 total...acc=0.98499995470047\n",
      "Currently on Epoch 193 of 300 total...acc=0.9950000047683716\n",
      "Currently on Epoch 194 of 300 total...acc=0.9950000047683716\n",
      "Currently on Epoch 195 of 300 total...acc=1.0\n",
      "Currently on Epoch 196 of 300 total...acc=0.98499995470047\n"
     ]
    },
    {
     "data": {
      "image/png": "[encoded data removed]",
      "text/plain": [
       "<Figure size 432x288 with 1 Axes>"
      ]
     },
     "metadata": {
      "needs_background": "light"
     },
     "output_type": "display_data"
    },
    {
     "name": "stdout",
     "output_type": "stream",
     "text": [
      "Currently on Epoch 197 of 300 total...acc=0.9799999594688416\n",
      "Currently on Epoch 198 of 300 total...acc=0.98499995470047\n",
      "Currently on Epoch 199 of 300 total...acc=0.9899999499320984\n",
      "Currently on Epoch 200 of 300 total...acc=0.9899999499320984\n",
      "Currently on Epoch 201 of 300 total...acc=0.9950000047683716\n"
     ]
    },
    {
     "data": {
      "image/png": "[encoded data removed]",
      "text/plain": [
       "<Figure size 432x288 with 1 Axes>"
      ]
     },
     "metadata": {
      "needs_background": "light"
     },
     "output_type": "display_data"
    },
    {
     "name": "stdout",
     "output_type": "stream",
     "text": [
      "Currently on Epoch 202 of 300 total...acc=0.9950000047683716\n",
      "Currently on Epoch 203 of 300 total...acc=0.9799999594688416\n",
      "Currently on Epoch 204 of 300 total...acc=0.9749999642372131\n",
      "Currently on Epoch 205 of 300 total...acc=0.9899999499320984\n",
      "Currently on Epoch 206 of 300 total...acc=0.9950000047683716\n"
     ]
    },
    {
     "data": {
      "image/png": "[encoded data removed]",
      "text/plain": [
       "<Figure size 432x288 with 1 Axes>"
      ]
     },
     "metadata": {
      "needs_background": "light"
     },
     "output_type": "display_data"
    },
    {
     "name": "stdout",
     "output_type": "stream",
     "text": [
      "Currently on Epoch 207 of 300 total...acc=0.98499995470047\n",
      "Currently on Epoch 208 of 300 total...acc=0.9950000047683716\n",
      "Currently on Epoch 209 of 300 total...acc=0.9899999499320984\n",
      "Currently on Epoch 210 of 300 total...acc=0.9899999499320984\n",
      "Currently on Epoch 211 of 300 total...acc=0.9899999499320984\n"
     ]
    },
    {
     "data": {
      "image/png": "[encoded data removed]",
      "text/plain": [
       "<Figure size 432x288 with 1 Axes>"
      ]
     },
     "metadata": {
      "needs_background": "light"
     },
     "output_type": "display_data"
    },
    {
     "name": "stdout",
     "output_type": "stream",
     "text": [
      "Currently on Epoch 212 of 300 total...acc=0.9899999499320984\n",
      "Currently on Epoch 213 of 300 total...acc=0.9899999499320984\n",
      "Currently on Epoch 214 of 300 total...acc=0.9950000047683716\n",
      "Currently on Epoch 215 of 300 total...acc=1.0\n",
      "Currently on Epoch 216 of 300 total...acc=0.98499995470047\n"
     ]
    },
    {
     "data": {
      "image/png": "[encoded data removed]",
      "text/plain": [
       "<Figure size 432x288 with 1 Axes>"
      ]
     },
     "metadata": {
      "needs_background": "light"
     },
     "output_type": "display_data"
    },
    {
     "name": "stdout",
     "output_type": "stream",
     "text": [
      "Currently on Epoch 217 of 300 total...acc=0.9899999499320984\n",
      "Currently on Epoch 218 of 300 total...acc=0.98499995470047\n",
      "Currently on Epoch 219 of 300 total...acc=0.9899999499320984\n",
      "Currently on Epoch 220 of 300 total...acc=0.9950000047683716\n",
      "Currently on Epoch 221 of 300 total...acc=0.9749999642372131\n"
     ]
    },
    {
     "data": {
      "image/png": "[encoded data removed]",
      "text/plain": [
       "<Figure size 432x288 with 1 Axes>"
      ]
     },
     "metadata": {
      "needs_background": "light"
     },
     "output_type": "display_data"
    },
    {
     "name": "stdout",
     "output_type": "stream",
     "text": [
      "Currently on Epoch 222 of 300 total...acc=0.9749999642372131\n",
      "Currently on Epoch 223 of 300 total...acc=0.9899999499320984\n",
      "Currently on Epoch 224 of 300 total...acc=0.9950000047683716\n",
      "Currently on Epoch 225 of 300 total...acc=0.9950000047683716\n",
      "Currently on Epoch 226 of 300 total...acc=0.9899999499320984\n"
     ]
    },
    {
     "data": {
      "image/png": "[encoded data removed]",
      "text/plain": [
       "<Figure size 432x288 with 1 Axes>"
      ]
     },
     "metadata": {
      "needs_background": "light"
     },
     "output_type": "display_data"
    },
    {
     "name": "stdout",
     "output_type": "stream",
     "text": [
      "Currently on Epoch 227 of 300 total...acc=0.9899999499320984\n",
      "Currently on Epoch 228 of 300 total...acc=0.9950000047683716\n",
      "Currently on Epoch 229 of 300 total...acc=0.9899999499320984\n",
      "Currently on Epoch 230 of 300 total...acc=0.9950000047683716\n",
      "Currently on Epoch 231 of 300 total...acc=1.0\n"
     ]
    },
    {
     "data": {
      "image/png": "[encoded data removed]",
      "text/plain": [
       "<Figure size 432x288 with 1 Axes>"
      ]
     },
     "metadata": {
      "needs_background": "light"
     },
     "output_type": "display_data"
    },
    {
     "name": "stdout",
     "output_type": "stream",
     "text": [
      "Currently on Epoch 232 of 300 total...acc=0.9950000047683716\n",
      "Currently on Epoch 233 of 300 total...acc=1.0\n",
      "Currently on Epoch 234 of 300 total...acc=0.9950000047683716\n",
      "Currently on Epoch 235 of 300 total...acc=0.9950000047683716\n",
      "Currently on Epoch 236 of 300 total...acc=0.9950000047683716\n"
     ]
    },
    {
     "data": {
      "image/png": "[encoded data removed]",
      "text/plain": [
       "<Figure size 432x288 with 1 Axes>"
      ]
     },
     "metadata": {
      "needs_background": "light"
     },
     "output_type": "display_data"
    },
    {
     "name": "stdout",
     "output_type": "stream",
     "text": [
      "Currently on Epoch 237 of 300 total...acc=0.9749999642372131\n",
      "Currently on Epoch 238 of 300 total...acc=0.9799999594688416\n",
      "Currently on Epoch 239 of 300 total...acc=0.9799999594688416\n",
      "Currently on Epoch 240 of 300 total...acc=0.9899999499320984\n",
      "Currently on Epoch 241 of 300 total...acc=0.9799999594688416\n"
     ]
    },
    {
     "data": {
      "image/png": "[encoded data removed]",
      "text/plain": [
       "<Figure size 432x288 with 1 Axes>"
      ]
     },
     "metadata": {
      "needs_background": "light"
     },
     "output_type": "display_data"
    },
    {
     "name": "stdout",
     "output_type": "stream",
     "text": [
      "Currently on Epoch 242 of 300 total...acc=0.9799999594688416\n",
      "Currently on Epoch 243 of 300 total...acc=0.9699999690055847\n",
      "Currently on Epoch 244 of 300 total...acc=0.9799999594688416\n",
      "Currently on Epoch 245 of 300 total...acc=0.9799999594688416\n",
      "Currently on Epoch 246 of 300 total...acc=0.9899999499320984\n"
     ]
    },
    {
     "data": {
      "image/png": "[encoded data removed]",
      "text/plain": [
       "<Figure size 432x288 with 1 Axes>"
      ]
     },
     "metadata": {
      "needs_background": "light"
     },
     "output_type": "display_data"
    },
    {
     "name": "stdout",
     "output_type": "stream",
     "text": [
      "Currently on Epoch 247 of 300 total...acc=0.9749999642372131\n",
      "Currently on Epoch 248 of 300 total...acc=0.9950000047683716\n",
      "Currently on Epoch 249 of 300 total...acc=0.98499995470047\n",
      "Currently on Epoch 250 of 300 total...acc=0.9699999690055847\n",
      "Currently on Epoch 251 of 300 total...acc=0.9899999499320984\n"
     ]
    },
    {
     "data": {
      "image/png": "[encoded data removed]",
      "text/plain": [
       "<Figure size 432x288 with 1 Axes>"
      ]
     },
     "metadata": {
      "needs_background": "light"
     },
     "output_type": "display_data"
    },
    {
     "name": "stdout",
     "output_type": "stream",
     "text": [
      "Currently on Epoch 252 of 300 total...acc=0.9749999642372131\n",
      "Currently on Epoch 253 of 300 total...acc=0.9649999737739563\n",
      "Currently on Epoch 254 of 300 total...acc=0.9799999594688416\n",
      "Currently on Epoch 255 of 300 total...acc=0.98499995470047\n",
      "Currently on Epoch 256 of 300 total...acc=0.9799999594688416\n"
     ]
    },
    {
     "data": {
      "image/png": "[encoded data removed]",
      "text/plain": [
       "<Figure size 432x288 with 1 Axes>"
      ]
     },
     "metadata": {
      "needs_background": "light"
     },
     "output_type": "display_data"
    },
    {
     "name": "stdout",
     "output_type": "stream",
     "text": [
      "Currently on Epoch 257 of 300 total...acc=0.9599999785423279\n",
      "Currently on Epoch 258 of 300 total...acc=0.9749999642372131\n",
      "Currently on Epoch 259 of 300 total...acc=0.9899999499320984\n",
      "Currently on Epoch 260 of 300 total...acc=0.9799999594688416\n",
      "Currently on Epoch 261 of 300 total...acc=0.9899999499320984\n"
     ]
    },
    {
     "data": {
      "image/png": "[encoded data removed]",
      "text/plain": [
       "<Figure size 432x288 with 1 Axes>"
      ]
     },
     "metadata": {
      "needs_background": "light"
     },
     "output_type": "display_data"
    },
    {
     "name": "stdout",
     "output_type": "stream",
     "text": [
      "Currently on Epoch 262 of 300 total...acc=0.9899999499320984\n",
      "Currently on Epoch 263 of 300 total...acc=1.0\n",
      "Currently on Epoch 264 of 300 total...acc=1.0\n",
      "Currently on Epoch 265 of 300 total...acc=0.9950000047683716\n",
      "Currently on Epoch 266 of 300 total...acc=0.9899999499320984\n"
     ]
    },
    {
     "data": {
      "image/png": "[encoded data removed]",
      "text/plain": [
       "<Figure size 432x288 with 1 Axes>"
      ]
     },
     "metadata": {
      "needs_background": "light"
     },
     "output_type": "display_data"
    },
    {
     "name": "stdout",
     "output_type": "stream",
     "text": [
      "Currently on Epoch 267 of 300 total...acc=1.0\n",
      "Currently on Epoch 268 of 300 total...acc=1.0\n",
      "Currently on Epoch 269 of 300 total...acc=0.9950000047683716\n",
      "Currently on Epoch 270 of 300 total...acc=0.98499995470047\n",
      "Currently on Epoch 271 of 300 total...acc=1.0\n"
     ]
    },
    {
     "data": {
      "image/png": "[encoded data removed]",
      "text/plain": [
       "<Figure size 432x288 with 1 Axes>"
      ]
     },
     "metadata": {
      "needs_background": "light"
     },
     "output_type": "display_data"
    },
    {
     "name": "stdout",
     "output_type": "stream",
     "text": [
      "Currently on Epoch 272 of 300 total...acc=0.9950000047683716\n",
      "Currently on Epoch 273 of 300 total...acc=1.0\n",
      "Currently on Epoch 274 of 300 total...acc=0.9950000047683716\n",
      "Currently on Epoch 275 of 300 total...acc=1.0\n",
      "Currently on Epoch 276 of 300 total...acc=0.9899999499320984\n"
     ]
    },
    {
     "data": {
      "image/png": "[encoded data removed]",
      "text/plain": [
       "<Figure size 432x288 with 1 Axes>"
      ]
     },
     "metadata": {
      "needs_background": "light"
     },
     "output_type": "display_data"
    },
    {
     "name": "stdout",
     "output_type": "stream",
     "text": [
      "Currently on Epoch 277 of 300 total...acc=0.9950000047683716\n",
      "Currently on Epoch 278 of 300 total...acc=0.9950000047683716\n",
      "Currently on Epoch 279 of 300 total...acc=0.9950000047683716\n",
      "Currently on Epoch 280 of 300 total...acc=1.0\n",
      "Currently on Epoch 281 of 300 total...acc=1.0\n"
     ]
    },
    {
     "data": {
      "image/png": "[encoded data removed]",
      "text/plain": [
       "<Figure size 432x288 with 1 Axes>"
      ]
     },
     "metadata": {
      "needs_background": "light"
     },
     "output_type": "display_data"
    },
    {
     "name": "stdout",
     "output_type": "stream",
     "text": [
      "Currently on Epoch 282 of 300 total...acc=0.9950000047683716\n",
      "Currently on Epoch 283 of 300 total...acc=0.9950000047683716\n",
      "Currently on Epoch 284 of 300 total...acc=1.0\n",
      "Currently on Epoch 285 of 300 total...acc=0.9950000047683716\n",
      "Currently on Epoch 286 of 300 total...acc=0.9950000047683716\n"
     ]
    },
    {
     "data": {
      "image/png": "[encoded data removed]",
      "text/plain": [
       "<Figure size 432x288 with 1 Axes>"
      ]
     },
     "metadata": {
      "needs_background": "light"
     },
     "output_type": "display_data"
    },
    {
     "name": "stdout",
     "output_type": "stream",
     "text": [
      "Currently on Epoch 287 of 300 total...acc=0.9899999499320984\n",
      "Currently on Epoch 288 of 300 total...acc=1.0\n",
      "Currently on Epoch 289 of 300 total...acc=1.0\n",
      "Currently on Epoch 290 of 300 total...acc=1.0\n",
      "Currently on Epoch 291 of 300 total...acc=0.9950000047683716\n"
     ]
    },
    {
     "data": {
      "image/png": "[encoded data removed]",
      "text/plain": [
       "<Figure size 432x288 with 1 Axes>"
      ]
     },
     "metadata": {
      "needs_background": "light"
     },
     "output_type": "display_data"
    },
    {
     "name": "stdout",
     "output_type": "stream",
     "text": [
      "Currently on Epoch 292 of 300 total...acc=1.0\n",
      "Currently on Epoch 293 of 300 total...acc=0.9950000047683716\n",
      "Currently on Epoch 294 of 300 total...acc=1.0\n",
      "Currently on Epoch 295 of 300 total...acc=1.0\n",
      "Currently on Epoch 296 of 300 total...acc=0.9899999499320984\n"
     ]
    },
    {
     "data": {
      "image/png": "[encoded data removed]",
      "text/plain": [
       "<Figure size 432x288 with 1 Axes>"
      ]
     },
     "metadata": {
      "needs_background": "light"
     },
     "output_type": "display_data"
    },
    {
     "name": "stdout",
     "output_type": "stream",
     "text": [
      "Currently on Epoch 297 of 300 total...acc=0.9899999499320984\n",
      "Currently on Epoch 298 of 300 total...acc=0.9950000047683716\n",
      "Currently on Epoch 299 of 300 total...acc=0.9950000047683716\n",
      "Currently on Epoch 300 of 300 total...acc=1.0\n"
     ]
    }
   ],
   "source": [
    "with tf.Session() as sess:\n",
    "    \n",
    "    sess.run(init)\n",
    "    \n",
    "    # Recall an epoch is an entire run through the training data\n",
    "    for e in range(epochs):\n",
    "        # // indicates classic division\n",
    "        num_batches = len(Xej) // batch_size\n",
    "        \n",
    "        for i in range(num_batches):\n",
    "            \n",
    "            # Grab batch of images\n",
    "            batch = Xej[i*batch_size:(i+1)*batch_size]#mnist.train.next_batch(batch_size)\n",
    "            \n",
    "            # Get images, reshape and rescale to pass to D\n",
    "            batch_images = batch#.reshape((batch_size, 784))\n",
    "            batch_images = batch_images*2 - 1\n",
    "            \n",
    "            # Z (random latent noise data for Generator)\n",
    "            # -1 to 1 because of tanh activation\n",
    "            batch_z = np.random.uniform(-1, 1, size=(batch_size, 100))\n",
    "            \n",
    "            # Run optimizers, no need to save outputs, we won't use them\n",
    "            _,acc = sess.run([D_trainer,d_acc],feed_dict={real_images: batch_images, z: batch_z})\n",
    "            _ = sess.run(G_trainer, feed_dict={z: batch_z})\n",
    "        \n",
    "        \n",
    "        #if e%10==0:\n",
    "        print(\"Currently on Epoch {} of {} total...acc={}\".format(e+1, epochs,acc))\n",
    "        \n",
    "        # Sample from generator as we're training for viewing afterwards\n",
    "        sample_z = np.random.uniform(-1, 1, size=(1, 100))\n",
    "        gen_sample = sess.run(generator(g_sizes,28,z,reuse=True),feed_dict={z: sample_z})\n",
    "        if e%5==0:\n",
    "            plt.imshow(gen_sample.reshape(28,28),cmap='Greys')\n",
    "            plt.show()\n",
    "        samples.append(gen_sample)\n",
    "        \n",
    "#        saver.save(sess, './models/500_epoch_model.ckpt')"
   ]
  },
  {
   "cell_type": "code",
   "execution_count": null,
   "metadata": {},
   "outputs": [],
   "source": [
    "for j in range(50):\n",
    "    if j%30==0:\n",
    "        plt.imshow(samples[j].reshape(28,28),cmap='Greys')\n",
    "        plt.show()"
   ]
  },
  {
   "cell_type": "code",
   "execution_count": null,
   "metadata": {},
   "outputs": [],
   "source": [
    "7*7*128"
   ]
  },
  {
   "cell_type": "code",
   "execution_count": null,
   "metadata": {},
   "outputs": [],
   "source": []
  }
 ],
 "metadata": {
  "kernelspec": {
   "display_name": "Python 3.7 (tf23)",
   "language": "python",
   "name": "tf23"
  },
  "language_info": {
   "codemirror_mode": {
    "name": "ipython",
    "version": 3
   },
   "file_extension": ".py",
   "mimetype": "text/x-python",
   "name": "python",
   "nbconvert_exporter": "python",
   "pygments_lexer": "ipython3",
   "version": "3.7.7"
  },
  "toc": {
   "base_numbering": 1,
   "nav_menu": {},
   "number_sections": true,
   "sideBar": true,
   "skip_h1_title": false,
   "title_cell": "Table of Contents",
   "title_sidebar": "Contents",
   "toc_cell": false,
   "toc_position": {},
   "toc_section_display": true,
   "toc_window_display": true
  }
 },
 "nbformat": 4,
 "nbformat_minor": 4
}
