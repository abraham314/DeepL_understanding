{
 "cells": [
  {
   "cell_type": "code",
   "execution_count": 22,
   "metadata": {},
   "outputs": [],
   "source": [
    "import numpy as np\n",
    "import tensorflow.compat.v1 as tf\n",
    "from tensorflow.compat.v1 import keras\n",
    "from tensorflow.compat.v1.keras import layers\n",
    "import numpy as np\n",
    "import matplotlib.pyplot as plt\n",
    "import tensorflow_probability as tfp\n",
    "tfd=tfp.distributions\n",
    "from tensorflow.keras.datasets import mnist\n",
    "from sklearn.utils import shuffle\n",
    "tf.compat.v1.disable_eager_execution()\n",
    "physical_devices = tf.config.list_physical_devices('GPU') \n",
    "tf.config.experimental.set_memory_growth(physical_devices[0], True)"
   ]
  },
  {
   "cell_type": "markdown",
   "metadata": {},
   "source": [
    "# Class Dense"
   ]
  },
  {
   "cell_type": "code",
   "execution_count": 2,
   "metadata": {},
   "outputs": [],
   "source": [
    "class Denseab(object):\n",
    "    def __init__(self,name,M1,M2,apply_batch_norm,f=tf.nn.relu):\n",
    "        \n",
    "        self.W=tf.get_variable(\"W%s\" %name,shape=(M1,M2),initializer=tf.random_normal_initializer(stddev=2/np.sqrt(M1)),dtype=tf.float32)\n",
    "        #tf.Variable(tf.random_normal((M1,M2))*2/np.sqrt(M1))\n",
    "        self.b=tf.get_variable(\"b%s\" %name,shape=(M2,),initializer=tf.zeros_initializer(),dtype=tf.float32)\n",
    "        #tf.Variable(tf.zeros(M2),dtype=tf.float32)\n",
    "        self.f=f\n",
    "        self.bm=apply_batch_norm\n",
    "    \n",
    "    def forward(self,X):\n",
    "            \n",
    "        sal=tf.matmul(X,self.W)+self.b\n",
    "    \n",
    "        if self.bm:\n",
    "            sal=tf.layers.batch_normalization(sal)\n",
    "            #tf.keras.layers.BatchNormalization(trainable=True)(sal)\n",
    "            \n",
    "        return(self.f(sal))  "
   ]
  },
  {
   "cell_type": "code",
   "execution_count": 2,
   "metadata": {},
   "outputs": [],
   "source": [
    "class Denseab(object):\n",
    "    def __init__(self,M1,M2,apply_batch_norm,f=tf.nn.relu):\n",
    "        \n",
    "        self.W=tf.Variable(tf.random_normal((M1,M2))*2/np.sqrt(M1))\n",
    "        self.b=tf.Variable(tf.zeros(M2),dtype=tf.float32)\n",
    "        self.f=f\n",
    "        self.bm=apply_batch_norm\n",
    "    \n",
    "    def forward(self,X):\n",
    "            \n",
    "        sal=tf.matmul(X,self.W)+self.b\n",
    "    \n",
    "        if self.bm:\n",
    "            sal=tf.keras.layers.BatchNormalization()(sal)\n",
    "            \n",
    "        return(self.f(sal))    "
   ]
  },
  {
   "cell_type": "code",
   "execution_count": 17,
   "metadata": {},
   "outputs": [],
   "source": [
    "X=np.random.normal(size=(5,4)).astype(np.float32)\n",
    "ej=Denseab(\"pera\",X.shape[1],20,True).forward(X)"
   ]
  },
  {
   "cell_type": "code",
   "execution_count": 4,
   "metadata": {},
   "outputs": [
    {
     "name": "stdout",
     "output_type": "stream",
     "text": [
      "WARNING:tensorflow:From C:\\Users\\Abraham\\AppData\\Roaming\\Python\\Python37\\site-packages\\tensorflow\\python\\util\\tf_should_use.py:235: initialize_all_variables (from tensorflow.python.ops.variables) is deprecated and will be removed after 2017-03-02.\n",
      "Instructions for updating:\n",
      "Use `tf.global_variables_initializer` instead.\n",
      "[[0.         0.62833357 0.         0.         0.         0.\n",
      "  0.10282835 0.         0.         0.         0.         1.7837385\n",
      "  2.2137847  0.         0.         0.28557265 0.         0.\n",
      "  0.9183229  0.        ]\n",
      " [1.5675393  0.         0.         2.9898515  0.77080286 1.2043337\n",
      "  0.06190677 1.8101764  0.93976384 0.         0.         0.\n",
      "  0.         0.         0.8705033  0.         0.         2.8809638\n",
      "  0.         0.6723528 ]\n",
      " [1.7995238  0.         0.         2.3907702  0.         2.0369208\n",
      "  0.35715067 0.98024017 0.8761933  0.80832595 0.         0.\n",
      "  0.         0.         0.6615578  0.         0.         3.089934\n",
      "  0.         1.5807939 ]\n",
      " [1.2151855  0.         0.9932383  2.4377491  0.38565493 0.9221437\n",
      "  0.         2.5674784  1.2628558  0.         0.2693361  0.\n",
      "  0.24194731 0.         0.7566757  0.         0.19779542 2.6105025\n",
      "  0.1534216  0.7394802 ]\n",
      " [0.18913983 0.34064054 0.         0.39045274 0.45105523 0.21352935\n",
      "  0.13142033 0.         0.         0.30877274 0.         0.\n",
      "  0.         0.         0.08127431 0.4619128  0.         0.0145055\n",
      "  0.         0.        ]]\n"
     ]
    }
   ],
   "source": [
    "init=tf.initialize_all_variables()\n",
    "with tf.Session() as sess:\n",
    "    sess.run(init)\n",
    "    print(sess.run(ej))"
   ]
  },
  {
   "cell_type": "markdown",
   "metadata": {},
   "source": [
    "# class ConvLayer"
   ]
  },
  {
   "cell_type": "code",
   "execution_count": 3,
   "metadata": {},
   "outputs": [],
   "source": [
    "class ConvLayer:\n",
    "    def __init__(self,name,tam,filtros,tam_filtros,stride,pad,apply_batch_norm,f=tf.nn.relu):\n",
    "        \"\"\"\n",
    "        Input:\n",
    "              tam.-int número de canales o colores en imágenes ex: RGB son 3\n",
    "              filtros.- int número de filtros a usar\n",
    "              tam_filtros.- int tamaño de los filtros si tam=n fitro es de n x n\n",
    "              stride.- int número de strides para recorrer\n",
    "              pad.-string padding\n",
    "              apply_bm...- bool si se usa batch normalization\n",
    "              f.-object función de activación\n",
    "              \n",
    "          Out:\n",
    "              self.W.- array de tam_fitros x tam_filtros  x tam x filtros son los pesos de los filtros definidos\n",
    "              self.b.- array de biases de dimensión filtros so los biases que se usan\n",
    "        \n",
    "        \"\"\"\n",
    "        self.W=tf.get_variable(\"W%s\" %name,shape=(tam_filtros,tam_filtros,tam,filtros),initializer=tf.random_normal_initializer(stddev=(2/np.sqrt(filtros))),dtype=tf.float32)\n",
    "        #tf.Variable(tf.random_normal((tam_filtros,tam_filtros,tam,filtros))*2/np.sqrt(filtros))\n",
    "        self.b=tf.get_variable(\"b%s\" %name,shape=(filtros,),initializer=tf.zeros_initializer(),dtype=tf.float32)\n",
    "        #tf.Variable((tf.zeros(filtros)),dtype=tf.float32)\n",
    "\n",
    "        self.filtros=filtros\n",
    "        self.tam_filtros=tam_filtros\n",
    "        self.stride=stride\n",
    "        self.pad=pad\n",
    "        self.f=f\n",
    "        self.bm=apply_batch_norm\n",
    "            \n",
    "    def forward(self,X):\n",
    "        \"\"\"\n",
    "        Input:\n",
    "              X.-array input \n",
    "          Out:\n",
    "              self.f(sal)- array de f(filtros) convolucionados con X\n",
    "        \n",
    "        \"\"\"        \n",
    "        sal=tf.nn.conv2d(X,filter=self.W,strides=self.stride,padding=self.pad)\n",
    "        sal=sal+self.b\n",
    "        if self.bm:\n",
    "            return(self.f(tf.layers.batch_normalization(sal)))\n",
    "        else:\n",
    "            return(self.f(sal))\n",
    "    "
   ]
  },
  {
   "cell_type": "code",
   "execution_count": 3,
   "metadata": {},
   "outputs": [],
   "source": [
    "class ConvLayer:\n",
    "    def __init__(self,tam,filtros,tam_filtros,stride,pad,apply_batch_norm,f=tf.nn.relu):\n",
    "        \"\"\"\n",
    "        Input:\n",
    "              tam.-int número de canales o colores en imágenes ex: RGB son 3\n",
    "              filtros.- int número de filtros a usar\n",
    "              tam_filtros.- int tamaño de los filtros si tam=n fitro es de n x n\n",
    "              stride.- int número de strides para recorrer\n",
    "              pad.-string padding\n",
    "              apply_bm...- bool si se usa batch normalization\n",
    "              f.-object función de activación\n",
    "              \n",
    "          Out:\n",
    "              self.W.- array de tam_fitros x tam_filtros  x tam x filtros son los pesos de los filtros definidos\n",
    "              self.b.- array de biases de dimensión filtros so los biases que se usan\n",
    "        \n",
    "        \"\"\"\n",
    "        self.W=tf.Variable(tf.random_normal((tam_filtros,tam_filtros,tam,filtros))*2/np.sqrt(filtros))\n",
    "        self.b=tf.Variable((tf.zeros(filtros)),dtype=tf.float32)\n",
    "\n",
    "        self.filtros=filtros\n",
    "        self.tam_filtros=tam_filtros\n",
    "        self.stride=stride\n",
    "        self.pad=pad\n",
    "        self.f=f\n",
    "        self.bm=apply_batch_norm\n",
    "            \n",
    "    def forward(self,X):\n",
    "        \"\"\"\n",
    "        Input:\n",
    "              X.-array input \n",
    "          Out:\n",
    "              self.f(sal)- array de f(filtros) convolucionados con X\n",
    "        \n",
    "        \"\"\"        \n",
    "        sal=tf.nn.conv2d(X,filter=self.W,strides=self.stride,padding=self.pad)\n",
    "        sal=sal+self.b\n",
    "        if self.bm:\n",
    "            return(self.f(tf.keras.layers.BatchNormalization()(sal)))\n",
    "        else:\n",
    "            return(self.f(sal))\n",
    "        "
   ]
  },
  {
   "cell_type": "code",
   "execution_count": 6,
   "metadata": {},
   "outputs": [
    {
     "data": {
      "text/plain": [
       "<tf.Tensor 'Relu_1:0' shape=(1, 3, 3, 32) dtype=float32>"
      ]
     },
     "execution_count": 6,
     "metadata": {},
     "output_type": "execute_result"
    }
   ],
   "source": [
    "XX=np.random.normal(size=(2,5,5)).reshape(1,5,5,2).astype(np.float32)/255.\n",
    "em=ConvLayer(2,32,3,1,\"VALID\",True).forward(XX)\n",
    "em"
   ]
  },
  {
   "cell_type": "code",
   "execution_count": 7,
   "metadata": {
    "scrolled": true
   },
   "outputs": [],
   "source": [
    "#tf.nn.conv2d(XX,filters=5,strides=5,padding=\"SAME\")"
   ]
  },
  {
   "cell_type": "code",
   "execution_count": 8,
   "metadata": {},
   "outputs": [],
   "source": [
    "init=tf.initialize_all_variables()\n",
    "with tf.Session() as sess:\n",
    "    sess.run(init)\n",
    "    au=sess.run(em)"
   ]
  },
  {
   "cell_type": "markdown",
   "metadata": {},
   "source": [
    "# Class Conv2transpose"
   ]
  },
  {
   "cell_type": "code",
   "execution_count": 4,
   "metadata": {},
   "outputs": [],
   "source": [
    "class ConvLayerTranspose:\n",
    "    def __init__(self,name,out_shape,tam,filtros,tam_filtros,stride,pad,apply_batch_norm,f=tf.nn.relu):\n",
    "        \"\"\"\n",
    "        Input:\n",
    "              out_shape.-array tamaño deseado de salida normalmente es (None,2*H,2*W,filtros/2)\n",
    "              tam.-int número de canales o colores en imágenes ex: RGB son 3\n",
    "              filtros.- int número de filtros a usar\n",
    "              tam_filtros.- int tamaño de los filtros si tam=n fitro es de n x n\n",
    "              stride.- int número de strides para recorrer\n",
    "              pad.-string padding\n",
    "              apply_bm...- bool si se usa batch normalization\n",
    "              f.-object función de activación\n",
    "              \n",
    "          Out:\n",
    "              self.W.- array de tam_fitros x tam_filtros  x filtros x tam (al revés que conv) son los pesos de los filtros definidos\n",
    "              self.b.- array de biases de dimensión filtros so los biases que se usan\n",
    "        \n",
    "        \"\"\"\n",
    "        self.W=tf.get_variable(\"W%s\" %name,shape=(tam_filtros,tam_filtros,filtros,tam),initializer=tf.random_normal_initializer(stddev=(2/np.sqrt(filtros))),dtype=tf.float32)\n",
    "        #tf.Variable(tf.random_normal((tam_filtros,tam_filtros,filtros,tam))*2/np.sqrt(filtros))\n",
    "        self.b=tf.get_variable(\"b%s\" %name,shape=(filtros,),initializer=tf.zeros_initializer(),dtype=tf.float32)\n",
    "        #tf.Variable((tf.zeros(filtros)),dtype=tf.float32)\n",
    "\n",
    "        self.out_shape=out_shape\n",
    "        self.filtros=filtros\n",
    "        self.tam_filtros=tam_filtros\n",
    "        self.stride=stride\n",
    "        self.pad=pad\n",
    "        self.f=f\n",
    "        self.bm=apply_batch_norm\n",
    "            \n",
    "    def forward(self,X):\n",
    "        \"\"\"\n",
    "        Input:\n",
    "              X.-array input \n",
    "          Out:\n",
    "              self.f(sal)- array de f(filtros) convolucionados con X\n",
    "        \n",
    "        \"\"\"        \n",
    "        sal=tf.nn.conv2d_transpose(value=X,filter=self.W,output_shape=self.out_shape,strides=self.stride,padding=self.pad)\n",
    "        \n",
    "        sal=sal+self.b\n",
    "        #print(self.f(tf.keras.layers.BatchNormalization()(sal)))\n",
    "        if self.bm:\n",
    "            return(self.f(tf.layers.batch_normalization(sal)))\n",
    "        else:\n",
    "            return(self.f(sal))"
   ]
  },
  {
   "cell_type": "code",
   "execution_count": 4,
   "metadata": {},
   "outputs": [],
   "source": [
    "class ConvLayerTranspose:\n",
    "    def __init__(self,out_shape,tam,filtros,tam_filtros,stride,pad,apply_batch_norm,f=tf.nn.relu):\n",
    "        \"\"\"\n",
    "        Input:\n",
    "              out_shape.-array tamaño deseado de salida normalmente es (None,2*H,2*W,filtros/2)\n",
    "              tam.-int número de canales o colores en imágenes ex: RGB son 3\n",
    "              filtros.- int número de filtros a usar\n",
    "              tam_filtros.- int tamaño de los filtros si tam=n fitro es de n x n\n",
    "              stride.- int número de strides para recorrer\n",
    "              pad.-string padding\n",
    "              apply_bm...- bool si se usa batch normalization\n",
    "              f.-object función de activación\n",
    "              \n",
    "          Out:\n",
    "              self.W.- array de tam_fitros x tam_filtros  x filtros x tam (al revés que conv) son los pesos de los filtros definidos\n",
    "              self.b.- array de biases de dimensión filtros so los biases que se usan\n",
    "        \n",
    "        \"\"\"\n",
    "        self.W=tf.Variable(tf.random_normal((tam_filtros,tam_filtros,filtros,tam))*2/np.sqrt(filtros))\n",
    "        self.b=tf.Variable((tf.zeros(filtros)),dtype=tf.float32)\n",
    "\n",
    "        self.out_shape=out_shape\n",
    "        self.filtros=filtros\n",
    "        self.tam_filtros=tam_filtros\n",
    "        self.stride=stride\n",
    "        self.pad=pad\n",
    "        self.f=f\n",
    "        self.bm=apply_batch_norm\n",
    "            \n",
    "    def forward(self,X):\n",
    "        \"\"\"\n",
    "        Input:\n",
    "              X.-array input \n",
    "          Out:\n",
    "              self.f(sal)- array de f(filtros) convolucionados con X\n",
    "        \n",
    "        \"\"\"        \n",
    "        sal=tf.nn.conv2d_transpose(value=X,filter=self.W,output_shape=self.out_shape,strides=self.stride,padding=self.pad)\n",
    "        \n",
    "        sal=sal+self.b\n",
    "        #print(self.f(tf.keras.layers.BatchNormalization()(sal)))\n",
    "        if self.bm:\n",
    "            return(self.f(tf.keras.layers.BatchNormalization()(sal)))\n",
    "        else:\n",
    "            return(self.f(sal))\n",
    "        "
   ]
  },
  {
   "cell_type": "code",
   "execution_count": 10,
   "metadata": {},
   "outputs": [
    {
     "data": {
      "text/plain": [
       "(1, 3, 3, 32)"
      ]
     },
     "execution_count": 10,
     "metadata": {},
     "output_type": "execute_result"
    }
   ],
   "source": [
    "au.shape"
   ]
  },
  {
   "cell_type": "code",
   "execution_count": 11,
   "metadata": {},
   "outputs": [
    {
     "data": {
      "text/plain": [
       "<tf.Tensor 'Relu_2:0' shape=(1, 6, 6, 16) dtype=float32>"
      ]
     },
     "execution_count": 11,
     "metadata": {},
     "output_type": "execute_result"
    }
   ],
   "source": [
    "salo=[1,6,6,16]\n",
    "#Recordar que tam=32 en eestea caso los canales o colores\n",
    "arg=ConvLayerTranspose(salo,tam=32,filtros=16,tam_filtros=6,stride=2,pad=\"SAME\",apply_batch_norm=True)\n",
    "emarg=arg.forward(au)\n",
    "emarg"
   ]
  },
  {
   "cell_type": "code",
   "execution_count": 12,
   "metadata": {},
   "outputs": [],
   "source": [
    "initx=tf.initialize_all_variables()\n",
    "with tf.Session() as ses:\n",
    "    ses.run(initx)\n",
    "    aurt=ses.run(emarg)"
   ]
  },
  {
   "cell_type": "code",
   "execution_count": 13,
   "metadata": {},
   "outputs": [
    {
     "data": {
      "text/plain": [
       "((1, 3, 3, 32), (1, 6, 6, 16))"
      ]
     },
     "execution_count": 13,
     "metadata": {},
     "output_type": "execute_result"
    }
   ],
   "source": [
    "au.shape,aurt.shape"
   ]
  },
  {
   "cell_type": "markdown",
   "metadata": {},
   "source": [
    "# Probando las clases..."
   ]
  },
  {
   "cell_type": "code",
   "execution_count": 5,
   "metadata": {},
   "outputs": [],
   "source": [
    "from tensorflow.keras.datasets import mnist\n",
    "from tensorflow.keras.layers import Input\n",
    "X,Y=np.concatenate([mnist.load_data()[0][0],mnist.load_data()[1][0]]),np.concatenate([mnist.load_data()[0][1],mnist.load_data()[1][1]])\n",
    "X=X.astype(\"float32\")/255.0"
   ]
  },
  {
   "cell_type": "code",
   "execution_count": 6,
   "metadata": {},
   "outputs": [
    {
     "data": {
      "text/plain": [
       "(70000, 28, 28, 1)"
      ]
     },
     "execution_count": 6,
     "metadata": {},
     "output_type": "execute_result"
    }
   ],
   "source": [
    "Xej=X.reshape(X.shape[0],X.shape[1],X.shape[2],1)\n",
    "Xej.shape"
   ]
  },
  {
   "cell_type": "code",
   "execution_count": 16,
   "metadata": {},
   "outputs": [
    {
     "data": {
      "text/plain": [
       "TensorShape([70000, 14, 14, 2])"
      ]
     },
     "execution_count": 16,
     "metadata": {},
     "output_type": "execute_result"
    }
   ],
   "source": [
    "x=ConvLayer(1,2,3,stride=2,pad=\"SAME\",apply_batch_norm=True).forward(Xej)\n",
    "x.shape"
   ]
  },
  {
   "cell_type": "code",
   "execution_count": 17,
   "metadata": {},
   "outputs": [
    {
     "data": {
      "text/plain": [
       "TensorShape([70000, 28, 28, 1])"
      ]
     },
     "execution_count": 17,
     "metadata": {},
     "output_type": "execute_result"
    }
   ],
   "source": [
    "exsal=[70000,28,28,1]\n",
    "\n",
    "x1=ConvLayerTranspose(exsal,tam=2,filtros=1,tam_filtros=3,stride=2,pad=\"SAME\",apply_batch_norm=True).forward(x)\n",
    "#x1=ConvLayerTranspose(exsal,tam=32,filtros=16,tam_filtros=3,stride=2,pad=\"SAME\",apply_batch_norm=True).forward(x)\n",
    "x1.shape"
   ]
  },
  {
   "cell_type": "code",
   "execution_count": 18,
   "metadata": {},
   "outputs": [
    {
     "data": {
      "text/plain": [
       "array([7.00e+04, 1.12e+02, 1.12e+02, 2.50e-01])"
      ]
     },
     "execution_count": 18,
     "metadata": {},
     "output_type": "execute_result"
    }
   ],
   "source": [
    "np.array(exsal)*np.array([1,2,2,0.5])*np.array([1,2,2,0.5])"
   ]
  },
  {
   "cell_type": "code",
   "execution_count": 19,
   "metadata": {},
   "outputs": [
    {
     "name": "stdout",
     "output_type": "stream",
     "text": [
      "WARNING:tensorflow:From <ipython-input-19-c3ee863a9c4a>:1: flatten (from tensorflow.python.layers.core) is deprecated and will be removed in a future version.\n",
      "Instructions for updating:\n",
      "Use keras.layers.Flatten instead.\n",
      "WARNING:tensorflow:From C:\\Users\\Abraham\\AppData\\Roaming\\Python\\Python37\\site-packages\\tensorflow\\python\\layers\\core.py:332: Layer.apply (from tensorflow.python.keras.engine.base_layer_v1) is deprecated and will be removed in a future version.\n",
      "Instructions for updating:\n",
      "Please use `layer.__call__` method instead.\n",
      "shape x2: (70000, 784)\n"
     ]
    },
    {
     "data": {
      "text/plain": [
       "TensorShape([70000, 200])"
      ]
     },
     "execution_count": 19,
     "metadata": {},
     "output_type": "execute_result"
    }
   ],
   "source": [
    "x2=tf.layers.flatten(x1)\n",
    "print(\"shape x2:\",x2.shape)\n",
    "x2=Denseab(x2.shape[1],200,apply_batch_norm=True).forward(x2)\n",
    "x2.shape"
   ]
  },
  {
   "cell_type": "markdown",
   "metadata": {},
   "source": [
    "## Discriminador"
   ]
  },
  {
   "cell_type": "code",
   "execution_count": 20,
   "metadata": {},
   "outputs": [
    {
     "data": {
      "text/plain": [
       "TensorShape([70000, 10])"
      ]
     },
     "execution_count": 20,
     "metadata": {},
     "output_type": "execute_result"
    }
   ],
   "source": [
    "w=ConvLayer(tam=Xej.shape[3],filtros=10,tam_filtros=3,stride=2,pad=\"SAME\",apply_batch_norm=True).forward(Xej)\n",
    "w=ConvLayer(tam=w.shape[3],filtros=2,tam_filtros=2,stride=2,pad=\"SAME\",apply_batch_norm=True).forward(w)\n",
    "w=tf.layers.flatten(w)\n",
    "w=Denseab(M1=w.shape[1],M2=200,apply_batch_norm=True).forward(w)\n",
    "w=Denseab(M1=w.shape[1],M2=10,apply_batch_norm=True,f=tf.nn.softmax).forward(w)\n",
    "w.shape"
   ]
  },
  {
   "cell_type": "code",
   "execution_count": null,
   "metadata": {},
   "outputs": [],
   "source": []
  },
  {
   "cell_type": "markdown",
   "metadata": {},
   "source": [
    "## Función Discriminador con diccionarios{}"
   ]
  },
  {
   "cell_type": "code",
   "execution_count": 7,
   "metadata": {},
   "outputs": [],
   "source": [
    "class Discrim:\n",
    "    def __init__(self,d_sizes):\n",
    "        self.dsizes=d_sizes\n",
    "        \n",
    "    def forward(self,X):\n",
    "        conv_lay=[]\n",
    "        inp=X.shape[-1]\n",
    "        cont=0\n",
    "        for f,tfilt,st,bm in self.dsizes['conv_layers']:\n",
    "            name=\"conv_lay_%s\"%cont\n",
    "            cont+=1\n",
    "            conv_lay.append(ConvLayer(name=name,tam=inp,filtros=f,tam_filtros=tfilt,stride=st,pad=\"SAME\",apply_batch_norm=bm))\n",
    "            inp=f\n",
    "        \n",
    "        ent=X\n",
    "        for clayer in conv_lay:\n",
    "            ent=clayer.forward(ent)\n",
    "        \n",
    "        #print(\"---\",tf.layers.flatten(ent))\n",
    "        \n",
    "        sal=tf.layers.flatten(ent)\n",
    "        dense_lay=[]\n",
    "        salinp=sal.shape[-1]\n",
    "        for n,bm in self.dsizes[\"dense_layers\"]:\n",
    "            namex=\"dense_%s\"%cont\n",
    "            cont+=1\n",
    "            dense_lay.append(Denseab(namex,salinp,n,bm))\n",
    "            salinp=n\n",
    "            \n",
    "        namex=\"dense_%s\"%cont\n",
    "        dense_lay.append(Denseab(namex,salinp,1,apply_batch_norm=False,f=lambda x:x))\n",
    "        \n",
    "        for layer in dense_lay:\n",
    "            sal=layer.forward(sal)\n",
    "        \n",
    "        return(sal)\n",
    "                  "
   ]
  },
  {
   "cell_type": "code",
   "execution_count": 7,
   "metadata": {},
   "outputs": [],
   "source": [
    "class Discrim:\n",
    "    def __init__(self,d_sizes):\n",
    "        self.dsizes=d_sizes\n",
    "        \n",
    "    def forward(self,X):\n",
    "        conv_lay=[]\n",
    "        inp=X.shape[-1]\n",
    "        for f,tfilt,st,bm in self.dsizes['conv_layers']:\n",
    "            conv_lay.append(ConvLayer(tam=inp,filtros=f,tam_filtros=tfilt,stride=st,pad=\"SAME\",apply_batch_norm=bm))\n",
    "            inp=f\n",
    "        \n",
    "        ent=X\n",
    "        for clayer in conv_lay:\n",
    "            ent=clayer.forward(ent)\n",
    "        \n",
    "        #print(\"---\",tf.layers.flatten(ent))\n",
    "        \n",
    "        sal=tf.layers.flatten(ent)\n",
    "        dense_lay=[]\n",
    "        salinp=sal.shape[-1]\n",
    "        for n,bm in self.dsizes[\"dense_layers\"]:\n",
    "            dense_lay.append(Denseab(salinp,n,bm))\n",
    "            salinp=n\n",
    "        \n",
    "        dense_lay.append(Denseab(salinp,1,apply_batch_norm=False,f=lambda x:x))\n",
    "        \n",
    "        for layer in dense_lay:\n",
    "            sal=layer.forward(sal)\n",
    "        \n",
    "        return(sal)\n",
    "            "
   ]
  },
  {
   "cell_type": "code",
   "execution_count": 7,
   "metadata": {},
   "outputs": [],
   "source": [
    "d_sizes = {\n",
    "    'conv_layers': [(2, 5, 2, False), (64, 5, 2, True)],\n",
    "    'dense_layers': [(1024, True)],\n",
    "  }"
   ]
  },
  {
   "cell_type": "code",
   "execution_count": 9,
   "metadata": {},
   "outputs": [
    {
     "name": "stdout",
     "output_type": "stream",
     "text": [
      "WARNING:tensorflow:From C:\\Users\\Abraham\\AppData\\Roaming\\Python\\Python37\\site-packages\\tensorflow\\python\\ops\\resource_variable_ops.py:1666: calling BaseResourceVariable.__init__ (from tensorflow.python.ops.resource_variable_ops) with constraint is deprecated and will be removed in a future version.\n",
      "Instructions for updating:\n",
      "If using Keras pass *_constraint arguments to layers.\n",
      "WARNING:tensorflow:From <ipython-input-7-c826cbe032d7>:20: flatten (from tensorflow.python.layers.core) is deprecated and will be removed in a future version.\n",
      "Instructions for updating:\n",
      "Use keras.layers.Flatten instead.\n",
      "WARNING:tensorflow:From C:\\Users\\Abraham\\AppData\\Roaming\\Python\\Python37\\site-packages\\tensorflow\\python\\layers\\core.py:332: Layer.apply (from tensorflow.python.keras.engine.base_layer_v1) is deprecated and will be removed in a future version.\n",
      "Instructions for updating:\n",
      "Please use `layer.__call__` method instead.\n"
     ]
    },
    {
     "data": {
      "text/plain": [
       "<tf.Tensor 'discrim/add_3:0' shape=(20, 1) dtype=float32>"
      ]
     },
     "execution_count": 9,
     "metadata": {},
     "output_type": "execute_result"
    }
   ],
   "source": [
    "ob=Discrim(d_sizes)\n",
    "sal=ob.forward(Xej[:20])\n",
    "sal"
   ]
  },
  {
   "cell_type": "code",
   "execution_count": 24,
   "metadata": {},
   "outputs": [
    {
     "name": "stdout",
     "output_type": "stream",
     "text": [
      "Wall time: 1.87 s\n"
     ]
    }
   ],
   "source": [
    "%%time\n",
    "ini=tf.initialize_all_variables()\n",
    "with tf.Session() as sses:\n",
    "    sses.run(ini)\n",
    "    ejem=sses.run(tf.nn.sigmoid(sal))\n"
   ]
  },
  {
   "cell_type": "code",
   "execution_count": null,
   "metadata": {},
   "outputs": [],
   "source": []
  },
  {
   "cell_type": "code",
   "execution_count": null,
   "metadata": {},
   "outputs": [],
   "source": []
  },
  {
   "cell_type": "code",
   "execution_count": 25,
   "metadata": {},
   "outputs": [
    {
     "data": {
      "text/plain": [
       "[(2, 5, 2, False), (64, 5, 2, True)]"
      ]
     },
     "execution_count": 25,
     "metadata": {},
     "output_type": "execute_result"
    }
   ],
   "source": [
    "d_sizes['conv_layers']"
   ]
  },
  {
   "cell_type": "code",
   "execution_count": 26,
   "metadata": {},
   "outputs": [
    {
     "data": {
      "text/plain": [
       "TensorShape([70000, 7, 7, 64])"
      ]
     },
     "execution_count": 26,
     "metadata": {},
     "output_type": "execute_result"
    }
   ],
   "source": [
    "w=ConvLayer(tam=Xej.shape[3],filtros=2,tam_filtros=5,stride=2,pad=\"SAME\",apply_batch_norm=False).forward(Xej)\n",
    "w=ConvLayer(tam=w.shape[3],filtros=64,tam_filtros=5,stride=2,pad=\"SAME\",apply_batch_norm=True).forward(w)\n",
    "w.shape"
   ]
  },
  {
   "cell_type": "code",
   "execution_count": 27,
   "metadata": {},
   "outputs": [
    {
     "data": {
      "text/plain": [
       "1"
      ]
     },
     "execution_count": 27,
     "metadata": {},
     "output_type": "execute_result"
    }
   ],
   "source": [
    "Xej.shape[-1]"
   ]
  },
  {
   "cell_type": "code",
   "execution_count": 28,
   "metadata": {},
   "outputs": [
    {
     "data": {
      "text/plain": [
       "3136"
      ]
     },
     "execution_count": 28,
     "metadata": {},
     "output_type": "execute_result"
    }
   ],
   "source": [
    "tf.layers.flatten(w).shape[-1]"
   ]
  },
  {
   "cell_type": "code",
   "execution_count": 29,
   "metadata": {},
   "outputs": [
    {
     "data": {
      "text/plain": [
       "8.0"
      ]
     },
     "execution_count": 29,
     "metadata": {},
     "output_type": "execute_result"
    }
   ],
   "source": [
    "#tf.layers.batch_normalization()\n",
    "1024/128"
   ]
  },
  {
   "cell_type": "markdown",
   "metadata": {},
   "source": [
    "## Generador"
   ]
  },
  {
   "cell_type": "code",
   "execution_count": 30,
   "metadata": {},
   "outputs": [
    {
     "data": {
      "text/plain": [
       "TensorShape([1, 28, 28, 1])"
      ]
     },
     "execution_count": 30,
     "metadata": {},
     "output_type": "execute_result"
    }
   ],
   "source": [
    "vw=np.random.normal(size=(5,100)).astype(\"float32\")#tf.random_normal(shape=(5,100))\n",
    "vw=Denseab(vw.shape[1],1024,apply_batch_norm=True).forward(vw)\n",
    "vw=Denseab(vw.shape[1],128*7*7,apply_batch_norm=False).forward(vw)\n",
    "vw=tf.reshape(vw,shape=(-1,7,7,128))\n",
    "vw=ConvLayerTranspose(out_shape=[1,14,14,128],tam=128,filtros=128,tam_filtros=5,stride=2,pad=\"SAME\",apply_batch_norm=True).forward(vw)\n",
    "vw=ConvLayerTranspose(out_shape=[1,28,28,1],tam=128,filtros=1,tam_filtros=5,stride=2,pad=\"SAME\",apply_batch_norm=True).forward(vw)\n",
    "vw.shape"
   ]
  },
  {
   "cell_type": "markdown",
   "metadata": {},
   "source": [
    "## Función Generador con diccionarios{}"
   ]
  },
  {
   "cell_type": "code",
   "execution_count": 8,
   "metadata": {},
   "outputs": [],
   "source": [
    "g_sizes = {\n",
    "    'z': 100,\n",
    "    'projection': 784,#128,\n",
    "    'bn_after_project': False,\n",
    "    'conv_layers': [(128, 5, 2, True), (1, 5, 2, False)],\n",
    "    'dense_layers': [(784, True)],\n",
    "    'output_activation': tf.tanh,\n",
    "  }\n"
   ]
  },
  {
   "cell_type": "code",
   "execution_count": 32,
   "metadata": {},
   "outputs": [
    {
     "data": {
      "text/plain": [
       "6"
      ]
     },
     "execution_count": 32,
     "metadata": {},
     "output_type": "execute_result"
    }
   ],
   "source": [
    "len(g_sizes)"
   ]
  },
  {
   "cell_type": "code",
   "execution_count": 33,
   "metadata": {},
   "outputs": [
    {
     "name": "stdout",
     "output_type": "stream",
     "text": [
      "14\n",
      "7\n"
     ]
    }
   ],
   "source": [
    "#tf.random_normal(shape=(1,100))\n",
    "#g_sizes[\"conv_layers\"][1][2]\n",
    "aux=28\n",
    "for j in range(len(g_sizes[\"conv_layers\"])):\n",
    "    aux//=g_sizes[\"conv_layers\"][j][2]\n",
    "    print(aux)"
   ]
  },
  {
   "cell_type": "code",
   "execution_count": 10,
   "metadata": {},
   "outputs": [],
   "source": [
    "class Gener:\n",
    "    def __init__(self,g_sizes,img_size):\n",
    "        self.dims=[img_size]\n",
    "        self.gsizes=g_sizes\n",
    "        #self.z=Z#tf.random_normal(shape=(1,self.gsizes[\"z\"]))\n",
    "        \n",
    "        aux=img_size\n",
    "        for j in range(len(self.gsizes[\"conv_layers\"])):\n",
    "            aux//=self.gsizes[\"conv_layers\"][j][2]\n",
    "            self.dims.append(aux)\n",
    "            \n",
    "    def forward(self,Z):\n",
    "        \n",
    "        ent=Z#self.z\n",
    "        dense_lay=[]\n",
    "        salcont=ent.shape[0]\n",
    "        salinp=ent.shape[-1]\n",
    "        #print(\"salinp:\",ent.shape)\n",
    "        cont=0\n",
    "        for n,bm in self.gsizes[\"dense_layers\"]:\n",
    "            name=\"dense_gen_%s\"%cont\n",
    "            cont+=1\n",
    "            dense_lay.append(Denseab(name,salinp,n,bm))\n",
    "            salinp=n\n",
    "        name=\"dense_gen_%s\"%cont\n",
    "        dense_lay.append(Denseab(name,salinp,self.gsizes[\"projection\"]*self.dims[-1]*self.dims[-1],apply_batch_norm=self.gsizes[\"bn_after_project\"]))\n",
    "        \n",
    "        for layer in dense_lay:\n",
    "            ent=layer.forward(ent)\n",
    "            \n",
    "\n",
    "            \n",
    "        ent_res=tf.reshape(ent,shape=(salcont,self.dims[-1],self.dims[-1],self.gsizes[\"projection\"]))\n",
    "        print(\"ent_res\",ent_res.shape)\n",
    "        conv_lay=[]\n",
    "        inp=ent_res.shape[-1]\n",
    "        i=-1\n",
    "        #outshape=[1,self.dims[i],self.dims[i],inp]\n",
    "        \n",
    "        for f,tfilt,st,bm in self.gsizes['conv_layers']:\n",
    "            namex=\"convt_gen_%s\"%cont\n",
    "            cont+=1\n",
    "            outshape=(salcont,self.dims[i-1],self.dims[i-1],f)\n",
    "            conv_lay.append(ConvLayerTranspose(name=namex,out_shape=outshape,tam=inp,filtros=f,tam_filtros=tfilt,stride=st,pad=\"SAME\",apply_batch_norm=bm))\n",
    "            inp=f\n",
    "            i-=1\n",
    "            print(i,outshape,f)\n",
    "            \n",
    "        \n",
    "        #ent=X\n",
    "        for clayer in conv_lay:\n",
    "            \n",
    "            ent_res=clayer.forward(ent_res)\n",
    "            print(ent_res.shape)\n",
    "\n",
    "        \n",
    "        return(self.gsizes['output_activation'](ent_res))"
   ]
  },
  {
   "cell_type": "code",
   "execution_count": 10,
   "metadata": {},
   "outputs": [],
   "source": [
    "class Gener:\n",
    "    def __init__(self,g_sizes,img_size):\n",
    "        self.dims=[img_size]\n",
    "        self.gsizes=g_sizes\n",
    "        #self.z=Z#tf.random_normal(shape=(1,self.gsizes[\"z\"]))\n",
    "        \n",
    "        aux=img_size\n",
    "        for j in range(len(self.gsizes[\"conv_layers\"])):\n",
    "            aux//=self.gsizes[\"conv_layers\"][j][2]\n",
    "            self.dims.append(aux)\n",
    "            \n",
    "    def forward(self,Z):\n",
    "        \n",
    "        ent=Z#self.z\n",
    "        dense_lay=[]\n",
    "        salcont=ent.shape[0]\n",
    "        salinp=ent.shape[-1]\n",
    "        #print(\"salinp:\",ent.shape)\n",
    "        cont=0\n",
    "        for n,bm in self.gsizes[\"dense_layers\"]:\n",
    "            name=\n",
    "            dense_lay.append(Denseab(salinp,n,bm))\n",
    "            salinp=n\n",
    "        \n",
    "        dense_lay.append(Denseab(salinp,self.gsizes[\"projection\"]*self.dims[-1]*self.dims[-1],apply_batch_norm=self.gsizes[\"bn_after_project\"]))\n",
    "        \n",
    "        for layer in dense_lay:\n",
    "            ent=layer.forward(ent)\n",
    "            \n",
    "\n",
    "            \n",
    "        ent_res=tf.reshape(ent,shape=(salcont,self.dims[-1],self.dims[-1],self.gsizes[\"projection\"]))\n",
    "        print(\"ent_res\",ent_res.shape)\n",
    "        conv_lay=[]\n",
    "        inp=ent_res.shape[-1]\n",
    "        i=-1\n",
    "        #outshape=[1,self.dims[i],self.dims[i],inp]\n",
    "        for f,tfilt,st,bm in self.gsizes['conv_layers']:\n",
    "            outshape=(salcont,self.dims[i-1],self.dims[i-1],f)\n",
    "            conv_lay.append(ConvLayerTranspose(out_shape=outshape,tam=inp,filtros=f,tam_filtros=tfilt,stride=st,pad=\"SAME\",apply_batch_norm=bm))\n",
    "            inp=f\n",
    "            i-=1\n",
    "            print(i,outshape,f)\n",
    "            \n",
    "        \n",
    "        #ent=X\n",
    "        for clayer in conv_lay:\n",
    "            \n",
    "            ent_res=clayer.forward(ent_res)\n",
    "            print(ent_res.shape)\n",
    "\n",
    "        \n",
    "        return(self.gsizes['output_activation'](ent_res))\n",
    "            "
   ]
  },
  {
   "cell_type": "code",
   "execution_count": 11,
   "metadata": {},
   "outputs": [],
   "source": [
    "zz=np.random.normal(size=(5,100)).astype(\"float32\")\n"
   ]
  },
  {
   "cell_type": "code",
   "execution_count": 36,
   "metadata": {},
   "outputs": [],
   "source": [
    "genim=Gener(g_sizes,img_size=28)"
   ]
  },
  {
   "cell_type": "code",
   "execution_count": 37,
   "metadata": {},
   "outputs": [
    {
     "name": "stdout",
     "output_type": "stream",
     "text": [
      "ent_res (5, 7, 7, 128)\n",
      "-2 (5, 14, 14, 128) 128\n",
      "-3 (5, 28, 28, 1) 1\n",
      "(5, 14, 14, 128)\n",
      "(5, 28, 28, 1)\n"
     ]
    },
    {
     "data": {
      "text/plain": [
       "<tf.Tensor 'Sigmoid_1:0' shape=(5, 28, 28, 1) dtype=float32>"
      ]
     },
     "execution_count": 37,
     "metadata": {},
     "output_type": "execute_result"
    }
   ],
   "source": [
    "salida=genim.forward(zz)\n",
    "salida"
   ]
  },
  {
   "cell_type": "code",
   "execution_count": 38,
   "metadata": {},
   "outputs": [],
   "source": [
    "#tf.reset_default_graph\n",
    "ni2=tf.initialize_all_variables()\n",
    "with tf.Session() as ess:\n",
    "    ess.run(ni2)\n",
    "    fimg=ess.run(salida)"
   ]
  },
  {
   "cell_type": "code",
   "execution_count": 39,
   "metadata": {},
   "outputs": [
    {
     "data": {
      "text/plain": [
       "<matplotlib.image.AxesImage at 0x26453580c48>"
      ]
     },
     "execution_count": 39,
     "metadata": {},
     "output_type": "execute_result"
    },
    {
     "data": {
      "image/png": "[encoded data removed]",
      "text/plain": [
       "<Figure size 432x288 with 1 Axes>"
      ]
     },
     "metadata": {
      "needs_background": "light"
     },
     "output_type": "display_data"
    }
   ],
   "source": [
    "plt.imshow(fimg[0].reshape(28,28),cmap=\"gray\")"
   ]
  },
  {
   "cell_type": "code",
   "execution_count": 40,
   "metadata": {},
   "outputs": [
    {
     "data": {
      "text/plain": [
       "(5, 28, 28, 1)"
      ]
     },
     "execution_count": 40,
     "metadata": {},
     "output_type": "execute_result"
    }
   ],
   "source": [
    "fimg.shape"
   ]
  },
  {
   "cell_type": "code",
   "execution_count": 41,
   "metadata": {},
   "outputs": [],
   "source": [
    "#niti2=tf.all_variables()\n",
    "#with tf.Session() as ss:\n",
    "    #ss.run(niti2)\n",
    "    #ss.run(salgen)"
   ]
  },
  {
   "cell_type": "markdown",
   "metadata": {},
   "source": [
    "## pasando imagen fake"
   ]
  },
  {
   "cell_type": "code",
   "execution_count": 42,
   "metadata": {},
   "outputs": [
    {
     "data": {
      "text/plain": [
       "(5, 28, 28, 1)"
      ]
     },
     "execution_count": 42,
     "metadata": {},
     "output_type": "execute_result"
    }
   ],
   "source": [
    "fimg.shape"
   ]
  },
  {
   "cell_type": "code",
   "execution_count": 43,
   "metadata": {},
   "outputs": [
    {
     "name": "stdout",
     "output_type": "stream",
     "text": [
      "[[0.99934846]\n",
      " [0.99962485]\n",
      " [0.9823155 ]\n",
      " [0.9431972 ]\n",
      " [0.9909485 ]]\n"
     ]
    }
   ],
   "source": [
    "res=Discrim(d_sizes).forward(fimg)\n",
    "niti3=tf.initialize_all_variables()\n",
    "with tf.Session() as sse:\n",
    "    sse.run(niti3)\n",
    "    print(sse.run(tf.nn.sigmoid(res)))"
   ]
  },
  {
   "cell_type": "markdown",
   "metadata": {},
   "source": [
    "## Funciones"
   ]
  },
  {
   "cell_type": "code",
   "execution_count": 62,
   "metadata": {},
   "outputs": [],
   "source": [
    "def discriminador(X,reuse=None):\n",
    "    with tf.variable_scope('dix',reuse=reuse):\n",
    "        obj=Discrim(d_size).forward(X)\n",
    "        return(obj)"
   ]
  },
  {
   "cell_type": "markdown",
   "metadata": {},
   "source": [
    "## optimizando"
   ]
  },
  {
   "cell_type": "code",
   "execution_count": 13,
   "metadata": {},
   "outputs": [],
   "source": [
    "bch=64"
   ]
  },
  {
   "cell_type": "code",
   "execution_count": 12,
   "metadata": {},
   "outputs": [],
   "source": [
    "img_size=28\n",
    "num_channels=1\n",
    "g_size=g_sizes\n",
    "d_size=d_sizes\n",
    "X=tf.placeholder(dtype=tf.float32,shape=(None,img_size,img_size,num_channels),name=\"X\")\n",
    "Z=tf.placeholder(dtype=tf.float32,shape=(bch,g_size[\"z\"]),name=\"Z\")\n",
    "obj=Discrim(d_size)\n",
    "#logits=obj.forward(X)\n",
    "#sample_img=Gener(g_size,img_size).forward(Z)\n",
    "#sample_logits=discriminador(sample_img,reuse=True)#Discrim(d_size).forward(sample_img,reuse=False)\n",
    "#sample_img_test=Gener(g_size,img_size).forward(Z)"
   ]
  },
  {
   "cell_type": "code",
   "execution_count": 15,
   "metadata": {},
   "outputs": [
    {
     "name": "stdout",
     "output_type": "stream",
     "text": [
      "ent_res (64, 7, 7, 128)\n",
      "-2 (64, 14, 14, 128) 128\n",
      "-3 (64, 28, 28, 1) 1\n",
      "(64, 14, 14, 128)\n",
      "(64, 28, 28, 1)\n"
     ]
    }
   ],
   "source": [
    "with tf.variable_scope(\"gener\",reuse=tf.AUTO_REUSE):\n",
    "    sample_img=Gener(g_size,img_size).forward(Z)\n",
    "\n",
    "with tf.variable_scope(\"discrim\",reuse=tf.AUTO_REUSE):\n",
    "    logits=obj.forward(X)\n"
   ]
  },
  {
   "cell_type": "code",
   "execution_count": 18,
   "metadata": {},
   "outputs": [
    {
     "data": {
      "text/plain": [
       "[<tf.Variable 'gener/Wdense_gen_0:0' shape=(100, 1024) dtype=float32>,\n",
       " <tf.Variable 'gener/bdense_gen_0:0' shape=(1024,) dtype=float32>,\n",
       " <tf.Variable 'gener/Wdense_gen_1:0' shape=(1024, 6272) dtype=float32>,\n",
       " <tf.Variable 'gener/bdense_gen_1:0' shape=(6272,) dtype=float32>,\n",
       " <tf.Variable 'gener/batch_normalization/gamma:0' shape=(1024,) dtype=float32>,\n",
       " <tf.Variable 'gener/batch_normalization/beta:0' shape=(1024,) dtype=float32>,\n",
       " <tf.Variable 'gener/Wconvt_gen_1:0' shape=(5, 5, 128, 128) dtype=float32>,\n",
       " <tf.Variable 'gener/bconvt_gen_1:0' shape=(128,) dtype=float32>,\n",
       " <tf.Variable 'gener/Wconvt_gen_2:0' shape=(5, 5, 1, 128) dtype=float32>,\n",
       " <tf.Variable 'gener/bconvt_gen_2:0' shape=(1,) dtype=float32>,\n",
       " <tf.Variable 'gener/batch_normalization_1/gamma:0' shape=(128,) dtype=float32>,\n",
       " <tf.Variable 'gener/batch_normalization_1/beta:0' shape=(128,) dtype=float32>,\n",
       " <tf.Variable 'discrim/Wconv_lay_0:0' shape=(5, 5, 1, 2) dtype=float32>,\n",
       " <tf.Variable 'discrim/bconv_lay_0:0' shape=(2,) dtype=float32>,\n",
       " <tf.Variable 'discrim/Wconv_lay_1:0' shape=(5, 5, 2, 64) dtype=float32>,\n",
       " <tf.Variable 'discrim/bconv_lay_1:0' shape=(64,) dtype=float32>,\n",
       " <tf.Variable 'discrim/batch_normalization/gamma:0' shape=(64,) dtype=float32>,\n",
       " <tf.Variable 'discrim/batch_normalization/beta:0' shape=(64,) dtype=float32>,\n",
       " <tf.Variable 'discrim/Wdense_2:0' shape=(3136, 1024) dtype=float32>,\n",
       " <tf.Variable 'discrim/bdense_2:0' shape=(1024,) dtype=float32>,\n",
       " <tf.Variable 'discrim/Wdense_3:0' shape=(1024, 1) dtype=float32>,\n",
       " <tf.Variable 'discrim/bdense_3:0' shape=(1,) dtype=float32>,\n",
       " <tf.Variable 'discrim/batch_normalization_1/gamma:0' shape=(1024,) dtype=float32>,\n",
       " <tf.Variable 'discrim/batch_normalization_1/beta:0' shape=(1024,) dtype=float32>]"
      ]
     },
     "execution_count": 18,
     "metadata": {},
     "output_type": "execute_result"
    }
   ],
   "source": [
    "#sample_logits=obj.forward(sample_img,reuse=True)\n",
    "tf.trainable_variables()"
   ]
  },
  {
   "cell_type": "code",
   "execution_count": 14,
   "metadata": {},
   "outputs": [],
   "source": [
    "#sesion.run(tf.nn.sigmoid(logits),feed_dict={X:Xej[:20]})\n",
    "#sesion.run(sample_img,feed_dict={Z:zz})\n",
    "#si=sesion.run(sample_img,feed_dict={Z:zz})\n",
    "#Xej.shape"
   ]
  },
  {
   "cell_type": "code",
   "execution_count": 17,
   "metadata": {},
   "outputs": [],
   "source": [
    "with tf.variable_scope(\"discrim\") as scope:\n",
    "    scope.reuse_variables()\n",
    "    sample_logits=obj.forward(sample_img)\n",
    "\n",
    "#with tf.variable_scope(\"gener\") as scope:\n",
    "#    scope.reuse_variables()\n",
    "#    sample_img_test=Gener(g_size,img_size).forward(Z)    \n",
    "    "
   ]
  },
  {
   "cell_type": "code",
   "execution_count": 53,
   "metadata": {},
   "outputs": [],
   "source": [
    "#sesion.run(sample_img,feed_dict={Z:zz})"
   ]
  },
  {
   "cell_type": "code",
   "execution_count": 19,
   "metadata": {},
   "outputs": [],
   "source": [
    "d_costo_real=tf.nn.sigmoid_cross_entropy_with_logits(logits=logits,labels=tf.ones_like(logits))\n",
    "d_costo_fake=tf.nn.sigmoid_cross_entropy_with_logits(logits=sample_logits,labels=tf.zeros_like(sample_logits))\n",
    "#sesion.run(d_costo_fake,feed_dict={Z:zz})"
   ]
  },
  {
   "cell_type": "code",
   "execution_count": 20,
   "metadata": {},
   "outputs": [],
   "source": [
    "d_costo=tf.reduce_mean(d_costo_real)+tf.reduce_mean(d_costo_fake)\n",
    "g_costo=tf.reduce_mean(tf.nn.sigmoid_cross_entropy_with_logits(logits=sample_logits,labels=tf.ones_like(sample_logits)))\n",
    "#sesion.run(d_costo,feed_dict={X:Xej[:20],Z:zz})\n",
    "#sesion.run(g_costo,feed_dict={Z:zz})"
   ]
  },
  {
   "cell_type": "code",
   "execution_count": 31,
   "metadata": {},
   "outputs": [
    {
     "name": "stdout",
     "output_type": "stream",
     "text": [
      "24\n"
     ]
    }
   ],
   "source": [
    "print(len(tf.trainable_variables()))\n",
    "#tf.trainable_variables()\n",
    "#tw"
   ]
  },
  {
   "cell_type": "code",
   "execution_count": 22,
   "metadata": {},
   "outputs": [],
   "source": [
    "real_predictions = tf.cast(logits > 0, tf.float32)\n",
    "fake_predictions = tf.cast(sample_logits < 0, tf.float32)\n",
    "num_predictions = 2.0*bch\n",
    "num_correct = tf.reduce_sum(real_predictions) + tf.reduce_sum(fake_predictions)\n",
    "d_acc = num_correct / num_predictions"
   ]
  },
  {
   "cell_type": "code",
   "execution_count": 23,
   "metadata": {},
   "outputs": [],
   "source": [
    "#gs=tf.trainable_variables()[12:24]\n",
    "#ds=tf.trainable_variables()[:12]+tf.trainable_variables()[24:]\n",
    "d_params = [t for t in tf.trainable_variables() if t.name.startswith('d')]\n",
    "g_params = [t for t in tf.trainable_variables() if t.name.startswith('g')]\n",
    "#print(len(gs),len(ds))\n",
    "d_train_opt=tf.train.AdamOptimizer(0.0002,beta1=.5).minimize(d_costo,var_list=d_params)\n",
    "g_train_opt=tf.train.AdamOptimizer(0.0002,beta1=.5).minimize(g_costo,var_list=g_params)"
   ]
  },
  {
   "cell_type": "code",
   "execution_count": 24,
   "metadata": {},
   "outputs": [],
   "source": [
    "inses=tf.global_variables_initializer()\n",
    "sesion=tf.InteractiveSession()\n",
    "sesion.run(inses)"
   ]
  },
  {
   "cell_type": "code",
   "execution_count": 25,
   "metadata": {},
   "outputs": [],
   "source": [
    "#sesion.run(d_costo,feed_dict={X:Xej[:5],Z:zz})\n",
    "#sesion.run((d_train_opt,d_costo),feed_dict={X:Xej[:5],Z:zz})\n",
    "#sesion.run(g_train_opt,feed_dict={Z:zz})"
   ]
  },
  {
   "cell_type": "code",
   "execution_count": 32,
   "metadata": {},
   "outputs": [
    {
     "name": "stdout",
     "output_type": "stream",
     "text": [
      "epoch 0 0\n"
     ]
    },
    {
     "data": {
      "image/png": "[encoded data removed]",
      "text/plain": [
       "<Figure size 432x288 with 1 Axes>"
      ]
     },
     "metadata": {
      "needs_background": "light"
     },
     "output_type": "display_data"
    },
    {
     "name": "stdout",
     "output_type": "stream",
     "text": [
      "epoch 1 1.0\n"
     ]
    },
    {
     "data": {
      "image/png": "[encoded data removed]",
      "text/plain": [
       "<Figure size 432x288 with 1 Axes>"
      ]
     },
     "metadata": {
      "needs_background": "light"
     },
     "output_type": "display_data"
    },
    {
     "name": "stdout",
     "output_type": "stream",
     "text": [
      "epoch 2 1.0\n"
     ]
    },
    {
     "data": {
      "image/png": "[encoded data removed]",
      "text/plain": [
       "<Figure size 432x288 with 1 Axes>"
      ]
     },
     "metadata": {
      "needs_background": "light"
     },
     "output_type": "display_data"
    },
    {
     "name": "stdout",
     "output_type": "stream",
     "text": [
      "epoch 3 1.0\n"
     ]
    },
    {
     "data": {
      "image/png": "[encoded data removed]",
      "text/plain": [
       "<Figure size 432x288 with 1 Axes>"
      ]
     },
     "metadata": {
      "needs_background": "light"
     },
     "output_type": "display_data"
    },
    {
     "name": "stdout",
     "output_type": "stream",
     "text": [
      "epoch 4 1.0\n"
     ]
    },
    {
     "data": {
      "image/png": "[encoded data removed]",
      "text/plain": [
       "<Figure size 432x288 with 1 Axes>"
      ]
     },
     "metadata": {
      "needs_background": "light"
     },
     "output_type": "display_data"
    },
    {
     "name": "stdout",
     "output_type": "stream",
     "text": [
      "epoch 5 1.0\n"
     ]
    },
    {
     "data": {
      "image/png": "[encoded data removed]",
      "text/plain": [
       "<Figure size 432x288 with 1 Axes>"
      ]
     },
     "metadata": {
      "needs_background": "light"
     },
     "output_type": "display_data"
    },
    {
     "name": "stdout",
     "output_type": "stream",
     "text": [
      "epoch 6 1.0\n"
     ]
    },
    {
     "data": {
      "image/png": "[encoded data removed]",
      "text/plain": [
       "<Figure size 432x288 with 1 Axes>"
      ]
     },
     "metadata": {
      "needs_background": "light"
     },
     "output_type": "display_data"
    },
    {
     "name": "stdout",
     "output_type": "stream",
     "text": [
      "epoch 7 1.0\n"
     ]
    },
    {
     "data": {
      "image/png": "[encoded data removed]",
      "text/plain": [
       "<Figure size 432x288 with 1 Axes>"
      ]
     },
     "metadata": {
      "needs_background": "light"
     },
     "output_type": "display_data"
    },
    {
     "name": "stdout",
     "output_type": "stream",
     "text": [
      "epoch 8 1.0\n"
     ]
    },
    {
     "ename": "KeyboardInterrupt",
     "evalue": "",
     "output_type": "error",
     "traceback": [
      "\u001b[1;31m---------------------------------------------------------------------------\u001b[0m",
      "\u001b[1;31mKeyboardInterrupt\u001b[0m                         Traceback (most recent call last)",
      "\u001b[1;32m<ipython-input-32-bcef95ece8c3>\u001b[0m in \u001b[0;36m<module>\u001b[1;34m\u001b[0m\n\u001b[0;32m     14\u001b[0m         \u001b[0mz\u001b[0m\u001b[1;33m=\u001b[0m\u001b[0mnp\u001b[0m\u001b[1;33m.\u001b[0m\u001b[0mrandom\u001b[0m\u001b[1;33m.\u001b[0m\u001b[0muniform\u001b[0m\u001b[1;33m(\u001b[0m\u001b[1;33m-\u001b[0m\u001b[1;36m1\u001b[0m\u001b[1;33m,\u001b[0m \u001b[1;36m1\u001b[0m\u001b[1;33m,\u001b[0m \u001b[0msize\u001b[0m\u001b[1;33m=\u001b[0m\u001b[1;33m(\u001b[0m\u001b[0mbch\u001b[0m\u001b[1;33m,\u001b[0m \u001b[1;36m100\u001b[0m\u001b[1;33m)\u001b[0m\u001b[1;33m)\u001b[0m\u001b[1;31m#np.random.normal(size=(bch,g_size[\"z\"]))\u001b[0m\u001b[1;33m\u001b[0m\u001b[1;33m\u001b[0m\u001b[0m\n\u001b[0;32m     15\u001b[0m         \u001b[1;31m#print(j)\u001b[0m\u001b[1;33m\u001b[0m\u001b[1;33m\u001b[0m\u001b[1;33m\u001b[0m\u001b[0m\n\u001b[1;32m---> 16\u001b[1;33m         \u001b[0m_\u001b[0m\u001b[1;33m,\u001b[0m\u001b[0md_costox\u001b[0m\u001b[1;33m,\u001b[0m\u001b[0md_accx\u001b[0m\u001b[1;33m,\u001b[0m\u001b[0mlogs\u001b[0m\u001b[1;33m=\u001b[0m\u001b[0msesion\u001b[0m\u001b[1;33m.\u001b[0m\u001b[0mrun\u001b[0m\u001b[1;33m(\u001b[0m\u001b[1;33m[\u001b[0m\u001b[0md_train_opt\u001b[0m\u001b[1;33m,\u001b[0m\u001b[0md_costo\u001b[0m\u001b[1;33m,\u001b[0m\u001b[0md_acc\u001b[0m\u001b[1;33m,\u001b[0m\u001b[0mtf\u001b[0m\u001b[1;33m.\u001b[0m\u001b[0mnn\u001b[0m\u001b[1;33m.\u001b[0m\u001b[0msigmoid\u001b[0m\u001b[1;33m(\u001b[0m\u001b[0mlogits\u001b[0m\u001b[1;33m)\u001b[0m\u001b[1;33m]\u001b[0m\u001b[1;33m,\u001b[0m\u001b[0mfeed_dict\u001b[0m\u001b[1;33m=\u001b[0m\u001b[1;33m{\u001b[0m\u001b[0mX\u001b[0m\u001b[1;33m:\u001b[0m\u001b[0mbach\u001b[0m\u001b[1;33m,\u001b[0m\u001b[0mZ\u001b[0m\u001b[1;33m:\u001b[0m\u001b[0mz\u001b[0m\u001b[1;33m}\u001b[0m\u001b[1;33m)\u001b[0m\u001b[1;33m\u001b[0m\u001b[1;33m\u001b[0m\u001b[0m\n\u001b[0m\u001b[0;32m     17\u001b[0m \u001b[1;33m\u001b[0m\u001b[0m\n\u001b[0;32m     18\u001b[0m         \u001b[0md_costos\u001b[0m\u001b[1;33m.\u001b[0m\u001b[0mappend\u001b[0m\u001b[1;33m(\u001b[0m\u001b[0md_costox\u001b[0m\u001b[1;33m)\u001b[0m\u001b[1;33m\u001b[0m\u001b[1;33m\u001b[0m\u001b[0m\n",
      "\u001b[1;32m~\\AppData\\Roaming\\Python\\Python37\\site-packages\\tensorflow\\python\\client\\session.py\u001b[0m in \u001b[0;36mrun\u001b[1;34m(self, fetches, feed_dict, options, run_metadata)\u001b[0m\n\u001b[0;32m    956\u001b[0m     \u001b[1;32mtry\u001b[0m\u001b[1;33m:\u001b[0m\u001b[1;33m\u001b[0m\u001b[1;33m\u001b[0m\u001b[0m\n\u001b[0;32m    957\u001b[0m       result = self._run(None, fetches, feed_dict, options_ptr,\n\u001b[1;32m--> 958\u001b[1;33m                          run_metadata_ptr)\n\u001b[0m\u001b[0;32m    959\u001b[0m       \u001b[1;32mif\u001b[0m \u001b[0mrun_metadata\u001b[0m\u001b[1;33m:\u001b[0m\u001b[1;33m\u001b[0m\u001b[1;33m\u001b[0m\u001b[0m\n\u001b[0;32m    960\u001b[0m         \u001b[0mproto_data\u001b[0m \u001b[1;33m=\u001b[0m \u001b[0mtf_session\u001b[0m\u001b[1;33m.\u001b[0m\u001b[0mTF_GetBuffer\u001b[0m\u001b[1;33m(\u001b[0m\u001b[0mrun_metadata_ptr\u001b[0m\u001b[1;33m)\u001b[0m\u001b[1;33m\u001b[0m\u001b[1;33m\u001b[0m\u001b[0m\n",
      "\u001b[1;32m~\\AppData\\Roaming\\Python\\Python37\\site-packages\\tensorflow\\python\\client\\session.py\u001b[0m in \u001b[0;36m_run\u001b[1;34m(self, handle, fetches, feed_dict, options, run_metadata)\u001b[0m\n\u001b[0;32m   1179\u001b[0m     \u001b[1;32mif\u001b[0m \u001b[0mfinal_fetches\u001b[0m \u001b[1;32mor\u001b[0m \u001b[0mfinal_targets\u001b[0m \u001b[1;32mor\u001b[0m \u001b[1;33m(\u001b[0m\u001b[0mhandle\u001b[0m \u001b[1;32mand\u001b[0m \u001b[0mfeed_dict_tensor\u001b[0m\u001b[1;33m)\u001b[0m\u001b[1;33m:\u001b[0m\u001b[1;33m\u001b[0m\u001b[1;33m\u001b[0m\u001b[0m\n\u001b[0;32m   1180\u001b[0m       results = self._do_run(handle, final_targets, final_fetches,\n\u001b[1;32m-> 1181\u001b[1;33m                              feed_dict_tensor, options, run_metadata)\n\u001b[0m\u001b[0;32m   1182\u001b[0m     \u001b[1;32melse\u001b[0m\u001b[1;33m:\u001b[0m\u001b[1;33m\u001b[0m\u001b[1;33m\u001b[0m\u001b[0m\n\u001b[0;32m   1183\u001b[0m       \u001b[0mresults\u001b[0m \u001b[1;33m=\u001b[0m \u001b[1;33m[\u001b[0m\u001b[1;33m]\u001b[0m\u001b[1;33m\u001b[0m\u001b[1;33m\u001b[0m\u001b[0m\n",
      "\u001b[1;32m~\\AppData\\Roaming\\Python\\Python37\\site-packages\\tensorflow\\python\\client\\session.py\u001b[0m in \u001b[0;36m_do_run\u001b[1;34m(self, handle, target_list, fetch_list, feed_dict, options, run_metadata)\u001b[0m\n\u001b[0;32m   1357\u001b[0m     \u001b[1;32mif\u001b[0m \u001b[0mhandle\u001b[0m \u001b[1;32mis\u001b[0m \u001b[1;32mNone\u001b[0m\u001b[1;33m:\u001b[0m\u001b[1;33m\u001b[0m\u001b[1;33m\u001b[0m\u001b[0m\n\u001b[0;32m   1358\u001b[0m       return self._do_call(_run_fn, feeds, fetches, targets, options,\n\u001b[1;32m-> 1359\u001b[1;33m                            run_metadata)\n\u001b[0m\u001b[0;32m   1360\u001b[0m     \u001b[1;32melse\u001b[0m\u001b[1;33m:\u001b[0m\u001b[1;33m\u001b[0m\u001b[1;33m\u001b[0m\u001b[0m\n\u001b[0;32m   1361\u001b[0m       \u001b[1;32mreturn\u001b[0m \u001b[0mself\u001b[0m\u001b[1;33m.\u001b[0m\u001b[0m_do_call\u001b[0m\u001b[1;33m(\u001b[0m\u001b[0m_prun_fn\u001b[0m\u001b[1;33m,\u001b[0m \u001b[0mhandle\u001b[0m\u001b[1;33m,\u001b[0m \u001b[0mfeeds\u001b[0m\u001b[1;33m,\u001b[0m \u001b[0mfetches\u001b[0m\u001b[1;33m)\u001b[0m\u001b[1;33m\u001b[0m\u001b[1;33m\u001b[0m\u001b[0m\n",
      "\u001b[1;32m~\\AppData\\Roaming\\Python\\Python37\\site-packages\\tensorflow\\python\\client\\session.py\u001b[0m in \u001b[0;36m_do_call\u001b[1;34m(self, fn, *args)\u001b[0m\n\u001b[0;32m   1363\u001b[0m   \u001b[1;32mdef\u001b[0m \u001b[0m_do_call\u001b[0m\u001b[1;33m(\u001b[0m\u001b[0mself\u001b[0m\u001b[1;33m,\u001b[0m \u001b[0mfn\u001b[0m\u001b[1;33m,\u001b[0m \u001b[1;33m*\u001b[0m\u001b[0margs\u001b[0m\u001b[1;33m)\u001b[0m\u001b[1;33m:\u001b[0m\u001b[1;33m\u001b[0m\u001b[1;33m\u001b[0m\u001b[0m\n\u001b[0;32m   1364\u001b[0m     \u001b[1;32mtry\u001b[0m\u001b[1;33m:\u001b[0m\u001b[1;33m\u001b[0m\u001b[1;33m\u001b[0m\u001b[0m\n\u001b[1;32m-> 1365\u001b[1;33m       \u001b[1;32mreturn\u001b[0m \u001b[0mfn\u001b[0m\u001b[1;33m(\u001b[0m\u001b[1;33m*\u001b[0m\u001b[0margs\u001b[0m\u001b[1;33m)\u001b[0m\u001b[1;33m\u001b[0m\u001b[1;33m\u001b[0m\u001b[0m\n\u001b[0m\u001b[0;32m   1366\u001b[0m     \u001b[1;32mexcept\u001b[0m \u001b[0merrors\u001b[0m\u001b[1;33m.\u001b[0m\u001b[0mOpError\u001b[0m \u001b[1;32mas\u001b[0m \u001b[0me\u001b[0m\u001b[1;33m:\u001b[0m\u001b[1;33m\u001b[0m\u001b[1;33m\u001b[0m\u001b[0m\n\u001b[0;32m   1367\u001b[0m       \u001b[0mmessage\u001b[0m \u001b[1;33m=\u001b[0m \u001b[0mcompat\u001b[0m\u001b[1;33m.\u001b[0m\u001b[0mas_text\u001b[0m\u001b[1;33m(\u001b[0m\u001b[0me\u001b[0m\u001b[1;33m.\u001b[0m\u001b[0mmessage\u001b[0m\u001b[1;33m)\u001b[0m\u001b[1;33m\u001b[0m\u001b[1;33m\u001b[0m\u001b[0m\n",
      "\u001b[1;32m~\\AppData\\Roaming\\Python\\Python37\\site-packages\\tensorflow\\python\\client\\session.py\u001b[0m in \u001b[0;36m_run_fn\u001b[1;34m(feed_dict, fetch_list, target_list, options, run_metadata)\u001b[0m\n\u001b[0;32m   1348\u001b[0m       \u001b[0mself\u001b[0m\u001b[1;33m.\u001b[0m\u001b[0m_extend_graph\u001b[0m\u001b[1;33m(\u001b[0m\u001b[1;33m)\u001b[0m\u001b[1;33m\u001b[0m\u001b[1;33m\u001b[0m\u001b[0m\n\u001b[0;32m   1349\u001b[0m       return self._call_tf_sessionrun(options, feed_dict, fetch_list,\n\u001b[1;32m-> 1350\u001b[1;33m                                       target_list, run_metadata)\n\u001b[0m\u001b[0;32m   1351\u001b[0m \u001b[1;33m\u001b[0m\u001b[0m\n\u001b[0;32m   1352\u001b[0m     \u001b[1;32mdef\u001b[0m \u001b[0m_prun_fn\u001b[0m\u001b[1;33m(\u001b[0m\u001b[0mhandle\u001b[0m\u001b[1;33m,\u001b[0m \u001b[0mfeed_dict\u001b[0m\u001b[1;33m,\u001b[0m \u001b[0mfetch_list\u001b[0m\u001b[1;33m)\u001b[0m\u001b[1;33m:\u001b[0m\u001b[1;33m\u001b[0m\u001b[1;33m\u001b[0m\u001b[0m\n",
      "\u001b[1;32m~\\AppData\\Roaming\\Python\\Python37\\site-packages\\tensorflow\\python\\client\\session.py\u001b[0m in \u001b[0;36m_call_tf_sessionrun\u001b[1;34m(self, options, feed_dict, fetch_list, target_list, run_metadata)\u001b[0m\n\u001b[0;32m   1441\u001b[0m     return tf_session.TF_SessionRun_wrapper(self._session, options, feed_dict,\n\u001b[0;32m   1442\u001b[0m                                             \u001b[0mfetch_list\u001b[0m\u001b[1;33m,\u001b[0m \u001b[0mtarget_list\u001b[0m\u001b[1;33m,\u001b[0m\u001b[1;33m\u001b[0m\u001b[1;33m\u001b[0m\u001b[0m\n\u001b[1;32m-> 1443\u001b[1;33m                                             run_metadata)\n\u001b[0m\u001b[0;32m   1444\u001b[0m \u001b[1;33m\u001b[0m\u001b[0m\n\u001b[0;32m   1445\u001b[0m   \u001b[1;32mdef\u001b[0m \u001b[0m_call_tf_sessionprun\u001b[0m\u001b[1;33m(\u001b[0m\u001b[0mself\u001b[0m\u001b[1;33m,\u001b[0m \u001b[0mhandle\u001b[0m\u001b[1;33m,\u001b[0m \u001b[0mfeed_dict\u001b[0m\u001b[1;33m,\u001b[0m \u001b[0mfetch_list\u001b[0m\u001b[1;33m)\u001b[0m\u001b[1;33m:\u001b[0m\u001b[1;33m\u001b[0m\u001b[1;33m\u001b[0m\u001b[0m\n",
      "\u001b[1;31mKeyboardInterrupt\u001b[0m: "
     ]
    }
   ],
   "source": [
    "xx=Xej\n",
    "N=len(xx)\n",
    "n_batches=N//bch\n",
    "d_costos=[]\n",
    "g_costos=[]\n",
    "#imgens=[]\n",
    "d_accx=0\n",
    "#print(gs[0].eval()[0][0])\n",
    "for i in range(10):\n",
    "    print(\"epoch\",i,d_accx)\n",
    "    np.random.shuffle(xx)\n",
    "    for j in range(n_batches):\n",
    "        bach=xx[j*bch:(j+1)*bch]\n",
    "        z=np.random.uniform(-1, 1, size=(bch, 100))#np.random.normal(size=(bch,g_size[\"z\"]))\n",
    "        #print(j)\n",
    "        _,d_costox,d_accx,logs=sesion.run([d_train_opt,d_costo,d_acc,tf.nn.sigmoid(logits)],feed_dict={X:bach,Z:z})\n",
    "    \n",
    "        d_costos.append(d_costox)\n",
    "        _,g_costox,imgsf=sesion.run([g_train_opt,g_costo,sample_img],feed_dict={Z:z})\n",
    "        g_costos.append(g_costox)\n",
    "    #print(logs)    \n",
    "    plt.imshow(imgsf[0].reshape(28,28),cmap=\"gray\")\n",
    "    plt.show()"
   ]
  },
  {
   "cell_type": "code",
   "execution_count": 33,
   "metadata": {},
   "outputs": [
    {
     "data": {
      "text/plain": [
       "<matplotlib.legend.Legend at 0x27d0108f248>"
      ]
     },
     "execution_count": 33,
     "metadata": {},
     "output_type": "execute_result"
    },
    {
     "data": {
      "image/png": "[encoded data removed]",
      "text/plain": [
       "<Figure size 432x288 with 1 Axes>"
      ]
     },
     "metadata": {
      "needs_background": "light"
     },
     "output_type": "display_data"
    }
   ],
   "source": [
    "plt.plot(g_costos,label='Generador')\n",
    "plt.plot(d_costos,label='Discrim')\n",
    "plt.legend()"
   ]
  },
  {
   "cell_type": "code",
   "execution_count": 49,
   "metadata": {},
   "outputs": [
    {
     "data": {
      "text/plain": [
       "<matplotlib.image.AxesImage at 0x2c442a16c08>"
      ]
     },
     "execution_count": 49,
     "metadata": {},
     "output_type": "execute_result"
    },
    {
     "data": {
      "image/png": "[encoded data removed]",
      "text/plain": [
       "<Figure size 432x288 with 1 Axes>"
      ]
     },
     "metadata": {
      "needs_background": "light"
     },
     "output_type": "display_data"
    }
   ],
   "source": [
    "plt.imshow(imgsf[-3].reshape(28,28),cmap=\"gray\")"
   ]
  },
  {
   "cell_type": "code",
   "execution_count": 39,
   "metadata": {},
   "outputs": [],
   "source": [
    "#gs[0].eval()\n",
    "#sesion.run(Discrim(d_size).forward(imgsf[-3].reshape(1,28,28,1)))"
   ]
  },
  {
   "cell_type": "code",
   "execution_count": 41,
   "metadata": {},
   "outputs": [
    {
     "data": {
      "text/plain": [
       "<matplotlib.image.AxesImage at 0x2c3fab0b508>"
      ]
     },
     "execution_count": 41,
     "metadata": {},
     "output_type": "execute_result"
    },
    {
     "data": {
      "image/png": "[encoded data removed]",
      "text/plain": [
       "<Figure size 432x288 with 1 Axes>"
      ]
     },
     "metadata": {
      "needs_background": "light"
     },
     "output_type": "display_data"
    }
   ],
   "source": [
    "plt.imshow(sesion.run(sample_img,feed_dict={Z:z})[0].reshape(28,28),cmap=\"gray\")"
   ]
  },
  {
   "cell_type": "markdown",
   "metadata": {},
   "source": [
    "# DCGAN"
   ]
  },
  {
   "cell_type": "code",
   "execution_count": 341,
   "metadata": {},
   "outputs": [],
   "source": [
    "class DCGAN:\n",
    "    def __init__(self,img_size,num_channels,g_size,d_size):\n",
    "        self.img_size=img_size\n",
    "        self.num_channels=num_channels\n",
    "        #inputs:\n",
    "        self.X=tf.placeholder(dtype=tf.float32,shape=(None,img_size,img_size,num_channels),name=\"X\")\n",
    "        self.Z=tf.placeholder(dtype=tf.float32,shape=(None,g_size[\"z\"]),name=\"Z\")\n",
    "        \n",
    "        self.batch_sz=tf.placeholder(dtype=tf.float32,shape=(),name=\"batch_sz\")\n",
    "        \n",
    "        #discriminador\n",
    "        logits=Discrim(d_size).forward(X)\n",
    "        \n",
    "        #gnenerador:\n",
    "        self.sample_img=Gener(g_size,img_size).forward()\n",
    "        \n",
    "        with tf.variable_scope(\"discriminator\") as scope:\n",
    "            scope.reuse_variables()\n",
    "            sample_logits=Discrim(d_size).forward(self.sample_img)\n",
    "            \n",
    "        # get sample images for test time (batch norm is different)\n",
    "        with tf.variable_scope(\"generator\") as scope:\n",
    "            scope.reuse_variables()\n",
    "            self.sample_img_test=Gener(g_size,img_size).forward()\n",
    "            \n",
    "        #costos\n",
    "        self.d_costo_real=tf.nn.sigmoid_cross_entropy_with_logits(logits=logits,labels=tf.ones_like(logits))\n",
    "        #fakes\n",
    "        self.d_costo_fake=tf.nn.sigmoid_cross_entropy_with_logits(logits=sample_logits,labels=tf.zeros_like(sample_logits))\n",
    "        \n",
    "        self.d_cost = tf.reduce_mean(self.d_costo_real) + tf.reduce_mean(self.d_costo_fake)\n",
    "        self.g_cost = tf.reduce_mean(tf.nn.sigmoid_cross_entropy_with_logits(logits=sample_logits,labels=tf.ones_like(sample_logits)))\n",
    "        \n",
    "        real_predictions = tf.cast(logits > 0, tf.float32)\n",
    "        fake_predictions = tf.cast(sample_logits < 0, tf.float32)\n",
    "        num_predictions = 2.0*BATCH_SIZE\n",
    "        num_correct = tf.reduce_sum(real_predictions) + tf.reduce_sum(fake_predictions)\n",
    "        self.d_accuracy = num_correct / num_predictions   \n",
    "        \n",
    "            # optimizers\n",
    "        self.d_params = [t for t in tf.trainable_variables() if t.name.startswith('d')]\n",
    "        self.g_params = [t for t in tf.trainable_variables() if t.name.startswith('g')]\n",
    "        \n",
    "        self.d_train_op = tf.train.AdamOptimizer(LEARNING_RATE, beta1=BETA1).minimize(self.d_cost, var_list=self.d_params)\n",
    "        self.g_train_op = tf.train.AdamOptimizer(LEARNING_RATE, beta1=BETA1).minimize(self.g_cost, var_list=self.g_params)\n",
    "\n",
    "        # show_all_variables()\n",
    "        # exit()\n",
    "\n",
    "        # set up session and variables for later\n",
    "        self.init_op = tf.global_variables_initializer()\n",
    "        self.sess = tf.InteractiveSession()\n",
    "        self.sess.run(self.init_op)  "
   ]
  },
  {
   "cell_type": "code",
   "execution_count": 28,
   "metadata": {},
   "outputs": [],
   "source": [
    "#tf.trainable_variables()"
   ]
  },
  {
   "cell_type": "code",
   "execution_count": 346,
   "metadata": {},
   "outputs": [
    {
     "data": {
      "text/plain": [
       "[]"
      ]
     },
     "execution_count": 346,
     "metadata": {},
     "output_type": "execute_result"
    }
   ],
   "source": [
    "[t for t in tf.trainable_variables() if t.name.startswith('g')]"
   ]
  },
  {
   "cell_type": "code",
   "execution_count": 24,
   "metadata": {},
   "outputs": [
    {
     "data": {
      "text/plain": [
       "1093"
      ]
     },
     "execution_count": 24,
     "metadata": {},
     "output_type": "execute_result"
    }
   ],
   "source": [
    "70000//64"
   ]
  },
  {
   "cell_type": "markdown",
   "metadata": {},
   "source": [
    "# Otra Forma"
   ]
  },
  {
   "cell_type": "markdown",
   "metadata": {},
   "source": [
    "## The Generator"
   ]
  },
  {
   "cell_type": "code",
   "execution_count": 9,
   "metadata": {},
   "outputs": [],
   "source": [
    "def generator(gsizes,img_size,Z,reuse=None):\n",
    "    with tf.variable_scope('gen',reuse=reuse):\n",
    "        \n",
    "        dims=[img_size]\n",
    "        aux=img_size\n",
    "        for j in range(len(gsizes[\"conv_layers\"])):\n",
    "            aux//=gsizes[\"conv_layers\"][j][2]\n",
    "            dims.append(aux)\n",
    "\n",
    "        ent=Z#self.z\n",
    "        dense_lay=[]\n",
    "        salcont=ent.shape[0]\n",
    "        salinp=ent.shape[-1]\n",
    "        #print(\"salinp:\",ent.shape)\n",
    "        cont=0\n",
    "        for n,bm in gsizes[\"dense_layers\"]:\n",
    "            name=\"dense_gen_%s\"%cont\n",
    "            cont+=1\n",
    "            dense_lay.append(Denseab(name,salinp,n,bm))\n",
    "            salinp=n\n",
    "        name=\"dense_gen_%s\"%cont\n",
    "        dense_lay.append(Denseab(name,salinp,gsizes[\"projection\"]#*dims[-1]*dims[-1]\n",
    "                                 ,apply_batch_norm=not gsizes[\"bn_after_project\"]))\n",
    "\n",
    "        for layer in dense_lay:\n",
    "            ent=layer.forward(ent)\n",
    "\n",
    "        \"\"\"\"\n",
    "\n",
    "        ent_res=tf.reshape(ent,shape=(salcont,dims[-1],dims[-1],gsizes[\"projection\"]))\n",
    "        print(\"ent_res\",ent_res.shape)\n",
    "        conv_lay=[]\n",
    "        inp=ent_res.shape[-1]\n",
    "        i=-1\n",
    "        #outshape=[1,self.dims[i],self.dims[i],inp]\n",
    "\n",
    "        for f,tfilt,st,bm in gsizes['conv_layers']:\n",
    "            namex=\"convt_gen_%s\"%cont\n",
    "            cont+=1\n",
    "            outshape=(salcont,dims[i-1],dims[i-1],f)\n",
    "            conv_lay.append(ConvLayerTranspose(name=namex,out_shape=outshape,tam=inp,filtros=f,tam_filtros=tfilt,stride=st,pad=\"SAME\",apply_batch_norm=bm))\n",
    "            inp=f\n",
    "            i-=1\n",
    "            print(i,outshape,f)\n",
    "\n",
    "\n",
    "        #ent=X\n",
    "        for clayer in conv_lay:\n",
    "\n",
    "            ent_res=clayer.forward(ent_res)\n",
    "            print(ent_res.shape)\n",
    "\n",
    "        \"\"\"\n",
    "        return(ent)#(gsizes['output_activation'](ent_res))"
   ]
  },
  {
   "cell_type": "code",
   "execution_count": 7,
   "metadata": {},
   "outputs": [],
   "source": [
    "def generator(z,reuse=None):\n",
    "    with tf.variable_scope('gen',reuse=reuse):\n",
    "        hidden1 =Denseab(\"dense1\",z.shape[1],128,True).forward(z)#tf.layers.dense(inputs=z,units=128)\n",
    "        # Leaky Relu\n",
    "        alpha = 0.01\n",
    "        #hidden1 = tf.maximum(alpha*hidden1,hidden1)\n",
    "        hidden2 = tf.layers.dense(inputs=hidden1,units=128)#Denseab(\"dense2\",hidden1.shape[1],128,True).forward(hidden1)#tf.layers.dense(inputs=hidden1,units=128)\n",
    "        \n",
    "        hidden2 = tf.maximum(alpha*hidden2,hidden2)\n",
    "        output = Denseab(\"dense3\",hidden2.shape[1],784,True,f=tf.nn.tanh).forward(hidden2)#tf.layers.dense(hidden2,units=784,activation=tf.nn.tanh)\n",
    "        return output"
   ]
  },
  {
   "cell_type": "markdown",
   "metadata": {},
   "source": [
    "## The Discriminator"
   ]
  },
  {
   "cell_type": "code",
   "execution_count": 10,
   "metadata": {},
   "outputs": [],
   "source": [
    "def discriminator(dsizes,X,reuse=None):\n",
    "    with tf.variable_scope('dis',reuse=reuse):\n",
    "        conv_lay=[]\n",
    "        inp=X.shape[-1]\n",
    "        cont=0\n",
    "        for f,tfilt,st,bm in dsizes['conv_layers']:\n",
    "            name=\"conv_lay_%s\"%cont\n",
    "            cont+=1\n",
    "            conv_lay.append(ConvLayer(name=name,tam=inp,filtros=f,tam_filtros=tfilt,stride=st,pad=\"SAME\",apply_batch_norm=bm))\n",
    "            inp=f\n",
    "\n",
    "        ent=X\n",
    "        for clayer in conv_lay:\n",
    "            ent=clayer.forward(ent)\n",
    "\n",
    "        #print(\"---\",tf.layers.flatten(ent))\n",
    "\n",
    "        sal=tf.layers.flatten(ent)\n",
    "        dense_lay=[]\n",
    "        salinp=sal.shape[-1]\n",
    "        for n,bm in dsizes[\"dense_layers\"]:\n",
    "            namex=\"dense_%s\"%cont\n",
    "            cont+=1\n",
    "            dense_lay.append(Denseab(namex,salinp,n,bm))\n",
    "            salinp=n\n",
    "\n",
    "        namex=\"dense_%s\"%cont\n",
    "        dense_lay.append(Denseab(namex,salinp,1,apply_batch_norm=False,f=lambda x:x))\n",
    "\n",
    "        for layer in dense_lay:\n",
    "            sal=layer.forward(sal)\n",
    "\n",
    "        return(tf.sigmoid(sal),sal)"
   ]
  },
  {
   "cell_type": "code",
   "execution_count": 8,
   "metadata": {},
   "outputs": [],
   "source": [
    "def discriminator(X,reuse=None):\n",
    "    with tf.variable_scope('dis',reuse=reuse):\n",
    "        hidden1 = Denseab(\"pera\",X.shape[1],128,True).forward(X)#tf.keras.layers.Dense(128)(X)#(inputs=X,units=128)\n",
    "        # Leaky Relu\n",
    "       # alpha = 0.01\n",
    "       # hidden1 = tf.maximum(alpha*hidden1,hidden1)\n",
    "        \n",
    "        hidden2 = Denseab(\"pera2\",hidden1.shape[1],128,True).forward(hidden1)#tf.layers.dense(inputs=hidden1,units=128)\n",
    "        #hidden2 = tf.maximum(alpha*hidden2,hidden2)\n",
    "        \n",
    "        logits = Denseab(\"pera3\",hidden2.shape[1],1,False,f=lambda x:x).forward(hidden2)#tf.layers.dense(hidden2,units=1)\n",
    "        output = tf.sigmoid(logits)\n",
    "    \n",
    "        return output, logits"
   ]
  },
  {
   "cell_type": "markdown",
   "metadata": {},
   "source": [
    "### Placeholders"
   ]
  },
  {
   "cell_type": "code",
   "execution_count": 9,
   "metadata": {},
   "outputs": [],
   "source": [
    "real_images = tf.placeholder(tf.float32,shape=[None,784])#tf.placeholder(tf.float32,shape=[None,28,28,1])\n",
    "z = tf.placeholder(tf.float32,shape=[None,100])"
   ]
  },
  {
   "cell_type": "markdown",
   "metadata": {},
   "source": [
    "### Generator"
   ]
  },
  {
   "cell_type": "code",
   "execution_count": 13,
   "metadata": {},
   "outputs": [
    {
     "name": "stdout",
     "output_type": "stream",
     "text": [
      "WARNING:tensorflow:From C:\\Users\\Abraham\\AppData\\Roaming\\Python\\Python37\\site-packages\\tensorflow\\python\\ops\\resource_variable_ops.py:1666: calling BaseResourceVariable.__init__ (from tensorflow.python.ops.resource_variable_ops) with constraint is deprecated and will be removed in a future version.\n",
      "Instructions for updating:\n",
      "If using Keras pass *_constraint arguments to layers.\n",
      "WARNING:tensorflow:From <ipython-input-2-3e05f2df723f>:16: batch_normalization (from tensorflow.python.layers.normalization) is deprecated and will be removed in a future version.\n",
      "Instructions for updating:\n",
      "Use keras.layers.BatchNormalization instead.  In particular, `tf.control_dependencies(tf.GraphKeys.UPDATE_OPS)` should not be used (consult the `tf.keras.layers.BatchNormalization` documentation).\n",
      "WARNING:tensorflow:From C:\\Users\\Abraham\\AppData\\Roaming\\Python\\Python37\\site-packages\\tensorflow\\python\\layers\\normalization.py:336: Layer.apply (from tensorflow.python.keras.engine.base_layer_v1) is deprecated and will be removed in a future version.\n",
      "Instructions for updating:\n",
      "Please use `layer.__call__` method instead.\n"
     ]
    }
   ],
   "source": [
    "G=tf.reshape(generator(g_sizes,28,z),shape=[100,28,28,1])"
   ]
  },
  {
   "cell_type": "code",
   "execution_count": 10,
   "metadata": {},
   "outputs": [
    {
     "name": "stdout",
     "output_type": "stream",
     "text": [
      "WARNING:tensorflow:From C:\\Users\\Abraham\\AppData\\Roaming\\Python\\Python37\\site-packages\\tensorflow\\python\\ops\\resource_variable_ops.py:1666: calling BaseResourceVariable.__init__ (from tensorflow.python.ops.resource_variable_ops) with constraint is deprecated and will be removed in a future version.\n",
      "Instructions for updating:\n",
      "If using Keras pass *_constraint arguments to layers.\n",
      "WARNING:tensorflow:From <ipython-input-2-3e05f2df723f>:16: batch_normalization (from tensorflow.python.layers.normalization) is deprecated and will be removed in a future version.\n",
      "Instructions for updating:\n",
      "Use keras.layers.BatchNormalization instead.  In particular, `tf.control_dependencies(tf.GraphKeys.UPDATE_OPS)` should not be used (consult the `tf.keras.layers.BatchNormalization` documentation).\n",
      "WARNING:tensorflow:From C:\\Users\\Abraham\\AppData\\Roaming\\Python\\Python37\\site-packages\\tensorflow\\python\\layers\\normalization.py:336: Layer.apply (from tensorflow.python.keras.engine.base_layer_v1) is deprecated and will be removed in a future version.\n",
      "Instructions for updating:\n",
      "Please use `layer.__call__` method instead.\n",
      "WARNING:tensorflow:From <ipython-input-7-8edf13c1d140>:7: dense (from tensorflow.python.layers.core) is deprecated and will be removed in a future version.\n",
      "Instructions for updating:\n",
      "Use keras.layers.Dense instead.\n"
     ]
    }
   ],
   "source": [
    "G=generator(z,reuse=tf.AUTO_REUSE)"
   ]
  },
  {
   "cell_type": "code",
   "execution_count": 11,
   "metadata": {},
   "outputs": [
    {
     "data": {
      "text/plain": [
       "[<tf.Variable 'gen/Wdense1:0' shape=(100, 128) dtype=float32>,\n",
       " <tf.Variable 'gen/bdense1:0' shape=(128,) dtype=float32>,\n",
       " <tf.Variable 'gen/batch_normalization/gamma:0' shape=(128,) dtype=float32>,\n",
       " <tf.Variable 'gen/batch_normalization/beta:0' shape=(128,) dtype=float32>,\n",
       " <tf.Variable 'gen/dense/kernel:0' shape=(128, 128) dtype=float32>,\n",
       " <tf.Variable 'gen/dense/bias:0' shape=(128,) dtype=float32>,\n",
       " <tf.Variable 'gen/Wdense3:0' shape=(128, 784) dtype=float32>,\n",
       " <tf.Variable 'gen/bdense3:0' shape=(784,) dtype=float32>,\n",
       " <tf.Variable 'gen/batch_normalization_1/gamma:0' shape=(784,) dtype=float32>,\n",
       " <tf.Variable 'gen/batch_normalization_1/beta:0' shape=(784,) dtype=float32>]"
      ]
     },
     "execution_count": 11,
     "metadata": {},
     "output_type": "execute_result"
    }
   ],
   "source": [
    "tf.trainable_variables()"
   ]
  },
  {
   "cell_type": "markdown",
   "metadata": {},
   "source": [
    "### Discriminator \n"
   ]
  },
  {
   "cell_type": "code",
   "execution_count": 12,
   "metadata": {},
   "outputs": [
    {
     "name": "stdout",
     "output_type": "stream",
     "text": [
      "(70000, 784)\n"
     ]
    }
   ],
   "source": [
    "print(Xej.reshape(-1,784).shape)\n",
    "#Xej=Xej.reshape(-1,784)\n",
    "#s=np.random.uniform(-1, 1, size=(70000, 100))\n",
    "#s.shape[1]\n",
    "#generator(s,reuse=True)\n",
    "#ini=tf.global_variables_initializer()\n",
    "#with tf.Session() as ss:\n",
    "#    ss.run(ini)\n",
    "#    ss.run(D_fake_loss, feed_dict={real_images: Xej, z: s})"
   ]
  },
  {
   "cell_type": "code",
   "execution_count": 13,
   "metadata": {},
   "outputs": [],
   "source": [
    "D_output_real , D_logits_real = discriminator(real_images)#discriminator(d_sizes,real_images)#(real_images)\n",
    "D_output_fake, D_logits_fake = discriminator(G,reuse=True)#discriminator(d_sizes,G,reuse=True)"
   ]
  },
  {
   "cell_type": "code",
   "execution_count": 14,
   "metadata": {},
   "outputs": [
    {
     "data": {
      "text/plain": [
       "[<tf.Variable 'gen/Wdense1:0' shape=(100, 128) dtype=float32>,\n",
       " <tf.Variable 'gen/bdense1:0' shape=(128,) dtype=float32>,\n",
       " <tf.Variable 'gen/batch_normalization/gamma:0' shape=(128,) dtype=float32>,\n",
       " <tf.Variable 'gen/batch_normalization/beta:0' shape=(128,) dtype=float32>,\n",
       " <tf.Variable 'gen/dense/kernel:0' shape=(128, 128) dtype=float32>,\n",
       " <tf.Variable 'gen/dense/bias:0' shape=(128,) dtype=float32>,\n",
       " <tf.Variable 'gen/Wdense3:0' shape=(128, 784) dtype=float32>,\n",
       " <tf.Variable 'gen/bdense3:0' shape=(784,) dtype=float32>,\n",
       " <tf.Variable 'gen/batch_normalization_1/gamma:0' shape=(784,) dtype=float32>,\n",
       " <tf.Variable 'gen/batch_normalization_1/beta:0' shape=(784,) dtype=float32>,\n",
       " <tf.Variable 'dis/Wpera:0' shape=(784, 128) dtype=float32>,\n",
       " <tf.Variable 'dis/bpera:0' shape=(128,) dtype=float32>,\n",
       " <tf.Variable 'dis/batch_normalization/gamma:0' shape=(128,) dtype=float32>,\n",
       " <tf.Variable 'dis/batch_normalization/beta:0' shape=(128,) dtype=float32>,\n",
       " <tf.Variable 'dis/Wpera2:0' shape=(128, 128) dtype=float32>,\n",
       " <tf.Variable 'dis/bpera2:0' shape=(128,) dtype=float32>,\n",
       " <tf.Variable 'dis/batch_normalization_1/gamma:0' shape=(128,) dtype=float32>,\n",
       " <tf.Variable 'dis/batch_normalization_1/beta:0' shape=(128,) dtype=float32>,\n",
       " <tf.Variable 'dis/Wpera3:0' shape=(128, 1) dtype=float32>,\n",
       " <tf.Variable 'dis/bpera3:0' shape=(1,) dtype=float32>]"
      ]
     },
     "execution_count": 14,
     "metadata": {},
     "output_type": "execute_result"
    }
   ],
   "source": [
    "tf.trainable_variables()"
   ]
  },
  {
   "cell_type": "markdown",
   "metadata": {},
   "source": [
    "### Losses"
   ]
  },
  {
   "cell_type": "code",
   "execution_count": 15,
   "metadata": {},
   "outputs": [],
   "source": [
    "def loss_func(logits_in,labels_in):\n",
    "    return tf.reduce_mean(tf.nn.sigmoid_cross_entropy_with_logits(logits=logits_in,labels=labels_in))\n",
    "\n",
    "D_real_loss = loss_func(D_logits_real,tf.ones_like(D_logits_real)* (0.9))\n",
    "D_fake_loss = loss_func(D_logits_fake,tf.zeros_like(D_logits_real))\n",
    "\n",
    "D_loss = D_real_loss + D_fake_loss\n",
    "G_loss = loss_func(D_logits_fake,tf.ones_like(D_logits_fake))"
   ]
  },
  {
   "cell_type": "code",
   "execution_count": 16,
   "metadata": {},
   "outputs": [],
   "source": [
    "#tf.trainable_variables()"
   ]
  },
  {
   "cell_type": "markdown",
   "metadata": {},
   "source": [
    "### Optimizers\n"
   ]
  },
  {
   "cell_type": "code",
   "execution_count": 17,
   "metadata": {},
   "outputs": [
    {
     "name": "stdout",
     "output_type": "stream",
     "text": [
      "['dis/Wpera:0', 'dis/bpera:0', 'dis/batch_normalization/gamma:0', 'dis/batch_normalization/beta:0', 'dis/Wpera2:0', 'dis/bpera2:0', 'dis/batch_normalization_1/gamma:0', 'dis/batch_normalization_1/beta:0', 'dis/Wpera3:0', 'dis/bpera3:0']\n",
      "['gen/Wdense1:0', 'gen/bdense1:0', 'gen/batch_normalization/gamma:0', 'gen/batch_normalization/beta:0', 'gen/dense/kernel:0', 'gen/dense/bias:0', 'gen/Wdense3:0', 'gen/bdense3:0', 'gen/batch_normalization_1/gamma:0', 'gen/batch_normalization_1/beta:0']\n"
     ]
    }
   ],
   "source": [
    "learning_rate = 0.001\n",
    "tvars = tf.trainable_variables()\n",
    "\n",
    "d_vars = [var for var in tvars if 'dis' in var.name]\n",
    "g_vars = [var for var in tvars if 'gen' in var.name]\n",
    "\n",
    "print([v.name for v in d_vars])\n",
    "print([v.name for v in g_vars])"
   ]
  },
  {
   "cell_type": "code",
   "execution_count": 18,
   "metadata": {},
   "outputs": [],
   "source": [
    "D_trainer = tf.train.AdamOptimizer(learning_rate).minimize(D_loss, var_list=d_vars)\n",
    "G_trainer = tf.train.AdamOptimizer(learning_rate).minimize(G_loss, var_list=g_vars)"
   ]
  },
  {
   "cell_type": "markdown",
   "metadata": {},
   "source": [
    "## Training Session"
   ]
  },
  {
   "cell_type": "code",
   "execution_count": 19,
   "metadata": {},
   "outputs": [],
   "source": [
    "batch_size = 100\n",
    "epochs = 300\n",
    "init = tf.global_variables_initializer()\n",
    "saver = tf.train.Saver(var_list=g_vars)"
   ]
  },
  {
   "cell_type": "code",
   "execution_count": 20,
   "metadata": {},
   "outputs": [],
   "source": [
    "# Save a sample per epoch\n",
    "samples = []"
   ]
  },
  {
   "cell_type": "code",
   "execution_count": null,
   "metadata": {},
   "outputs": [],
   "source": [
    "%%time\n",
    "with tf.Session() as sess:\n",
    "    \n",
    "    sess.run(init)\n",
    "    \n",
    "    # Recall an epoch is an entire run through the training data\n",
    "    for e in range(epochs):\n",
    "        # // indicates classic division\n",
    "        num_batches = len(Xej) // batch_size\n",
    "        \n",
    "        for i in range(num_batches):\n",
    "            \n",
    "            # Grab batch of images\n",
    "            batch = Xej[i*batch_size:(i+1)*batch_size]#mnist.train.next_batch(batch_size)\n",
    "            \n",
    "            # Get images, reshape and rescale to pass to D\n",
    "            batch_images = batch#.reshape((batch_size, 784))\n",
    "            batch_images = batch_images*2 - 1\n",
    "            \n",
    "            # Z (random latent noise data for Generator)\n",
    "            # -1 to 1 because of tanh activation\n",
    "            batch_z = np.random.uniform(-1, 1, size=(batch_size, 100))\n",
    "            \n",
    "            # Run optimizers, no need to save outputs, we won't use them\n",
    "            _ = sess.run(D_trainer, feed_dict={real_images: batch_images, z: batch_z})\n",
    "            _ = sess.run(G_trainer, feed_dict={z: batch_z})\n",
    "        \n",
    "            \n",
    "        print(\"Currently on Epoch {} of {} total...\".format(e+1, epochs))\n",
    "        \n",
    "        # Sample from generator as we're training for viewing afterwards\n",
    "        sample_z = np.random.uniform(-1, 1, size=(100, 100))\n",
    "        gen_sample = sess.run(generator(g_sizes,28,z ,reuse=True),feed_dict={z: sample_z})\n",
    "        \n",
    "        samples.append(gen_sample)\n",
    "        \n",
    "#         saver.save(sess, './models/500_epoch_model.ckpt')"
   ]
  },
  {
   "cell_type": "code",
   "execution_count": 47,
   "metadata": {},
   "outputs": [
    {
     "data": {
      "image/png": "[encoded data removed]",
      "text/plain": [
       "<Figure size 432x288 with 1 Axes>"
      ]
     },
     "metadata": {
      "needs_background": "light"
     },
     "output_type": "display_data"
    },
    {
     "data": {
      "image/png": "[encoded data removed]",
      "text/plain": [
       "<Figure size 432x288 with 1 Axes>"
      ]
     },
     "metadata": {
      "needs_background": "light"
     },
     "output_type": "display_data"
    },
    {
     "data": {
      "image/png": "[encoded data removed]",
      "text/plain": [
       "<Figure size 432x288 with 1 Axes>"
      ]
     },
     "metadata": {
      "needs_background": "light"
     },
     "output_type": "display_data"
    },
    {
     "data": {
      "image/png": "[encoded data removed]",
      "text/plain": [
       "<Figure size 432x288 with 1 Axes>"
      ]
     },
     "metadata": {
      "needs_background": "light"
     },
     "output_type": "display_data"
    },
    {
     "data": {
      "image/png": "[encoded data removed]",
      "text/plain": [
       "<Figure size 432x288 with 1 Axes>"
      ]
     },
     "metadata": {
      "needs_background": "light"
     },
     "output_type": "display_data"
    },
    {
     "data": {
      "image/png": "[encoded data removed]",
      "text/plain": [
       "<Figure size 432x288 with 1 Axes>"
      ]
     },
     "metadata": {
      "needs_background": "light"
     },
     "output_type": "display_data"
    },
    {
     "data": {
      "image/png": "[encoded data removed]",
      "text/plain": [
       "<Figure size 432x288 with 1 Axes>"
      ]
     },
     "metadata": {
      "needs_background": "light"
     },
     "output_type": "display_data"
    },
    {
     "data": {
      "image/png": "[encoded data removed]",
      "text/plain": [
       "<Figure size 432x288 with 1 Axes>"
      ]
     },
     "metadata": {
      "needs_background": "light"
     },
     "output_type": "display_data"
    },
    {
     "data": {
      "image/png": "[encoded data removed]",
      "text/plain": [
       "<Figure size 432x288 with 1 Axes>"
      ]
     },
     "metadata": {
      "needs_background": "light"
     },
     "output_type": "display_data"
    },
    {
     "data": {
      "image/png": "[encoded data removed]",
      "text/plain": [
       "<Figure size 432x288 with 1 Axes>"
      ]
     },
     "metadata": {
      "needs_background": "light"
     },
     "output_type": "display_data"
    },
    {
     "data": {
      "image/png": "[encoded data removed]",
      "text/plain": [
       "<Figure size 432x288 with 1 Axes>"
      ]
     },
     "metadata": {
      "needs_background": "light"
     },
     "output_type": "display_data"
    },
    {
     "data": {
      "image/png": "[encoded data removed]",
      "text/plain": [
       "<Figure size 432x288 with 1 Axes>"
      ]
     },
     "metadata": {
      "needs_background": "light"
     },
     "output_type": "display_data"
    },
    {
     "data": {
      "image/png": "[encoded data removed]",
      "text/plain": [
       "<Figure size 432x288 with 1 Axes>"
      ]
     },
     "metadata": {
      "needs_background": "light"
     },
     "output_type": "display_data"
    },
    {
     "data": {
      "image/png": "[encoded data removed]",
      "text/plain": [
       "<Figure size 432x288 with 1 Axes>"
      ]
     },
     "metadata": {
      "needs_background": "light"
     },
     "output_type": "display_data"
    },
    {
     "data": {
      "image/png": "[encoded data removed]",
      "text/plain": [
       "<Figure size 432x288 with 1 Axes>"
      ]
     },
     "metadata": {
      "needs_background": "light"
     },
     "output_type": "display_data"
    },
    {
     "data": {
      "image/png": "[encoded data removed]",
      "text/plain": [
       "<Figure size 432x288 with 1 Axes>"
      ]
     },
     "metadata": {
      "needs_background": "light"
     },
     "output_type": "display_data"
    },
    {
     "data": {
      "image/png": "[encoded data removed]",
      "text/plain": [
       "<Figure size 432x288 with 1 Axes>"
      ]
     },
     "metadata": {
      "needs_background": "light"
     },
     "output_type": "display_data"
    },
    {
     "data": {
      "image/png": "[encoded data removed]",
      "text/plain": [
       "<Figure size 432x288 with 1 Axes>"
      ]
     },
     "metadata": {
      "needs_background": "light"
     },
     "output_type": "display_data"
    },
    {
     "data": {
      "image/png": "[encoded data removed]",
      "text/plain": [
       "<Figure size 432x288 with 1 Axes>"
      ]
     },
     "metadata": {
      "needs_background": "light"
     },
     "output_type": "display_data"
    },
    {
     "data": {
      "image/png": "[encoded data removed]",
      "text/plain": [
       "<Figure size 432x288 with 1 Axes>"
      ]
     },
     "metadata": {
      "needs_background": "light"
     },
     "output_type": "display_data"
    },
    {
     "data": {
      "image/png": "[encoded data removed]",
      "text/plain": [
       "<Figure size 432x288 with 1 Axes>"
      ]
     },
     "metadata": {
      "needs_background": "light"
     },
     "output_type": "display_data"
    },
    {
     "data": {
      "image/png": "[encoded data removed]",
      "text/plain": [
       "<Figure size 432x288 with 1 Axes>"
      ]
     },
     "metadata": {
      "needs_background": "light"
     },
     "output_type": "display_data"
    },
    {
     "data": {
      "image/png": "[encoded data removed]",
      "text/plain": [
       "<Figure size 432x288 with 1 Axes>"
      ]
     },
     "metadata": {
      "needs_background": "light"
     },
     "output_type": "display_data"
    },
    {
     "data": {
      "image/png": "[encoded data removed]",
      "text/plain": [
       "<Figure size 432x288 with 1 Axes>"
      ]
     },
     "metadata": {
      "needs_background": "light"
     },
     "output_type": "display_data"
    },
    {
     "data": {
      "image/png": "[encoded data removed]",
      "text/plain": [
       "<Figure size 432x288 with 1 Axes>"
      ]
     },
     "metadata": {
      "needs_background": "light"
     },
     "output_type": "display_data"
    },
    {
     "data": {
      "image/png": "[encoded data removed]",
      "text/plain": [
       "<Figure size 432x288 with 1 Axes>"
      ]
     },
     "metadata": {
      "needs_background": "light"
     },
     "output_type": "display_data"
    },
    {
     "data": {
      "image/png": "[encoded data removed]",
      "text/plain": [
       "<Figure size 432x288 with 1 Axes>"
      ]
     },
     "metadata": {
      "needs_background": "light"
     },
     "output_type": "display_data"
    },
    {
     "data": {
      "image/png": "[encoded data removed]",
      "text/plain": [
       "<Figure size 432x288 with 1 Axes>"
      ]
     },
     "metadata": {
      "needs_background": "light"
     },
     "output_type": "display_data"
    },
    {
     "data": {
      "image/png": "[encoded data removed]",
      "text/plain": [
       "<Figure size 432x288 with 1 Axes>"
      ]
     },
     "metadata": {
      "needs_background": "light"
     },
     "output_type": "display_data"
    },
    {
     "data": {
      "image/png": "[encoded data removed]",
      "text/plain": [
       "<Figure size 432x288 with 1 Axes>"
      ]
     },
     "metadata": {
      "needs_background": "light"
     },
     "output_type": "display_data"
    },
    {
     "data": {
      "image/png": "[encoded data removed]",
      "text/plain": [
       "<Figure size 432x288 with 1 Axes>"
      ]
     },
     "metadata": {
      "needs_background": "light"
     },
     "output_type": "display_data"
    },
    {
     "data": {
      "image/png": "[encoded data removed]",
      "text/plain": [
       "<Figure size 432x288 with 1 Axes>"
      ]
     },
     "metadata": {
      "needs_background": "light"
     },
     "output_type": "display_data"
    },
    {
     "data": {
      "image/png": "[encoded data removed]",
      "text/plain": [
       "<Figure size 432x288 with 1 Axes>"
      ]
     },
     "metadata": {
      "needs_background": "light"
     },
     "output_type": "display_data"
    },
    {
     "data": {
      "image/png": "[encoded data removed]",
      "text/plain": [
       "<Figure size 432x288 with 1 Axes>"
      ]
     },
     "metadata": {
      "needs_background": "light"
     },
     "output_type": "display_data"
    },
    {
     "data": {
      "image/png": "[encoded data removed]",
      "text/plain": [
       "<Figure size 432x288 with 1 Axes>"
      ]
     },
     "metadata": {
      "needs_background": "light"
     },
     "output_type": "display_data"
    },
    {
     "data": {
      "image/png": "[encoded data removed]",
      "text/plain": [
       "<Figure size 432x288 with 1 Axes>"
      ]
     },
     "metadata": {
      "needs_background": "light"
     },
     "output_type": "display_data"
    },
    {
     "data": {
      "image/png": "[encoded data removed]",
      "text/plain": [
       "<Figure size 432x288 with 1 Axes>"
      ]
     },
     "metadata": {
      "needs_background": "light"
     },
     "output_type": "display_data"
    },
    {
     "data": {
      "image/png": "[encoded data removed]",
      "text/plain": [
       "<Figure size 432x288 with 1 Axes>"
      ]
     },
     "metadata": {
      "needs_background": "light"
     },
     "output_type": "display_data"
    },
    {
     "data": {
      "image/png": "[encoded data removed]",
      "text/plain": [
       "<Figure size 432x288 with 1 Axes>"
      ]
     },
     "metadata": {
      "needs_background": "light"
     },
     "output_type": "display_data"
    },
    {
     "data": {
      "image/png": "[encoded data removed]",
      "text/plain": [
       "<Figure size 432x288 with 1 Axes>"
      ]
     },
     "metadata": {
      "needs_background": "light"
     },
     "output_type": "display_data"
    },
    {
     "data": {
      "image/png": "[encoded data removed]",
      "text/plain": [
       "<Figure size 432x288 with 1 Axes>"
      ]
     },
     "metadata": {
      "needs_background": "light"
     },
     "output_type": "display_data"
    },
    {
     "data": {
      "image/png": "[encoded data removed]",
      "text/plain": [
       "<Figure size 432x288 with 1 Axes>"
      ]
     },
     "metadata": {
      "needs_background": "light"
     },
     "output_type": "display_data"
    },
    {
     "data": {
      "image/png": "[encoded data removed]",
      "text/plain": [
       "<Figure size 432x288 with 1 Axes>"
      ]
     },
     "metadata": {
      "needs_background": "light"
     },
     "output_type": "display_data"
    },
    {
     "data": {
      "image/png": "[encoded data removed]",
      "text/plain": [
       "<Figure size 432x288 with 1 Axes>"
      ]
     },
     "metadata": {
      "needs_background": "light"
     },
     "output_type": "display_data"
    },
    {
     "data": {
      "image/png": "[encoded data removed]",
      "text/plain": [
       "<Figure size 432x288 with 1 Axes>"
      ]
     },
     "metadata": {
      "needs_background": "light"
     },
     "output_type": "display_data"
    },
    {
     "data": {
      "image/png": "[encoded data removed]",
      "text/plain": [
       "<Figure size 432x288 with 1 Axes>"
      ]
     },
     "metadata": {
      "needs_background": "light"
     },
     "output_type": "display_data"
    },
    {
     "data": {
      "image/png": "[encoded data removed]",
      "text/plain": [
       "<Figure size 432x288 with 1 Axes>"
      ]
     },
     "metadata": {
      "needs_background": "light"
     },
     "output_type": "display_data"
    },
    {
     "data": {
      "image/png": "[encoded data removed]",
      "text/plain": [
       "<Figure size 432x288 with 1 Axes>"
      ]
     },
     "metadata": {
      "needs_background": "light"
     },
     "output_type": "display_data"
    },
    {
     "data": {
      "image/png": "[encoded data removed]",
      "text/plain": [
       "<Figure size 432x288 with 1 Axes>"
      ]
     },
     "metadata": {
      "needs_background": "light"
     },
     "output_type": "display_data"
    },
    {
     "data": {
      "image/png": "[encoded data removed]",
      "text/plain": [
       "<Figure size 432x288 with 1 Axes>"
      ]
     },
     "metadata": {
      "needs_background": "light"
     },
     "output_type": "display_data"
    }
   ],
   "source": [
    "for j in range(50):\n",
    "    plt.imshow(samples[j][73].reshape(28,28),cmap=\"gray\")\n",
    "    plt.show()"
   ]
  },
  {
   "cell_type": "code",
   "execution_count": null,
   "metadata": {},
   "outputs": [],
   "source": [
    "with tf.Session() as sess:\n",
    "    \n",
    "    sess.run(init)\n",
    "    \n",
    "    # Recall an epoch is an entire run through the training data\n",
    "    for e in range(epochs):\n",
    "        # // indicates classic division\n",
    "        num_batches = len(Xej) // batch_size\n",
    "        \n",
    "        for i in range(num_batches):\n",
    "            \n",
    "            # Grab batch of images\n",
    "            batch = Xej[i*batch_size:(i+1)*batch_size]#mnist.train.next_batch(batch_size)\n",
    "            \n",
    "            # Get images, reshape and rescale to pass to D\n",
    "            batch_images = batch.reshape((batch_size, 784))\n",
    "            batch_images = batch_images*2 - 1\n",
    "            \n",
    "            # Z (random latent noise data for Generator)\n",
    "            # -1 to 1 because of tanh activation\n",
    "            batch_z = np.random.uniform(-1, 1, size=(batch_size, 100))\n",
    "            \n",
    "            # Run optimizers, no need to save outputs, we won't use them\n",
    "            _ = sess.run(D_trainer, feed_dict={real_images: batch_images, z: batch_z})\n",
    "            _ = sess.run(G_trainer, feed_dict={z: batch_z})\n",
    "        \n",
    "            \n",
    "        print(\"Currently on Epoch {} of {} total...\".format(e+1, epochs))\n",
    "        \n",
    "        # Sample from generator as we're training for viewing afterwards\n",
    "        sample_z = np.random.uniform(-1, 1, size=(1, 100))\n",
    "        gen_sample = sess.run(generator(z ,reuse=True),feed_dict={z: sample_z})\n",
    "        \n",
    "        samples.append(gen_sample)\n",
    "        \n",
    "#         saver.save(sess, './models/500_epoch_model.ckpt')"
   ]
  },
  {
   "cell_type": "code",
   "execution_count": 33,
   "metadata": {},
   "outputs": [
    {
     "data": {
      "text/plain": [
       "<matplotlib.image.AxesImage at 0x1eb43e6ee08>"
      ]
     },
     "execution_count": 33,
     "metadata": {},
     "output_type": "execute_result"
    },
    {
     "data": {
      "image/png": "[encoded data removed]",
      "text/plain": [
       "<Figure size 432x288 with 1 Axes>"
      ]
     },
     "metadata": {
      "needs_background": "light"
     },
     "output_type": "display_data"
    }
   ],
   "source": [
    "plt.imshow(samples[289].reshape(28,28),cmap='Greys')"
   ]
  },
  {
   "cell_type": "code",
   "execution_count": 39,
   "metadata": {},
   "outputs": [
    {
     "data": {
      "text/plain": [
       "<matplotlib.image.AxesImage at 0x2142f169e88>"
      ]
     },
     "execution_count": 39,
     "metadata": {},
     "output_type": "execute_result"
    },
    {
     "data": {
      "image/png": "[encoded data removed]",
      "text/plain": [
       "<Figure size 432x288 with 1 Axes>"
      ]
     },
     "metadata": {
      "needs_background": "light"
     },
     "output_type": "display_data"
    }
   ],
   "source": [
    "plt.imshow(samples[49].reshape(28,28),cmap='Greys')"
   ]
  },
  {
   "cell_type": "raw",
   "metadata": {},
   "source": [
    "sal=[t for t in tf.trainable_variables() if t.name.startswith(\"kew\")]"
   ]
  },
  {
   "cell_type": "code",
   "execution_count": 63,
   "metadata": {},
   "outputs": [
    {
     "data": {
      "text/plain": [
       "<tf.Variable 'kew_3/Variable:0' shape=(5, 5, 1, 2) dtype=float32>"
      ]
     },
     "execution_count": 63,
     "metadata": {},
     "output_type": "execute_result"
    }
   ],
   "source": [
    "sal[12]"
   ]
  },
  {
   "cell_type": "code",
   "execution_count": null,
   "metadata": {},
   "outputs": [],
   "source": [
    "tf.layers.batch_normalization()"
   ]
  }
 ],
 "metadata": {
  "kernelspec": {
   "display_name": "Python 3.7 (tf23)",
   "language": "python",
   "name": "tf23"
  },
  "language_info": {
   "codemirror_mode": {
    "name": "ipython",
    "version": 3
   },
   "file_extension": ".py",
   "mimetype": "text/x-python",
   "name": "python",
   "nbconvert_exporter": "python",
   "pygments_lexer": "ipython3",
   "version": "3.7.7"
  },
  "toc": {
   "base_numbering": 1,
   "nav_menu": {},
   "number_sections": true,
   "sideBar": true,
   "skip_h1_title": false,
   "title_cell": "Table of Contents",
   "title_sidebar": "Contents",
   "toc_cell": false,
   "toc_position": {
    "height": "calc(100% - 180px)",
    "left": "10px",
    "top": "150px",
    "width": "307.2px"
   },
   "toc_section_display": true,
   "toc_window_display": true
  }
 },
 "nbformat": 4,
 "nbformat_minor": 4
}
