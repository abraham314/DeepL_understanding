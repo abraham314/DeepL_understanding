{
 "cells": [
  {
   "cell_type": "code",
   "execution_count": 1,
   "metadata": {
    "colab": {},
    "colab_type": "code",
    "executionInfo": {
     "elapsed": 760,
     "status": "ok",
     "timestamp": 1597160076639,
     "user": {
      "displayName": "raul abraham Nieto Pacheco",
      "photoUrl": "",
      "userId": "06171730266864656462"
     },
     "user_tz": 300
    },
    "id": "tV2zhRfd0nXI"
   },
   "outputs": [
    {
     "name": "stdout",
     "output_type": "stream",
     "text": [
      "Num GPUs Available:  1\n"
     ]
    }
   ],
   "source": [
    "import pandas as pd\n",
    "import seaborn as sns\n",
    "import matplotlib.pyplot as plt\n",
    "from sklearn.preprocessing import StandardScaler, LabelEncoder\n",
    "from sklearn.model_selection import train_test_split\n",
    "from sklearn.ensemble import RandomForestClassifier\n",
    "from sklearn.svm import SVC\n",
    "from sklearn import svm\n",
    "from sklearn.neural_network import MLPClassifier\n",
    "from sklearn.metrics import confusion_matrix, classification_report\n",
    "from sklearn.model_selection import GridSearchCV\n",
    "import pandas_datareader as pdr\n",
    "import datetime\n",
    "import numpy as np\n",
    "import pandas as pd\n",
    "import yfinance as yf\n",
    "from finta import TA\n",
    "from sklearn.model_selection import TimeSeriesSplit,cross_val_score,cross_validate\n",
    "from tensorflow.keras.wrappers.scikit_learn import KerasClassifier\n",
    "#import yahoofinancials\n",
    "import matplotlib.pyplot as plt\n",
    "import numpy as np\n",
    "#from hyperopt import hp\n",
    "from numpy import mean\n",
    "from numpy import std\n",
    "from numpy import dstack\n",
    "#from pandas import read_csv\n",
    "from tensorflow.keras.utils import to_categorical,plot_model\n",
    "from tensorflow.keras.regularizers import l1,l2\n",
    "from tensorflow.keras.callbacks import EarlyStopping\n",
    "from tensorflow.keras.models import Model,Sequential\n",
    "from tensorflow.keras.backend import clear_session\n",
    "from tensorflow.keras.callbacks import ModelCheckpoint, ReduceLROnPlateau, CSVLogger\n",
    "from tensorflow.keras.optimizers import RMSprop, Adam, SGD, Nadam\n",
    "from tensorflow.keras.layers import GaussianNoise,Activation,Dense,Conv1D,MaxPooling1D,Input,Dropout,BatchNormalization,Flatten,LeakyReLU,Dropout\n",
    "\n",
    "import tensorflow as tf\n",
    "\n",
    "physical_devices = tf.config.experimental.list_physical_devices('GPU')\n",
    "print(\"Num GPUs Available: \", len(physical_devices))\n",
    "tf.config.experimental.set_memory_growth(physical_devices[0], True)"
   ]
  },
  {
   "cell_type": "code",
   "execution_count": 2,
   "metadata": {
    "colab": {
     "base_uri": "https://localhost:8080/",
     "height": 35
    },
    "colab_type": "code",
    "executionInfo": {
     "elapsed": 739,
     "status": "ok",
     "timestamp": 1597160079044,
     "user": {
      "displayName": "raul abraham Nieto Pacheco",
      "photoUrl": "",
      "userId": "06171730266864656462"
     },
     "user_tz": 300
    },
    "id": "PBsTuMdj0sLB",
    "outputId": "921d3c22-1125-429f-dbc5-ea78bd75998c"
   },
   "outputs": [
    {
     "data": {
      "text/plain": [
       "'2.1.0'"
      ]
     },
     "execution_count": 2,
     "metadata": {},
     "output_type": "execute_result"
    }
   ],
   "source": [
    "#!pip install yfinance finta\n",
    "#import keras \n",
    "import tensorflow as tf\n",
    "tf.__version__"
   ]
  },
  {
   "cell_type": "code",
   "execution_count": 3,
   "metadata": {
    "colab": {
     "base_uri": "https://localhost:8080/",
     "height": 233
    },
    "colab_type": "code",
    "executionInfo": {
     "elapsed": 1053,
     "status": "ok",
     "timestamp": 1597160080796,
     "user": {
      "displayName": "raul abraham Nieto Pacheco",
      "photoUrl": "",
      "userId": "06171730266864656462"
     },
     "user_tz": 300
    },
    "id": "xlPtyt9_0nXQ",
    "outputId": "97023b07-58ed-4f46-b580-f273a61ef8ed"
   },
   "outputs": [
    {
     "data": {
      "text/html": [
       "<div>\n",
       "<style scoped>\n",
       "    .dataframe tbody tr th:only-of-type {\n",
       "        vertical-align: middle;\n",
       "    }\n",
       "\n",
       "    .dataframe tbody tr th {\n",
       "        vertical-align: top;\n",
       "    }\n",
       "\n",
       "    .dataframe thead th {\n",
       "        text-align: right;\n",
       "    }\n",
       "</style>\n",
       "<table border=\"1\" class=\"dataframe\">\n",
       "  <thead>\n",
       "    <tr style=\"text-align: right;\">\n",
       "      <th></th>\n",
       "      <th>Open</th>\n",
       "      <th>High</th>\n",
       "      <th>Low</th>\n",
       "      <th>Close</th>\n",
       "    </tr>\n",
       "    <tr>\n",
       "      <th>Date</th>\n",
       "      <th></th>\n",
       "      <th></th>\n",
       "      <th></th>\n",
       "      <th></th>\n",
       "    </tr>\n",
       "  </thead>\n",
       "  <tbody>\n",
       "    <tr>\n",
       "      <th>2020-08-19</th>\n",
       "      <td>22.1345</td>\n",
       "      <td>22.1842</td>\n",
       "      <td>22.0093</td>\n",
       "      <td>22.1313</td>\n",
       "    </tr>\n",
       "    <tr>\n",
       "      <th>2020-08-20</th>\n",
       "      <td>22.1772</td>\n",
       "      <td>22.3208</td>\n",
       "      <td>22.1151</td>\n",
       "      <td>22.1748</td>\n",
       "    </tr>\n",
       "    <tr>\n",
       "      <th>2020-08-21</th>\n",
       "      <td>22.0684</td>\n",
       "      <td>22.1695</td>\n",
       "      <td>21.9863</td>\n",
       "      <td>22.0883</td>\n",
       "    </tr>\n",
       "    <tr>\n",
       "      <th>2020-08-24</th>\n",
       "      <td>21.9590</td>\n",
       "      <td>22.0023</td>\n",
       "      <td>21.8671</td>\n",
       "      <td>21.9597</td>\n",
       "    </tr>\n",
       "    <tr>\n",
       "      <th>2020-08-25</th>\n",
       "      <td>22.0024</td>\n",
       "      <td>22.0121</td>\n",
       "      <td>21.8707</td>\n",
       "      <td>21.9765</td>\n",
       "    </tr>\n",
       "  </tbody>\n",
       "</table>\n",
       "</div>"
      ],
      "text/plain": [
       "               Open     High      Low    Close\n",
       "Date                                          \n",
       "2020-08-19  22.1345  22.1842  22.0093  22.1313\n",
       "2020-08-20  22.1772  22.3208  22.1151  22.1748\n",
       "2020-08-21  22.0684  22.1695  21.9863  22.0883\n",
       "2020-08-24  21.9590  22.0023  21.8671  21.9597\n",
       "2020-08-25  22.0024  22.0121  21.8707  21.9765"
      ]
     },
     "execution_count": 3,
     "metadata": {},
     "output_type": "execute_result"
    }
   ],
   "source": [
    "data=yf.Ticker('MXN=X')\n",
    "data=data.history(period=\"max\")\n",
    "data=data.loc[\"2000-01-20\":\"2020-12-31\"][[\"Open\",\"High\",\"Low\",'Close']]\n",
    "data.tail()"
   ]
  },
  {
   "cell_type": "code",
   "execution_count": 4,
   "metadata": {
    "colab": {
     "base_uri": "https://localhost:8080/",
     "height": 233
    },
    "colab_type": "code",
    "executionInfo": {
     "elapsed": 1006,
     "status": "ok",
     "timestamp": 1597160118533,
     "user": {
      "displayName": "raul abraham Nieto Pacheco",
      "photoUrl": "",
      "userId": "06171730266864656462"
     },
     "user_tz": 300
    },
    "id": "ooxpAaz40nXY",
    "outputId": "e62af9c8-9253-4011-eff7-699e6275cdfb"
   },
   "outputs": [
    {
     "data": {
      "text/html": [
       "<div>\n",
       "<style scoped>\n",
       "    .dataframe tbody tr th:only-of-type {\n",
       "        vertical-align: middle;\n",
       "    }\n",
       "\n",
       "    .dataframe tbody tr th {\n",
       "        vertical-align: top;\n",
       "    }\n",
       "\n",
       "    .dataframe thead th {\n",
       "        text-align: right;\n",
       "    }\n",
       "</style>\n",
       "<table border=\"1\" class=\"dataframe\">\n",
       "  <thead>\n",
       "    <tr style=\"text-align: right;\">\n",
       "      <th></th>\n",
       "      <th>Open</th>\n",
       "      <th>High</th>\n",
       "      <th>Low</th>\n",
       "      <th>Close</th>\n",
       "    </tr>\n",
       "    <tr>\n",
       "      <th>Date</th>\n",
       "      <th></th>\n",
       "      <th></th>\n",
       "      <th></th>\n",
       "      <th></th>\n",
       "    </tr>\n",
       "  </thead>\n",
       "  <tbody>\n",
       "    <tr>\n",
       "      <th>2020-08-19</th>\n",
       "      <td>339.05</td>\n",
       "      <td>339.61</td>\n",
       "      <td>336.62</td>\n",
       "      <td>337.23</td>\n",
       "    </tr>\n",
       "    <tr>\n",
       "      <th>2020-08-20</th>\n",
       "      <td>335.36</td>\n",
       "      <td>338.80</td>\n",
       "      <td>335.22</td>\n",
       "      <td>338.28</td>\n",
       "    </tr>\n",
       "    <tr>\n",
       "      <th>2020-08-21</th>\n",
       "      <td>337.92</td>\n",
       "      <td>339.72</td>\n",
       "      <td>337.55</td>\n",
       "      <td>339.48</td>\n",
       "    </tr>\n",
       "    <tr>\n",
       "      <th>2020-08-24</th>\n",
       "      <td>342.12</td>\n",
       "      <td>343.00</td>\n",
       "      <td>339.45</td>\n",
       "      <td>342.92</td>\n",
       "    </tr>\n",
       "    <tr>\n",
       "      <th>2020-08-25</th>\n",
       "      <td>343.53</td>\n",
       "      <td>343.70</td>\n",
       "      <td>342.27</td>\n",
       "      <td>342.84</td>\n",
       "    </tr>\n",
       "  </tbody>\n",
       "</table>\n",
       "</div>"
      ],
      "text/plain": [
       "              Open    High     Low   Close\n",
       "Date                                      \n",
       "2020-08-19  339.05  339.61  336.62  337.23\n",
       "2020-08-20  335.36  338.80  335.22  338.28\n",
       "2020-08-21  337.92  339.72  337.55  339.48\n",
       "2020-08-24  342.12  343.00  339.45  342.92\n",
       "2020-08-25  343.53  343.70  342.27  342.84"
      ]
     },
     "execution_count": 4,
     "metadata": {},
     "output_type": "execute_result"
    }
   ],
   "source": [
    "sp=yf.Ticker('SPY')\n",
    "sp=sp.history(period=\"max\")\n",
    "sp=sp.loc[\"2000-01-20\":\"2020-12-31\"][[\"Open\",\"High\",\"Low\",'Close']]\n",
    "sp.tail()"
   ]
  },
  {
   "cell_type": "code",
   "execution_count": 5,
   "metadata": {
    "colab": {},
    "colab_type": "code",
    "executionInfo": {
     "elapsed": 495,
     "status": "ok",
     "timestamp": 1597160124402,
     "user": {
      "displayName": "raul abraham Nieto Pacheco",
      "photoUrl": "",
      "userId": "06171730266864656462"
     },
     "user_tz": 300
    },
    "id": "j6Pkl9ul0nXg"
   },
   "outputs": [],
   "source": [
    "data=data.join(sp,how=\"left\",rsuffix=\"sp\")"
   ]
  },
  {
   "cell_type": "code",
   "execution_count": 6,
   "metadata": {
    "colab": {
     "base_uri": "https://localhost:8080/",
     "height": 339
    },
    "colab_type": "code",
    "executionInfo": {
     "elapsed": 772,
     "status": "ok",
     "timestamp": 1597160126321,
     "user": {
      "displayName": "raul abraham Nieto Pacheco",
      "photoUrl": "",
      "userId": "06171730266864656462"
     },
     "user_tz": 300
    },
    "id": "aIrE7isc0nXm",
    "outputId": "18b82c08-441f-4ddd-b7eb-22b4183b6803"
   },
   "outputs": [
    {
     "data": {
      "text/html": [
       "<div>\n",
       "<style scoped>\n",
       "    .dataframe tbody tr th:only-of-type {\n",
       "        vertical-align: middle;\n",
       "    }\n",
       "\n",
       "    .dataframe tbody tr th {\n",
       "        vertical-align: top;\n",
       "    }\n",
       "\n",
       "    .dataframe thead th {\n",
       "        text-align: right;\n",
       "    }\n",
       "</style>\n",
       "<table border=\"1\" class=\"dataframe\">\n",
       "  <thead>\n",
       "    <tr style=\"text-align: right;\">\n",
       "      <th></th>\n",
       "      <th>Open</th>\n",
       "      <th>High</th>\n",
       "      <th>Low</th>\n",
       "      <th>Close</th>\n",
       "      <th>Opensp</th>\n",
       "      <th>Highsp</th>\n",
       "      <th>Lowsp</th>\n",
       "      <th>Closesp</th>\n",
       "      <th>sp_percent_change</th>\n",
       "      <th>percent_change</th>\n",
       "      <th>relative_change</th>\n",
       "    </tr>\n",
       "    <tr>\n",
       "      <th>Date</th>\n",
       "      <th></th>\n",
       "      <th></th>\n",
       "      <th></th>\n",
       "      <th></th>\n",
       "      <th></th>\n",
       "      <th></th>\n",
       "      <th></th>\n",
       "      <th></th>\n",
       "      <th></th>\n",
       "      <th></th>\n",
       "      <th></th>\n",
       "    </tr>\n",
       "  </thead>\n",
       "  <tbody>\n",
       "    <tr>\n",
       "      <th>2020-08-19</th>\n",
       "      <td>22.1345</td>\n",
       "      <td>22.1842</td>\n",
       "      <td>22.0093</td>\n",
       "      <td>22.1313</td>\n",
       "      <td>339.05</td>\n",
       "      <td>339.61</td>\n",
       "      <td>336.62</td>\n",
       "      <td>337.23</td>\n",
       "      <td>-0.004164</td>\n",
       "      <td>-0.000492</td>\n",
       "      <td>0.003671</td>\n",
       "    </tr>\n",
       "    <tr>\n",
       "      <th>2020-08-20</th>\n",
       "      <td>22.1772</td>\n",
       "      <td>22.3208</td>\n",
       "      <td>22.1151</td>\n",
       "      <td>22.1748</td>\n",
       "      <td>335.36</td>\n",
       "      <td>338.80</td>\n",
       "      <td>335.22</td>\n",
       "      <td>338.28</td>\n",
       "      <td>0.003114</td>\n",
       "      <td>0.001966</td>\n",
       "      <td>-0.001148</td>\n",
       "    </tr>\n",
       "    <tr>\n",
       "      <th>2020-08-21</th>\n",
       "      <td>22.0684</td>\n",
       "      <td>22.1695</td>\n",
       "      <td>21.9863</td>\n",
       "      <td>22.0883</td>\n",
       "      <td>337.92</td>\n",
       "      <td>339.72</td>\n",
       "      <td>337.55</td>\n",
       "      <td>339.48</td>\n",
       "      <td>0.003547</td>\n",
       "      <td>-0.003901</td>\n",
       "      <td>-0.007448</td>\n",
       "    </tr>\n",
       "    <tr>\n",
       "      <th>2020-08-24</th>\n",
       "      <td>21.9590</td>\n",
       "      <td>22.0023</td>\n",
       "      <td>21.8671</td>\n",
       "      <td>21.9597</td>\n",
       "      <td>342.12</td>\n",
       "      <td>343.00</td>\n",
       "      <td>339.45</td>\n",
       "      <td>342.92</td>\n",
       "      <td>0.010133</td>\n",
       "      <td>-0.005822</td>\n",
       "      <td>-0.015955</td>\n",
       "    </tr>\n",
       "    <tr>\n",
       "      <th>2020-08-25</th>\n",
       "      <td>22.0024</td>\n",
       "      <td>22.0121</td>\n",
       "      <td>21.8707</td>\n",
       "      <td>21.9765</td>\n",
       "      <td>343.53</td>\n",
       "      <td>343.70</td>\n",
       "      <td>342.27</td>\n",
       "      <td>342.84</td>\n",
       "      <td>-0.000233</td>\n",
       "      <td>0.000765</td>\n",
       "      <td>0.000998</td>\n",
       "    </tr>\n",
       "  </tbody>\n",
       "</table>\n",
       "</div>"
      ],
      "text/plain": [
       "               Open     High      Low    Close  Opensp  Highsp   Lowsp  \\\n",
       "Date                                                                     \n",
       "2020-08-19  22.1345  22.1842  22.0093  22.1313  339.05  339.61  336.62   \n",
       "2020-08-20  22.1772  22.3208  22.1151  22.1748  335.36  338.80  335.22   \n",
       "2020-08-21  22.0684  22.1695  21.9863  22.0883  337.92  339.72  337.55   \n",
       "2020-08-24  21.9590  22.0023  21.8671  21.9597  342.12  343.00  339.45   \n",
       "2020-08-25  22.0024  22.0121  21.8707  21.9765  343.53  343.70  342.27   \n",
       "\n",
       "            Closesp  sp_percent_change  percent_change  relative_change  \n",
       "Date                                                                     \n",
       "2020-08-19   337.23          -0.004164       -0.000492         0.003671  \n",
       "2020-08-20   338.28           0.003114        0.001966        -0.001148  \n",
       "2020-08-21   339.48           0.003547       -0.003901        -0.007448  \n",
       "2020-08-24   342.92           0.010133       -0.005822        -0.015955  \n",
       "2020-08-25   342.84          -0.000233        0.000765         0.000998  "
      ]
     },
     "execution_count": 6,
     "metadata": {},
     "output_type": "execute_result"
    }
   ],
   "source": [
    "data[\"sp_percent_change\"] = data[\"Closesp\"].pct_change(periods=1).astype(float)\n",
    "#data = data.merge(SP[\"sp_percent_change\"], left_index=True, right_index=True,how=\"left\")\n",
    "data[\"percent_change\"] = data[\"Close\"].pct_change(periods=1).astype(float)\n",
    "# Daily percent change as compared to the S&P 500\n",
    "data[\"relative_change\"] = data[\"percent_change\"] - data[\"sp_percent_change\"]\n",
    "data.tail()"
   ]
  },
  {
   "cell_type": "code",
   "execution_count": 7,
   "metadata": {
    "colab": {},
    "colab_type": "code",
    "executionInfo": {
     "elapsed": 763,
     "status": "ok",
     "timestamp": 1597160129897,
     "user": {
      "displayName": "raul abraham Nieto Pacheco",
      "photoUrl": "",
      "userId": "06171730266864656462"
     },
     "user_tz": 300
    },
    "id": "Ahi1_12i0nXr"
   },
   "outputs": [],
   "source": [
    "data.columns=data.columns.str.lower()"
   ]
  },
  {
   "cell_type": "code",
   "execution_count": 8,
   "metadata": {
    "colab": {},
    "colab_type": "code",
    "executionInfo": {
     "elapsed": 759,
     "status": "ok",
     "timestamp": 1597160131398,
     "user": {
      "displayName": "raul abraham Nieto Pacheco",
      "photoUrl": "",
      "userId": "06171730266864656462"
     },
     "user_tz": 300
    },
    "id": "c8DPZ2a80nXy"
   },
   "outputs": [],
   "source": [
    "def add_indicators(data):\n",
    "        # This is a list of all possible indicators we can use\n",
    "        # indicators = ['ADL', 'ADX', 'AO', 'APZ', 'ATR',\n",
    "        # 'BASP', 'BASPN', 'BBANDS', 'BBWIDTH', 'CCI', 'CFI', 'CHAIKIN', 'CHANDELIER', 'CMO', 'COPP', 'DEMA', 'DMI',\n",
    "        # 'DO', 'EBBP', 'EFI', 'EMA', 'EMV', 'ER', 'EVWMA', 'EV_MACD', 'FISH', 'FVE', 'HMA', 'ICHIMOKU', 'IFT_RSI',\n",
    "        # 'KAMA', 'KC', 'KST', 'MACD', 'MFI', 'MI', 'MOM', 'MSD', 'OBV', 'PERCENT_B', 'PIVOT', 'PIVOT_FIB', 'PPO',\n",
    "        # 'PZO', 'QSTICK', 'ROC', 'RSI', 'SAR', 'SMA', 'SMM', 'SMMA', 'SQZMI', 'SSMA', 'STC', 'STOCH', 'STOCHD',\n",
    "        # 'STOCHRSI', 'TEMA', 'TMF', 'TP', 'TR', 'TRIMA', 'TRIX', 'TSI', 'UO', 'VAMA', 'VFI', 'VORTEX', 'VPT', 'VR',\n",
    "        # 'VWAP', 'VW_MACD', 'VZO', 'WILLIAMS', 'WMA', 'WOBV', 'WTO', 'ZLEMA']\n",
    "\n",
    "        # Here are all indicators we are using\n",
    "    indicators = ['SMA', 'SMM', 'SSMA', 'EMA', 'DEMA', 'TEMA', 'TRIMA', 'TRIX', 'ER', 'KAMA', 'ZLEMA',\n",
    "                      'WMA', 'HMA', 'SMMA', 'MACD', 'PPO', 'MOM', 'ROC', 'RSI',\n",
    "                      'IFT_RSI']\n",
    "        # These indicators need more tuning or are broken\n",
    "    broken_indicators = ['SAR', 'TMF', 'QSTICK']\n",
    "    for indicator in indicators:\n",
    "        if indicator not in broken_indicators:\n",
    "            df = None\n",
    "                # Using python's eval function to create a method from a string instead of having every method defined\n",
    "            df = eval('TA.' + indicator + '(data)')\n",
    "                # Some method return series, so we can check to convert here\n",
    "            if not isinstance(df, pd.DataFrame):\n",
    "                df = df.to_frame()\n",
    "                # Appropriate labels on each column\n",
    "            df = df.add_prefix(indicator + '_')\n",
    "                # Join merge dataframes based on the date\n",
    "            data = data.merge(df, left_index=True, right_index=True)\n",
    "        # Fix labels\n",
    "    data.columns = data.columns.str.replace(' ', '_')\n",
    "    return(data)"
   ]
  },
  {
   "cell_type": "code",
   "execution_count": 9,
   "metadata": {
    "colab": {},
    "colab_type": "code",
    "executionInfo": {
     "elapsed": 8888,
     "status": "ok",
     "timestamp": 1597160140931,
     "user": {
      "displayName": "raul abraham Nieto Pacheco",
      "photoUrl": "",
      "userId": "06171730266864656462"
     },
     "user_tz": 300
    },
    "id": "E6Cjccn90nX3"
   },
   "outputs": [],
   "source": [
    "data=add_indicators(data)"
   ]
  },
  {
   "cell_type": "code",
   "execution_count": 10,
   "metadata": {
    "colab": {},
    "colab_type": "code",
    "executionInfo": {
     "elapsed": 750,
     "status": "ok",
     "timestamp": 1597160145008,
     "user": {
      "displayName": "raul abraham Nieto Pacheco",
      "photoUrl": "",
      "userId": "06171730266864656462"
     },
     "user_tz": 300
    },
    "id": "1ODNj8FE0nX8"
   },
   "outputs": [],
   "source": [
    "data.dropna(inplace=True)"
   ]
  },
  {
   "cell_type": "code",
   "execution_count": 11,
   "metadata": {
    "colab": {},
    "colab_type": "code",
    "executionInfo": {
     "elapsed": 767,
     "status": "ok",
     "timestamp": 1597160146708,
     "user": {
      "displayName": "raul abraham Nieto Pacheco",
      "photoUrl": "",
      "userId": "06171730266864656462"
     },
     "user_tz": 300
    },
    "id": "tMHcZgit0nYC"
   },
   "outputs": [],
   "source": [
    "data[\"dir\"]=np.sign(data[\"percent_change\"]).shift(-1)\n",
    "data.dropna(inplace=True)\n",
    "data[\"dir\"]=data[\"dir\"].apply(lambda x: 1 if x>=0 else 0)\n",
    "data[\"dir_ant30\"]=data[\"dir\"].rolling(window=30).mean()\n",
    "data.dropna(inplace=True)"
   ]
  },
  {
   "cell_type": "code",
   "execution_count": 12,
   "metadata": {
    "colab": {
     "base_uri": "https://localhost:8080/",
     "height": 435
    },
    "colab_type": "code",
    "executionInfo": {
     "elapsed": 738,
     "status": "ok",
     "timestamp": 1597160148336,
     "user": {
      "displayName": "raul abraham Nieto Pacheco",
      "photoUrl": "",
      "userId": "06171730266864656462"
     },
     "user_tz": 300
    },
    "id": "yY2_CKjE4Slz",
    "outputId": "5b804884-fed1-44f1-b03b-e7ba06f89a92"
   },
   "outputs": [
    {
     "data": {
      "text/html": [
       "<div>\n",
       "<style scoped>\n",
       "    .dataframe tbody tr th:only-of-type {\n",
       "        vertical-align: middle;\n",
       "    }\n",
       "\n",
       "    .dataframe tbody tr th {\n",
       "        vertical-align: top;\n",
       "    }\n",
       "\n",
       "    .dataframe thead th {\n",
       "        text-align: right;\n",
       "    }\n",
       "</style>\n",
       "<table border=\"1\" class=\"dataframe\">\n",
       "  <thead>\n",
       "    <tr style=\"text-align: right;\">\n",
       "      <th></th>\n",
       "      <th>open</th>\n",
       "      <th>high</th>\n",
       "      <th>low</th>\n",
       "      <th>close</th>\n",
       "      <th>opensp</th>\n",
       "      <th>highsp</th>\n",
       "      <th>lowsp</th>\n",
       "      <th>closesp</th>\n",
       "      <th>sp_percent_change</th>\n",
       "      <th>percent_change</th>\n",
       "      <th>...</th>\n",
       "      <th>MACD_SIGNAL</th>\n",
       "      <th>PPO_PPO</th>\n",
       "      <th>PPO_SIGNAL</th>\n",
       "      <th>PPO_HISTO</th>\n",
       "      <th>MOM_MOM</th>\n",
       "      <th>ROC_ROC</th>\n",
       "      <th>RSI_14_period_RSI</th>\n",
       "      <th>IFT_RSI_IFT_RSI</th>\n",
       "      <th>dir</th>\n",
       "      <th>dir_ant30</th>\n",
       "    </tr>\n",
       "    <tr>\n",
       "      <th>Date</th>\n",
       "      <th></th>\n",
       "      <th></th>\n",
       "      <th></th>\n",
       "      <th></th>\n",
       "      <th></th>\n",
       "      <th></th>\n",
       "      <th></th>\n",
       "      <th></th>\n",
       "      <th></th>\n",
       "      <th></th>\n",
       "      <th></th>\n",
       "      <th></th>\n",
       "      <th></th>\n",
       "      <th></th>\n",
       "      <th></th>\n",
       "      <th></th>\n",
       "      <th></th>\n",
       "      <th></th>\n",
       "      <th></th>\n",
       "      <th></th>\n",
       "      <th></th>\n",
       "    </tr>\n",
       "  </thead>\n",
       "  <tbody>\n",
       "    <tr>\n",
       "      <th>2020-08-14</th>\n",
       "      <td>22.1538</td>\n",
       "      <td>22.2335</td>\n",
       "      <td>22.0040</td>\n",
       "      <td>22.1539</td>\n",
       "      <td>336.41</td>\n",
       "      <td>337.42</td>\n",
       "      <td>335.62</td>\n",
       "      <td>336.84</td>\n",
       "      <td>0.000030</td>\n",
       "      <td>-0.008370</td>\n",
       "      <td>...</td>\n",
       "      <td>-0.044642</td>\n",
       "      <td>-0.166223</td>\n",
       "      <td>-0.199360</td>\n",
       "      <td>0.033138</td>\n",
       "      <td>0.1585</td>\n",
       "      <td>1.005316</td>\n",
       "      <td>43.365689</td>\n",
       "      <td>2.246718</td>\n",
       "      <td>0</td>\n",
       "      <td>0.466667</td>\n",
       "    </tr>\n",
       "    <tr>\n",
       "      <th>2020-08-17</th>\n",
       "      <td>21.9473</td>\n",
       "      <td>22.0671</td>\n",
       "      <td>21.8993</td>\n",
       "      <td>21.9335</td>\n",
       "      <td>337.94</td>\n",
       "      <td>338.34</td>\n",
       "      <td>336.85</td>\n",
       "      <td>337.91</td>\n",
       "      <td>0.003177</td>\n",
       "      <td>-0.009949</td>\n",
       "      <td>...</td>\n",
       "      <td>-0.049068</td>\n",
       "      <td>-0.298845</td>\n",
       "      <td>-0.219257</td>\n",
       "      <td>-0.079588</td>\n",
       "      <td>-0.3271</td>\n",
       "      <td>-0.177495</td>\n",
       "      <td>38.396101</td>\n",
       "      <td>28.448516</td>\n",
       "      <td>1</td>\n",
       "      <td>0.500000</td>\n",
       "    </tr>\n",
       "    <tr>\n",
       "      <th>2020-08-18</th>\n",
       "      <td>22.1557</td>\n",
       "      <td>22.2013</td>\n",
       "      <td>22.0078</td>\n",
       "      <td>22.1422</td>\n",
       "      <td>338.34</td>\n",
       "      <td>339.10</td>\n",
       "      <td>336.61</td>\n",
       "      <td>338.64</td>\n",
       "      <td>0.002160</td>\n",
       "      <td>0.009515</td>\n",
       "      <td>...</td>\n",
       "      <td>-0.053761</td>\n",
       "      <td>-0.324859</td>\n",
       "      <td>-0.240378</td>\n",
       "      <td>-0.084482</td>\n",
       "      <td>-0.4835</td>\n",
       "      <td>0.667412</td>\n",
       "      <td>44.841930</td>\n",
       "      <td>122.938024</td>\n",
       "      <td>0</td>\n",
       "      <td>0.466667</td>\n",
       "    </tr>\n",
       "    <tr>\n",
       "      <th>2020-08-19</th>\n",
       "      <td>22.1345</td>\n",
       "      <td>22.1842</td>\n",
       "      <td>22.0093</td>\n",
       "      <td>22.1313</td>\n",
       "      <td>339.05</td>\n",
       "      <td>339.61</td>\n",
       "      <td>336.62</td>\n",
       "      <td>337.23</td>\n",
       "      <td>-0.004164</td>\n",
       "      <td>-0.000492</td>\n",
       "      <td>...</td>\n",
       "      <td>-0.058428</td>\n",
       "      <td>-0.345502</td>\n",
       "      <td>-0.261403</td>\n",
       "      <td>-0.084100</td>\n",
       "      <td>-0.4971</td>\n",
       "      <td>-0.580847</td>\n",
       "      <td>44.579571</td>\n",
       "      <td>1366.644451</td>\n",
       "      <td>1</td>\n",
       "      <td>0.500000</td>\n",
       "    </tr>\n",
       "    <tr>\n",
       "      <th>2020-08-20</th>\n",
       "      <td>22.1772</td>\n",
       "      <td>22.3208</td>\n",
       "      <td>22.1151</td>\n",
       "      <td>22.1748</td>\n",
       "      <td>335.36</td>\n",
       "      <td>338.80</td>\n",
       "      <td>335.22</td>\n",
       "      <td>338.28</td>\n",
       "      <td>0.003114</td>\n",
       "      <td>0.001966</td>\n",
       "      <td>...</td>\n",
       "      <td>-0.062006</td>\n",
       "      <td>-0.342178</td>\n",
       "      <td>-0.277558</td>\n",
       "      <td>-0.064621</td>\n",
       "      <td>-0.1968</td>\n",
       "      <td>-1.992867</td>\n",
       "      <td>45.938957</td>\n",
       "      <td>15575.388490</td>\n",
       "      <td>0</td>\n",
       "      <td>0.500000</td>\n",
       "    </tr>\n",
       "    <tr>\n",
       "      <th>2020-08-21</th>\n",
       "      <td>22.0684</td>\n",
       "      <td>22.1695</td>\n",
       "      <td>21.9863</td>\n",
       "      <td>22.0883</td>\n",
       "      <td>337.92</td>\n",
       "      <td>339.72</td>\n",
       "      <td>337.55</td>\n",
       "      <td>339.48</td>\n",
       "      <td>0.003547</td>\n",
       "      <td>-0.003901</td>\n",
       "      <td>...</td>\n",
       "      <td>-0.065953</td>\n",
       "      <td>-0.366750</td>\n",
       "      <td>-0.295396</td>\n",
       "      <td>-0.071354</td>\n",
       "      <td>-0.3145</td>\n",
       "      <td>-2.386824</td>\n",
       "      <td>43.646336</td>\n",
       "      <td>498.588041</td>\n",
       "      <td>0</td>\n",
       "      <td>0.500000</td>\n",
       "    </tr>\n",
       "    <tr>\n",
       "      <th>2020-08-24</th>\n",
       "      <td>21.9590</td>\n",
       "      <td>22.0023</td>\n",
       "      <td>21.8671</td>\n",
       "      <td>21.9597</td>\n",
       "      <td>342.12</td>\n",
       "      <td>343.00</td>\n",
       "      <td>339.45</td>\n",
       "      <td>342.92</td>\n",
       "      <td>0.010133</td>\n",
       "      <td>-0.005822</td>\n",
       "      <td>...</td>\n",
       "      <td>-0.071825</td>\n",
       "      <td>-0.428126</td>\n",
       "      <td>-0.321942</td>\n",
       "      <td>-0.106184</td>\n",
       "      <td>-0.4449</td>\n",
       "      <td>-1.841174</td>\n",
       "      <td>40.416921</td>\n",
       "      <td>57.634761</td>\n",
       "      <td>1</td>\n",
       "      <td>0.500000</td>\n",
       "    </tr>\n",
       "  </tbody>\n",
       "</table>\n",
       "<p>7 rows × 37 columns</p>\n",
       "</div>"
      ],
      "text/plain": [
       "               open     high      low    close  opensp  highsp   lowsp  \\\n",
       "Date                                                                     \n",
       "2020-08-14  22.1538  22.2335  22.0040  22.1539  336.41  337.42  335.62   \n",
       "2020-08-17  21.9473  22.0671  21.8993  21.9335  337.94  338.34  336.85   \n",
       "2020-08-18  22.1557  22.2013  22.0078  22.1422  338.34  339.10  336.61   \n",
       "2020-08-19  22.1345  22.1842  22.0093  22.1313  339.05  339.61  336.62   \n",
       "2020-08-20  22.1772  22.3208  22.1151  22.1748  335.36  338.80  335.22   \n",
       "2020-08-21  22.0684  22.1695  21.9863  22.0883  337.92  339.72  337.55   \n",
       "2020-08-24  21.9590  22.0023  21.8671  21.9597  342.12  343.00  339.45   \n",
       "\n",
       "            closesp  sp_percent_change  percent_change  ...  MACD_SIGNAL  \\\n",
       "Date                                                    ...                \n",
       "2020-08-14   336.84           0.000030       -0.008370  ...    -0.044642   \n",
       "2020-08-17   337.91           0.003177       -0.009949  ...    -0.049068   \n",
       "2020-08-18   338.64           0.002160        0.009515  ...    -0.053761   \n",
       "2020-08-19   337.23          -0.004164       -0.000492  ...    -0.058428   \n",
       "2020-08-20   338.28           0.003114        0.001966  ...    -0.062006   \n",
       "2020-08-21   339.48           0.003547       -0.003901  ...    -0.065953   \n",
       "2020-08-24   342.92           0.010133       -0.005822  ...    -0.071825   \n",
       "\n",
       "             PPO_PPO  PPO_SIGNAL  PPO_HISTO  MOM_MOM   ROC_ROC  \\\n",
       "Date                                                             \n",
       "2020-08-14 -0.166223   -0.199360   0.033138   0.1585  1.005316   \n",
       "2020-08-17 -0.298845   -0.219257  -0.079588  -0.3271 -0.177495   \n",
       "2020-08-18 -0.324859   -0.240378  -0.084482  -0.4835  0.667412   \n",
       "2020-08-19 -0.345502   -0.261403  -0.084100  -0.4971 -0.580847   \n",
       "2020-08-20 -0.342178   -0.277558  -0.064621  -0.1968 -1.992867   \n",
       "2020-08-21 -0.366750   -0.295396  -0.071354  -0.3145 -2.386824   \n",
       "2020-08-24 -0.428126   -0.321942  -0.106184  -0.4449 -1.841174   \n",
       "\n",
       "            RSI_14_period_RSI  IFT_RSI_IFT_RSI  dir  dir_ant30  \n",
       "Date                                                            \n",
       "2020-08-14          43.365689         2.246718    0   0.466667  \n",
       "2020-08-17          38.396101        28.448516    1   0.500000  \n",
       "2020-08-18          44.841930       122.938024    0   0.466667  \n",
       "2020-08-19          44.579571      1366.644451    1   0.500000  \n",
       "2020-08-20          45.938957     15575.388490    0   0.500000  \n",
       "2020-08-21          43.646336       498.588041    0   0.500000  \n",
       "2020-08-24          40.416921        57.634761    1   0.500000  \n",
       "\n",
       "[7 rows x 37 columns]"
      ]
     },
     "execution_count": 12,
     "metadata": {},
     "output_type": "execute_result"
    }
   ],
   "source": [
    "data.tail(7)"
   ]
  },
  {
   "cell_type": "code",
   "execution_count": 13,
   "metadata": {
    "colab": {},
    "colab_type": "code",
    "executionInfo": {
     "elapsed": 477,
     "status": "ok",
     "timestamp": 1597160155252,
     "user": {
      "displayName": "raul abraham Nieto Pacheco",
      "photoUrl": "",
      "userId": "06171730266864656462"
     },
     "user_tz": 300
    },
    "id": "0B8gVEoy0nYI"
   },
   "outputs": [],
   "source": [
    "X = data.drop('dir', axis=1).values\n",
    "y = data['dir'].values"
   ]
  },
  {
   "cell_type": "markdown",
   "metadata": {
    "colab_type": "text",
    "id": "VvqxNHNm1uy1"
   },
   "source": [
    "# Reshaping CNN\n",
    "\n",
    "\n"
   ]
  },
  {
   "cell_type": "code",
   "execution_count": 14,
   "metadata": {
    "colab": {},
    "colab_type": "code",
    "executionInfo": {
     "elapsed": 723,
     "status": "ok",
     "timestamp": 1597160164474,
     "user": {
      "displayName": "raul abraham Nieto Pacheco",
      "photoUrl": "",
      "userId": "06171730266864656462"
     },
     "user_tz": 300
    },
    "id": "jG0X0xSy1hlR"
   },
   "outputs": [],
   "source": [
    "window=15\n",
    "forecast=1\n",
    "xx=[]\n",
    "yy=[]\n",
    "for i in range(len(X)-window+1):\n",
    "  xx.append(X[i:i+window].reshape(window,X.shape[1]))\n",
    "  yy.append(y[i+window-1])\n",
    "\n",
    "xx=np.array(xx)\n",
    "yy=np.array(yy)  "
   ]
  },
  {
   "cell_type": "code",
   "execution_count": 15,
   "metadata": {
    "colab": {
     "base_uri": "https://localhost:8080/",
     "height": 191
    },
    "colab_type": "code",
    "executionInfo": {
     "elapsed": 391,
     "status": "ok",
     "timestamp": 1597160165784,
     "user": {
      "displayName": "raul abraham Nieto Pacheco",
      "photoUrl": "",
      "userId": "06171730266864656462"
     },
     "user_tz": 300
    },
    "id": "dDdI7Qiw3Jdi",
    "outputId": "0856cd55-1fc2-4bef-ba83-38d6c7d54723"
   },
   "outputs": [
    {
     "data": {
      "text/plain": [
       "(array([ 2.19590000e+01,  2.20023000e+01,  2.18671000e+01,  2.19597000e+01,\n",
       "         3.42120000e+02,  3.43000000e+02,  3.39450000e+02,  3.42920000e+02,\n",
       "         1.01331448e-02, -5.82208681e-03, -1.59552316e-02,  2.23934268e+01,\n",
       "         2.21422000e+01,  2.22073664e+01,  2.21367962e+01,  2.20421592e+01,\n",
       "         2.20056176e+01,  2.23056707e+01, -4.33273256e-02,  4.21986152e-01,\n",
       "         2.22129987e+01,  2.21362729e+01,  2.20967778e+01,  2.19748406e+01,\n",
       "         2.20215710e+01,  2.23760932e+01, -9.53145958e-02, -7.18250087e-02,\n",
       "        -4.28125610e-01, -3.21942073e-01, -1.06183537e-01, -4.44900000e-01,\n",
       "        -1.84117363e+00,  4.04169215e+01,  5.76347613e+01,  5.00000000e-01]),\n",
       " 1)"
      ]
     },
     "execution_count": 15,
     "metadata": {},
     "output_type": "execute_result"
    }
   ],
   "source": [
    "xx[-1,-1],yy[-1]"
   ]
  },
  {
   "cell_type": "code",
   "execution_count": 16,
   "metadata": {
    "colab": {
     "base_uri": "https://localhost:8080/",
     "height": 339
    },
    "colab_type": "code",
    "executionInfo": {
     "elapsed": 823,
     "status": "ok",
     "timestamp": 1597160167803,
     "user": {
      "displayName": "raul abraham Nieto Pacheco",
      "photoUrl": "",
      "userId": "06171730266864656462"
     },
     "user_tz": 300
    },
    "id": "nENETEdS1hoC",
    "outputId": "71de3ff4-63bd-4c9e-bd76-ae9baea77c44"
   },
   "outputs": [
    {
     "data": {
      "text/html": [
       "<div>\n",
       "<style scoped>\n",
       "    .dataframe tbody tr th:only-of-type {\n",
       "        vertical-align: middle;\n",
       "    }\n",
       "\n",
       "    .dataframe tbody tr th {\n",
       "        vertical-align: top;\n",
       "    }\n",
       "\n",
       "    .dataframe thead th {\n",
       "        text-align: right;\n",
       "    }\n",
       "</style>\n",
       "<table border=\"1\" class=\"dataframe\">\n",
       "  <thead>\n",
       "    <tr style=\"text-align: right;\">\n",
       "      <th></th>\n",
       "      <th>open</th>\n",
       "      <th>high</th>\n",
       "      <th>low</th>\n",
       "      <th>close</th>\n",
       "      <th>opensp</th>\n",
       "      <th>highsp</th>\n",
       "      <th>lowsp</th>\n",
       "      <th>closesp</th>\n",
       "      <th>sp_percent_change</th>\n",
       "      <th>percent_change</th>\n",
       "      <th>...</th>\n",
       "      <th>MACD_SIGNAL</th>\n",
       "      <th>PPO_PPO</th>\n",
       "      <th>PPO_SIGNAL</th>\n",
       "      <th>PPO_HISTO</th>\n",
       "      <th>MOM_MOM</th>\n",
       "      <th>ROC_ROC</th>\n",
       "      <th>RSI_14_period_RSI</th>\n",
       "      <th>IFT_RSI_IFT_RSI</th>\n",
       "      <th>dir</th>\n",
       "      <th>dir_ant30</th>\n",
       "    </tr>\n",
       "    <tr>\n",
       "      <th>Date</th>\n",
       "      <th></th>\n",
       "      <th></th>\n",
       "      <th></th>\n",
       "      <th></th>\n",
       "      <th></th>\n",
       "      <th></th>\n",
       "      <th></th>\n",
       "      <th></th>\n",
       "      <th></th>\n",
       "      <th></th>\n",
       "      <th></th>\n",
       "      <th></th>\n",
       "      <th></th>\n",
       "      <th></th>\n",
       "      <th></th>\n",
       "      <th></th>\n",
       "      <th></th>\n",
       "      <th></th>\n",
       "      <th></th>\n",
       "      <th></th>\n",
       "      <th></th>\n",
       "    </tr>\n",
       "  </thead>\n",
       "  <tbody>\n",
       "    <tr>\n",
       "      <th>2020-08-18</th>\n",
       "      <td>22.1557</td>\n",
       "      <td>22.2013</td>\n",
       "      <td>22.0078</td>\n",
       "      <td>22.1422</td>\n",
       "      <td>338.34</td>\n",
       "      <td>339.10</td>\n",
       "      <td>336.61</td>\n",
       "      <td>338.64</td>\n",
       "      <td>0.002160</td>\n",
       "      <td>0.009515</td>\n",
       "      <td>...</td>\n",
       "      <td>-0.053761</td>\n",
       "      <td>-0.324859</td>\n",
       "      <td>-0.240378</td>\n",
       "      <td>-0.084482</td>\n",
       "      <td>-0.4835</td>\n",
       "      <td>0.667412</td>\n",
       "      <td>44.841930</td>\n",
       "      <td>122.938024</td>\n",
       "      <td>0</td>\n",
       "      <td>0.466667</td>\n",
       "    </tr>\n",
       "    <tr>\n",
       "      <th>2020-08-19</th>\n",
       "      <td>22.1345</td>\n",
       "      <td>22.1842</td>\n",
       "      <td>22.0093</td>\n",
       "      <td>22.1313</td>\n",
       "      <td>339.05</td>\n",
       "      <td>339.61</td>\n",
       "      <td>336.62</td>\n",
       "      <td>337.23</td>\n",
       "      <td>-0.004164</td>\n",
       "      <td>-0.000492</td>\n",
       "      <td>...</td>\n",
       "      <td>-0.058428</td>\n",
       "      <td>-0.345502</td>\n",
       "      <td>-0.261403</td>\n",
       "      <td>-0.084100</td>\n",
       "      <td>-0.4971</td>\n",
       "      <td>-0.580847</td>\n",
       "      <td>44.579571</td>\n",
       "      <td>1366.644451</td>\n",
       "      <td>1</td>\n",
       "      <td>0.500000</td>\n",
       "    </tr>\n",
       "    <tr>\n",
       "      <th>2020-08-20</th>\n",
       "      <td>22.1772</td>\n",
       "      <td>22.3208</td>\n",
       "      <td>22.1151</td>\n",
       "      <td>22.1748</td>\n",
       "      <td>335.36</td>\n",
       "      <td>338.80</td>\n",
       "      <td>335.22</td>\n",
       "      <td>338.28</td>\n",
       "      <td>0.003114</td>\n",
       "      <td>0.001966</td>\n",
       "      <td>...</td>\n",
       "      <td>-0.062006</td>\n",
       "      <td>-0.342178</td>\n",
       "      <td>-0.277558</td>\n",
       "      <td>-0.064621</td>\n",
       "      <td>-0.1968</td>\n",
       "      <td>-1.992867</td>\n",
       "      <td>45.938957</td>\n",
       "      <td>15575.388490</td>\n",
       "      <td>0</td>\n",
       "      <td>0.500000</td>\n",
       "    </tr>\n",
       "    <tr>\n",
       "      <th>2020-08-21</th>\n",
       "      <td>22.0684</td>\n",
       "      <td>22.1695</td>\n",
       "      <td>21.9863</td>\n",
       "      <td>22.0883</td>\n",
       "      <td>337.92</td>\n",
       "      <td>339.72</td>\n",
       "      <td>337.55</td>\n",
       "      <td>339.48</td>\n",
       "      <td>0.003547</td>\n",
       "      <td>-0.003901</td>\n",
       "      <td>...</td>\n",
       "      <td>-0.065953</td>\n",
       "      <td>-0.366750</td>\n",
       "      <td>-0.295396</td>\n",
       "      <td>-0.071354</td>\n",
       "      <td>-0.3145</td>\n",
       "      <td>-2.386824</td>\n",
       "      <td>43.646336</td>\n",
       "      <td>498.588041</td>\n",
       "      <td>0</td>\n",
       "      <td>0.500000</td>\n",
       "    </tr>\n",
       "    <tr>\n",
       "      <th>2020-08-24</th>\n",
       "      <td>21.9590</td>\n",
       "      <td>22.0023</td>\n",
       "      <td>21.8671</td>\n",
       "      <td>21.9597</td>\n",
       "      <td>342.12</td>\n",
       "      <td>343.00</td>\n",
       "      <td>339.45</td>\n",
       "      <td>342.92</td>\n",
       "      <td>0.010133</td>\n",
       "      <td>-0.005822</td>\n",
       "      <td>...</td>\n",
       "      <td>-0.071825</td>\n",
       "      <td>-0.428126</td>\n",
       "      <td>-0.321942</td>\n",
       "      <td>-0.106184</td>\n",
       "      <td>-0.4449</td>\n",
       "      <td>-1.841174</td>\n",
       "      <td>40.416921</td>\n",
       "      <td>57.634761</td>\n",
       "      <td>1</td>\n",
       "      <td>0.500000</td>\n",
       "    </tr>\n",
       "  </tbody>\n",
       "</table>\n",
       "<p>5 rows × 37 columns</p>\n",
       "</div>"
      ],
      "text/plain": [
       "               open     high      low    close  opensp  highsp   lowsp  \\\n",
       "Date                                                                     \n",
       "2020-08-18  22.1557  22.2013  22.0078  22.1422  338.34  339.10  336.61   \n",
       "2020-08-19  22.1345  22.1842  22.0093  22.1313  339.05  339.61  336.62   \n",
       "2020-08-20  22.1772  22.3208  22.1151  22.1748  335.36  338.80  335.22   \n",
       "2020-08-21  22.0684  22.1695  21.9863  22.0883  337.92  339.72  337.55   \n",
       "2020-08-24  21.9590  22.0023  21.8671  21.9597  342.12  343.00  339.45   \n",
       "\n",
       "            closesp  sp_percent_change  percent_change  ...  MACD_SIGNAL  \\\n",
       "Date                                                    ...                \n",
       "2020-08-18   338.64           0.002160        0.009515  ...    -0.053761   \n",
       "2020-08-19   337.23          -0.004164       -0.000492  ...    -0.058428   \n",
       "2020-08-20   338.28           0.003114        0.001966  ...    -0.062006   \n",
       "2020-08-21   339.48           0.003547       -0.003901  ...    -0.065953   \n",
       "2020-08-24   342.92           0.010133       -0.005822  ...    -0.071825   \n",
       "\n",
       "             PPO_PPO  PPO_SIGNAL  PPO_HISTO  MOM_MOM   ROC_ROC  \\\n",
       "Date                                                             \n",
       "2020-08-18 -0.324859   -0.240378  -0.084482  -0.4835  0.667412   \n",
       "2020-08-19 -0.345502   -0.261403  -0.084100  -0.4971 -0.580847   \n",
       "2020-08-20 -0.342178   -0.277558  -0.064621  -0.1968 -1.992867   \n",
       "2020-08-21 -0.366750   -0.295396  -0.071354  -0.3145 -2.386824   \n",
       "2020-08-24 -0.428126   -0.321942  -0.106184  -0.4449 -1.841174   \n",
       "\n",
       "            RSI_14_period_RSI  IFT_RSI_IFT_RSI  dir  dir_ant30  \n",
       "Date                                                            \n",
       "2020-08-18          44.841930       122.938024    0   0.466667  \n",
       "2020-08-19          44.579571      1366.644451    1   0.500000  \n",
       "2020-08-20          45.938957     15575.388490    0   0.500000  \n",
       "2020-08-21          43.646336       498.588041    0   0.500000  \n",
       "2020-08-24          40.416921        57.634761    1   0.500000  \n",
       "\n",
       "[5 rows x 37 columns]"
      ]
     },
     "execution_count": 16,
     "metadata": {},
     "output_type": "execute_result"
    }
   ],
   "source": [
    "data.iloc[-5:]"
   ]
  },
  {
   "cell_type": "code",
   "execution_count": 17,
   "metadata": {
    "colab": {
     "base_uri": "https://localhost:8080/",
     "height": 35
    },
    "colab_type": "code",
    "executionInfo": {
     "elapsed": 733,
     "status": "ok",
     "timestamp": 1597160169670,
     "user": {
      "displayName": "raul abraham Nieto Pacheco",
      "photoUrl": "",
      "userId": "06171730266864656462"
     },
     "user_tz": 300
    },
    "id": "XlibKyt81hsj",
    "outputId": "579ddbe8-83f3-4d32-dbb0-f587815ad31c"
   },
   "outputs": [
    {
     "data": {
      "text/plain": [
       "(4124, 15, 36)"
      ]
     },
     "execution_count": 17,
     "metadata": {},
     "output_type": "execute_result"
    }
   ],
   "source": [
    "xx.shape"
   ]
  },
  {
   "cell_type": "code",
   "execution_count": 18,
   "metadata": {
    "colab": {},
    "colab_type": "code",
    "executionInfo": {
     "elapsed": 741,
     "status": "ok",
     "timestamp": 1597160435895,
     "user": {
      "displayName": "raul abraham Nieto Pacheco",
      "photoUrl": "",
      "userId": "06171730266864656462"
     },
     "user_tz": 300
    },
    "id": "obtHvI5b1hqs"
   },
   "outputs": [],
   "source": [
    "split=int(xx.shape[0]*.8)\n",
    "xx_train,xx_test,yy_train,yy_test=xx[:split],xx[split:],yy[:split],yy[split:]"
   ]
  },
  {
   "cell_type": "markdown",
   "metadata": {
    "colab_type": "text",
    "id": "Gpj-QhrTxUea"
   },
   "source": [
    "# Modelo convencional"
   ]
  },
  {
   "cell_type": "code",
   "execution_count": 19,
   "metadata": {
    "colab": {
     "base_uri": "https://localhost:8080/",
     "height": 537
    },
    "colab_type": "code",
    "executionInfo": {
     "elapsed": 348,
     "status": "ok",
     "timestamp": 1596650275759,
     "user": {
      "displayName": "raul abraham Nieto Pacheco",
      "photoUrl": "",
      "userId": "06171730266864656462"
     },
     "user_tz": 300
    },
    "id": "RgQYL96bxbYA",
    "outputId": "402be195-6023-4d49-99bc-0323c3caead4"
   },
   "outputs": [
    {
     "name": "stdout",
     "output_type": "stream",
     "text": [
      "Model: \"model\"\n",
      "_________________________________________________________________\n",
      "Layer (type)                 Output Shape              Param #   \n",
      "=================================================================\n",
      "input_1 (InputLayer)         [(None, 15, 36)]          0         \n",
      "_________________________________________________________________\n",
      "batch_normalization (BatchNo (None, 15, 36)            144       \n",
      "_________________________________________________________________\n",
      "gaussian_noise (GaussianNois (None, 15, 36)            0         \n",
      "_________________________________________________________________\n",
      "conv1d (Conv1D)              (None, 15, 128)           46208     \n",
      "_________________________________________________________________\n",
      "batch_normalization_1 (Batch (None, 15, 128)           512       \n",
      "_________________________________________________________________\n",
      "max_pooling1d (MaxPooling1D) (None, 2, 128)            0         \n",
      "_________________________________________________________________\n",
      "flatten (Flatten)            (None, 256)               0         \n",
      "_________________________________________________________________\n",
      "batch_normalization_2 (Batch (None, 256)               1024      \n",
      "_________________________________________________________________\n",
      "dense (Dense)                (None, 200)               51400     \n",
      "_________________________________________________________________\n",
      "batch_normalization_3 (Batch (None, 200)               800       \n",
      "_________________________________________________________________\n",
      "dense_1 (Dense)              (None, 2)                 402       \n",
      "=================================================================\n",
      "Total params: 100,490\n",
      "Trainable params: 99,250\n",
      "Non-trainable params: 1,240\n",
      "_________________________________________________________________\n"
     ]
    }
   ],
   "source": [
    "\n",
    "inp=Input(shape=(xx_train.shape[1],xx_train.shape[2],))\n",
    "x=BatchNormalization()(inp)\n",
    "x=GaussianNoise(.1)(x)\n",
    "#x=BatchNormalization()(x)\n",
    "x=Conv1D(128,10,padding=\"same\",activation=LeakyReLU(.1),kernel_regularizer=l2(.1))(x)\n",
    "x=BatchNormalization()(x)\n",
    "#x=Conv1D(64,10,activation=LeakyReLU(.1),kernel_regularizer=l2(.1))(x)\n",
    "#x=BatchNormalization()(x)\n",
    "#x=Conv1D(32,10,activation=LeakyReLU(.1),kernel_regularizer=l2(.1))(x)\n",
    "#x=BatchNormalization()(x)\n",
    "#x=Dropout(.5)(x)\n",
    "x=MaxPooling1D(10,padding=\"same\")(x)\n",
    "x=Flatten()(x)\n",
    "x=BatchNormalization()(x)\n",
    "x=Dense(200,activation=\"tanh\",kernel_regularizer=l2(.1))(x)\n",
    "x=BatchNormalization()(x)\n",
    "x=Dense(2,activation=\"softmax\")(x)\n",
    "model=Model(inp,x)\n",
    "model.summary()"
   ]
  },
  {
   "cell_type": "code",
   "execution_count": 20,
   "metadata": {
    "colab_type": "text",
    "id": "jeL7Y6MNxUbV"
   },
   "outputs": [
    {
     "data": {
      "text/plain": [
       "'2.1.0'"
      ]
     },
     "execution_count": 20,
     "metadata": {},
     "output_type": "execute_result"
    }
   ],
   "source": [
    "#from keras.utils import to_categorical\n",
    "import tensorflow as tf\n",
    "tf.__version__"
   ]
  },
  {
   "cell_type": "code",
   "execution_count": 21,
   "metadata": {
    "colab": {
     "base_uri": "https://localhost:8080/",
     "height": 1000
    },
    "colab_type": "code",
    "executionInfo": {
     "elapsed": 14537,
     "status": "ok",
     "timestamp": 1596650357010,
     "user": {
      "displayName": "raul abraham Nieto Pacheco",
      "photoUrl": "",
      "userId": "06171730266864656462"
     },
     "user_tz": 300
    },
    "id": "4rXSLQw6xdX2",
    "outputId": "01a97164-f3bc-4ebd-d5ca-d625a066cc66"
   },
   "outputs": [
    {
     "name": "stdout",
     "output_type": "stream",
     "text": [
      "\n",
      "Epoch 00001: val_acc improved from -inf to 0.47636, saving model to comun.hdf5\n",
      "\n",
      "Epoch 00002: val_acc improved from 0.47636 to 0.48000, saving model to comun.hdf5\n",
      "\n",
      "Epoch 00003: val_acc did not improve from 0.48000\n",
      "\n",
      "Epoch 00004: val_acc improved from 0.48000 to 0.52727, saving model to comun.hdf5\n",
      "\n",
      "Epoch 00005: val_acc improved from 0.52727 to 0.53697, saving model to comun.hdf5\n",
      "\n",
      "Epoch 00006: val_acc did not improve from 0.53697\n",
      "\n",
      "Epoch 00007: val_acc did not improve from 0.53697\n",
      "\n",
      "Epoch 00008: val_acc did not improve from 0.53697\n",
      "\n",
      "Epoch 00009: val_acc did not improve from 0.53697\n",
      "\n",
      "Epoch 00010: val_acc did not improve from 0.53697\n",
      "\n",
      "Epoch 00011: val_acc did not improve from 0.53697\n",
      "\n",
      "Epoch 00012: val_acc did not improve from 0.53697\n",
      "\n",
      "Epoch 00013: val_acc did not improve from 0.53697\n",
      "\n",
      "Epoch 00014: val_acc did not improve from 0.53697\n",
      "\n",
      "Epoch 00015: val_acc did not improve from 0.53697\n",
      "\n",
      "Epoch 00016: val_acc did not improve from 0.53697\n",
      "\n",
      "Epoch 00017: val_acc did not improve from 0.53697\n",
      "\n",
      "Epoch 00018: val_acc did not improve from 0.53697\n",
      "\n",
      "Epoch 00019: val_acc did not improve from 0.53697\n",
      "\n",
      "Epoch 00020: val_acc did not improve from 0.53697\n",
      "\n",
      "Epoch 00021: val_acc did not improve from 0.53697\n",
      "\n",
      "Epoch 00022: val_acc did not improve from 0.53697\n",
      "\n",
      "Epoch 00023: val_acc did not improve from 0.53697\n",
      "\n",
      "Epoch 00024: val_acc did not improve from 0.53697\n",
      "\n",
      "Epoch 00025: val_acc did not improve from 0.53697\n",
      "\n",
      "Epoch 00026: val_acc did not improve from 0.53697\n",
      "\n",
      "Epoch 00027: val_acc did not improve from 0.53697\n",
      "\n",
      "Epoch 00028: val_acc did not improve from 0.53697\n",
      "\n",
      "Epoch 00029: val_acc did not improve from 0.53697\n",
      "\n",
      "Epoch 00030: val_acc did not improve from 0.53697\n",
      "\n",
      "Epoch 00031: val_acc did not improve from 0.53697\n",
      "\n",
      "Epoch 00032: val_acc did not improve from 0.53697\n",
      "\n",
      "Epoch 00033: val_acc did not improve from 0.53697\n",
      "\n",
      "Epoch 00034: val_acc improved from 0.53697 to 0.58545, saving model to comun.hdf5\n",
      "\n",
      "Epoch 00035: val_acc did not improve from 0.58545\n",
      "\n",
      "Epoch 00036: val_acc did not improve from 0.58545\n",
      "\n",
      "Epoch 00037: val_acc did not improve from 0.58545\n",
      "\n",
      "Epoch 00038: val_acc did not improve from 0.58545\n",
      "\n",
      "Epoch 00039: val_acc did not improve from 0.58545\n",
      "\n",
      "Epoch 00040: val_acc did not improve from 0.58545\n",
      "\n",
      "Epoch 00041: val_acc did not improve from 0.58545\n",
      "\n",
      "Epoch 00042: val_acc did not improve from 0.58545\n",
      "\n",
      "Epoch 00043: val_acc did not improve from 0.58545\n",
      "\n",
      "Epoch 00044: val_acc did not improve from 0.58545\n",
      "\n",
      "Epoch 00045: val_acc did not improve from 0.58545\n",
      "\n",
      "Epoch 00046: val_acc did not improve from 0.58545\n",
      "\n",
      "Epoch 00047: val_acc did not improve from 0.58545\n",
      "\n",
      "Epoch 00048: val_acc did not improve from 0.58545\n",
      "\n",
      "Epoch 00049: val_acc did not improve from 0.58545\n",
      "\n",
      "Epoch 00050: val_acc did not improve from 0.58545\n",
      "\n",
      "Epoch 00051: val_acc did not improve from 0.58545\n",
      "\n",
      "Epoch 00052: val_acc did not improve from 0.58545\n",
      "\n",
      "Epoch 00053: val_acc did not improve from 0.58545\n",
      "\n",
      "Epoch 00054: val_acc did not improve from 0.58545\n",
      "\n",
      "Epoch 00055: val_acc did not improve from 0.58545\n",
      "\n",
      "Epoch 00056: val_acc did not improve from 0.58545\n",
      "\n",
      "Epoch 00057: val_acc did not improve from 0.58545\n",
      "\n",
      "Epoch 00058: val_acc did not improve from 0.58545\n",
      "\n",
      "Epoch 00059: val_acc improved from 0.58545 to 0.61576, saving model to comun.hdf5\n",
      "\n",
      "Epoch 00060: val_acc did not improve from 0.61576\n",
      "\n",
      "Epoch 00061: val_acc did not improve from 0.61576\n",
      "\n",
      "Epoch 00062: val_acc did not improve from 0.61576\n",
      "\n",
      "Epoch 00063: val_acc did not improve from 0.61576\n",
      "\n",
      "Epoch 00064: val_acc did not improve from 0.61576\n",
      "\n",
      "Epoch 00065: val_acc did not improve from 0.61576\n",
      "\n",
      "Epoch 00066: val_acc did not improve from 0.61576\n",
      "\n",
      "Epoch 00067: val_acc did not improve from 0.61576\n",
      "\n",
      "Epoch 00068: val_acc did not improve from 0.61576\n",
      "\n",
      "Epoch 00069: val_acc did not improve from 0.61576\n",
      "\n",
      "Epoch 00070: val_acc did not improve from 0.61576\n",
      "\n",
      "Epoch 00071: val_acc improved from 0.61576 to 0.66424, saving model to comun.hdf5\n",
      "\n",
      "Epoch 00072: val_acc did not improve from 0.66424\n",
      "\n",
      "Epoch 00073: val_acc did not improve from 0.66424\n",
      "\n",
      "Epoch 00074: val_acc did not improve from 0.66424\n",
      "\n",
      "Epoch 00075: val_acc did not improve from 0.66424\n",
      "\n",
      "Epoch 00076: val_acc did not improve from 0.66424\n",
      "\n",
      "Epoch 00077: val_acc improved from 0.66424 to 0.66909, saving model to comun.hdf5\n",
      "\n",
      "Epoch 00078: val_acc did not improve from 0.66909\n",
      "\n",
      "Epoch 00079: val_acc improved from 0.66909 to 0.70909, saving model to comun.hdf5\n",
      "\n",
      "Epoch 00080: val_acc did not improve from 0.70909\n",
      "\n",
      "Epoch 00081: val_acc did not improve from 0.70909\n",
      "\n",
      "Epoch 00082: val_acc did not improve from 0.70909\n",
      "\n",
      "Epoch 00083: val_acc did not improve from 0.70909\n",
      "\n",
      "Epoch 00084: val_acc did not improve from 0.70909\n",
      "\n",
      "Epoch 00085: val_acc did not improve from 0.70909\n",
      "\n",
      "Epoch 00086: val_acc did not improve from 0.70909\n",
      "\n",
      "Epoch 00087: val_acc did not improve from 0.70909\n",
      "\n",
      "Epoch 00088: val_acc did not improve from 0.70909\n",
      "\n",
      "Epoch 00089: val_acc did not improve from 0.70909\n",
      "\n",
      "Epoch 00090: val_acc did not improve from 0.70909\n",
      "\n",
      "Epoch 00091: val_acc improved from 0.70909 to 0.77455, saving model to comun.hdf5\n",
      "\n",
      "Epoch 00092: val_acc did not improve from 0.77455\n",
      "\n",
      "Epoch 00093: val_acc did not improve from 0.77455\n",
      "\n",
      "Epoch 00094: val_acc did not improve from 0.77455\n",
      "\n",
      "Epoch 00095: val_acc did not improve from 0.77455\n",
      "\n",
      "Epoch 00096: val_acc did not improve from 0.77455\n",
      "\n",
      "Epoch 00097: val_acc did not improve from 0.77455\n",
      "\n",
      "Epoch 00098: val_acc did not improve from 0.77455\n",
      "\n",
      "Epoch 00099: val_acc did not improve from 0.77455\n",
      "\n",
      "Epoch 00100: val_acc did not improve from 0.77455\n",
      "\n",
      "Epoch 00101: val_acc did not improve from 0.77455\n",
      "\n",
      "Epoch 00102: val_acc did not improve from 0.77455\n",
      "\n",
      "Epoch 00103: val_acc did not improve from 0.77455\n",
      "\n",
      "Epoch 00104: val_acc did not improve from 0.77455\n",
      "\n",
      "Epoch 00105: val_acc did not improve from 0.77455\n",
      "\n",
      "Epoch 00106: val_acc did not improve from 0.77455\n",
      "\n",
      "Epoch 00107: val_acc did not improve from 0.77455\n",
      "\n",
      "Epoch 00108: val_acc did not improve from 0.77455\n",
      "\n",
      "Epoch 00109: val_acc did not improve from 0.77455\n",
      "\n",
      "Epoch 00110: val_acc did not improve from 0.77455\n",
      "\n",
      "Epoch 00111: val_acc did not improve from 0.77455\n",
      "\n",
      "Epoch 00112: val_acc did not improve from 0.77455\n",
      "\n",
      "Epoch 00113: val_acc did not improve from 0.77455\n",
      "\n",
      "Epoch 00114: val_acc did not improve from 0.77455\n",
      "\n",
      "Epoch 00115: val_acc did not improve from 0.77455\n",
      "\n",
      "Epoch 00116: val_acc did not improve from 0.77455\n",
      "\n",
      "Epoch 00117: val_acc did not improve from 0.77455\n",
      "\n",
      "Epoch 00118: val_acc did not improve from 0.77455\n",
      "\n",
      "Epoch 00119: val_acc did not improve from 0.77455\n",
      "\n",
      "Epoch 00120: val_acc did not improve from 0.77455\n",
      "\n",
      "Epoch 00121: val_acc did not improve from 0.77455\n",
      "\n",
      "Epoch 00122: val_acc did not improve from 0.77455\n",
      "\n",
      "Epoch 00123: val_acc did not improve from 0.77455\n",
      "\n",
      "Epoch 00124: val_acc did not improve from 0.77455\n",
      "\n",
      "Epoch 00125: val_acc did not improve from 0.77455\n",
      "\n",
      "Epoch 00126: val_acc did not improve from 0.77455\n",
      "\n",
      "Epoch 00127: val_acc did not improve from 0.77455\n",
      "\n",
      "Epoch 00128: val_acc did not improve from 0.77455\n",
      "\n",
      "Epoch 00129: val_acc did not improve from 0.77455\n",
      "\n",
      "Epoch 00130: val_acc did not improve from 0.77455\n",
      "\n",
      "Epoch 00131: val_acc did not improve from 0.77455\n",
      "\n",
      "Epoch 00132: val_acc did not improve from 0.77455\n",
      "\n",
      "Epoch 00133: val_acc did not improve from 0.77455\n",
      "\n",
      "Epoch 00134: val_acc did not improve from 0.77455\n",
      "\n",
      "Epoch 00135: val_acc did not improve from 0.77455\n",
      "\n",
      "Epoch 00136: val_acc did not improve from 0.77455\n",
      "\n",
      "Epoch 00137: val_acc did not improve from 0.77455\n",
      "\n",
      "Epoch 00138: val_acc did not improve from 0.77455\n",
      "\n",
      "Epoch 00139: val_acc did not improve from 0.77455\n",
      "\n",
      "Epoch 00140: val_acc did not improve from 0.77455\n",
      "\n",
      "Epoch 00141: val_acc did not improve from 0.77455\n",
      "\n",
      "Epoch 00142: val_acc did not improve from 0.77455\n",
      "\n",
      "Epoch 00143: val_acc did not improve from 0.77455\n",
      "\n",
      "Epoch 00144: val_acc did not improve from 0.77455\n",
      "\n",
      "Epoch 00145: val_acc did not improve from 0.77455\n",
      "\n",
      "Epoch 00146: val_acc did not improve from 0.77455\n",
      "\n",
      "Epoch 00147: val_acc did not improve from 0.77455\n",
      "\n",
      "Epoch 00148: val_acc did not improve from 0.77455\n",
      "\n",
      "Epoch 00149: val_acc did not improve from 0.77455\n",
      "\n",
      "Epoch 00150: val_acc did not improve from 0.77455\n",
      "\n",
      "Epoch 00151: val_acc did not improve from 0.77455\n",
      "\n",
      "Epoch 00152: val_acc did not improve from 0.77455\n",
      "Epoch 00152: early stopping\n"
     ]
    },
    {
     "data": {
      "text/plain": [
       "<tensorflow.python.keras.callbacks.History at 0x1ba035ba408>"
      ]
     },
     "execution_count": 21,
     "metadata": {},
     "output_type": "execute_result"
    }
   ],
   "source": [
    "#clear_session()\n",
    "filepath=\"comun.hdf5\"\n",
    "es = EarlyStopping(monitor='val_loss', mode='min', verbose=1, patience=50)\n",
    "checkpoint = ModelCheckpoint(filepath, monitor='val_acc', verbose=1, save_best_only=True, mode='max')\n",
    "callbacks_list = [checkpoint,es]\n",
    "model.compile(optimizer=\"adam\",loss=\"categorical_crossentropy\",metrics=['acc'])\n",
    "model.fit(xx_train,to_categorical(yy_train),batch_size=450,epochs=1000,validation_data=(xx_test,to_categorical(yy_test)),callbacks=callbacks_list,verbose=0)"
   ]
  },
  {
   "cell_type": "code",
   "execution_count": 22,
   "metadata": {
    "colab": {
     "base_uri": "https://localhost:8080/",
     "height": 283
    },
    "colab_type": "code",
    "executionInfo": {
     "elapsed": 524,
     "status": "ok",
     "timestamp": 1596650388622,
     "user": {
      "displayName": "raul abraham Nieto Pacheco",
      "photoUrl": "",
      "userId": "06171730266864656462"
     },
     "user_tz": 300
    },
    "id": "OVg7cCmTxsfr",
    "outputId": "46f5202d-2979-45e4-ff90-6fd5f4e6917c"
   },
   "outputs": [
    {
     "data": {
      "text/plain": [
       "<matplotlib.legend.Legend at 0x1ba0cd86348>"
      ]
     },
     "execution_count": 22,
     "metadata": {},
     "output_type": "execute_result"
    },
    {
     "data": {
      "image/png": "[encoded data removed]",
      "text/plain": [
       "<Figure size 432x288 with 1 Axes>"
      ]
     },
     "metadata": {
      "needs_background": "light"
     },
     "output_type": "display_data"
    }
   ],
   "source": [
    "ep=152\n",
    "plt.plot(range(ep),model.history.history[\"loss\"],label=\"train\")\n",
    "plt.plot(range(ep),model.history.history[\"val_loss\"],label=\"test\")\n",
    "plt.legend()"
   ]
  },
  {
   "cell_type": "code",
   "execution_count": 23,
   "metadata": {
    "colab": {
     "base_uri": "https://localhost:8080/",
     "height": 265
    },
    "colab_type": "code",
    "executionInfo": {
     "elapsed": 531,
     "status": "ok",
     "timestamp": 1596650406401,
     "user": {
      "displayName": "raul abraham Nieto Pacheco",
      "photoUrl": "",
      "userId": "06171730266864656462"
     },
     "user_tz": 300
    },
    "id": "PAfISgRCx3ok",
    "outputId": "98704c29-c89c-427b-a9a1-cd7aa22cc32f"
   },
   "outputs": [
    {
     "data": {
      "image/png": "[encoded data removed]",
      "text/plain": [
       "<Figure size 432x288 with 1 Axes>"
      ]
     },
     "metadata": {
      "needs_background": "light"
     },
     "output_type": "display_data"
    }
   ],
   "source": [
    "plt.plot(range(ep),model.history.history[\"acc\"],label=\"train\")\n",
    "plt.plot(range(ep),model.history.history[\"val_acc\"],label=\"test\")\n",
    "plt.legend()\n",
    "plt.grid()"
   ]
  },
  {
   "cell_type": "code",
   "execution_count": 24,
   "metadata": {
    "colab": {
     "base_uri": "https://localhost:8080/",
     "height": 35
    },
    "colab_type": "code",
    "executionInfo": {
     "elapsed": 350,
     "status": "ok",
     "timestamp": 1596651863467,
     "user": {
      "displayName": "raul abraham Nieto Pacheco",
      "photoUrl": "",
      "userId": "06171730266864656462"
     },
     "user_tz": 300
    },
    "id": "rtf3OhTYx79w",
    "outputId": "da9bd3d4-e781-4180-9732-63e1ace096f5"
   },
   "outputs": [
    {
     "data": {
      "text/plain": [
       "0.6157575757575757"
      ]
     },
     "execution_count": 24,
     "metadata": {},
     "output_type": "execute_result"
    }
   ],
   "source": [
    "from sklearn.metrics import accuracy_score\n",
    "preds=model.predict(xx_test)\n",
    "accuracy_score(yy_test,np.argmax(preds,axis=1))"
   ]
  },
  {
   "cell_type": "markdown",
   "metadata": {},
   "source": [
    "# Descomposición de pesos y neuronas"
   ]
  },
  {
   "cell_type": "code",
   "execution_count": 25,
   "metadata": {
    "colab": {
     "base_uri": "https://localhost:8080/",
     "height": 35
    },
    "colab_type": "code",
    "executionInfo": {
     "elapsed": 343,
     "status": "ok",
     "timestamp": 1596651871002,
     "user": {
      "displayName": "raul abraham Nieto Pacheco",
      "photoUrl": "",
      "userId": "06171730266864656462"
     },
     "user_tz": 300
    },
    "id": "8EhjbwWsyR_8",
    "outputId": "a420e646-829d-4f38-e994-f01283354910",
    "scrolled": true
   },
   "outputs": [
    {
     "name": "stdout",
     "output_type": "stream",
     "text": [
      "(36,)\n",
      "(36,)\n",
      "(36,)\n",
      "(36,)\n",
      "(10, 36, 128)\n",
      "(128,)\n",
      "(128,)\n",
      "(128,)\n",
      "(128,)\n",
      "(128,)\n",
      "(256,)\n",
      "(256,)\n",
      "(256,)\n",
      "(256,)\n",
      "(256, 200)\n",
      "(200,)\n",
      "(200,)\n",
      "(200,)\n",
      "(200,)\n",
      "(200,)\n",
      "(200, 2)\n",
      "(2,)\n"
     ]
    }
   ],
   "source": [
    "for j in range(len(model.get_weights())):\n",
    "    print(model.get_weights()[j].shape)"
   ]
  },
  {
   "cell_type": "code",
   "execution_count": 26,
   "metadata": {},
   "outputs": [
    {
     "name": "stdout",
     "output_type": "stream",
     "text": [
      "dense_1\n"
     ]
    },
    {
     "data": {
      "text/plain": [
       "[array([[-0.07058309, -0.15774867],\n",
       "        [-0.08453475, -0.09707265],\n",
       "        [ 0.10426814, -0.09460061],\n",
       "        [-0.1218696 , -0.03692558],\n",
       "        [ 0.11318286,  0.11234045],\n",
       "        [ 0.03894456, -0.05200486],\n",
       "        [ 0.1074628 ,  0.02506709],\n",
       "        [-0.06859213,  0.09677146],\n",
       "        [-0.06917678, -0.06938574],\n",
       "        [ 0.00928293,  0.07167191],\n",
       "        [ 0.10510252, -0.1598276 ],\n",
       "        [-0.01376148, -0.01612913],\n",
       "        [ 0.07079789,  0.01306164],\n",
       "        [ 0.14528964,  0.0046837 ],\n",
       "        [-0.11109678, -0.11200728],\n",
       "        [ 0.09034125,  0.09204318],\n",
       "        [ 0.00840752,  0.00935943],\n",
       "        [ 0.13802119, -0.08646858],\n",
       "        [-0.03592644, -0.03659465],\n",
       "        [-0.11044974, -0.04863767],\n",
       "        [-0.13466993, -0.13611005],\n",
       "        [ 0.05738315,  0.05840416],\n",
       "        [-0.00099859, -0.13719705],\n",
       "        [ 0.08580329, -0.00921921],\n",
       "        [ 0.05107684,  0.16337554],\n",
       "        [ 0.14182037,  0.05169431],\n",
       "        [ 0.01316297,  0.01266535],\n",
       "        [ 0.00790413,  0.00919457],\n",
       "        [ 0.16534552, -0.02937298],\n",
       "        [-0.06508206, -0.06456543],\n",
       "        [-0.00151265,  0.07195321],\n",
       "        [ 0.04142191,  0.04113322],\n",
       "        [-0.14480425, -0.14138302],\n",
       "        [-0.17627716,  0.09524103],\n",
       "        [-0.12741587,  0.12738025],\n",
       "        [ 0.06503332,  0.08119389],\n",
       "        [-0.04242286,  0.09750819],\n",
       "        [-0.15555945,  0.10112   ],\n",
       "        [-0.1518073 ,  0.03294052],\n",
       "        [ 0.12541577,  0.00470088],\n",
       "        [ 0.07358409, -0.16591111],\n",
       "        [ 0.04034502, -0.08972864],\n",
       "        [ 0.01566497, -0.02037845],\n",
       "        [ 0.14859743,  0.03952659],\n",
       "        [ 0.10893681,  0.00927522],\n",
       "        [-0.14718793,  0.12529166],\n",
       "        [-0.01171649, -0.09375146],\n",
       "        [ 0.08152065,  0.07826357],\n",
       "        [-0.01513665, -0.02367074],\n",
       "        [ 0.08483423, -0.14519471],\n",
       "        [ 0.14731771,  0.01411399],\n",
       "        [-0.0225535 , -0.02062856],\n",
       "        [ 0.09236714, -0.15813942],\n",
       "        [-0.09235906, -0.05549479],\n",
       "        [ 0.05856929,  0.05668554],\n",
       "        [-0.06976343, -0.09734078],\n",
       "        [-0.14752363, -0.1071043 ],\n",
       "        [ 0.02243416,  0.02196488],\n",
       "        [-0.08870722,  0.10500316],\n",
       "        [-0.04184473, -0.04078996],\n",
       "        [-0.05126066, -0.0537985 ],\n",
       "        [ 0.08500814,  0.15022725],\n",
       "        [ 0.1124308 , -0.05746995],\n",
       "        [ 0.18385385, -0.16195819],\n",
       "        [-0.14316683, -0.14259787],\n",
       "        [ 0.07357035,  0.07446679],\n",
       "        [-0.12794487, -0.14694288],\n",
       "        [ 0.07651482,  0.07674412],\n",
       "        [ 0.09974074,  0.00184917],\n",
       "        [-0.10613747,  0.09795204],\n",
       "        [-0.09953672, -0.10066514],\n",
       "        [-0.13662416,  0.03113165],\n",
       "        [ 0.00382822,  0.10365453],\n",
       "        [-0.11087137,  0.09219207],\n",
       "        [-0.0741199 , -0.08785693],\n",
       "        [-0.12791704,  0.13242199],\n",
       "        [ 0.11771742,  0.11760554],\n",
       "        [-0.13762958, -0.13610178],\n",
       "        [-0.12590842, -0.13093892],\n",
       "        [-0.05517785,  0.02112244],\n",
       "        [-0.06796917, -0.15881181],\n",
       "        [-0.07430141, -0.07371908],\n",
       "        [-0.10001026,  0.14606206],\n",
       "        [ 0.1699927 , -0.05458946],\n",
       "        [-0.06991355, -0.00887717],\n",
       "        [ 0.0862961 , -0.06568945],\n",
       "        [ 0.05866748, -0.10983072],\n",
       "        [ 0.10151691,  0.10402287],\n",
       "        [-0.18336616,  0.17379259],\n",
       "        [ 0.06229188,  0.06313626],\n",
       "        [-0.05988124,  0.14670965],\n",
       "        [ 0.16533452, -0.16570361],\n",
       "        [ 0.09437464,  0.04207538],\n",
       "        [-0.1300851 , -0.1293455 ],\n",
       "        [ 0.06914062,  0.09785374],\n",
       "        [ 0.06798519,  0.06889123],\n",
       "        [ 0.08856983, -0.13897987],\n",
       "        [ 0.1167453 ,  0.00043813],\n",
       "        [-0.14514585, -0.14589195],\n",
       "        [ 0.08881555, -0.11989398],\n",
       "        [-0.06848386, -0.11409895],\n",
       "        [ 0.00932906, -0.09450436],\n",
       "        [-0.04843621, -0.04833245],\n",
       "        [-0.12693141, -0.12533367],\n",
       "        [ 0.13351163,  0.1352109 ],\n",
       "        [-0.01694928,  0.1688845 ],\n",
       "        [-0.07866373, -0.09433372],\n",
       "        [ 0.04340141,  0.08464261],\n",
       "        [-0.09939817, -0.07329387],\n",
       "        [-0.09393211, -0.10504453],\n",
       "        [-0.1012162 ,  0.13467875],\n",
       "        [ 0.05963561,  0.08140406],\n",
       "        [-0.1358174 , -0.13361079],\n",
       "        [-0.14404699, -0.14487569],\n",
       "        [ 0.10362919,  0.10241726],\n",
       "        [-0.13441561, -0.13378872],\n",
       "        [ 0.06679793,  0.06591791],\n",
       "        [ 0.14692932, -0.11528199],\n",
       "        [ 0.14294358,  0.06735178],\n",
       "        [ 0.13391839,  0.03715657],\n",
       "        [-0.12813944, -0.12946251],\n",
       "        [-0.02015026, -0.01981837],\n",
       "        [-0.12206472,  0.00203526],\n",
       "        [ 0.04833593, -0.03668381],\n",
       "        [ 0.0616153 ,  0.06003197],\n",
       "        [-0.1282806 ,  0.11457989],\n",
       "        [-0.14635333, -0.08353535],\n",
       "        [ 0.09844017, -0.07359506],\n",
       "        [-0.09240139, -0.12733573],\n",
       "        [-0.13834567, -0.13707165],\n",
       "        [-0.05255498, -0.05038164],\n",
       "        [-0.02630015, -0.12917256],\n",
       "        [-0.10295418, -0.101004  ],\n",
       "        [ 0.04945977, -0.0588426 ],\n",
       "        [-0.14942619, -0.14989656],\n",
       "        [-0.02648821,  0.09016602],\n",
       "        [-0.04756863, -0.04903262],\n",
       "        [-0.04868202,  0.1187956 ],\n",
       "        [ 0.08628457,  0.08565875],\n",
       "        [-0.09652394, -0.0934056 ],\n",
       "        [-0.1519912 ,  0.10926823],\n",
       "        [ 0.11542842,  0.10147119],\n",
       "        [-0.16048557,  0.08258834],\n",
       "        [-0.11187357, -0.04016002],\n",
       "        [ 0.10767236,  0.10484589],\n",
       "        [-0.09672939,  0.05857803],\n",
       "        [-0.12988281,  0.1785306 ],\n",
       "        [ 0.07088888, -0.0698909 ],\n",
       "        [-0.0138943 , -0.01346411],\n",
       "        [-0.01277751,  0.12453853],\n",
       "        [-0.15237178, -0.01348876],\n",
       "        [ 0.08424962,  0.05127977],\n",
       "        [-0.06998788,  0.15877756],\n",
       "        [ 0.10708342, -0.08646192],\n",
       "        [ 0.12332443,  0.12613049],\n",
       "        [-0.14423904,  0.06721893],\n",
       "        [ 0.14608212, -0.0749486 ],\n",
       "        [ 0.01382602, -0.07907317],\n",
       "        [-0.00993012,  0.03494706],\n",
       "        [ 0.08304003,  0.0844935 ],\n",
       "        [ 0.03905546,  0.03943457],\n",
       "        [-0.02173237, -0.11881483],\n",
       "        [ 0.14289047,  0.14280634],\n",
       "        [ 0.0090097 ,  0.01105653],\n",
       "        [-0.13610817, -0.00899737],\n",
       "        [ 0.13206802,  0.13144183],\n",
       "        [ 0.1153046 ,  0.02469971],\n",
       "        [ 0.12534972,  0.12640665],\n",
       "        [-0.10360953, -0.10370219],\n",
       "        [-0.06040202,  0.01002108],\n",
       "        [-0.12656319, -0.11657593],\n",
       "        [ 0.07878949,  0.08095231],\n",
       "        [-0.04682206,  0.11051152],\n",
       "        [-0.14353026, -0.14477487],\n",
       "        [ 0.04050152,  0.11552491],\n",
       "        [ 0.04202536, -0.0674362 ],\n",
       "        [ 0.05000782,  0.11396135],\n",
       "        [ 0.10972625, -0.10643926],\n",
       "        [ 0.00736884,  0.00985262],\n",
       "        [ 0.14090732,  0.14157173],\n",
       "        [ 0.11308281,  0.11375132],\n",
       "        [ 0.13535598,  0.12789772],\n",
       "        [ 0.00133166, -0.14536674],\n",
       "        [ 0.11777785, -0.13149026],\n",
       "        [-0.14710744,  0.06012891],\n",
       "        [-0.1100567 , -0.11319563],\n",
       "        [ 0.08344875,  0.1492873 ],\n",
       "        [-0.03276732, -0.03956097],\n",
       "        [ 0.07783516, -0.12061922],\n",
       "        [ 0.11030927, -0.13756573],\n",
       "        [-0.10333809,  0.03696562],\n",
       "        [ 0.10528712, -0.13998513],\n",
       "        [-0.05834697, -0.06099239],\n",
       "        [ 0.16832325, -0.15141445],\n",
       "        [ 0.05399753, -0.10652569],\n",
       "        [-0.11347452, -0.11453471],\n",
       "        [-0.17934333,  0.13078399],\n",
       "        [ 0.00100418,  0.00419454],\n",
       "        [-0.11775943,  0.0994197 ],\n",
       "        [-0.0005232 , -0.00280817]], dtype=float32),\n",
       " array([ 0.00217398, -0.00217399], dtype=float32)]"
      ]
     },
     "execution_count": 26,
     "metadata": {},
     "output_type": "execute_result"
    }
   ],
   "source": [
    "print(model.layers[10].name)\n",
    "model.layers[10].get_weights()"
   ]
  },
  {
   "cell_type": "code",
   "execution_count": 27,
   "metadata": {},
   "outputs": [
    {
     "data": {
      "text/plain": [
       "<tf.Tensor 'gaussian_noise/Identity:0' shape=(None, 15, 36) dtype=float32>"
      ]
     },
     "execution_count": 27,
     "metadata": {},
     "output_type": "execute_result"
    }
   ],
   "source": [
    "model.layers[2].output"
   ]
  },
  {
   "cell_type": "markdown",
   "metadata": {},
   "source": [
    "**Input xx[0]**"
   ]
  },
  {
   "cell_type": "code",
   "execution_count": 28,
   "metadata": {},
   "outputs": [
    {
     "data": {
      "text/plain": [
       "(0,\n",
       " array([[ 1.88233000e+01,  1.89903000e+01,  1.86921000e+01,\n",
       "          1.88662000e+01,  2.23440000e+02,  2.24420000e+02,\n",
       "          2.23350000e+02,  2.24040000e+02,  5.79124579e-03,\n",
       "          2.82250134e-03, -2.96874445e-03,  1.90551561e+01,\n",
       "          1.87970000e+01,  1.87763276e+01,  1.87596427e+01,\n",
       "          1.87999599e+01,  1.88709655e+01,  1.88372843e+01,\n",
       "         -1.83470253e-01,  1.45327827e-01,  1.88449525e+01,\n",
       "          1.86289752e+01,  1.87653067e+01,  1.88459799e+01,\n",
       "          1.87844674e+01,  1.94872517e+01, -1.23405344e-01,\n",
       "         -1.94484576e-01, -6.53729524e-01, -1.02584276e+00,\n",
       "          3.72113235e-01,  1.12600000e-01,  1.14840232e+00,\n",
       "          4.89025631e+01,  1.62126898e+02,  5.33333333e-01],\n",
       "        [ 1.88565000e+01,  1.92868000e+01,  1.88470000e+01,\n",
       "          1.91632000e+01,  2.24000000e+02,  2.24960000e+02,\n",
       "          2.23850000e+02,  2.23900000e+02, -6.24888413e-04,\n",
       "          1.57424389e-02,  1.63673273e-02,  1.90320610e+01,\n",
       "          1.88117000e+01,  1.88193134e+01,  1.88403542e+01,\n",
       "          1.89371770e+01,  1.90391861e+01,  1.88139818e+01,\n",
       "         -1.73967029e-01,  6.97296059e-01,  1.89196251e+01,\n",
       "          1.87036141e+01,  1.88580867e+01,  1.89910410e+01,\n",
       "          1.88790314e+01,  1.94795362e+01, -8.15991610e-02,\n",
       "         -1.71907493e-01, -4.31780056e-01, -9.07030218e-01,\n",
       "          4.75250162e-01,  6.08600000e-01,  2.53293240e+00,\n",
       "          5.95607995e+01,  6.07018228e+00,  5.33333333e-01],\n",
       "        [ 1.91726000e+01,  1.92246000e+01,  1.88993000e+01,\n",
       "          1.90559000e+01,  2.24250000e+02,  2.24420000e+02,\n",
       "          2.23510000e+02,  2.24090000e+02,  8.48593122e-04,\n",
       "         -5.59927361e-03, -6.44786673e-03,  1.90126561e+01,\n",
       "          1.88131000e+01,  1.88456008e+01,  1.88834634e+01,\n",
       "          1.89954090e+01,  1.90891144e+01,  1.87948111e+01,\n",
       "         -1.63640400e-01,  5.05371901e-01,  1.89381629e+01,\n",
       "          1.87521019e+01,  1.89161511e+01,  1.90665596e+01,\n",
       "          1.89713898e+01,  1.94694497e+01, -5.64746684e-02,\n",
       "         -1.48820928e-01, -2.98649924e-01, -7.85354159e-01,\n",
       "          4.86704235e-01,  4.89200000e-01,  1.61195717e+00,\n",
       "          5.50899832e+01,  8.91553036e-01,  5.00000000e-01],\n",
       "        [ 1.90421000e+01,  1.90905000e+01,  1.87978000e+01,\n",
       "          1.88091000e+01,  2.24370000e+02,  2.24400000e+02,\n",
       "          2.23460000e+02,  2.23600000e+02, -2.18662145e-03,\n",
       "         -1.29513694e-02, -1.07647479e-02,  1.89835293e+01,\n",
       "          1.88131000e+01,  1.88415452e+01,  1.88685907e+01,\n",
       "          1.89462490e+01,  1.89937836e+01,  1.87787503e+01,\n",
       "         -1.53928497e-01,  2.73108510e-01,  1.89313966e+01,\n",
       "          1.87751759e+01,  1.89124244e+01,  1.90324022e+01,\n",
       "          1.90157350e+01,  1.94537270e+01, -5.58344002e-02,\n",
       "         -1.30223622e-01, -2.95380786e-01, -6.87359485e-01,\n",
       "          3.91978698e-01,  3.12600000e-01,  1.37162752e+00,\n",
       "          4.64528639e+01,  8.89675441e-01,  5.00000000e-01],\n",
       "        [ 1.88112000e+01,  1.88491000e+01,  1.87097000e+01,\n",
       "          1.87285000e+01,  2.24160000e+02,  2.24620000e+02,\n",
       "          2.23710000e+02,  2.24160000e+02,  2.50447227e-03,\n",
       "         -4.28515984e-03, -6.78963211e-03,  1.89646317e+01,\n",
       "          1.88131000e+01,  1.88289846e+01,  1.88405725e+01,\n",
       "          1.88802847e+01,  1.88879554e+01,  1.87649210e+01,\n",
       "         -1.45149502e-01,  1.87300548e-01,  1.89250186e+01,\n",
       "          1.87837036e+01,  1.88857000e+01,  1.89598861e+01,\n",
       "          1.90060911e+01,  1.94364597e+01, -6.11261058e-02,\n",
       "         -1.16404119e-01, -3.23596170e-01, -6.14606822e-01,\n",
       "          2.91010652e-01,  2.28900000e-01,  8.71452654e-01,\n",
       "          4.40252867e+01,  1.71134958e+00,  5.33333333e-01],\n",
       "        [ 1.87287000e+01,  1.88305000e+01,  1.86618000e+01,\n",
       "          1.87532000e+01,  2.24310000e+02,  2.24450000e+02,\n",
       "          2.23810000e+02,  2.24250000e+02,  4.01498929e-04,\n",
       "          1.31884561e-03,  9.17346680e-04,  1.89439268e+01,\n",
       "          1.88117000e+01,  1.88205641e+01,  1.88230980e+01,\n",
       "          1.88408882e+01,  1.88294871e+01,  1.87538306e+01,\n",
       "         -1.37050373e-01,  1.45560908e-01,  1.89210402e+01,\n",
       "          1.88004589e+01,  1.88607044e+01,  1.89032489e+01,\n",
       "          1.89624018e+01,  1.94201916e+01, -6.26050648e-02,\n",
       "         -1.05644308e-01, -3.31603049e-01, -5.58006067e-01,\n",
       "          2.26403018e-01,  1.69200000e-01,  1.38783013e+00,\n",
       "          4.49743009e+01,  3.35592428e+00,  5.33333333e-01],\n",
       "        [ 1.87532000e+01,  1.88681000e+01,  1.87366000e+01,\n",
       "          1.88277000e+01,  2.24250000e+02,  2.24350000e+02,\n",
       "          2.23240000e+02,  2.23980000e+02, -1.20401338e-03,\n",
       "          3.97265533e-03,  5.17666871e-03,  1.89280244e+01,\n",
       "          1.88131000e+01,  1.88213570e+01,  1.88240184e+01,\n",
       "          1.88389868e+01,  1.88276086e+01,  1.87463747e+01,\n",
       "         -1.29207561e-01,  3.24324324e-02,  1.89203809e+01,\n",
       "          1.88267804e+01,  1.88529578e+01,  1.88746742e+01,\n",
       "          1.89160618e+01,  1.94060847e+01, -5.71073254e-02,\n",
       "         -9.59369116e-02, -3.02544439e-01, -5.06913742e-01,\n",
       "          2.04369302e-01, -3.12000000e-02,  1.77355186e+00,\n",
       "          4.78464609e+01,  3.86638570e+00,  5.66666667e-01],\n",
       "        [ 1.88398000e+01,  1.90814000e+01,  1.88203000e+01,\n",
       "          1.90410000e+01,  2.24310000e+02,  2.24390000e+02,\n",
       "          2.23320000e+02,  2.24240000e+02,  1.16081793e-03,\n",
       "          1.13290524e-02,  1.01682345e-02,  1.89124732e+01,\n",
       "          1.88277000e+01,  1.88457618e+01,  1.88674147e+01,\n",
       "          1.89141065e+01,  1.89303827e+01,  1.87416769e+01,\n",
       "         -1.20678411e-01,  2.03262122e-01,  1.89245948e+01,\n",
       "          1.88765004e+01,  1.88875156e+01,  1.89146447e+01,\n",
       "          1.89048985e+01,  1.93973922e+01, -3.51337993e-02,\n",
       "         -8.37762891e-02, -1.86011934e-01, -4.42733380e-01,\n",
       "          2.56721446e-01,  2.29300000e-01,  2.45910461e+00,\n",
       "          5.50764320e+01,  1.35104056e+00,  5.66666667e-01],\n",
       "        [ 1.90464000e+01,  1.91252000e+01,  1.89467000e+01,\n",
       "          1.89467000e+01,  2.24640000e+02,  2.25140000e+02,\n",
       "          2.24160000e+02,  2.25120000e+02,  3.92436675e-03,\n",
       "         -4.95247098e-03, -8.87683773e-03,  1.88909756e+01,\n",
       "          1.88662000e+01,  1.88569771e+01,  1.88832718e+01,\n",
       "          1.89333109e+01,  1.89490096e+01,  1.87390590e+01,\n",
       "         -1.12176179e-01,  1.23954624e-01,  1.89250228e+01,\n",
       "          1.88882041e+01,  1.88977911e+01,  1.89147136e+01,\n",
       "          1.89055386e+01,  1.93866614e+01, -2.50401957e-02,\n",
       "         -7.20290705e-02, -1.32541940e-01, -3.80695092e-01,\n",
       "          2.48153152e-01,  1.49700000e-01,  4.65562679e-01,\n",
       "          5.16663407e+01,  1.00692960e+00,  6.00000000e-01],\n",
       "        [ 1.89433000e+01,  1.92132000e+01,  1.89110000e+01,\n",
       "          1.91919000e+01,  2.25170000e+02,  2.25330000e+02,\n",
       "          2.24620000e+02,  2.25090000e+02, -1.33262260e-04,\n",
       "          1.29415677e-02,  1.30748299e-02,  1.88811659e+01,\n",
       "          1.89467000e+01,  1.88941908e+01,  1.89449974e+01,\n",
       "          1.90344092e+01,  1.90784663e+01,  1.87400173e+01,\n",
       "         -1.02701734e-01,  2.63641425e-01,  1.89383263e+01,\n",
       "          1.89388630e+01,  1.89541378e+01,  1.89932350e+01,\n",
       "          1.89421044e+01,  1.93820243e+01,  2.71337055e-03,\n",
       "         -5.70805823e-02,  1.43454711e-02, -3.01686979e-01,\n",
       "          3.16032451e-01,  3.78800000e-01,  2.02108262e+00,\n",
       "          5.88081039e+01,  2.48556193e-01,  5.66666667e-01],\n",
       "        [ 1.91802000e+01,  1.92549000e+01,  1.91095000e+01,\n",
       "          1.91675000e+01,  2.25370000e+02,  2.25580000e+02,\n",
       "          2.24500000e+02,  2.24880000e+02, -9.32960149e-04,\n",
       "         -1.27136969e-03, -3.38409543e-04,  1.88701293e+01,\n",
       "          1.89467000e+01,  1.89245585e+01,  1.89894979e+01,\n",
       "          1.90966278e+01,  1.91460479e+01,  1.87441870e+01,\n",
       "         -9.27655163e-02,  2.13976280e-01,  1.89468948e+01,\n",
       "          1.89832435e+01,  1.89983667e+01,  1.90673015e+01,\n",
       "          1.89992983e+01,  1.93769165e+01,  2.24802573e-02,\n",
       "         -4.11684143e-02,  1.18734479e-01, -2.17602688e-01,\n",
       "          3.36337167e-01,  3.01300000e-01,  1.97105921e+00,\n",
       "          5.78914108e+01,  6.63810181e-02,  5.33333333e-01],\n",
       "        [ 1.91697000e+01,  1.91822000e+01,  1.89273000e+01,\n",
       "          1.90259000e+01,  2.24830000e+02,  2.25280000e+02,\n",
       "          2.24610000e+02,  2.25280000e+02,  1.77872643e-03,\n",
       "         -7.38750489e-03, -9.16623132e-03,  1.88548122e+01,\n",
       "          1.89467000e+01,  1.89358186e+01,  1.89967784e+01,\n",
       "          1.90883065e+01,  1.91153614e+01,  1.87518373e+01,\n",
       "         -8.32991971e-02,  1.09603257e-01,  1.89482406e+01,\n",
       "          1.90021662e+01,  1.90141800e+01,  1.90938044e+01,\n",
       "          1.90478306e+01,  1.93685590e+01,  2.64152226e-02,\n",
       "         -2.76516870e-02,  1.39467301e-01, -1.46188690e-01,\n",
       "          2.85655991e-01, -1.37300000e-01,  1.13112671e+00,\n",
       "          5.27523184e+01,  4.56898119e-02,  5.33333333e-01],\n",
       "        [ 1.90260000e+01,  1.90304000e+01,  1.88128000e+01,\n",
       "          1.88147000e+01,  2.24790000e+02,  2.25000000e+02,\n",
       "          2.23650000e+02,  2.24820000e+02, -2.04190341e-03,\n",
       "         -1.11006575e-02, -9.05875412e-03,  1.88446293e+01,\n",
       "          1.89467000e+01,  1.89223610e+01,  1.89603627e+01,\n",
       "          1.90044527e+01,  1.89881460e+01,  1.87620537e+01,\n",
       "         -7.53079100e-02,  1.77797435e-01,  1.89443093e+01,\n",
       "          1.89844650e+01,  1.89884200e+01,  1.90424926e+01,\n",
       "          1.90579221e+01,  1.93553719e+01,  1.23492812e-02,\n",
       "         -1.96514933e-02,  6.52338214e-02, -1.03904188e-01,\n",
       "          1.69138009e-01, -2.41200000e-01, -2.72974950e-01,\n",
       "          4.61690896e+01,  1.42185659e-01,  5.00000000e-01],\n",
       "        [ 1.88151000e+01,  1.88967000e+01,  1.87259000e+01,\n",
       "          1.87820000e+01,  2.24550000e+02,  2.24870000e+02,\n",
       "          2.24160000e+02,  2.24450000e+02, -1.64576105e-03,\n",
       "         -1.73800273e-03, -9.22416786e-05,  1.88335951e+01,\n",
       "          1.89467000e+01,  1.89067653e+01,  1.89246902e+01,\n",
       "          1.89314241e+01,  1.88884940e+01,  1.87739877e+01,\n",
       "         -6.86980529e-02,  2.37199125e-02,  1.89433015e+01,\n",
       "          1.89412306e+01,  1.89559956e+01,  1.89753806e+01,\n",
       "          1.90283910e+01,  1.93417202e+01, -1.42032278e-03,\n",
       "         -1.60052592e-02, -7.50708130e-03, -8.46247664e-02,\n",
       "          7.71176851e-02, -2.71000000e-02, -1.98922936e+00,\n",
       "          4.52279738e+01,  4.07833619e-01,  5.00000000e-01],\n",
       "        [ 1.87745000e+01,  1.87994000e+01,  1.86304000e+01,\n",
       "          1.86861000e+01,  2.24910000e+02,  2.25820000e+02,\n",
       "          2.24890000e+02,  2.25690000e+02,  5.52461573e-03,\n",
       "         -5.10595251e-03, -1.06305682e-02,  1.88240854e+01,\n",
       "          1.89467000e+01,  1.88822470e+01,  1.88769721e+01,\n",
       "          1.88441849e+01,  1.87782238e+01,  1.87850466e+01,\n",
       "         -6.36578513e-02,  3.66211781e-02,  1.89413741e+01,\n",
       "          1.88949394e+01,  1.89032022e+01,  1.88751103e+01,\n",
       "          1.89605372e+01,  1.93261102e+01, -1.98424305e-02,\n",
       "         -1.67726935e-02, -1.04972718e-01, -8.86943566e-02,\n",
       "         -1.62783610e-02, -4.24000000e-02, -1.94060632e+00,\n",
       "          4.24923402e+01,  1.66008664e+00,  4.66666667e-01]]))"
      ]
     },
     "execution_count": 28,
     "metadata": {},
     "output_type": "execute_result"
    }
   ],
   "source": [
    "yy_test[0],xx_test[0]"
   ]
  },
  {
   "cell_type": "markdown",
   "metadata": {},
   "source": [
    "## Layer 1 BatchNormalization"
   ]
  },
  {
   "cell_type": "markdown",
   "metadata": {},
   "source": [
    "$$\\mu_{B}=\\frac{1}{m} \\sum_{i=1}^{m} x_{i} \\sigma_{B}^{2}=\\frac{1}{m} \\sum_{i=1}^{m}\\left(x_{i}-\\mu_{B}\\right)^{2}$$\n",
    "\n",
    "$$\\hat{x}_{i}=\\frac{x_{i}-\\mu_{B}}{\\sqrt{\\sigma_{B}^{2}+\\epsilon}}$$\n",
    "\n",
    "$$y_{i}=\\gamma * \\hat{x}_{i}+\\beta$$\n",
    "\n",
    "incluido un factor pequeño $\\epsilon$ para la estabilidad numérica."
   ]
  },
  {
   "cell_type": "markdown",
   "metadata": {},
   "source": [
    "**¿Qué son los pesos que obtengo del layer1?**\n",
    "\n",
    "es un array de la forma $$[\\gamma,\\beta,\\mu_{B},\\sigma^2_{B}]$$"
   ]
  },
  {
   "cell_type": "code",
   "execution_count": 29,
   "metadata": {},
   "outputs": [
    {
     "name": "stdout",
     "output_type": "stream",
     "text": [
      "batch_normalization\n"
     ]
    },
    {
     "data": {
      "text/latex": [
       "$\\gamma=$ [0.75149715 0.86079687 0.62723285 0.75504845 0.9256358 ]..."
      ],
      "text/plain": [
       "<IPython.core.display.Latex object>"
      ]
     },
     "metadata": {},
     "output_type": "display_data"
    },
    {
     "data": {
      "text/latex": [
       "$\\beta=$ [-0.34366298  0.3769447  -0.16611601 -0.27130577  0.03879211]..."
      ],
      "text/plain": [
       "<IPython.core.display.Latex object>"
      ]
     },
     "metadata": {},
     "output_type": "display_data"
    },
    {
     "data": {
      "text/latex": [
       "$\\mu=$ [ 13.090118  13.16692   13.016745  13.092527 123.49743 ]..."
      ],
      "text/plain": [
       "<IPython.core.display.Latex object>"
      ]
     },
     "metadata": {},
     "output_type": "display_data"
    },
    {
     "data": {
      "text/latex": [
       "$\\sigma^2=$ [   6.1554317    6.304715     6.0428824    6.163146  1736.6038   ]..."
      ],
      "text/plain": [
       "<IPython.core.display.Latex object>"
      ]
     },
     "metadata": {},
     "output_type": "display_data"
    }
   ],
   "source": [
    "print(model.layers[1].name)\n",
    "from IPython.display import display, Markdown, Latex\n",
    "display(Latex(f'$\\gamma=$ {model.layers[1].get_weights()[0][:5]}...'))\n",
    "display(Latex(f'$\\\\beta=$ {model.layers[1].get_weights()[1][:5]}...'))\n",
    "display(Latex(f'$\\mu=$ {model.layers[1].get_weights()[2][:5]}...'))\n",
    "display(Latex(f'$\\sigma^2=$ {model.layers[1].get_weights()[3][:5]}...'))"
   ]
  },
  {
   "cell_type": "markdown",
   "metadata": {},
   "source": [
    "**¿Cómo obtengo el output de este layer?**\n",
    "$$y_{i}=\\gamma * \\hat{x}_{i}+\\beta$$"
   ]
  },
  {
   "cell_type": "code",
   "execution_count": 30,
   "metadata": {},
   "outputs": [],
   "source": [
    "yi=model.layers[1].get_weights()[0]*((xx_test[0]-model.layers[1].get_weights()[2])/np.sqrt(model.layers[1].get_weights()[3]))+model.layers[1].get_weights()[1]\n"
   ]
  },
  {
   "cell_type": "markdown",
   "metadata": {},
   "source": [
    "**Comprobamos con la salida parcial del modelo...**"
   ]
  },
  {
   "cell_type": "code",
   "execution_count": 31,
   "metadata": {},
   "outputs": [],
   "source": [
    "lay1out=[layer.output for layer in model.layers[:2]]\n",
    "act1mod=Model(model.input,lay1out)"
   ]
  },
  {
   "cell_type": "code",
   "execution_count": 32,
   "metadata": {},
   "outputs": [],
   "source": [
    "#0.4722627*((1.88470000e+01-1.30844727e+01)/np.sqrt(6.1285200e+00))+-0.36620188"
   ]
  },
  {
   "cell_type": "code",
   "execution_count": 33,
   "metadata": {},
   "outputs": [
    {
     "data": {
      "text/plain": [
       "array([[[1.41228715e-04, 1.58629443e-04, 1.19931819e-04, 1.42504699e-04,\n",
       "         7.87006676e-07, 5.72862113e-07, 5.39343886e-07, 9.92815328e-07,\n",
       "         4.92172117e-01, 3.69123431e-01, 1.26305070e-01, 1.76735902e-04,\n",
       "         1.24526907e-04, 1.25144848e-04, 1.49378518e-04, 1.25352125e-04,\n",
       "         1.32034544e-04, 1.75198903e-04, 8.36270131e-02, 1.07418399e-02,\n",
       "         1.57279288e-04, 1.24360865e-04, 1.23471585e-04, 1.53231142e-04,\n",
       "         1.30621849e-04, 2.15478990e-04, 3.40660113e-02, 6.11150272e-02,\n",
       "         5.34217843e-04, 1.18432596e-03, 1.22654906e-02, 1.38175831e-03,\n",
       "         3.06135312e-05, 7.52609697e-07, 9.54705409e-09, 5.66362448e-02],\n",
       "        [1.41462221e-04, 1.66388826e-04, 1.22942677e-04, 1.49598504e-04,\n",
       "         7.93859279e-07, 5.86916152e-07, 7.73150027e-07, 1.21820265e-06,\n",
       "         9.10028592e-02, 2.18774928e+00, 7.48243639e-01, 1.76264850e-04,\n",
       "         1.25144799e-04, 1.25971940e-04, 1.51511464e-04, 1.27886376e-04,\n",
       "         1.35969066e-04, 1.74053474e-04, 7.96475723e-02, 2.86994630e-02,\n",
       "         1.59243984e-04, 1.26367771e-04, 1.25295174e-04, 1.56808555e-04,\n",
       "         1.32628554e-04, 2.14808612e-04, 2.38655163e-02, 5.45696694e-02,\n",
       "         3.78142658e-04, 1.06012762e-03, 1.56620700e-02, 9.05566676e-03,\n",
       "         7.60183820e-05, 4.08370525e-06, 8.89312662e-09, 5.66362448e-02],\n",
       "        [1.49477872e-04, 1.64669549e-04, 1.24296642e-04, 1.47247586e-04,\n",
       "         5.75529796e-07, 5.72862113e-07, 1.03377855e-06, 8.78260058e-07,\n",
       "         4.29247543e-02, 8.16335652e-01, 2.83661830e-01, 1.75752638e-04,\n",
       "         1.25021994e-04, 1.27045304e-04, 1.53130120e-04, 1.29477888e-04,\n",
       "         1.37059662e-04, 1.73397662e-04, 7.53234980e-02, 1.49855037e-02,\n",
       "         1.59394786e-04, 1.27060711e-04, 1.26653644e-04, 1.59072048e-04,\n",
       "         1.35229082e-04, 2.14460378e-04, 1.77353559e-02, 4.78765618e-02,\n",
       "         2.84591785e-04, 9.32848817e-04, 1.60391028e-02, 7.20839547e-03,\n",
       "         4.58393711e-05, 1.95803862e-06, 7.69309111e-09, 8.14925579e-03],\n",
       "        [1.46168658e-04, 1.61325487e-04, 1.21978044e-04, 1.41564728e-04,\n",
       "         9.85715775e-07, 7.66608584e-07, 5.81244494e-07, 9.51859962e-07,\n",
       "         2.32951820e-01, 1.85122547e+00, 4.78909492e-01, 1.74368400e-04,\n",
       "         1.25021994e-04, 1.26775870e-04, 1.52491690e-04, 1.28353054e-04,\n",
       "         1.35215717e-04, 1.73653032e-04, 7.12566149e-02, 1.61114240e-03,\n",
       "         1.59285183e-04, 1.27687067e-04, 1.26830962e-04, 1.58156234e-04,\n",
       "         1.35865868e-04, 2.13668015e-04, 1.75790970e-02, 4.24849714e-02,\n",
       "         2.82312066e-04, 8.30349423e-04, 1.29195212e-02, 4.47616564e-03,\n",
       "         3.79291795e-05, 2.17496148e-06, 7.62782415e-09, 8.14925579e-03],\n",
       "        [1.40642358e-04, 1.54553262e-04, 1.20311782e-04, 1.39215753e-04,\n",
       "         8.63936759e-07, 5.42746042e-07, 4.59728985e-07, 1.00398497e-06,\n",
       "         1.93430845e-01, 6.31359462e-01, 2.99119487e-01, 1.74134488e-04,\n",
       "         1.25021994e-04, 1.26250997e-04, 1.51774994e-04, 1.26817956e-04,\n",
       "         1.32962942e-04, 1.72446358e-04, 6.75807054e-02, 7.74259570e-03,\n",
       "         1.59191113e-04, 1.27809714e-04, 1.26128360e-04, 1.55873771e-04,\n",
       "         1.35337782e-04, 2.12920184e-04, 1.88703075e-02, 3.84784291e-02,\n",
       "         3.02160358e-04, 7.54226372e-04, 9.59451053e-03, 3.18112244e-03,\n",
       "         2.15480064e-05, 2.89744046e-06, 6.38765901e-09, 5.66362448e-02],\n",
       "        [1.38205031e-04, 1.54341186e-04, 1.19172017e-04, 1.39381854e-04,\n",
       "         1.01904136e-06, 7.59079565e-07, 8.87959940e-07, 8.93152918e-07,\n",
       "         2.28749118e-03, 1.57467046e-01, 4.94584509e-02, 1.73058142e-04,\n",
       "         1.25144799e-04, 1.26020588e-04, 1.51510861e-04, 1.25810363e-04,\n",
       "         1.31351151e-04, 1.72571346e-04, 6.41891454e-02, 1.07251255e-02,\n",
       "         1.59149818e-04, 1.28088008e-04, 1.25546230e-04, 1.54382255e-04,\n",
       "         1.34584830e-04, 2.13187423e-04, 1.92311749e-02, 3.53590336e-02,\n",
       "         3.07760564e-04, 6.95075497e-04, 7.46685741e-03, 2.25748679e-03,\n",
       "         3.84502415e-05, 2.34658133e-06, 3.94996086e-09, 5.66362448e-02],\n",
       "        [1.39171597e-04, 1.55041646e-04, 1.20429229e-04, 1.41850041e-04,\n",
       "         5.75529796e-07, 2.97300443e-07, 4.97443279e-07, 7.48811926e-07,\n",
       "         1.43640661e-01, 5.31020542e-01, 2.42102775e-01, 1.73192653e-04,\n",
       "         1.25021994e-04, 1.25992000e-04, 1.51493233e-04, 1.25817173e-04,\n",
       "         1.31748294e-04, 1.72178164e-04, 6.09049985e-02, 1.88089644e-02,\n",
       "         1.59036705e-04, 1.28636940e-04, 1.25056686e-04, 1.53906447e-04,\n",
       "         1.33725785e-04, 2.12581011e-04, 1.78897255e-02, 3.25446437e-02,\n",
       "         2.87355895e-04, 6.41603731e-04, 6.74120457e-03, 8.43083847e-04,\n",
       "         5.11375847e-05, 1.39389203e-06, 8.10824791e-09, 1.05124187e-01],\n",
       "        [1.41334711e-04, 1.60642346e-04, 1.22834966e-04, 1.46944683e-04,\n",
       "         1.01904136e-06, 3.86644660e-07, 7.44660611e-07, 5.34594246e-07,\n",
       "         7.13034784e-02, 1.56651580e+00, 4.67865662e-01, 1.72492800e-04,\n",
       "         1.25580539e-04, 1.26423898e-04, 1.52657182e-04, 1.27429538e-04,\n",
       "         1.34007976e-04, 1.72426113e-04, 5.73336842e-02, 6.60204198e-03,\n",
       "         1.59277039e-04, 1.29866357e-04, 1.25956388e-04, 1.55119412e-04,\n",
       "         1.33693040e-04, 2.11887068e-04, 1.25283305e-02, 2.90191537e-02,\n",
       "         2.05426869e-04, 5.74482379e-04, 8.46532517e-03, 3.18731554e-03,\n",
       "         7.36597258e-05, 1.94912695e-06, 6.13701756e-09, 1.05124187e-01],\n",
       "        [1.46392796e-04, 1.62049281e-04, 1.25650485e-04, 1.44957250e-04,\n",
       "         5.97332042e-07, 7.50546551e-07, 7.17838227e-07, 1.09334214e-06,\n",
       "         3.22487836e-01, 7.25290974e-01, 3.93521449e-01, 1.71607457e-04,\n",
       "         1.26494926e-04, 1.27041607e-04, 1.52915509e-04, 1.27919840e-04,\n",
       "         1.34195061e-04, 1.71573800e-04, 5.37734210e-02, 1.22690989e-02,\n",
       "         1.59181904e-04, 1.30019190e-04, 1.26397829e-04, 1.55337861e-04,\n",
       "         1.33388610e-04, 2.11747911e-04, 1.00655111e-02, 2.56134195e-02,\n",
       "         1.67827423e-04, 5.09582673e-04, 8.18311640e-03, 1.95578148e-03,\n",
       "         8.19533946e-06, 5.66258440e-07, 1.17036879e-08, 1.53611176e-01],\n",
       "        [1.43646849e-04, 1.64662621e-04, 1.24627801e-04, 1.50389964e-04,\n",
       "         8.59266019e-07, 3.40466557e-07, 5.89617123e-07, 9.71340435e-07,\n",
       "         4.63179979e-02, 1.79349547e+00, 5.99327683e-01, 1.71540069e-04,\n",
       "         1.28493526e-04, 1.28188021e-04, 1.54653639e-04, 1.30353106e-04,\n",
       "         1.37080866e-04, 1.71939156e-04, 4.98061433e-02, 2.28756480e-03,\n",
       "         1.59876074e-04, 1.30903706e-04, 1.27255990e-04, 1.57212922e-04,\n",
       "         1.34470137e-04, 2.11231589e-04, 3.29381981e-03, 2.12796245e-02,\n",
       "         6.46039712e-05, 4.26978687e-04, 1.04184782e-02, 5.50029025e-03,\n",
       "         5.92675607e-05, 3.34765367e-06, 1.51442451e-08, 1.05124187e-01],\n",
       "        [1.49341739e-04, 1.65691830e-04, 1.28330673e-04, 1.49913137e-04,\n",
       "         1.06607216e-06, 7.79658626e-07, 9.34046862e-07, 5.94165687e-07,\n",
       "         1.19004103e-01, 2.07134721e-01, 7.33799370e-03, 1.71668526e-04,\n",
       "         1.28493526e-04, 1.28452539e-04, 1.55422842e-04, 1.31518413e-04,\n",
       "         1.38632203e-04, 1.72366307e-04, 4.56454338e-02, 5.83645825e-03,\n",
       "         1.59526193e-04, 1.32121783e-04, 1.28374822e-04, 1.59155057e-04,\n",
       "         1.35893120e-04, 2.11550427e-04, 1.52919664e-03, 1.66664639e-02,\n",
       "         8.76145791e-06, 3.39031645e-04, 1.10872510e-02, 4.30135940e-03,\n",
       "         5.76531914e-05, 3.36290510e-06, 8.81166662e-09, 5.66362448e-02],\n",
       "        [1.49404334e-04, 1.63514431e-04, 1.25182895e-04, 1.46372094e-04,\n",
       "         8.89165308e-07, 8.24832733e-07, 4.99110311e-07, 1.10823500e-06,\n",
       "         1.27466392e-01, 1.06804926e+00, 4.06610384e-01, 1.70730321e-04,\n",
       "         1.28493526e-04, 1.29059133e-04, 1.55804882e-04, 1.31466082e-04,\n",
       "         1.37892970e-04, 1.72695406e-04, 4.16815594e-02, 1.32946211e-02,\n",
       "         1.59720599e-04, 1.32516355e-04, 1.29191113e-04, 1.59358185e-04,\n",
       "         1.36666934e-04, 2.11407052e-04, 2.48928185e-03, 1.27478241e-02,\n",
       "         2.33235106e-05, 2.64342910e-04, 9.41823113e-03, 2.48467278e-03,\n",
       "         3.00440467e-05, 7.35425017e-07, 8.09242101e-09, 5.66362448e-02],\n",
       "        [1.46105691e-04, 1.59507099e-04, 1.22708271e-04, 1.41486556e-04,\n",
       "         7.52436648e-07, 6.76260369e-07, 8.70362434e-07, 8.26999444e-07,\n",
       "         2.19798122e-01, 1.59071707e+00, 4.01749345e-01, 1.70506363e-04,\n",
       "         1.28493526e-04, 1.28055554e-04, 1.54750642e-04, 1.29950069e-04,\n",
       "         1.35319253e-04, 1.72240871e-04, 3.83352748e-02, 8.42168688e-03,\n",
       "         1.59621671e-04, 1.32566235e-04, 1.28229653e-04, 1.58623952e-04,\n",
       "         1.36758533e-04, 2.10883427e-04, 9.42714718e-04, 1.04284495e-02,\n",
       "         2.88676241e-05, 2.20127096e-04, 5.58090765e-03, 4.09216982e-03,\n",
       "         1.60534795e-05, 2.19180342e-06, 1.14467064e-08, 8.14925579e-03],\n",
       "        [1.40823468e-04, 1.55962507e-04, 1.20623590e-04, 1.40546575e-04,\n",
       "         8.85739007e-07, 5.05100953e-07, 7.17838227e-07, 9.11768993e-07,\n",
       "         1.83791966e-01, 2.72818541e-01, 3.79591552e-03, 1.70056160e-04,\n",
       "         1.28493526e-04, 1.28140868e-04, 1.53782044e-04, 1.28047997e-04,\n",
       "         1.32610026e-04, 1.73286559e-04, 3.55674705e-02, 1.94315695e-02,\n",
       "         1.59377432e-04, 1.31333779e-04, 1.27357250e-04, 1.56723847e-04,\n",
       "         1.36438977e-04, 2.10035647e-04, 4.30242927e-03, 9.37131881e-03,\n",
       "         7.99930639e-05, 1.99957853e-04, 2.55049364e-03, 7.79649212e-04,\n",
       "         7.23776853e-05, 2.29008243e-06, 2.06808766e-08, 8.14925579e-03],\n",
       "        [1.39793935e-04, 1.53243129e-04, 1.18597082e-04, 1.38308998e-04,\n",
       "         6.85785469e-07, 3.62049613e-07, 6.49115236e-07, 1.02718866e-06,\n",
       "         4.67937577e-01, 7.46895195e-01, 4.72840697e-01, 1.69862197e-04,\n",
       "         1.28493526e-04, 1.27559395e-04, 1.52886121e-04, 1.26125892e-04,\n",
       "         1.30261663e-04, 1.73190112e-04, 3.34569934e-02, 1.85096493e-02,\n",
       "         1.59636171e-04, 1.30311768e-04, 1.26429822e-04, 1.53673661e-04,\n",
       "         1.35035568e-04, 2.09458373e-04, 8.79730291e-03, 9.59382912e-03,\n",
       "         1.48491257e-04, 2.04219952e-04, 5.25260742e-04, 1.01637161e-03,\n",
       "         7.07463866e-05, 3.42256482e-06, 4.60571181e-09, 4.03386869e-02]]])"
      ]
     },
     "execution_count": 33,
     "metadata": {},
     "output_type": "execute_result"
    }
   ],
   "source": [
    "pred1=np.array(act1mod.predict(xx_test[0:1]))[1]\n",
    "np.abs(yi-pred1)"
   ]
  },
  {
   "cell_type": "markdown",
   "metadata": {},
   "source": [
    "**¿Por qué las diferencias?**\n",
    "\n",
    "puede seer la $\\epsilon$"
   ]
  },
  {
   "cell_type": "markdown",
   "metadata": {},
   "source": [
    "## Layer 2 Gaussian_Noise"
   ]
  },
  {
   "cell_type": "code",
   "execution_count": 34,
   "metadata": {},
   "outputs": [
    {
     "name": "stdout",
     "output_type": "stream",
     "text": [
      "gaussian_noise\n"
     ]
    },
    {
     "data": {
      "text/plain": [
       "[]"
      ]
     },
     "execution_count": 34,
     "metadata": {},
     "output_type": "execute_result"
    }
   ],
   "source": [
    "print(model.layers[2].name)\n",
    "model.layers[2].get_weights()"
   ]
  },
  {
   "cell_type": "markdown",
   "metadata": {},
   "source": [
    "## Layer 3 Conv1D"
   ]
  },
  {
   "cell_type": "code",
   "execution_count": 35,
   "metadata": {},
   "outputs": [
    {
     "name": "stdout",
     "output_type": "stream",
     "text": [
      "conv1d\n"
     ]
    },
    {
     "data": {
      "text/plain": [
       "[array([[[ 2.26747151e-03, -3.54279066e-03, -5.67819877e-03, ...,\n",
       "          -2.21014814e-03,  6.22154039e-04,  7.96498207e-04],\n",
       "         [ 2.12874380e-03, -2.74793198e-03, -1.70454790e-03, ...,\n",
       "          -2.37773196e-03, -4.41746740e-03,  1.19226717e-03],\n",
       "         [ 1.82251539e-03, -2.91424827e-03, -2.90959049e-03, ...,\n",
       "          -1.92967220e-03,  4.22915444e-03,  1.02167192e-03],\n",
       "         ...,\n",
       "         [-1.93967100e-03, -4.55022557e-03, -2.44201766e-03, ...,\n",
       "          -2.47867871e-03,  6.05250429e-03,  2.07856530e-03],\n",
       "         [ 3.18987819e-04,  1.02343372e-04, -1.18670485e-03, ...,\n",
       "           3.97747802e-03, -8.04732263e-04, -6.12414151e-05],\n",
       "         [-7.12941575e-04, -5.32640889e-03,  5.10338368e-03, ...,\n",
       "          -3.32218874e-03, -6.96267746e-03, -5.26426535e-04]],\n",
       " \n",
       "        [[ 1.45064841e-03, -2.72890693e-03, -3.89302056e-03, ...,\n",
       "          -2.00823438e-03, -7.52771599e-03,  6.44720683e-04],\n",
       "         [ 2.39163148e-03, -2.70740758e-03,  6.99239899e-06, ...,\n",
       "          -1.30287022e-03, -4.93635237e-03,  1.43002067e-03],\n",
       "         [ 1.52209192e-03, -3.41699715e-03, -3.04504111e-03, ...,\n",
       "          -1.29563420e-03, -5.90304751e-03,  7.22737284e-04],\n",
       "         ...,\n",
       "         [-1.43417495e-03, -4.04446432e-03, -3.65749438e-05, ...,\n",
       "          -1.42963999e-03, -2.46261619e-03,  1.70438772e-03],\n",
       "         [ 2.03263000e-04, -1.08135049e-03, -2.54219957e-03, ...,\n",
       "          -9.14961623e-04, -1.56667363e-03, -5.94571939e-05],\n",
       "         [-1.52016571e-03, -4.98748664e-03, -5.56700397e-04, ...,\n",
       "          -1.83554366e-04, -9.55047924e-03, -1.73901193e-04]],\n",
       " \n",
       "        [[ 1.74976047e-03, -3.46163986e-03, -3.00570671e-03, ...,\n",
       "          -2.25152518e-03,  2.31861137e-03,  4.03095793e-04],\n",
       "         [ 2.18417100e-03, -2.47573084e-03, -1.76639238e-03, ...,\n",
       "          -4.10473032e-04,  1.15167617e-03,  2.09430768e-03],\n",
       "         [ 1.31458603e-03, -2.34009302e-03, -1.78517285e-03, ...,\n",
       "          -1.80101779e-03,  3.31766059e-04,  6.37243502e-04],\n",
       "         ...,\n",
       "         [-1.98009750e-03, -2.43903860e-03,  3.87069129e-04, ...,\n",
       "           6.20252336e-04,  1.05782812e-02,  1.38954236e-03],\n",
       "         [-5.30472142e-04,  1.91558036e-03, -1.84010336e-04, ...,\n",
       "          -4.07633925e-04, -4.28094808e-03, -3.79350211e-04],\n",
       "         [ 2.41078995e-03, -6.36019092e-03,  1.10704470e-02, ...,\n",
       "          -8.35064042e-04, -7.00890133e-03, -5.28894830e-04]],\n",
       " \n",
       "        ...,\n",
       " \n",
       "        [[ 1.44544849e-03, -2.58249021e-03, -3.08620115e-03, ...,\n",
       "          -3.04417964e-03,  9.58035351e-04,  1.11407333e-03],\n",
       "         [ 2.15113792e-03, -1.56942382e-03,  1.20691751e-04, ...,\n",
       "          -1.49469357e-03, -9.97221097e-04,  2.09466671e-03],\n",
       "         [ 1.31749094e-03, -1.60670083e-03, -1.88076834e-03, ...,\n",
       "          -1.55834795e-03,  1.95622421e-03,  1.22849247e-03],\n",
       "         ...,\n",
       "         [ 2.63483939e-03, -2.53698439e-03, -4.97100482e-05, ...,\n",
       "          -5.10741811e-05, -1.42115357e-04,  1.01132190e-03],\n",
       "         [-4.87739926e-05, -2.35992647e-03, -2.28313543e-03, ...,\n",
       "           1.61712887e-05,  2.10452266e-03, -4.21007484e-04],\n",
       "         [ 1.88607571e-03, -6.64662896e-03, -5.06085111e-03, ...,\n",
       "          -1.31838489e-03, -9.75279510e-03,  1.07814011e-03]],\n",
       " \n",
       "        [[ 9.54237941e-04, -2.68462673e-03, -4.93432395e-03, ...,\n",
       "          -1.99443614e-03, -6.15295372e-04,  1.56419154e-03],\n",
       "         [ 2.94498703e-03, -1.17504771e-03, -2.38550524e-03, ...,\n",
       "          -3.96754127e-04, -1.30966702e-03,  1.38053182e-03],\n",
       "         [ 1.29915145e-03, -2.08198256e-03, -4.46066260e-03, ...,\n",
       "          -1.06943853e-03, -3.09621362e-04,  6.99954748e-04],\n",
       "         ...,\n",
       "         [ 5.81558212e-04, -2.25852593e-03, -2.18402222e-03, ...,\n",
       "          -2.16817390e-03, -3.60758835e-03,  1.19194353e-03],\n",
       "         [-9.74119830e-05, -8.19483423e-04, -5.42241056e-03, ...,\n",
       "           9.61004989e-04,  1.61342900e-02,  4.71962630e-05],\n",
       "         [ 2.09321966e-03, -7.69527210e-03, -1.62532255e-02, ...,\n",
       "          -2.94071273e-04, -7.60222506e-03,  2.28042161e-04]],\n",
       " \n",
       "        [[ 5.75920974e-04, -1.62317953e-03, -6.18855283e-03, ...,\n",
       "          -1.31268031e-03, -9.73001705e-04,  1.54516858e-03],\n",
       "         [ 3.33150919e-03, -9.67920758e-04, -4.19561379e-03, ...,\n",
       "          -1.30632578e-03, -3.70334089e-03,  2.19147117e-03],\n",
       "         [ 1.03023148e-03, -1.17840327e-03, -5.40502137e-03, ...,\n",
       "          -4.07446554e-04, -1.50561403e-03,  9.78347613e-04],\n",
       "         ...,\n",
       "         [-8.55560647e-05, -2.00962811e-03, -7.33200554e-03, ...,\n",
       "          -3.31257517e-03,  4.67025815e-03,  1.03364070e-03],\n",
       "         [-9.47751396e-04, -7.29169173e-04,  6.20233407e-03, ...,\n",
       "           1.12249945e-04, -1.30108558e-03, -8.68666219e-04],\n",
       "         [ 1.84060901e-03, -9.01273545e-03, -2.60318443e-03, ...,\n",
       "          -2.70901131e-03,  2.36559734e-02, -1.86246674e-04]]],\n",
       "       dtype=float32),\n",
       " array([ 0.02547766,  0.1111641 , -0.02541884, -0.02672908,  0.0792471 ,\n",
       "         0.06281725,  0.07043258, -0.01020087,  0.00238758,  0.01835405,\n",
       "        -0.00173029,  0.03631484,  0.04046894,  0.08584413, -0.13349704,\n",
       "         0.07434189,  0.0584055 ,  0.06062793,  0.04576655,  0.10415103,\n",
       "         0.041279  ,  0.04996458,  0.0269702 , -0.06977093,  0.03531182,\n",
       "         0.01513697,  0.03192953,  0.09118801,  0.0102395 ,  0.0962098 ,\n",
       "         0.02954706,  0.02324252,  0.03156173,  0.04927569,  0.03529443,\n",
       "         0.06848255,  0.04173592,  0.05233481,  0.01586388,  0.08430495,\n",
       "        -0.02947124,  0.04800906,  0.060097  , -0.0481065 ,  0.05323127,\n",
       "         0.03126705,  0.05855102, -0.00292516, -0.01085196, -0.01824819,\n",
       "         0.02180279,  0.03190401,  0.17858282,  0.00262542, -0.02920801,\n",
       "        -0.05150589,  0.07281   ,  0.01604559, -0.02571036,  0.09470854,\n",
       "         0.03769755, -0.05980997,  0.10891164,  0.00312091, -0.01804623,\n",
       "        -0.08930333, -0.0045994 ,  0.00729676,  0.06432587, -0.01175569,\n",
       "         0.04637359,  0.02459697,  0.07853814,  0.07819632,  0.00663183,\n",
       "         0.11519079,  0.03160129,  0.01890098,  0.09284466, -0.00611168,\n",
       "         0.01458112, -0.05734063,  0.02393685,  0.06594793, -0.06406791,\n",
       "        -0.03810932,  0.08349869, -0.01448523,  0.05838624, -0.01833654,\n",
       "         0.00703265,  0.04562816,  0.03583474,  0.04325199, -0.1129391 ,\n",
       "        -0.03069287,  0.03236047,  0.02127975,  0.02896158,  0.08966022,\n",
       "        -0.05198688,  0.16085294, -0.0066833 ,  0.07421432,  0.04940486,\n",
       "         0.089408  ,  0.05781504, -0.00170609,  0.13202353,  0.07348672,\n",
       "         0.06525016,  0.06064456,  0.06944682,  0.02065816, -0.09752886,\n",
       "         0.10199669,  0.13786164,  0.04733012,  0.02529877,  0.13622639,\n",
       "         0.02671495,  0.0006674 ,  0.07488499,  0.07206028, -0.05353729,\n",
       "         0.0738332 , -0.10732192,  0.09317012], dtype=float32)]"
      ]
     },
     "execution_count": 35,
     "metadata": {},
     "output_type": "execute_result"
    }
   ],
   "source": [
    "print(model.layers[3].name)\n",
    "model.layers[3].get_weights()"
   ]
  },
  {
   "cell_type": "markdown",
   "metadata": {},
   "source": [
    "**Está es la salida esperada de este layer**"
   ]
  },
  {
   "cell_type": "code",
   "execution_count": 36,
   "metadata": {},
   "outputs": [
    {
     "data": {
      "text/plain": [
       "array([[[ 0.49988616, -0.02245388, -0.03638026, ..., -0.02772865,\n",
       "         -0.0181757 ,  0.45862156],\n",
       "        [ 0.5916892 , -0.03388537, -0.0572233 , ..., -0.0409736 ,\n",
       "         -0.02460476,  0.5274807 ],\n",
       "        [ 0.663618  , -0.04654729, -0.05981088, ..., -0.05215062,\n",
       "         -0.02391527,  0.58839566],\n",
       "        ...,\n",
       "        [ 0.52263415, -0.0505611 , -0.02501746, ..., -0.05115576,\n",
       "         -0.01355459,  0.49450678],\n",
       "        [ 0.45072085, -0.04268551, -0.02517319, ..., -0.04435251,\n",
       "         -0.00441987,  0.436076  ],\n",
       "        [ 0.3792735 , -0.03508129, -0.03191796, ..., -0.03625619,\n",
       "         -0.00751726,  0.35973048]]], dtype=float32)"
      ]
     },
     "execution_count": 36,
     "metadata": {},
     "output_type": "execute_result"
    }
   ],
   "source": [
    "lay1out=[layer.output for layer in model.layers[:4]]\n",
    "act2mod=Model(model.input,lay1out)\n",
    "pred2=np.array(act2mod.predict(xx_test[0:1])[-1])\n",
    "pred2\n",
    "#np.abs(yi-pred1)"
   ]
  },
  {
   "cell_type": "code",
   "execution_count": 37,
   "metadata": {},
   "outputs": [
    {
     "data": {
      "text/plain": [
       "(1, 15, 128)"
      ]
     },
     "execution_count": 37,
     "metadata": {},
     "output_type": "execute_result"
    }
   ],
   "source": [
    "pred2.shape"
   ]
  },
  {
   "cell_type": "code",
   "execution_count": 38,
   "metadata": {},
   "outputs": [
    {
     "data": {
      "text/plain": [
       "(15, 36)"
      ]
     },
     "execution_count": 38,
     "metadata": {},
     "output_type": "execute_result"
    }
   ],
   "source": [
    "yi.shape"
   ]
  },
  {
   "cell_type": "markdown",
   "metadata": {},
   "source": [
    "### Entendiendo filtros Conv1D"
   ]
  },
  {
   "cell_type": "markdown",
   "metadata": {},
   "source": [
    "**Filtros**\n",
    "\n",
    "Recordar que la configuración de la neurona es Conv1D(128,10,padding=\"same\",activation=LeakyReLU(.1)), lo cual significa que tenemos 128 filtros de tamaño 10 y después se la aplica la función de activación LeakyRelu con $\\alpha=0.1$\n",
    "\n",
    "$$LeakyRelu(x)=f(x)=\\left\\{\\begin{array}{ll}\n",
    "x & \\text { if } x>0 \\\\\n",
    "a x & \\text { otherwise }\n",
    "\\end{array}\\right.$$\n",
    "\n",
    "¿Cuál es el output esperado?\n",
    "\n"
   ]
  },
  {
   "cell_type": "code",
   "execution_count": 39,
   "metadata": {},
   "outputs": [
    {
     "data": {
      "image/png": "[encoded data removed]",
      "text/plain": [
       "<IPython.core.display.Image object>"
      ]
     },
     "execution_count": 39,
     "metadata": {},
     "output_type": "execute_result"
    }
   ],
   "source": [
    "from IPython.display import Image\n",
    "Image(filename='C:/Users/Abraham/Documents/cnnmine2.png')\n",
    "\n",
    "#![](\"C:\\Users\\Abraham\\Documents\\CNNmio.jpg\"\")"
   ]
  },
  {
   "cell_type": "markdown",
   "metadata": {},
   "source": [
    "Por tanto esperamos una matriz de salida de 15x128 donde cada columna es el resultado de la convolución de cada fitro con la matriz input de 15x36 eso se corrobora viendo las dimensiones de salida de pred2.\n",
    "\n",
    "de este modo primero obtenemos los 128 filtros contenidos en los pesos del layer \"conv1d\":"
   ]
  },
  {
   "cell_type": "code",
   "execution_count": 40,
   "metadata": {},
   "outputs": [],
   "source": [
    "# retrieve weights from the second hidden layer\n",
    "filters, biases = model.layers[3].get_weights()"
   ]
  },
  {
   "cell_type": "code",
   "execution_count": 41,
   "metadata": {},
   "outputs": [
    {
     "data": {
      "text/plain": [
       "((10, 36, 128), (128,))"
      ]
     },
     "execution_count": 41,
     "metadata": {},
     "output_type": "execute_result"
    }
   ],
   "source": [
    "filters.shape,biases.shape"
   ]
  },
  {
   "cell_type": "markdown",
   "metadata": {},
   "source": [
    "Los filtros tienes las dimensiones como se muestran en el dibujo, después estas los biases que hay que agregar después de hacer las convoluciones respectivas..."
   ]
  },
  {
   "cell_type": "markdown",
   "metadata": {},
   "source": [
    "**Visualización de los primeros 3 filtros**"
   ]
  },
  {
   "cell_type": "code",
   "execution_count": 42,
   "metadata": {},
   "outputs": [
    {
     "data": {
      "image/png": "[encoded data removed]",
      "text/plain": [
       "<Figure size 432x288 with 108 Axes>"
      ]
     },
     "metadata": {},
     "output_type": "display_data"
    }
   ],
   "source": [
    "# plot first few filters\n",
    "n_filters, ix = 3, 1\n",
    "for i in range(n_filters):\n",
    "\t# get the filter\n",
    "\tf = filters[:, :, i]\n",
    "\t# plot each channel separately\n",
    "\tfor j in range(36):\n",
    "\t\t# specify subplot and turn of axis\n",
    "\t\tax = plt.subplot(n_filters, 36, ix)\n",
    "\t\tax.set_xticks([])\n",
    "\t\tax.set_yticks([])\n",
    "\t\t# plot filter channel in grayscale\n",
    "\t\tplt.imshow(f[:,j].reshape(-1,1), cmap='gray')\n",
    "\t\tix += 1\n",
    "# show the figure\n",
    "plt.show()"
   ]
  },
  {
   "cell_type": "markdown",
   "metadata": {},
   "source": [
    "Recordar que al hacer padding=\"same\" se rellenan con zeros los vectores de cada una de las 36 columnas en este caso para conservar las dimensiones del input se tienene que meter 9 renglones con 0's 4 al principio y 5 al final cpmo se muestra en el dagrama de arriba:"
   ]
  },
  {
   "cell_type": "code",
   "execution_count": 43,
   "metadata": {},
   "outputs": [
    {
     "data": {
      "text/plain": [
       "(24, 36)"
      ]
     },
     "execution_count": 43,
     "metadata": {},
     "output_type": "execute_result"
    }
   ],
   "source": [
    "yipad=np.vstack((np.vstack((np.zeros((4,36)),yi)),np.zeros((5,36))))\n",
    "yipad.shape"
   ]
  },
  {
   "cell_type": "code",
   "execution_count": 44,
   "metadata": {},
   "outputs": [
    {
     "data": {
      "text/plain": [
       "0.6672305646483374"
      ]
     },
     "execution_count": 44,
     "metadata": {},
     "output_type": "execute_result"
    }
   ],
   "source": [
    "(np.sum(filters[:,:,0]*yipad[2:12,:])+biases[0])"
   ]
  },
  {
   "cell_type": "code",
   "execution_count": 45,
   "metadata": {},
   "outputs": [
    {
     "data": {
      "text/plain": [
       "-0.023849243318653353"
      ]
     },
     "execution_count": 45,
     "metadata": {},
     "output_type": "execute_result"
    }
   ],
   "source": [
    "np.sum(f[:,0]*yi[:10,0])+biases[0]"
   ]
  },
  {
   "cell_type": "markdown",
   "metadata": {},
   "source": [
    "Tenemos que crear la función LeakyRelu para aplicar después de la convolución..."
   ]
  },
  {
   "cell_type": "code",
   "execution_count": 46,
   "metadata": {},
   "outputs": [],
   "source": [
    "def likirelu(x,alfa):\n",
    "    if x<0:\n",
    "        sal=alfa*x\n",
    "        return(sal)\n",
    "    else:\n",
    "        return(x)"
   ]
  },
  {
   "cell_type": "markdown",
   "metadata": {},
   "source": [
    "**Conv1D con función de activación LeakyRelu**"
   ]
  },
  {
   "cell_type": "code",
   "execution_count": 47,
   "metadata": {},
   "outputs": [],
   "source": [
    "predman=np.zeros((15,128))\n",
    "for j in range(128):\n",
    "    for i in range(15):\n",
    "        predman[i,j]=likirelu(np.sum(filters[:,:,j]*yipad[i:i+10,:])+biases[j],.1)"
   ]
  },
  {
   "cell_type": "markdown",
   "metadata": {},
   "source": [
    "y Comparamos salidas...."
   ]
  },
  {
   "cell_type": "code",
   "execution_count": 48,
   "metadata": {},
   "outputs": [
    {
     "data": {
      "text/plain": [
       "array([0.45862156, 0.5274807 , 0.58839566, 0.64644104, 0.7093635 ,\n",
       "       0.715235  , 0.6964625 , 0.6833139 , 0.6809319 , 0.6767421 ,\n",
       "       0.61537004, 0.56504047, 0.49450678, 0.436076  , 0.35973048],\n",
       "      dtype=float32)"
      ]
     },
     "execution_count": 48,
     "metadata": {},
     "output_type": "execute_result"
    }
   ],
   "source": [
    "pred2[0,:,127]"
   ]
  },
  {
   "cell_type": "code",
   "execution_count": 49,
   "metadata": {},
   "outputs": [
    {
     "data": {
      "text/plain": [
       "array([0.46255536, 0.53163924, 0.58902827, 0.64343927, 0.71383667,\n",
       "       0.71972062, 0.69665232, 0.67874457, 0.68363244, 0.67597374,\n",
       "       0.61626902, 0.56701323, 0.48836241, 0.43514469, 0.35733478])"
      ]
     },
     "execution_count": 49,
     "metadata": {},
     "output_type": "execute_result"
    }
   ],
   "source": [
    "predman[:,127]"
   ]
  },
  {
   "cell_type": "markdown",
   "metadata": {},
   "source": [
    "## Layer 4 BatchNormalization\n",
    "\n",
    "Bajo la misma explicación de 6.1 tenemos los siguiente:"
   ]
  },
  {
   "cell_type": "code",
   "execution_count": 50,
   "metadata": {},
   "outputs": [
    {
     "name": "stdout",
     "output_type": "stream",
     "text": [
      "batch_normalization_1\n"
     ]
    },
    {
     "data": {
      "text/plain": [
       "[array([0.9539273 , 0.8306605 , 0.99516416, 0.975839  , 0.849056  ,\n",
       "        0.9346981 , 0.8730302 , 0.90473396, 1.0434815 , 0.95838726,\n",
       "        0.88518786, 0.90235376, 0.8291615 , 0.8715492 , 0.9359577 ,\n",
       "        0.8931155 , 0.9538491 , 0.92747265, 1.0138613 , 0.86048955,\n",
       "        0.9261638 , 0.91975594, 0.8564666 , 1.025928  , 0.91263   ,\n",
       "        0.9804795 , 0.97560954, 0.8503863 , 0.9168027 , 0.9012972 ,\n",
       "        0.96401626, 0.960646  , 0.89159125, 0.914943  , 1.021866  ,\n",
       "        0.9191606 , 0.88527846, 0.9228716 , 0.9175348 , 0.9268428 ,\n",
       "        0.9630522 , 0.9490821 , 0.8869737 , 0.984334  , 0.8988801 ,\n",
       "        0.8749836 , 0.910123  , 0.9482397 , 1.0187516 , 1.0237877 ,\n",
       "        0.9672201 , 1.0702142 , 0.84331805, 0.92311084, 1.0359477 ,\n",
       "        1.097183  , 0.9127817 , 0.9102392 , 1.0146608 , 0.92052174,\n",
       "        0.85694826, 0.9954321 , 0.8089716 , 0.8922912 , 0.9839197 ,\n",
       "        1.0861045 , 0.9767858 , 0.9011924 , 0.9227547 , 0.94262177,\n",
       "        0.862607  , 0.9094198 , 0.8227335 , 0.9070983 , 0.96016246,\n",
       "        0.9022205 , 0.96543056, 0.94673645, 0.8857157 , 0.9430622 ,\n",
       "        0.92790914, 0.96962523, 0.9090691 , 0.90426046, 0.9119313 ,\n",
       "        0.948093  , 0.83253187, 0.93451864, 0.90403885, 1.0129185 ,\n",
       "        0.85099274, 0.91260934, 0.9296279 , 0.8726145 , 1.012039  ,\n",
       "        0.95028806, 0.88652307, 1.015988  , 1.0269157 , 0.8244279 ,\n",
       "        0.9951852 , 0.8420169 , 0.8933313 , 0.9091766 , 0.94131553,\n",
       "        0.9185557 , 0.86103755, 0.9261517 , 0.8743478 , 0.9213033 ,\n",
       "        0.9403415 , 0.9088903 , 0.8540915 , 0.89495   , 1.0303705 ,\n",
       "        1.1824771 , 0.83775264, 0.84045726, 0.94232357, 0.86295986,\n",
       "        0.896039  , 0.9237084 , 0.8424848 , 0.8755013 , 0.8719038 ,\n",
       "        0.88835716, 1.1256586 , 0.87282735], dtype=float32),\n",
       " array([ 2.18712921e-05, -2.18124133e-05,  1.57131763e-05,  6.63020255e-05,\n",
       "         2.23903527e-07, -8.32764490e-05, -6.05613714e-05,  1.40380580e-05,\n",
       "         8.32907172e-05, -4.93362086e-06,  6.09953859e-05, -3.70920352e-05,\n",
       "        -1.51601598e-05, -2.90587213e-05, -2.49518314e-04, -5.50333207e-05,\n",
       "        -1.07744971e-04, -4.11324727e-05, -5.76455495e-04,  3.35632808e-06,\n",
       "         1.83195720e-04,  7.61090414e-05, -9.09981172e-05, -8.08309822e-04,\n",
       "         2.23332881e-05, -2.13456180e-04,  1.01307387e-05, -5.61255547e-05,\n",
       "         7.50348263e-05,  1.52583925e-05, -1.35256341e-04, -2.32149000e-06,\n",
       "        -3.55771663e-05, -8.01520036e-06,  4.60549869e-04, -3.90531459e-05,\n",
       "         2.82428355e-05, -8.12394064e-05, -9.11391471e-05, -9.29318412e-05,\n",
       "        -2.82007590e-04,  3.09452698e-05, -9.08340298e-05,  4.14379174e-04,\n",
       "         8.85488917e-05,  2.32902621e-05,  3.07354640e-05,  7.98204710e-05,\n",
       "        -4.54981782e-04,  5.82516986e-05,  9.15799228e-06,  3.69457790e-04,\n",
       "        -4.57710303e-05, -3.90656714e-05, -6.23757369e-04,  9.67781816e-05,\n",
       "        -3.00154916e-05, -1.92280113e-05, -1.71780397e-04, -5.08899257e-06,\n",
       "        -4.01447360e-05, -4.92772670e-05,  6.40401340e-05,  9.25500262e-06,\n",
       "         6.09544295e-05,  1.33937385e-04,  2.98787141e-04, -2.55775049e-05,\n",
       "        -3.46900742e-05,  1.14676805e-04,  1.59498668e-05, -8.02753493e-05,\n",
       "        -2.41537964e-05, -7.37455921e-05, -2.80826382e-04,  5.91482931e-05,\n",
       "         4.45561964e-05,  2.10539092e-05, -2.18321456e-05, -3.89818488e-05,\n",
       "         6.47962661e-05, -4.11936169e-04, -5.98141924e-05, -1.79546132e-05,\n",
       "        -3.99468081e-05, -1.53876215e-04,  7.25478021e-05, -1.09727953e-04,\n",
       "         4.53964567e-05,  3.58725578e-04, -3.99125747e-05,  5.26073200e-05,\n",
       "         5.07397999e-05,  5.00299575e-05,  1.12485959e-05,  4.32365632e-05,\n",
       "         2.34736272e-05, -2.82936904e-04,  3.50272858e-05, -1.91471136e-05,\n",
       "         8.26092801e-05,  1.44207461e-05, -2.78310035e-04,  8.07285396e-05,\n",
       "        -5.14964540e-06, -1.04062392e-05,  5.53989594e-05, -9.97174720e-05,\n",
       "         4.69930201e-05, -1.60124400e-04,  2.85883852e-05, -2.80481381e-05,\n",
       "        -5.96624413e-05,  4.38086754e-05,  3.75241070e-04, -3.30723519e-03,\n",
       "        -1.95384600e-05,  4.84142838e-05, -1.93072683e-05, -8.51861987e-05,\n",
       "         1.98074804e-06,  4.29031206e-05,  1.37201896e-05, -3.33916723e-05,\n",
       "         5.40411565e-05,  1.58864732e-05,  1.22339436e-04,  7.30248030e-06],\n",
       "       dtype=float32),\n",
       " array([ 0.07710926,  0.2158098 ,  0.0782731 ,  0.12171508,  0.19666633,\n",
       "         0.09488409,  0.15623373,  0.06568345,  0.00691547,  0.09214021,\n",
       "         0.12491397,  0.1033563 ,  0.08236549,  0.17713813,  0.03463944,\n",
       "         0.14015344,  0.15323745,  0.10390257,  0.05053077,  0.11936069,\n",
       "         0.10258447,  0.1537398 ,  0.11685046,  0.0732252 ,  0.12117598,\n",
       "         0.13954854,  0.08658385,  0.21068366,  0.13368559,  0.11460061,\n",
       "         0.08458366,  0.08435646,  0.09288374,  0.09518985,  0.0457309 ,\n",
       "         0.13995084,  0.12997344,  0.1384704 ,  0.11013894,  0.18542384,\n",
       "         0.1455074 ,  0.09399845,  0.12242379,  0.02139124,  0.09570383,\n",
       "         0.14272071,  0.09964475,  0.06070546,  0.14513086,  0.15369828,\n",
       "         0.15285695,  0.12069251,  0.2521928 ,  0.07822475,  0.08266749,\n",
       "         0.11983699,  0.11668188,  0.11556702,  0.05554283,  0.11475945,\n",
       "         0.09374674,  0.04974174,  0.13157922,  0.07156142,  0.1252433 ,\n",
       "         0.00535634,  0.08916929,  0.13711374,  0.11952215,  0.1337272 ,\n",
       "         0.08540305,  0.107668  ,  0.14921342,  0.10671181,  0.12410758,\n",
       "         0.18572962,  0.07945119,  0.07344411,  0.11069775,  0.08093841,\n",
       "         0.10198438,  0.06336366,  0.14886756,  0.15393385,  0.05634662,\n",
       "         0.10456403,  0.1843933 ,  0.10840355,  0.14248995,  0.06249658,\n",
       "         0.06020783,  0.14800455,  0.10347825,  0.13840249,  0.06548964,\n",
       "         0.09087478,  0.14071177,  0.05379474,  0.14736424,  0.14823939,\n",
       "         0.02704564,  0.19502623,  0.1219012 ,  0.10388265,  0.10339741,\n",
       "         0.10875811,  0.15027292,  0.07793714,  0.19763611,  0.09308524,\n",
       "         0.10976475,  0.10730109,  0.1386731 ,  0.08541109,  0.10048997,\n",
       "        -0.01054954,  0.21445854,  0.13767782,  0.07822154,  0.19413285,\n",
       "         0.08711672,  0.07141186,  0.16684476,  0.205265  ,  0.07933572,\n",
       "         0.18627481,  0.0515448 ,  0.11778972], dtype=float32),\n",
       " array([0.02501317, 0.03209667, 0.05165522, 0.06033719, 0.02754221,\n",
       "        0.02935906, 0.05624812, 0.02814024, 0.00495144, 0.06970225,\n",
       "        0.0368911 , 0.05931104, 0.02091827, 0.15353128, 0.02564828,\n",
       "        0.02616413, 0.01564548, 0.03338889, 0.00783663, 0.03063769,\n",
       "        0.05607951, 0.06454667, 0.02916069, 0.01540935, 0.02253899,\n",
       "        0.03291272, 0.03399214, 0.03263717, 0.0611895 , 0.02765673,\n",
       "        0.04334777, 0.04163781, 0.04404317, 0.0433916 , 0.0094388 ,\n",
       "        0.11283282, 0.02977407, 0.02662918, 0.06043348, 0.02221592,\n",
       "        0.14506885, 0.04005858, 0.03235516, 0.0070177 , 0.03748057,\n",
       "        0.05185285, 0.0437529 , 0.01689788, 0.04368952, 0.03253208,\n",
       "        0.03814016, 0.02912249, 0.03932591, 0.05139212, 0.01463509,\n",
       "        0.06024913, 0.05718234, 0.01266761, 0.03435577, 0.03706917,\n",
       "        0.04339789, 0.0140063 , 0.0318126 , 0.02902331, 0.03582595,\n",
       "        0.00354178, 0.03070273, 0.04389127, 0.03461994, 0.01978849,\n",
       "        0.02559124, 0.07908554, 0.05057348, 0.03673017, 0.02516898,\n",
       "        0.01664224, 0.03502639, 0.02967506, 0.03274047, 0.04497915,\n",
       "        0.08984607, 0.03552356, 0.04097366, 0.04983387, 0.04464246,\n",
       "        0.02890299, 0.02189207, 0.01742986, 0.04339543, 0.03949806,\n",
       "        0.02009783, 0.05969649, 0.05557078, 0.02887878, 0.05294135,\n",
       "        0.02375061, 0.01937512, 0.01244383, 0.03299354, 0.03900805,\n",
       "        0.02069971, 0.04331777, 0.04127551, 0.03890534, 0.04510253,\n",
       "        0.01887184, 0.04285039, 0.05568517, 0.0173791 , 0.03819701,\n",
       "        0.03630174, 0.03697195, 0.01161532, 0.03838764, 0.02462279,\n",
       "        0.00295385, 0.04441084, 0.0430709 , 0.02850972, 0.01537641,\n",
       "        0.05013323, 0.03106334, 0.01957941, 0.06113068, 0.0230056 ,\n",
       "        0.02632576, 0.01856808, 0.02662987], dtype=float32)]"
      ]
     },
     "execution_count": 50,
     "metadata": {},
     "output_type": "execute_result"
    }
   ],
   "source": [
    "print(model.layers[4].name)\n",
    "model.layers[4].get_weights()"
   ]
  },
  {
   "cell_type": "code",
   "execution_count": 51,
   "metadata": {},
   "outputs": [
    {
     "data": {
      "text/plain": [
       "array([[[ 2.5005393 , -1.0879226 , -0.49721825, ..., -1.150049  ,\n",
       "         -0.5609168 ,  1.7897025 ],\n",
       "        [ 3.043509  , -1.1401182 , -0.5876113 , ..., -1.221228  ,\n",
       "         -0.6126513 ,  2.1512794 ],\n",
       "        [ 3.4689326 , -1.1979319 , -0.59883326, ..., -1.2812939 ,\n",
       "         -0.607103  ,  2.4711413 ],\n",
       "        ...,\n",
       "        [ 2.6350822 , -1.2162588 , -0.44793954, ..., -1.2759473 ,\n",
       "         -0.5237308 ,  1.9781345 ],\n",
       "        [ 2.2097507 , -1.1802992 , -0.44861493, ..., -1.2393864 ,\n",
       "         -0.45022392,  1.6713165 ],\n",
       "        [ 1.7871746 , -1.1455787 , -0.47786593, ..., -1.1958764 ,\n",
       "         -0.47514862,  1.2704291 ]]], dtype=float32)"
      ]
     },
     "execution_count": 51,
     "metadata": {},
     "output_type": "execute_result"
    }
   ],
   "source": [
    "lay2out=[layer.output for layer in model.layers[:5]]\n",
    "act3mod=Model(model.input,lay2out)\n",
    "pred3=np.array(act3mod.predict(xx_test[0:1])[-1])\n",
    "pred3"
   ]
  },
  {
   "cell_type": "markdown",
   "metadata": {},
   "source": [
    "Obteniendo la normalización de forma explícita..."
   ]
  },
  {
   "cell_type": "code",
   "execution_count": 52,
   "metadata": {},
   "outputs": [
    {
     "data": {
      "text/plain": [
       "array([[ 2.56677848, -1.11022901, -0.504179  , ..., -1.15878029,\n",
       "        -0.53559162,  1.84403642],\n",
       "       [ 3.14923047, -1.15791316, -0.60511423, ..., -1.24456722,\n",
       "        -0.66558342,  2.21354157],\n",
       "       [ 3.55938401, -1.21755471, -0.5972854 , ..., -1.31156671,\n",
       "        -0.63953211,  2.52049514],\n",
       "       ...,\n",
       "       [ 2.68734838, -1.23832095, -0.45288005, ..., -1.29364992,\n",
       "        -0.53965179,  1.98206914],\n",
       "       [ 2.22719035, -1.19705182, -0.44641507, ..., -1.26857816,\n",
       "        -0.47194124,  1.69742644],\n",
       "       [ 1.80510227, -1.16544086, -0.47986016, ..., -1.2194231 ,\n",
       "        -0.45680307,  1.28124884]])"
      ]
     },
     "execution_count": 52,
     "metadata": {},
     "output_type": "execute_result"
    }
   ],
   "source": [
    "bn=model.layers[4].get_weights()[0]*((predman-model.layers[4].get_weights()[2])/np.sqrt(model.layers[4].get_weights()[3]))+model.layers[4].get_weights()[1]\n",
    "bn"
   ]
  },
  {
   "cell_type": "code",
   "execution_count": 53,
   "metadata": {},
   "outputs": [
    {
     "data": {
      "text/plain": [
       "(1, 15, 128)"
      ]
     },
     "execution_count": 53,
     "metadata": {},
     "output_type": "execute_result"
    }
   ],
   "source": [
    "bn=np.expand_dims(bn,axis=0)\n",
    "bn.shape"
   ]
  },
  {
   "cell_type": "markdown",
   "metadata": {},
   "source": [
    "## Layer 5 Maxpooling"
   ]
  },
  {
   "cell_type": "code",
   "execution_count": 54,
   "metadata": {},
   "outputs": [
    {
     "name": "stdout",
     "output_type": "stream",
     "text": [
      "max_pooling1d\n"
     ]
    },
    {
     "data": {
      "text/plain": [
       "[]"
      ]
     },
     "execution_count": 54,
     "metadata": {},
     "output_type": "execute_result"
    }
   ],
   "source": [
    "print(model.layers[5].name)\n",
    "model.layers[5].get_weights()"
   ]
  },
  {
   "cell_type": "code",
   "execution_count": 55,
   "metadata": {},
   "outputs": [
    {
     "data": {
      "text/plain": [
       "array([-1.0879226, -1.1401182, -1.1979319, -1.2437997, -1.2935957,\n",
       "       -1.2981329, -1.3021548, -1.3023789, -1.3102709, -1.3065666,\n",
       "       -1.2886751, -1.249107 , -1.2162588, -1.1802992, -1.1455787],\n",
       "      dtype=float32)"
      ]
     },
     "execution_count": 55,
     "metadata": {},
     "output_type": "execute_result"
    }
   ],
   "source": [
    "pred3[0,:,1]"
   ]
  },
  {
   "cell_type": "code",
   "execution_count": 56,
   "metadata": {},
   "outputs": [
    {
     "data": {
      "text/plain": [
       "array([[[ 4.2786474 , -1.0879226 , -0.49721825, -0.76068366,\n",
       "         -1.2640159 ,  2.2793815 ,  1.2402296 ,  3.9927106 ,\n",
       "          3.8059394 ,  5.16138   ,  3.1047533 ,  4.2269273 ,\n",
       "          1.8212273 ,  0.88060975, -0.41790372,  1.6574008 ,\n",
       "         -1.2925862 ,  3.843429  , -0.1391553 ,  2.6003602 ,\n",
       "          3.3820279 ,  2.1067228 , -0.73585725, -0.75771147,\n",
       "         -0.88497144, -0.94236773,  3.1257253 , -1.1259761 ,\n",
       "          2.5269995 ,  3.995391  ,  4.755743  ,  4.051179  ,\n",
       "          2.5735824 ,  3.0272737 , -0.9055861 ,  2.6225984 ,\n",
       "         -0.82898366, -0.88724005,  2.5773873 , -1.2170417 ,\n",
       "          3.2632122 ,  3.823877  ,  2.2788677 , -0.694811  ,\n",
       "          3.6442044 ,  5.6934447 ,  2.5262785 ,  1.8852115 ,\n",
       "         -0.860379  ,  4.9852724 , -1.1963625 , -0.7924377 ,\n",
       "         -1.0645877 ,  3.3306463 , -0.86034507,  1.6508796 ,\n",
       "          3.4488928 ,  1.9243348 ,  1.1420543 ,  3.1165593 ,\n",
       "          4.4078727 ,  0.6881263 ,  1.5135432 ,  0.4258052 ,\n",
       "         -0.7780832 , -0.31179753,  2.138698  , -0.6899229 ,\n",
       "          2.5958269 , -0.9704301 ,  3.0398443 ,  1.4871366 ,\n",
       "          1.7316184 ,  1.7334018 , -0.17500824, -1.3087599 ,\n",
       "          0.33108044,  3.2543492 ,  2.709987  ,  6.474184  ,\n",
       "          4.631916  ,  1.313746  , -0.7264831 ,  6.3469553 ,\n",
       "          1.7979239 , -0.77429456, -1.0732887 , -0.95314986,\n",
       "          1.5857973 ,  3.8708577 ,  4.186524  ,  3.824226  ,\n",
       "          1.9524318 ,  5.6886835 ,  1.5139091 , -0.8218857 ,\n",
       "         -1.1095325 ,  0.5036242 ,  1.3275446 ,  1.7511435 ,\n",
       "          5.629705  ,  1.2641695 ,  9.953141  ,  3.7375572 ,\n",
       "          1.7194189 ,  2.7461028 , -0.71002287,  2.359366  ,\n",
       "         -1.360098  ,  1.6691674 ,  1.7288884 ,  3.1255474 ,\n",
       "         -1.2437036 ,  1.0809562 , -0.7114666 , -0.2426189 ,\n",
       "         -0.87371635,  2.7186928 ,  2.990234  , -1.3886553 ,\n",
       "          1.3996722 ,  3.1417172 , -1.0577872 , -0.82934797,\n",
       "         -0.75998807, -1.150049  , -0.5609168 ,  3.1371698 ],\n",
       "        [ 4.2433586 , -1.1455787 , -0.44793954, -0.84669685,\n",
       "         -1.2575288 ,  2.0061836 ,  1.2965205 ,  3.869141  ,\n",
       "          3.3129983 ,  5.2225127 ,  3.8329442 ,  3.8530185 ,\n",
       "          1.6316059 ,  0.8752978 , -0.4058808 ,  1.7489538 ,\n",
       "         -1.2212589 ,  3.7773018 ,  1.2452078 ,  2.5131948 ,\n",
       "          3.3539822 ,  2.1542726 , -0.6983382 , -0.7113105 ,\n",
       "         -0.84862596, -0.8676846 ,  3.0334237 , -1.1196545 ,\n",
       "          2.3507004 ,  3.9307704 ,  4.831136  ,  3.9744835 ,\n",
       "          2.3319874 ,  2.9352643 ,  0.6406913 ,  2.5467417 ,\n",
       "         -0.7794475 , -1.0924226 ,  2.371981  , -1.1979917 ,\n",
       "          2.8169842 ,  3.7028716 ,  2.415874  ,  2.8577662 ,\n",
       "          3.561037  ,  5.6482625 ,  2.3396106 ,  1.7566411 ,\n",
       "         -0.79239404,  4.9514666 , -1.1641715 ,  0.7456098 ,\n",
       "         -0.98861575,  3.3093739 , -0.69394356,  0.54168886,\n",
       "          3.4106443 ,  0.3792677 ,  1.4754068 ,  2.9677203 ,\n",
       "          4.329851  ,  0.8991716 ,  1.4823965 ,  0.31176442,\n",
       "         -0.6853873 , -0.3239405 ,  1.9345344 , -0.6688833 ,\n",
       "          2.1792178 , -1.0365069 ,  2.8928945 ,  1.4215553 ,\n",
       "          1.9016051 ,  1.6078751 ,  1.3979092 , -1.3001093 ,\n",
       "         -0.01079738,  3.0455737 ,  2.4618986 ,  6.471536  ,\n",
       "          4.684879  ,  1.3483639 , -0.7233237 ,  6.404444  ,\n",
       "          1.7781311 , -0.7324139 , -1.1048323 , -0.9432498 ,\n",
       "          1.6206818 ,  3.6655812 ,  4.2060013 ,  3.8348389 ,\n",
       "          1.7777258 ,  6.028984  ,  1.4883654 , -0.88196206,\n",
       "         -1.0639311 , -0.54162025, -0.83698916,  1.8084874 ,\n",
       "          5.1164107 ,  1.418447  ,  9.608305  ,  3.7686708 ,\n",
       "          1.6218594 ,  2.5606813 , -0.7509446 ,  2.402116  ,\n",
       "         -1.2907709 ,  1.5481582 ,  1.476976  ,  3.0250788 ,\n",
       "         -1.1340218 ,  1.023809  , -0.527682  ,  1.0315421 ,\n",
       "         -0.865272  ,  2.7595556 ,  2.8369482 , -1.3317353 ,\n",
       "          1.425885  ,  3.0718844 , -1.0330795 , -0.79899526,\n",
       "         -0.70735216, -1.1958764 , -0.45022392,  2.957046  ]]],\n",
       "      dtype=float32)"
      ]
     },
     "execution_count": 56,
     "metadata": {},
     "output_type": "execute_result"
    }
   ],
   "source": [
    "lay3out=[layer.output for layer in model.layers[:6]]\n",
    "act4mod=Model(model.input,lay3out)\n",
    "pred4=np.array(act4mod.predict(xx_test[0:1])[-1])\n",
    "pred4"
   ]
  },
  {
   "cell_type": "markdown",
   "metadata": {},
   "source": [
    "### ¿Entendiste como funciona Maxpooling 1D?"
   ]
  },
  {
   "cell_type": "code",
   "execution_count": 57,
   "metadata": {},
   "outputs": [
    {
     "data": {
      "image/png": "[encoded data removed]",
      "text/plain": [
       "<IPython.core.display.Image object>"
      ]
     },
     "execution_count": 57,
     "metadata": {},
     "output_type": "execute_result"
    }
   ],
   "source": [
    "Image(filename='C:/Users/Abraham/Documents/maxpool.png')"
   ]
  },
  {
   "cell_type": "code",
   "execution_count": 58,
   "metadata": {},
   "outputs": [
    {
     "data": {
      "text/plain": [
       "(128,)"
      ]
     },
     "execution_count": 58,
     "metadata": {},
     "output_type": "execute_result"
    }
   ],
   "source": [
    "np.max(bn[0,:8],axis=0).shape"
   ]
  },
  {
   "cell_type": "code",
   "execution_count": 61,
   "metadata": {},
   "outputs": [
    {
     "data": {
      "text/plain": [
       "(1, 2, 128)"
      ]
     },
     "execution_count": 61,
     "metadata": {},
     "output_type": "execute_result"
    }
   ],
   "source": [
    "maxbn=np.zeros((2,128))\n",
    "maxbn[0,:]=np.max(bn[0,:8],axis=0)\n",
    "maxbn[1,:]=np.max(bn[0,8:],axis=0)\n",
    "maxbn=np.expand_dims(maxbn,axis=0)\n",
    "maxbn.shape"
   ]
  },
  {
   "cell_type": "markdown",
   "metadata": {},
   "source": [
    "## Layer 6 Flatten"
   ]
  },
  {
   "cell_type": "code",
   "execution_count": 62,
   "metadata": {},
   "outputs": [
    {
     "name": "stdout",
     "output_type": "stream",
     "text": [
      "flatten\n"
     ]
    },
    {
     "data": {
      "text/plain": [
       "[]"
      ]
     },
     "execution_count": 62,
     "metadata": {},
     "output_type": "execute_result"
    }
   ],
   "source": [
    "print(model.layers[6].name)\n",
    "model.layers[6].get_weights()"
   ]
  },
  {
   "cell_type": "code",
   "execution_count": 63,
   "metadata": {},
   "outputs": [
    {
     "data": {
      "text/plain": [
       "(1, 256)"
      ]
     },
     "execution_count": 63,
     "metadata": {},
     "output_type": "execute_result"
    }
   ],
   "source": [
    "lay4out=[layer.output for layer in model.layers[:7]]\n",
    "act5mod=Model(model.input,lay4out)\n",
    "pred5=np.array(act5mod.predict(xx_test[0:1])[-1])\n",
    "pred5.shape"
   ]
  },
  {
   "cell_type": "markdown",
   "metadata": {},
   "source": [
    "Flatten hace pasar de (2,128) a 2*128=256..."
   ]
  },
  {
   "cell_type": "code",
   "execution_count": 64,
   "metadata": {},
   "outputs": [
    {
     "data": {
      "text/plain": [
       "(256,)"
      ]
     },
     "execution_count": 64,
     "metadata": {},
     "output_type": "execute_result"
    }
   ],
   "source": [
    "fmaxbn=maxbn.flatten()\n",
    "fmaxbn.shape"
   ]
  },
  {
   "cell_type": "markdown",
   "metadata": {},
   "source": [
    "## Layer 7 BatchNormalization"
   ]
  },
  {
   "cell_type": "code",
   "execution_count": 65,
   "metadata": {},
   "outputs": [
    {
     "name": "stdout",
     "output_type": "stream",
     "text": [
      "batch_normalization_2\n"
     ]
    },
    {
     "data": {
      "text/plain": [
       "[array([0.9839168 , 0.8766875 , 0.9942329 , 0.9958527 , 0.9066089 ,\n",
       "        0.9472236 , 0.91700584, 0.955372  , 0.9924963 , 0.9821846 ,\n",
       "        0.9267609 , 0.9359668 , 0.88012725, 0.9113857 , 0.9734801 ,\n",
       "        0.9073425 , 0.9620673 , 0.95664173, 1.0131469 , 0.9325219 ,\n",
       "        0.9551682 , 0.9518337 , 0.94637156, 1.0112728 , 0.953993  ,\n",
       "        1.0009882 , 0.98080724, 0.9175346 , 0.91799957, 0.9464139 ,\n",
       "        0.95675147, 0.95615995, 0.9560874 , 0.9297145 , 1.0333636 ,\n",
       "        0.96279997, 0.9219402 , 0.96375877, 0.9829678 , 0.9551039 ,\n",
       "        0.9944584 , 0.9745254 , 0.959942  , 0.9252345 , 0.96416026,\n",
       "        0.9293784 , 0.9172977 , 0.95672286, 1.0156612 , 1.037715  ,\n",
       "        0.98166645, 1.0510293 , 0.93040055, 0.94731015, 1.0333989 ,\n",
       "        1.071764  , 0.938554  , 0.94270056, 1.0014352 , 0.9394132 ,\n",
       "        0.94195604, 1.0010267 , 0.8641075 , 0.9624052 , 1.0038697 ,\n",
       "        1.0322973 , 0.99758416, 0.9324424 , 0.9666041 , 0.97905725,\n",
       "        0.8990162 , 0.9472543 , 0.9100747 , 0.96325016, 0.97832733,\n",
       "        0.94701153, 0.9503974 , 0.96049666, 0.93876165, 0.971392  ,\n",
       "        0.9184421 , 0.94184244, 0.93861   , 0.9230478 , 0.9404015 ,\n",
       "        0.9754791 , 0.91370356, 0.9562972 , 0.95964473, 0.9993376 ,\n",
       "        0.9212158 , 0.9500791 , 0.93655324, 0.9106199 , 0.9921044 ,\n",
       "        0.9790431 , 0.94063   , 0.9378931 , 1.0105672 , 0.8948548 ,\n",
       "        0.997538  , 0.9463835 , 0.9492707 , 0.96140695, 0.97394925,\n",
       "        0.92533344, 0.9299058 , 0.9705651 , 0.93708485, 0.96642375,\n",
       "        0.95758015, 0.93990475, 0.92085534, 0.9421209 , 1.025193  ,\n",
       "        0.9296405 , 0.910501  , 0.91932565, 0.9390316 , 0.9183475 ,\n",
       "        0.94774836, 0.97195864, 0.93295723, 0.9058798 , 0.95525485,\n",
       "        0.9287422 , 1.0422798 , 0.95313704, 0.9689283 , 0.9455427 ,\n",
       "        1.0147455 , 0.98329586, 0.9280687 , 0.9660278 , 0.9185189 ,\n",
       "        0.9493141 , 1.1121546 , 0.9747262 , 0.96324533, 0.9358229 ,\n",
       "        0.91829795, 0.92240065, 0.9841841 , 0.92952466, 0.9638797 ,\n",
       "        0.9440412 , 1.0418155 , 0.93328035, 0.9520196 , 0.9247338 ,\n",
       "        0.9077464 , 1.0232786 , 0.94537383, 0.98790276, 0.9764918 ,\n",
       "        0.8751389 , 0.96246976, 0.94430304, 0.9859211 , 0.98207295,\n",
       "        0.9110089 , 0.96046644, 1.0754359 , 0.90271544, 0.93460983,\n",
       "        0.96361005, 0.9608208 , 0.951572  , 0.9869146 , 0.9612335 ,\n",
       "        0.93182003, 1.0575496 , 0.9297004 , 0.9400805 , 0.9599742 ,\n",
       "        0.97509515, 1.0088161 , 0.9979387 , 0.9895246 , 1.0362773 ,\n",
       "        0.93345267, 0.97698647, 1.0424523 , 1.0321774 , 0.9445661 ,\n",
       "        0.95307237, 1.0300903 , 0.9435578 , 0.93124264, 1.0031251 ,\n",
       "        0.88534737, 0.9384953 , 1.0051501 , 1.0807639 , 0.9927226 ,\n",
       "        0.9681429 , 0.97329134, 0.9908837 , 0.9277012 , 0.93933845,\n",
       "        0.8816298 , 0.9443043 , 0.99397624, 0.9251075 , 0.9818039 ,\n",
       "        0.9562605 , 0.9160756 , 0.96672964, 0.9475003 , 1.0090244 ,\n",
       "        0.97567445, 0.9383988 , 0.95700103, 0.9901053 , 0.9505611 ,\n",
       "        0.95728946, 0.96649164, 0.9973533 , 0.92325836, 0.9086453 ,\n",
       "        0.95891845, 0.9263444 , 1.0253378 , 0.9911609 , 0.9669438 ,\n",
       "        1.0305653 , 1.0061024 , 0.91092837, 1.0021294 , 0.89239234,\n",
       "        0.9509952 , 0.9259974 , 0.9342725 , 0.9554654 , 0.9064684 ,\n",
       "        0.9613834 , 0.93480235, 0.9845141 , 0.95441777, 0.94906944,\n",
       "        0.9320099 , 0.912936  , 1.0018678 , 1.2599449 , 0.9134174 ,\n",
       "        0.95324856, 0.9450871 , 0.9583703 , 0.9534013 , 0.93923837,\n",
       "        0.9320561 , 0.91656363, 0.9403337 , 0.9376217 , 1.0478512 ,\n",
       "        0.90121174], dtype=float32),\n",
       " array([ 6.98398147e-03,  5.84679004e-03, -8.58016137e-04,  4.99922968e-03,\n",
       "         2.49827523e-02,  2.04548594e-02,  1.73807088e-02,  1.55248893e-02,\n",
       "         2.77293604e-02, -4.88631008e-03,  3.18865739e-02,  2.05050204e-02,\n",
       "         2.50405632e-02,  3.88654061e-02,  1.95888244e-03,  1.71374213e-02,\n",
       "         3.60554457e-03,  4.82957885e-02, -5.64067531e-03,  1.86997652e-03,\n",
       "         5.27222827e-02,  3.19706127e-02,  1.55363074e-02,  7.58270675e-04,\n",
       "         4.19945866e-02, -8.48970469e-03,  4.20423895e-02,  3.49890143e-02,\n",
       "         2.17852015e-02, -6.33633928e-03,  2.18445454e-02,  2.43604798e-02,\n",
       "         2.75944155e-02,  3.51369157e-02, -1.80783216e-02,  2.70243809e-02,\n",
       "         3.49285714e-02,  2.18123868e-02, -7.99119193e-03,  1.35665527e-02,\n",
       "        -1.54969525e-02,  2.41652392e-02,  4.72005829e-03,  3.45539325e-03,\n",
       "        -1.42727615e-02,  1.92225408e-02,  2.86687929e-02,  1.43998377e-02,\n",
       "        -5.31487213e-03,  2.21982673e-02, -3.50809656e-03, -3.01712621e-02,\n",
       "         1.80886302e-03,  1.25324912e-02,  7.79277552e-03,  2.42250934e-02,\n",
       "         3.31413522e-02,  1.25683201e-02,  8.11671838e-03,  2.52446868e-02,\n",
       "         4.24487107e-02,  9.60792135e-03,  3.12869847e-02,  6.91783242e-03,\n",
       "         2.35984242e-03,  1.60789292e-03,  3.77110904e-03,  2.87619699e-02,\n",
       "         8.31639953e-03,  1.86008923e-02,  3.63177881e-02,  5.48205934e-02,\n",
       "         1.55441938e-02, -1.07608484e-02, -5.04108053e-03,  1.92196429e-04,\n",
       "         3.86604369e-02,  4.33240347e-02, -3.36433481e-03,  1.01681491e-02,\n",
       "        -2.27648858e-03,  1.17426030e-02,  2.19179913e-02,  1.88635532e-02,\n",
       "         3.09026930e-02,  2.73935460e-02,  2.66119335e-02, -3.68719478e-03,\n",
       "         1.69015322e-02, -2.73068668e-03, -1.03169377e-03,  1.76769253e-02,\n",
       "         3.33092622e-02,  1.25610810e-02,  2.55328380e-02,  5.96860843e-03,\n",
       "         5.55953011e-03,  8.97411536e-03, -8.16156622e-03,  2.11301409e-02,\n",
       "         1.04343686e-02, -1.90240685e-02,  2.69874139e-03,  1.79536771e-02,\n",
       "         1.76774021e-02,  1.72411539e-02,  3.54242697e-02,  1.56436916e-02,\n",
       "         4.08652099e-03,  4.51142807e-03,  2.25063842e-02,  2.69404445e-02,\n",
       "        -2.47909478e-03,  4.81707568e-04,  2.95700319e-03,  1.51956612e-02,\n",
       "        -3.73287126e-03,  2.12710034e-02,  5.08339778e-02, -1.47687998e-02,\n",
       "         1.26677677e-02,  1.33772912e-02,  3.06712165e-02,  5.44641763e-02,\n",
       "         4.18828940e-03,  3.64056230e-02,  2.37341113e-02,  3.03362217e-02,\n",
       "         1.53158875e-02,  2.31345221e-02,  1.93792675e-02,  2.79397592e-02,\n",
       "         1.56158581e-02,  5.60338721e-02,  2.92760432e-02,  7.90003967e-03,\n",
       "        -7.78954010e-03,  1.69913452e-02,  2.50666030e-02,  4.66589183e-02,\n",
       "         2.63219718e-02,  2.01491155e-02,  1.49264897e-03,  7.11839506e-03,\n",
       "         8.39050335e-04,  3.05431187e-02,  1.22903548e-02,  5.92823979e-03,\n",
       "         2.58864146e-02,  2.33291350e-02,  2.11180113e-02,  1.73428433e-03,\n",
       "         1.20176831e-02,  4.90708230e-03,  2.01930739e-02,  3.14540751e-02,\n",
       "         2.42844708e-02,  3.47345602e-03,  8.61862209e-03,  2.60988995e-02,\n",
       "         2.51584016e-02,  2.30376497e-02,  1.94180124e-02,  5.09493239e-02,\n",
       "         3.80048752e-02,  2.22716387e-02,  1.34385452e-02, -2.08492647e-03,\n",
       "         2.67369747e-02,  2.33889967e-02,  1.64153241e-02, -8.38381797e-03,\n",
       "         2.79394798e-02,  3.94479744e-03,  2.74933912e-02,  5.69886142e-05,\n",
       "         5.28930593e-03,  1.79589645e-03,  1.55955106e-02,  1.71130523e-02,\n",
       "        -9.56419203e-03, -1.25259459e-02, -1.47945555e-02,  3.50508420e-03,\n",
       "         3.48663144e-02,  7.81962182e-03,  6.32168259e-03,  1.46996640e-02,\n",
       "         2.29193773e-02,  1.40147787e-02,  2.04061307e-02,  1.39122261e-02,\n",
       "         2.05953736e-02,  1.47466045e-02,  6.46144105e-03,  1.03742145e-02,\n",
       "         2.58775800e-02,  2.83425138e-03,  2.71837208e-02,  4.29410189e-02,\n",
       "         1.13946563e-02,  8.93807039e-03,  1.42171066e-02, -1.72611640e-03,\n",
       "         2.30695326e-02,  2.40576323e-02,  2.18039751e-02,  3.20870504e-02,\n",
       "        -1.74048837e-05,  1.94897503e-02,  7.06960913e-03,  3.06087714e-02,\n",
       "         8.02152604e-03,  7.77453510e-03, -2.90135271e-03,  3.04265204e-03,\n",
       "        -1.25039916e-03,  2.01870687e-03,  1.22729586e-02,  3.82655077e-02,\n",
       "         2.63861958e-02, -3.48227634e-03, -6.30315905e-03,  2.14395374e-02,\n",
       "         1.89979393e-02, -1.01217572e-02,  2.17564348e-02,  4.28537726e-02,\n",
       "         3.43482126e-03,  7.31300935e-03, -2.22896803e-02,  3.15913670e-02,\n",
       "         3.15317065e-02,  2.35942807e-02,  4.14128304e-02,  2.80118603e-02,\n",
       "        -3.11505180e-02,  7.36513350e-04,  4.24619578e-02,  3.91081423e-02,\n",
       "         1.99168157e-02,  1.69685967e-02, -9.58868023e-03,  1.37108471e-02,\n",
       "         1.56049524e-02,  2.30614729e-02,  4.32483666e-02,  5.11859637e-03,\n",
       "         2.99858321e-02,  2.08304189e-02,  2.88301669e-02,  3.97399627e-02,\n",
       "         2.06543710e-02,  2.29000803e-02, -2.82963403e-02,  2.32452899e-02],\n",
       "       dtype=float32),\n",
       " array([0.1691161 , 0.24122226, 0.338274  , 0.26185942, 0.25904328,\n",
       "        0.13637961, 0.1838005 , 0.15769866, 0.58643377, 0.14696983,\n",
       "        0.35788786, 0.138964  , 0.17267841, 0.14019932, 0.27470738,\n",
       "        0.20311211, 0.2937655 , 0.15264736, 1.0231596 , 0.14174029,\n",
       "        0.13933899, 0.19598947, 0.20714231, 0.9614661 , 0.24100332,\n",
       "        0.569054  , 0.16192928, 0.24008082, 0.19209982, 0.15882738,\n",
       "        0.23010948, 0.149791  , 0.15282194, 0.13019913, 1.0226455 ,\n",
       "        0.13062935, 0.22044164, 0.35093015, 0.27025905, 0.2585924 ,\n",
       "        0.36551735, 0.14222832, 0.22957405, 0.88942933, 0.14155678,\n",
       "        0.2071035 , 0.1558405 , 0.29745924, 0.6805513 , 0.9491969 ,\n",
       "        0.46614233, 0.9488717 , 0.18877125, 0.12461274, 0.93031335,\n",
       "        0.9094993 , 0.13654876, 0.5610412 , 0.42048386, 0.13681675,\n",
       "        0.14418487, 0.5734862 , 0.15880491, 0.14889249, 0.652887  ,\n",
       "        0.82675856, 0.2493865 , 0.2787424 , 0.27911407, 0.4680285 ,\n",
       "        0.14732152, 0.14514038, 0.16990976, 0.1744937 , 0.5964807 ,\n",
       "        0.23863219, 0.16740751, 0.1500821 , 0.13816825, 0.22263972,\n",
       "        0.1464307 , 0.28508848, 0.2498551 , 0.2314572 , 0.17440954,\n",
       "        0.25221345, 0.23378287, 0.33820763, 0.21050574, 0.36108294,\n",
       "        0.16409948, 0.19838537, 0.15847993, 0.25450608, 0.26514202,\n",
       "        0.37772113, 0.37411094, 0.64377177, 0.7515224 , 0.16625804,\n",
       "        0.26041234, 0.1761498 , 0.47385958, 0.13041587, 0.15406686,\n",
       "        0.21908677, 0.25118697, 0.13116027, 0.22102049, 0.20349075,\n",
       "        0.16245528, 0.14615242, 0.28452417, 0.15861754, 0.8469689 ,\n",
       "        0.29211974, 0.2107923 , 0.1790609 , 0.14654273, 0.21139304,\n",
       "        0.17539303, 0.15241855, 0.25020865, 0.25073022, 0.24528207,\n",
       "        0.2816105 , 0.9023128 , 0.18872976, 0.15905178, 0.20147043,\n",
       "        0.39161167, 0.21095243, 0.21911636, 0.14633134, 0.17691495,\n",
       "        0.14468104, 1.6750677 , 0.1488588 , 0.33297578, 0.13553113,\n",
       "        0.15516677, 0.13653125, 0.22866641, 0.19968656, 0.26389635,\n",
       "        0.14647004, 1.2355733 , 0.14608213, 0.14040244, 0.17918262,\n",
       "        0.18527225, 0.75830853, 0.21064931, 0.47775602, 0.15567212,\n",
       "        0.2097876 , 0.17595978, 0.15034238, 0.16835305, 0.14369069,\n",
       "        0.15029661, 0.14175603, 1.1179107 , 0.1453116 , 0.19802862,\n",
       "        0.30896273, 0.22302562, 0.24569242, 0.32824913, 0.14051303,\n",
       "        0.21623322, 1.1624639 , 0.14453126, 0.18330237, 0.14795843,\n",
       "        0.26720634, 0.55906117, 0.6297525 , 0.4218299 , 0.7082362 ,\n",
       "        0.18982168, 0.11862986, 0.9066039 , 0.62705743, 0.15117885,\n",
       "        0.46582574, 0.34749287, 0.17746975, 0.14716607, 0.524599  ,\n",
       "        0.15683162, 0.13510476, 0.48484734, 0.9946973 , 0.20650949,\n",
       "        0.2389472 , 0.26517585, 0.37365618, 0.1305953 , 0.13271505,\n",
       "        0.15365231, 0.1453559 , 0.62509197, 0.20652358, 0.14375286,\n",
       "        0.13294975, 0.14816308, 0.21408124, 0.13470156, 0.25511906,\n",
       "        0.21987768, 0.21812004, 0.1650744 , 0.2196313 , 0.19866312,\n",
       "        0.29411203, 0.18886314, 0.22423966, 0.14199544, 0.17388417,\n",
       "        0.14040552, 0.22197562, 0.26494598, 0.29664996, 0.30187184,\n",
       "        0.88894624, 0.63062054, 0.1748962 , 0.2876723 , 0.19099483,\n",
       "        0.3790244 , 0.1480626 , 0.14119036, 0.22942297, 0.22389714,\n",
       "        0.12575898, 0.19418745, 0.13562898, 0.16505028, 0.14193717,\n",
       "        0.22994874, 0.14086287, 0.57677305, 3.1360738 , 0.19188969,\n",
       "        0.1693447 , 0.13472569, 0.18904689, 0.16816103, 0.13609122,\n",
       "        0.21355298, 0.23158689, 0.216603  , 0.24314466, 0.71443397,\n",
       "        0.15985574], dtype=float32),\n",
       " array([1.2184709 , 0.83318985, 1.2881533 , 1.3196421 , 0.85553735,\n",
       "        1.1608454 , 1.0441523 , 1.0996157 , 2.5378904 , 1.2230241 ,\n",
       "        1.0097926 , 1.0927168 , 0.89775413, 1.0437679 , 1.2586688 ,\n",
       "        0.99674386, 1.0733732 , 1.1404067 , 1.5225694 , 0.88492656,\n",
       "        1.1487746 , 1.1307971 , 0.96182895, 1.910348  , 1.1034073 ,\n",
       "        1.3677319 , 1.2482781 , 0.8607749 , 1.1594975 , 0.95540416,\n",
       "        1.2546827 , 1.2347264 , 1.1494061 , 1.1352851 , 2.1479602 ,\n",
       "        1.1570483 , 1.0737615 , 1.0618813 , 1.144091  , 1.0013686 ,\n",
       "        1.3884175 , 1.2080803 , 1.0358614 , 2.3482945 , 1.0243555 ,\n",
       "        1.0402316 , 1.0865808 , 1.3081769 , 1.4774563 , 1.2595414 ,\n",
       "        1.2903013 , 1.5892645 , 0.8191653 , 1.1055284 , 1.5027363 ,\n",
       "        1.6287806 , 1.1293644 , 0.9501296 , 1.997052  , 1.0841806 ,\n",
       "        0.9766587 , 1.8119859 , 0.8087913 , 1.0502172 , 1.2889268 ,\n",
       "        2.0979505 , 1.3084757 , 1.0595081 , 1.1359186 , 1.1092805 ,\n",
       "        0.9924939 , 1.1252203 , 0.8695182 , 0.98432374, 1.2431817 ,\n",
       "        0.8807563 , 1.1832762 , 1.2130213 , 0.9628885 , 1.3271073 ,\n",
       "        1.1422895 , 1.4277332 , 1.0752095 , 1.1471653 , 1.1680295 ,\n",
       "        1.2484818 , 0.82836294, 1.0851367 , 1.024345  , 1.515292  ,\n",
       "        0.94785744, 1.1087357 , 1.175904  , 0.9324462 , 1.5263578 ,\n",
       "        1.1946434 , 0.98009807, 1.6743253 , 1.4026139 , 0.9408787 ,\n",
       "        1.6587325 , 0.8354974 , 1.1529381 , 1.0711612 , 1.1602285 ,\n",
       "        1.0438886 , 1.0010997 , 1.1648788 , 0.8297709 , 0.995073  ,\n",
       "        1.1627809 , 1.0910574 , 0.8012138 , 1.0771996 , 1.612323  ,\n",
       "        1.009969  , 0.7814792 , 0.9285929 , 1.1862897 , 0.80056834,\n",
       "        1.0739083 , 1.1553233 , 0.8617378 , 1.0216923 , 1.0343671 ,\n",
       "        0.93079066, 2.4707575 , 0.9645928 , 1.1522117 , 0.8143157 ,\n",
       "        1.4971408 , 1.2680587 , 0.8387619 , 1.1085551 , 0.9906483 ,\n",
       "        1.0550829 , 1.364917  , 1.1680647 , 1.0454317 , 1.055503  ,\n",
       "        0.8536781 , 1.0029713 , 1.2040629 , 0.926531  , 1.0049908 ,\n",
       "        1.0945423 , 1.0786092 , 0.8539336 , 1.0976506 , 1.0792177 ,\n",
       "        0.91226053, 1.3746746 , 1.0355501 , 1.1402377 , 1.2139221 ,\n",
       "        0.82535005, 1.111025  , 0.94087654, 1.2270265 , 1.1836435 ,\n",
       "        1.0584334 , 1.0828633 , 1.025789  , 1.1004732 , 1.0256028 ,\n",
       "        1.0220257 , 1.0869435 , 0.92082983, 1.2405599 , 1.163169  ,\n",
       "        0.9622833 , 1.5800414 , 0.97846395, 0.99423075, 1.0350219 ,\n",
       "        1.1522939 , 1.3459731 , 1.0787505 , 1.1149514 , 1.279138  ,\n",
       "        0.7283338 , 1.0803822 , 1.319205  , 1.5852697 , 1.0703253 ,\n",
       "        0.97542447, 1.5656456 , 1.0072176 , 0.9371444 , 1.7562999 ,\n",
       "        0.7708183 , 1.0242547 , 1.1618944 , 1.8074827 , 1.2098838 ,\n",
       "        0.99955124, 1.041821  , 1.0713564 , 0.9615756 , 1.0872787 ,\n",
       "        0.84913206, 0.98512626, 1.0907075 , 0.8567569 , 1.1492417 ,\n",
       "        1.1572173 , 0.92544097, 1.2478747 , 1.1150534 , 1.3103929 ,\n",
       "        1.0322256 , 1.0519994 , 1.1501163 , 1.1857542 , 0.80884224,\n",
       "        1.0083858 , 0.9999827 , 1.4855944 , 0.9258224 , 1.06291   ,\n",
       "        1.142115  , 0.88627005, 1.601389  , 1.1154662 , 0.9253771 ,\n",
       "        1.55277   , 1.1624062 , 0.886004  , 1.542417  , 0.7655317 ,\n",
       "        0.9882369 , 1.0174112 , 1.1325868 , 0.9199255 , 0.9923612 ,\n",
       "        1.1292094 , 0.7989059 , 1.0156093 , 1.109301  , 1.0551432 ,\n",
       "        0.7798438 , 1.0381061 , 1.2555053 , 1.9427156 , 0.7432907 ,\n",
       "        0.8905914 , 1.150737  , 0.762141  , 1.0187247 , 1.115303  ,\n",
       "        0.80893844, 0.9678645 , 1.0176004 , 0.91708535, 1.90999   ,\n",
       "        0.93734777], dtype=float32)]"
      ]
     },
     "execution_count": 65,
     "metadata": {},
     "output_type": "execute_result"
    }
   ],
   "source": [
    "print(model.layers[7].name)\n",
    "model.layers[7].get_weights()"
   ]
  },
  {
   "cell_type": "code",
   "execution_count": 68,
   "metadata": {},
   "outputs": [
    {
     "data": {
      "text/plain": [
       "(1, 256)"
      ]
     },
     "execution_count": 68,
     "metadata": {},
     "output_type": "execute_result"
    }
   ],
   "source": [
    "lay5out=[layer.output for layer in model.layers[:8]]\n",
    "act6mod=Model(model.input,lay5out)\n",
    "pred6=np.array(act6mod.predict(xx_test[0:1])[-1])\n",
    "pred6.shape"
   ]
  },
  {
   "cell_type": "code",
   "execution_count": 67,
   "metadata": {},
   "outputs": [
    {
     "data": {
      "text/plain": [
       "array([ 3.77808679, -1.29214887, -0.73884727, -0.88424333, -1.50259392,\n",
       "        1.97736428,  0.99166553,  3.62442975,  2.45090443,  4.47380796,\n",
       "        2.66082778,  3.75581463,  1.59223703,  0.70080448, -0.60389519,\n",
       "        1.3605371 , -1.51071415,  3.43367001, -0.91679492,  2.51121399,\n",
       "        2.98289896,  1.75521182, -0.90673573, -1.22233138, -0.99790242,\n",
       "       -1.31713647,  2.72606122, -1.32813505,  2.04619131,  3.87074832,\n",
       "        3.99663832,  3.50203666,  2.20581916,  2.64188506, -1.38214697,\n",
       "        2.29772767, -0.90969972, -1.14445059,  2.12078749, -1.41707856,\n",
       "        2.42724841,  3.40180688,  1.97365973, -0.94779029,  3.41701519,\n",
       "        5.11874911,  2.20877162,  1.88629829, -1.29935674,  3.95744523,\n",
       "       -1.4553663 , -1.45805295, -1.29798588,  2.95527507, -1.47494043,\n",
       "        0.44347158,  3.06303542,  1.37564111,  0.69331451,  2.74862031,\n",
       "        4.22261467,  0.65057853,  1.38243649,  0.34832427, -1.24896971,\n",
       "       -0.85801329,  1.74398197, -0.85782141,  2.19079325, -1.33055521,\n",
       "        2.79228759,  1.27718963,  1.5453566 ,  1.59705018, -0.6088024 ,\n",
       "       -1.60156769,  0.27635134,  2.82843238,  2.57389956,  5.43350749,\n",
       "        3.89065348,  0.89996245, -0.86779684,  5.35023966,  1.50261367,\n",
       "       -0.88438323, -1.31117532, -1.21254662,  1.35453033,  3.08120426,\n",
       "        3.93375974,  3.33511904,  1.63230027,  5.26825879,  1.13788985,\n",
       "       -1.08148553, -1.44566891, -0.15245105,  0.68297655,  1.5106424 ,\n",
       "        4.40483062,  1.1343186 ,  8.7241001 ,  3.41768855,  1.45788681,\n",
       "        2.43127785, -0.86435112,  2.0666924 , -1.66167483,  1.48247451,\n",
       "        1.45919018,  2.74764803, -1.62907045,  0.86659969, -1.21905507,\n",
       "       -0.53459794, -1.13170474,  2.47951549,  2.6079924 , -1.70534364,\n",
       "        1.1716506 ,  2.77819014, -1.30882178, -0.91886589, -0.96596574,\n",
       "       -1.35018896, -0.9297189 ,  2.9716376 ,  3.78348525, -1.40913607,\n",
       "       -0.67561894, -0.90777728, -1.50161218,  1.76637004,  1.0893881 ,\n",
       "        3.55446765,  2.29837938,  4.58977871,  3.40847048,  3.43645476,\n",
       "        1.52954436,  0.69852265, -0.56767659,  1.53940624, -1.46445324,\n",
       "        3.37626095,  0.48569181,  2.4470224 ,  2.99065407,  1.8219495 ,\n",
       "       -0.83553791, -1.26100313, -0.99347111, -1.22918917,  2.62226993,\n",
       "       -1.26321273,  2.02909381,  3.79403249,  4.22221538,  3.55469071,\n",
       "        1.99460657,  2.64793315, -0.16725328,  2.12829125, -0.88334875,\n",
       "       -1.31635279,  1.97345774, -1.45980157,  2.24649974,  3.27580351,\n",
       "        2.18396563,  1.40571777,  3.27078303,  5.2452743 ,  2.11572865,\n",
       "        1.47742524, -1.16783572,  4.4402133 , -1.49333517,  0.04626279,\n",
       "       -1.32244397,  3.015285  , -1.41936041,  0.09173236,  3.09102156,\n",
       "       -0.17957919,  1.27601047,  2.77045758,  4.13874748,  0.46726173,\n",
       "        1.38583857,  0.17446105, -1.07905024, -0.99225197,  1.56099066,\n",
       "       -0.87724198,  2.0208623 , -1.36538655,  2.72681681,  1.23181638,\n",
       "        1.70721929,  1.41913603,  0.97955617, -1.5413125 , -0.18145043,\n",
       "        2.66910163,  2.26776909,  5.65881372,  4.1957011 ,  1.05629678,\n",
       "       -0.90249645,  5.78590343,  1.46807245, -0.8718308 , -1.40786733,\n",
       "       -1.19662227,  1.38937221,  2.89265596,  4.02067145,  3.29973285,\n",
       "        1.52222806,  5.90263436,  0.96516873, -1.10295358, -1.37895315,\n",
       "       -1.17968242, -1.1237423 ,  1.652159  ,  3.95646212,  1.30928952,\n",
       "        8.93123282,  3.41934249,  1.35055695,  2.41405185, -0.85588854,\n",
       "        2.12635279, -1.6203694 ,  1.39115996,  1.2280085 ,  2.74347951,\n",
       "       -1.47249947,  0.81799667, -0.82483533, -1.8469019 , -1.11379562,\n",
       "        2.68191339,  2.48597728, -1.70836916,  1.26286111,  2.68825287,\n",
       "       -1.2909331 , -0.92866249, -0.85817986, -1.40908595, -0.9163289 ,\n",
       "        2.69164043])"
      ]
     },
     "execution_count": 67,
     "metadata": {},
     "output_type": "execute_result"
    }
   ],
   "source": [
    "bn2=model.layers[7].get_weights()[0]*((fmaxbn-model.layers[7].get_weights()[2])/np.sqrt(model.layers[7].get_weights()[3]))+model.layers[7].get_weights()[1]\n",
    "bn2"
   ]
  },
  {
   "cell_type": "code",
   "execution_count": 69,
   "metadata": {},
   "outputs": [
    {
     "data": {
      "text/plain": [
       "(1, 256)"
      ]
     },
     "execution_count": 69,
     "metadata": {},
     "output_type": "execute_result"
    }
   ],
   "source": [
    "bn2=np.expand_dims(bn2,axis=0)\n",
    "bn2.shape"
   ]
  },
  {
   "cell_type": "markdown",
   "metadata": {},
   "source": [
    "## layer 8 Dense 200\n",
    "\n",
    "Estamos usando 256 inputs a 200 nueronas  por tanto tenemos una matriz de 256 X 200  y un vector de 200 elemntos que es el bias."
   ]
  },
  {
   "cell_type": "code",
   "execution_count": 73,
   "metadata": {},
   "outputs": [
    {
     "name": "stdout",
     "output_type": "stream",
     "text": [
      "dense\n"
     ]
    },
    {
     "data": {
      "text/plain": [
       "((256, 200), (200,))"
      ]
     },
     "execution_count": 73,
     "metadata": {},
     "output_type": "execute_result"
    }
   ],
   "source": [
    "print(model.layers[8].name)\n",
    "model.layers[8].get_weights()[0].shape,model.layers[8].get_weights()[1].shape"
   ]
  },
  {
   "cell_type": "code",
   "execution_count": 94,
   "metadata": {},
   "outputs": [
    {
     "data": {
      "text/plain": [
       "(1, 200)"
      ]
     },
     "execution_count": 94,
     "metadata": {},
     "output_type": "execute_result"
    }
   ],
   "source": [
    "lay6out=[layer.output for layer in model.layers[:9]]\n",
    "act7mod=Model(model.input,lay6out)\n",
    "pred7=np.array(act7mod.predict(xx_test[0:1])[-1])\n",
    "pred7.shape"
   ]
  },
  {
   "cell_type": "markdown",
   "metadata": {},
   "source": [
    "### ¿Cómo obtenemos la salida de esta neurona L?\n",
    "\n",
    "$$z^{(L)}=\\sigma(a^{(L)}*W^{(L)}+b^{(L)})$$\n",
    "\n",
    "donde $\\sigma$ representa la funció de activación..."
   ]
  },
  {
   "cell_type": "code",
   "execution_count": 95,
   "metadata": {},
   "outputs": [
    {
     "data": {
      "text/plain": [
       "(1, 200)"
      ]
     },
     "execution_count": 95,
     "metadata": {},
     "output_type": "execute_result"
    }
   ],
   "source": [
    "nbn2=np.tanh(np.dot(bn2,model.layers[8].get_weights()[0])+model.layers[8].get_weights()[1])\n",
    "nbn2.shape"
   ]
  },
  {
   "cell_type": "markdown",
   "metadata": {},
   "source": [
    "## Layer 9 BatchNorm"
   ]
  },
  {
   "cell_type": "code",
   "execution_count": 96,
   "metadata": {},
   "outputs": [
    {
     "name": "stdout",
     "output_type": "stream",
     "text": [
      "batch_normalization_3\n"
     ]
    },
    {
     "data": {
      "text/plain": [
       "[array([0.9949902 , 0.979499  , 0.99561644, 0.9719005 , 0.9704917 ,\n",
       "        0.9790191 , 0.9823314 , 0.9791075 , 0.9814622 , 0.97832054,\n",
       "        1.0152832 , 0.9846225 , 0.96917576, 0.99138063, 0.9755305 ,\n",
       "        0.9808593 , 0.9164761 , 0.99466443, 0.97929376, 0.9889639 ,\n",
       "        0.97941643, 0.97338635, 0.9803799 , 0.9880321 , 0.9897238 ,\n",
       "        0.97992283, 0.9639073 , 0.90557635, 0.99359506, 0.976074  ,\n",
       "        0.98462147, 0.9810905 , 0.95920557, 1.0067347 , 1.0048919 ,\n",
       "        0.9743504 , 0.9836499 , 1.0020447 , 1.0012403 , 0.98380125,\n",
       "        0.9957167 , 0.99291855, 0.97396964, 0.98483866, 0.9793886 ,\n",
       "        1.0001366 , 0.9899594 , 0.97771585, 0.9786836 , 0.9996909 ,\n",
       "        0.9820473 , 0.97584015, 1.002928  , 0.97854894, 0.97649056,\n",
       "        0.9734145 , 0.9791332 , 0.96450037, 0.9957878 , 0.9763047 ,\n",
       "        0.9576758 , 0.98470616, 0.99726266, 1.0115844 , 0.9648193 ,\n",
       "        0.93278384, 0.98168033, 0.9778333 , 0.9813792 , 0.99189746,\n",
       "        0.9721068 , 0.9879051 , 0.9866193 , 0.9908035 , 0.9784388 ,\n",
       "        0.99595016, 0.93651956, 0.97927195, 0.9770837 , 0.9829962 ,\n",
       "        0.9886735 , 0.9764173 , 1.0084918 , 1.0000607 , 0.97487974,\n",
       "        0.98242027, 0.9826034 , 0.9783624 , 1.012121  , 0.97754353,\n",
       "        0.99222153, 0.99960965, 0.9793859 , 0.9812413 , 0.9713253 ,\n",
       "        0.9691557 , 0.99723214, 0.9961818 , 0.98641634, 0.99551535,\n",
       "        0.98074174, 0.98119444, 0.978582  , 0.978018  , 0.8259442 ,\n",
       "        0.9976964 , 0.97629964, 0.9728059 , 0.97988945, 0.9745883 ,\n",
       "        0.99612296, 0.9730086 , 0.9538707 , 0.9632419 , 0.9678034 ,\n",
       "        0.9817843 , 0.9691963 , 1.0039419 , 0.9830926 , 0.98248005,\n",
       "        0.9362125 , 0.9740386 , 0.9842659 , 0.9866407 , 0.9838186 ,\n",
       "        0.98874027, 0.97493047, 0.99650055, 0.96946   , 0.9464158 ,\n",
       "        0.9707443 , 0.9861284 , 0.9707337 , 0.9892777 , 0.9798993 ,\n",
       "        0.9885132 , 0.91450876, 0.99703795, 0.96454996, 0.97450763,\n",
       "        0.9978099 , 0.9749256 , 1.0087975 , 0.9848685 , 0.86956316,\n",
       "        0.979481  , 1.0080103 , 0.9907164 , 0.9695172 , 0.9813982 ,\n",
       "        0.9853615 , 0.9747401 , 1.0018008 , 0.9969694 , 0.9678723 ,\n",
       "        0.99352807, 0.99372935, 0.9801857 , 0.9824152 , 0.942791  ,\n",
       "        0.97269565, 0.9883749 , 0.9621205 , 0.8847595 , 0.9849642 ,\n",
       "        0.9027455 , 0.9751696 , 0.8459038 , 0.92339796, 0.97235537,\n",
       "        0.9371227 , 0.95294327, 0.9984391 , 0.8975041 , 0.98066753,\n",
       "        0.9798206 , 0.97366977, 1.0003173 , 0.98153365, 0.97855896,\n",
       "        0.9730787 , 0.9719132 , 0.98711133, 1.001466  , 0.9947692 ,\n",
       "        0.9683222 , 0.97616637, 0.97390777, 0.99202853, 0.9974105 ,\n",
       "        0.97911537, 0.9928784 , 0.9718419 , 1.0047126 , 0.98823065,\n",
       "        0.98009926, 1.0076522 , 0.96882594, 0.98807985, 0.8454411 ],\n",
       "       dtype=float32),\n",
       " array([ 2.4651454e-03,  1.3647804e-03,  2.2581385e-03, -2.1249035e-03,\n",
       "         1.6005315e-03,  2.1169113e-03,  2.0096302e-03, -2.1106009e-03,\n",
       "        -1.9822356e-03, -2.1141251e-03,  2.1863750e-03,  1.7233385e-03,\n",
       "         2.0266713e-03,  2.4804336e-03,  1.3966787e-03,  9.2621543e-04,\n",
       "         2.7630613e-03,  2.2565860e-03,  1.3424500e-03, -1.8681117e-03,\n",
       "         1.6275411e-03,  1.8630527e-03,  2.1546006e-03,  2.1541575e-03,\n",
       "        -2.2376936e-03,  2.1095565e-03, -1.4713034e-03, -1.0353119e-02,\n",
       "         2.1119015e-03, -1.8833259e-03, -2.1320395e-03,  1.0165010e-03,\n",
       "         3.3712809e-03, -2.2357826e-03, -2.2150786e-03, -1.3479489e-03,\n",
       "        -2.1463195e-03, -2.3231790e-03, -2.3247045e-03,  2.1893950e-03,\n",
       "         2.1016935e-03,  2.1371939e-03,  1.8573774e-03,  2.0809046e-03,\n",
       "         2.2791300e-03, -2.2239580e-03,  2.8123590e-03,  8.0479588e-04,\n",
       "         1.4035873e-03,  2.2280826e-03,  2.1793551e-03,  4.8823570e-04,\n",
       "         2.2579513e-03, -1.6500517e-03, -7.1956776e-04,  1.7071700e-03,\n",
       "        -1.8857189e-03, -7.3225249e-04, -2.0984651e-03,  8.7847853e-05,\n",
       "        -4.9446714e-03, -2.2935565e-03,  2.2635560e-03,  2.1917955e-03,\n",
       "         7.7018898e-04,  2.6797091e-03,  2.1182182e-03, -8.5688021e-04,\n",
       "         2.1360903e-03, -2.2643651e-03, -6.4234616e-04, -2.1646991e-03,\n",
       "        -2.2183028e-03, -2.2536509e-03,  1.5347729e-03, -2.1984391e-03,\n",
       "        -8.0755679e-03,  4.1244728e-03,  1.5571392e-03, -2.3871777e-03,\n",
       "         1.9709866e-03, -2.2450669e-03, -2.1409288e-03,  2.2538619e-03,\n",
       "        -1.7545166e-03,  2.2235713e-03,  2.0528263e-03, -2.8422445e-03,\n",
       "        -2.3179073e-03,  1.1936091e-03, -2.2682736e-03,  2.2067535e-03,\n",
       "         1.9509210e-03, -1.9167103e-03, -1.7469311e-03,  1.3003574e-03,\n",
       "         2.0932266e-03,  2.2306980e-03, -2.2020310e-03,  2.0442586e-03,\n",
       "         1.7995674e-03,  2.1182564e-03,  2.1513153e-03, -4.2562149e-03,\n",
       "         1.1521665e-02, -2.1979522e-03,  1.4597571e-03, -1.8781078e-03,\n",
       "        -1.6930848e-03,  1.7452649e-03, -2.2610906e-03, -2.0005130e-03,\n",
       "         2.0562094e-03,  2.9426380e-03,  1.1147374e-03, -1.8549593e-03,\n",
       "         5.3305114e-03,  2.2224349e-03,  1.9483097e-03,  2.0778775e-03,\n",
       "        -1.4270813e-03, -1.4199476e-03, -2.0980635e-03,  2.0419597e-03,\n",
       "        -5.1036426e-03, -2.2159533e-03, -1.7618500e-03,  2.0732617e-03,\n",
       "         1.7575425e-03, -3.0629791e-03, -2.2112223e-04,  2.1079490e-03,\n",
       "        -9.3154120e-04,  2.1873463e-03,  6.8763434e-04, -2.2561532e-03,\n",
       "         2.3679710e-03, -2.2379679e-03,  1.2911354e-03, -1.1322374e-03,\n",
       "        -2.2856793e-03,  1.5015074e-03, -2.1302504e-03, -2.0433960e-03,\n",
       "         4.1693296e-02, -2.1443251e-03, -2.2146492e-03,  2.3233704e-03,\n",
       "         5.9234211e-04, -2.1540637e-03, -2.0887896e-03,  1.6613441e-03,\n",
       "        -2.1940996e-03,  2.1937613e-03, -6.7566929e-04, -2.2382932e-03,\n",
       "         2.1417071e-03,  2.0171525e-03, -1.9883874e-03, -5.4221218e-03,\n",
       "        -1.5694218e-03,  2.0109017e-03, -5.0187288e-03,  1.9537138e-02,\n",
       "        -2.2118478e-03, -4.0637371e-03,  2.4150726e-03, -2.7487439e-03,\n",
       "        -1.1147348e-03, -1.9385684e-03,  6.5692547e-03, -1.8301769e-03,\n",
       "        -2.3025724e-03, -2.6167372e-02, -1.9552009e-03,  2.0636630e-03,\n",
       "        -1.8438107e-03,  2.1051199e-03,  1.0593479e-03,  7.5731915e-04,\n",
       "        -1.7354524e-03,  1.3790331e-03,  1.9788670e-03,  2.1242797e-03,\n",
       "        -2.1069222e-03,  8.2152837e-04, -2.0788328e-03,  1.4514686e-03,\n",
       "         2.1846592e-03,  2.2070650e-03, -2.0966497e-03,  2.2069644e-03,\n",
       "         1.1750965e-02,  2.2281769e-03,  2.2240099e-03, -1.9107122e-03,\n",
       "        -2.1801849e-03,  1.8858076e-03, -2.1834008e-03, -1.6917622e-02],\n",
       "       dtype=float32),\n",
       " array([-0.02175517, -0.01657414, -0.03292307, -0.00611723, -0.00289617,\n",
       "        -0.00233465, -0.00144133,  0.02009672,  0.00960248,  0.01995857,\n",
       "         0.0115071 , -0.02177184, -0.02887221, -0.0339617 , -0.01722658,\n",
       "        -0.02085225,  0.01317738, -0.01366399, -0.00388997,  0.00449333,\n",
       "        -0.01028824, -0.01627713, -0.02592975, -0.01641359,  0.02149675,\n",
       "        -0.01154613,  0.01191012,  0.00296062, -0.02473211,  0.0039207 ,\n",
       "         0.01949937, -0.01959457, -0.01003093,  0.01096003,  0.02240714,\n",
       "         0.01431688, -0.01797008,  0.03618313,  0.03095738, -0.01058353,\n",
       "        -0.00386495, -0.03336177, -0.01482337, -0.02036521, -0.02143763,\n",
       "         0.01063787, -0.0334604 ,  0.00404186, -0.01269239, -0.0322339 ,\n",
       "        -0.04235069, -0.00551155, -0.01552912,  0.0229062 ,  0.01490518,\n",
       "        -0.01170227,  0.00629719,  0.00477545,  0.00932156,  0.00352109,\n",
       "         0.00341488,  0.03162489, -0.02386348,  0.01087991, -0.00263344,\n",
       "        -0.00151089, -0.02297948,  0.02124963, -0.01566628,  0.03342454,\n",
       "         0.00993139,  0.00566181,  0.03848063,  0.01803934, -0.02234765,\n",
       "        -0.00633436,  0.01072974, -0.0141053 , -0.0113491 ,  0.00213597,\n",
       "        -0.01738471,  0.00146685, -0.00310782, -0.02355746,  0.02245215,\n",
       "         0.02507392, -0.04685635,  0.00386061,  0.01078424,  0.01196277,\n",
       "         0.02386554, -0.01666612, -0.01183952,  0.01634315,  0.00507152,\n",
       "        -0.01706245, -0.0042918 , -0.00416129,  0.02136155,  0.00042493,\n",
       "        -0.02613857, -0.0184296 , -0.00237837,  0.00439731, -0.00959251,\n",
       "         0.02314488, -0.03431282, -0.00138866,  0.014563  , -0.01627509,\n",
       "         0.01748407,  0.01189643, -0.01388099,  0.0030812 , -0.02053139,\n",
       "        -0.00326039, -0.00039455,  0.01419007, -0.02966183, -0.00209421,\n",
       "        -0.00800062, -0.01341758, -0.00177631,  0.00154824,  0.02951633,\n",
       "         0.01300312,  0.01879118, -0.01220919, -0.02087561,  0.02187973,\n",
       "        -0.01189732, -0.04241921,  0.04563673, -0.00306829, -0.01260388,\n",
       "         0.01650222,  0.00020456,  0.0143763 , -0.02084313, -0.00151108,\n",
       "        -0.01061166, -0.00123924, -0.00392798,  0.02957153, -0.01257947,\n",
       "         0.01781764,  0.00087434, -0.07212935, -0.00924005, -0.02665578,\n",
       "         0.01085357, -0.02629754, -0.06383155, -0.02617125,  0.01225074,\n",
       "         0.03013115, -0.01892538, -0.00425789,  0.01455704,  0.00565621,\n",
       "         0.00994089, -0.01642293,  0.00070292,  0.01243679,  0.04302538,\n",
       "        -0.00663772, -0.0526192 , -0.00771112,  0.00233324,  0.0258488 ,\n",
       "         0.00305331,  0.00104228, -0.00209987, -0.0007174 ,  0.02864055,\n",
       "        -0.02991099,  0.03450728,  0.00968047, -0.01800939, -0.00594844,\n",
       "         0.01170886, -0.02363319, -0.00616575, -0.03013565,  0.02506426,\n",
       "        -0.00837564,  0.04660973, -0.02037848, -0.03350575, -0.02550233,\n",
       "        -0.04508764, -0.00197801, -0.01397166, -0.02096661, -0.0155627 ,\n",
       "         0.02121413,  0.06750187, -0.01514105, -0.01162004, -0.01191395],\n",
       "       dtype=float32),\n",
       " array([0.04775907, 0.01257787, 0.046144  , 0.09776733, 0.00215893,\n",
       "        0.08339628, 0.02593425, 0.05529671, 0.00139146, 0.03740899,\n",
       "        0.11990109, 0.00512858, 0.04355786, 0.06948865, 0.00452693,\n",
       "        0.00361399, 0.0080199 , 0.08647545, 0.00869083, 0.06628729,\n",
       "        0.00514009, 0.00612255, 0.05369692, 0.03826161, 0.05397253,\n",
       "        0.03861783, 0.00149856, 0.01258715, 0.08899742, 0.00182976,\n",
       "        0.05107356, 0.0029074 , 0.01085998, 0.11418474, 0.11276838,\n",
       "        0.01513174, 0.09863085, 0.10630804, 0.04529438, 0.03937681,\n",
       "        0.09474555, 0.06354696, 0.03451771, 0.0585609 , 0.05528736,\n",
       "        0.11638102, 0.0249292 , 0.00702136, 0.01029808, 0.07327124,\n",
       "        0.07350634, 0.00371979, 0.08124141, 0.01945775, 0.00286958,\n",
       "        0.02691055, 0.02034102, 0.00198877, 0.07985703, 0.00174967,\n",
       "        0.0052376 , 0.02227894, 0.13404414, 0.11588978, 0.00558179,\n",
       "        0.00697532, 0.01563093, 0.00367268, 0.04713815, 0.07863326,\n",
       "        0.00129363, 0.070995  , 0.07205714, 0.07548106, 0.01473176,\n",
       "        0.10280304, 0.00761928, 0.0020621 , 0.01356069, 0.05069052,\n",
       "        0.03954558, 0.00267537, 0.09838314, 0.07917275, 0.04781076,\n",
       "        0.16222534, 0.11538558, 0.00464041, 0.14158118, 0.00145838,\n",
       "        0.09046058, 0.09605593, 0.02855397, 0.00096762, 0.02363284,\n",
       "        0.0043361 , 0.149329  , 0.03806906, 0.00550673, 0.08305688,\n",
       "        0.02286407, 0.04728421, 0.00859949, 0.00304925, 0.00851651,\n",
       "        0.07436934, 0.01373813, 0.0329873 , 0.02013355, 0.01726084,\n",
       "        0.06513438, 0.01636629, 0.00826694, 0.00828707, 0.00552535,\n",
       "        0.00749779, 0.00427267, 0.0423374 , 0.03897685, 0.07271071,\n",
       "        0.00856447, 0.00349607, 0.08810721, 0.07375281, 0.00656586,\n",
       "        0.07086592, 0.05299339, 0.08105215, 0.01714933, 0.00388326,\n",
       "        0.00867403, 0.11042892, 0.00458605, 0.03503848, 0.00295154,\n",
       "        0.03032318, 0.00744258, 0.08473951, 0.00656891, 0.00846419,\n",
       "        0.14671463, 0.01848817, 0.11160617, 0.03741774, 0.01179533,\n",
       "        0.06528036, 0.09145559, 0.09225938, 0.00937262, 0.12596613,\n",
       "        0.05087373, 0.02107792, 0.19375858, 0.08250567, 0.00452261,\n",
       "        0.07097767, 0.06541552, 0.04082964, 0.0245326 , 0.00678512,\n",
       "        0.00453145, 0.06108954, 0.00728531, 0.00454513, 0.03499089,\n",
       "        0.00565204, 0.02966643, 0.00930432, 0.00772807, 0.04183606,\n",
       "        0.0125177 , 0.00931751, 0.07956302, 0.01354744, 0.075784  ,\n",
       "        0.08171355, 0.04056659, 0.090232  , 0.00326466, 0.00169198,\n",
       "        0.00293071, 0.0138004 , 0.0492987 , 0.15993202, 0.07827641,\n",
       "        0.00785077, 0.04098655, 0.01435498, 0.06611402, 0.07501213,\n",
       "        0.15513237, 0.12267806, 0.0041511 , 0.10998631, 0.08527922,\n",
       "        0.00100202, 0.23512009, 0.00732838, 0.1394093 , 0.01009459],\n",
       "       dtype=float32)]"
      ]
     },
     "execution_count": 96,
     "metadata": {},
     "output_type": "execute_result"
    }
   ],
   "source": [
    "print(model.layers[9].name)\n",
    "model.layers[9].get_weights()"
   ]
  },
  {
   "cell_type": "code",
   "execution_count": 97,
   "metadata": {},
   "outputs": [
    {
     "data": {
      "text/plain": [
       "array([[ 1.7121586 ,  2.1808593 , -1.5898863 ,  1.149472  , -0.01404821,\n",
       "        -1.1460103 ,  2.558592  , -1.8621525 ,  3.4630148 ,  1.512109  ,\n",
       "         1.7580124 ,  1.7675335 , -1.4577285 ,  1.5683424 , -0.90389794,\n",
       "        -2.0093596 ,  0.44033796, -1.3416532 ,  0.5294302 , -1.3317928 ,\n",
       "        -1.2161064 , -2.3186102 ,  4.001842  , -1.3791211 ,  1.4996125 ,\n",
       "        -1.2336016 , -0.12445725,  0.77719736,  1.4608645 ,  0.48231393,\n",
       "         1.2347662 ,  3.170248  ,  1.5601546 ,  2.8972242 ,  0.69252044,\n",
       "        -2.179869  ,  1.156474  ,  1.5076855 , -1.9883354 , -1.6016506 ,\n",
       "         1.0981362 ,  1.1972134 , -1.4924878 ,  1.6343545 , -1.1542801 ,\n",
       "         1.3804772 ,  2.0423138 , -1.6015782 ,  2.090783  , -1.5822166 ,\n",
       "         1.5380269 ,  1.0925566 ,  2.0394557 , -2.3519351 ,  5.082342  ,\n",
       "        -1.5445081 , -2.3396502 , -0.07337902, -1.4510456 ,  1.2387583 ,\n",
       "         1.2361856 , -2.5861707 ,  1.6824274 ,  2.3357716 ,  2.419481  ,\n",
       "         0.5735342 ,  2.2433836 , -0.28523672, -1.2449892 ,  0.8044877 ,\n",
       "        -0.9384646 ,  1.3384355 ,  1.3655002 , -3.4433658 , -1.8611002 ,\n",
       "         0.87720126,  0.29809967, -1.2814661 , -1.550274  ,  1.2646285 ,\n",
       "        -1.4039985 ,  0.7233717 , -1.4336954 , -1.428788  , -1.7213339 ,\n",
       "        -1.1166713 ,  1.2422227 ,  1.6589191 ,  2.4656696 ,  1.1015489 ,\n",
       "        -1.2897737 , -1.4281464 , -1.6719118 , -0.54774594,  1.6034589 ,\n",
       "        -0.9700129 ,  1.0281335 ,  1.6957924 , -0.90158904,  1.1831453 ,\n",
       "         2.33423   , -1.209544  , -0.87462497, -1.110512  ,  1.2519075 ,\n",
       "        -1.0134766 ,  2.223045  ,  1.8006842 , -2.2437658 , -1.7291435 ,\n",
       "         0.8098607 ,  1.8803034 ,  1.3302027 , -1.6329076 ,  1.2044464 ,\n",
       "         1.3298311 , -2.7782805 ,  3.5457263 ,  1.9870458 , -1.2067635 ,\n",
       "        -1.2367141 ,  0.31140542,  1.1408452 , -1.1959304 ,  1.4751328 ,\n",
       "         0.6884205 , -1.6594884 ,  1.4133193 ,  2.3421853 , -1.2752115 ,\n",
       "         1.2426221 ,  1.2906389 , -1.5608879 ,  2.2892218 , -1.8974926 ,\n",
       "        -2.0166917 , -1.13412   , -1.1839588 ,  0.84595406,  1.3979142 ,\n",
       "         1.0658163 , -1.7952523 , -1.5780902 ,  1.4556887 ,  2.058731  ,\n",
       "         1.5319873 , -3.2030869 ,  1.0102129 ,  0.736859  ,  1.2445146 ,\n",
       "        -1.7589667 ,  2.2750676 ,  1.5399051 ,  1.9473845 ,  1.7227957 ,\n",
       "         1.5218444 ,  1.555938  , -1.3162222 , -2.3010762 ,  1.2575934 ,\n",
       "        -1.0919963 ,  1.5831655 , -0.74934995, -3.063496  ,  0.967375  ,\n",
       "        -1.8677187 , -1.2900887 ,  0.5952751 ,  2.4249706 ,  1.3738288 ,\n",
       "        -2.5185456 ,  1.3067105 , -1.5007666 , -0.9761186 , -1.3628705 ,\n",
       "         1.3406116 , -1.834978  ,  1.315215  , -1.4801607 ,  2.862018  ,\n",
       "        -2.9614224 , -1.6130431 ,  1.7321994 ,  1.8933234 , -1.3135734 ,\n",
       "         0.42176187, -1.7976635 , -1.1751882 , -0.836581  , -3.504256  ,\n",
       "         1.1839917 , -0.6147593 ,  2.6730535 , -2.2341483 , -1.0498736 ,\n",
       "         3.7545304 , -2.1821136 , -1.7931516 ,  1.1174513 ,  0.35265633]],\n",
       "      dtype=float32)"
      ]
     },
     "execution_count": 97,
     "metadata": {},
     "output_type": "execute_result"
    }
   ],
   "source": [
    "lay7out=[layer.output for layer in model.layers[:10]]\n",
    "act8mod=Model(model.input,lay7out)\n",
    "pred8=np.array(act8mod.predict(xx_test[0:1])[-1])\n",
    "pred8"
   ]
  },
  {
   "cell_type": "code",
   "execution_count": 98,
   "metadata": {},
   "outputs": [
    {
     "data": {
      "text/plain": [
       "array([[ 1.76152146,  2.31191498, -1.66089528,  1.18077838, -0.02245869,\n",
       "        -1.18054109,  2.64910413, -1.90059148,  4.63102118,  1.57240451,\n",
       "         1.77926209,  1.97594638, -1.50998582,  1.60148233, -1.01196766,\n",
       "        -2.32311559,  0.47235305, -1.39277224,  0.57788289, -1.36888256,\n",
       "        -1.36785454, -2.55399418,  4.06028095, -1.43857434,  1.55281946,\n",
       "        -1.28972542, -0.15942018,  0.82839143,  1.48517076,  0.60139561,\n",
       "         1.28224167,  3.75381158,  1.67409344,  2.91435125,  0.72165645,\n",
       "        -2.29590267,  1.19133469,  1.53853286, -2.03404858, -1.67293586,\n",
       "         1.10676593,  1.21883527, -1.55276497,  1.67139411, -1.2012042 ,\n",
       "         1.41097697,  2.11227246, -1.76015278,  2.23504494, -1.64924023,\n",
       "         1.56754068,  1.26984339,  2.07626108, -2.45624421,  6.00746687,\n",
       "        -1.61291087, -2.44061271, -0.09829314, -1.47833368,  1.57426686,\n",
       "         1.37778175, -2.68952055,  1.70912253,  2.36612505,  2.67121677,\n",
       "         0.62805498,  2.36062193, -0.32565371, -1.2961246 ,  0.84774623,\n",
       "        -1.27908301,  1.37968523,  1.4108513 , -3.47796784, -1.96933219,\n",
       "         0.90953254,  0.32642889, -1.59063568, -1.64251955,  1.31418532,\n",
       "        -1.46310474,  0.85868268, -1.45794019, -1.46755675, -1.76693517,\n",
       "        -1.14490051,  1.28384264,  1.87653226,  2.48842648,  1.46400761,\n",
       "        -1.3006317 , -1.4799733 , -1.74941963, -0.78929768,  1.67906178,\n",
       "        -1.10213029,  1.04247046,  1.73781154, -1.01531579,  1.2017679 ,\n",
       "         2.42852315, -1.261445  , -0.95551406, -1.29958126,  1.354082  ,\n",
       "        -1.03079021,  2.34953616,  1.87177564, -2.34376399, -1.81942022,\n",
       "         0.85653923,  1.98574436,  1.44776664, -1.77176391,  1.34141003,\n",
       "         1.45597204, -3.14674315,  3.63569592,  2.04920338, -1.24828651,\n",
       "        -1.34102384,  0.36359083,  1.17621414, -1.23377881,  1.61573806,\n",
       "         0.73883677, -1.70214434,  1.43603277,  2.45362863, -1.47007346,\n",
       "         1.35122622,  1.31614613, -1.76186844,  2.35654108, -2.24547046,\n",
       "        -2.07267409, -1.23722628, -1.21140166,  0.92611559,  1.5147734 ,\n",
       "         1.0932795 , -1.88699822, -1.60026972,  1.50871561,  2.1797542 ,\n",
       "         1.58056448, -3.23034068,  1.02074776,  0.80032178,  1.27619768,\n",
       "        -1.80828707,  2.37335166,  1.57164599,  1.98982196,  1.95744293,\n",
       "         1.56540855,  1.5920597 , -1.37162093, -2.39125874,  1.37504018,\n",
       "        -1.23060987,  1.61691691, -0.80407618, -3.44802427,  1.03043462,\n",
       "        -2.0661317 , -1.35341893,  0.64395743,  2.629305  ,  1.4282368 ,\n",
       "        -2.66770498,  1.41219792, -1.54678595, -1.03133316, -1.4040093 ,\n",
       "         1.36299678, -1.88848195,  1.33300067, -1.7356319 ,  3.67820851,\n",
       "        -3.50247476, -1.70922632,  1.76850135,  1.91456227, -1.33047709,\n",
       "         0.4586582 , -1.84921588, -1.24675944, -0.88698948, -3.52995137,\n",
       "         1.21139443, -0.6608098 ,  3.03478657, -2.2691065 , -1.08415889,\n",
       "         5.41616369, -2.19050218, -1.95612847,  1.14528442,  0.38122657]])"
      ]
     },
     "execution_count": 98,
     "metadata": {},
     "output_type": "execute_result"
    }
   ],
   "source": [
    "bn3=model.layers[9].get_weights()[0]*((nbn2-model.layers[9].get_weights()[2])/np.sqrt(model.layers[9].get_weights()[3]))+model.layers[9].get_weights()[1]\n",
    "bn3"
   ]
  },
  {
   "cell_type": "markdown",
   "metadata": {},
   "source": [
    "## Layer 10 Dense 2\n",
    "\n",
    "Entrada 200 inputs salida 2 entonces matriz de 200 x 2  y vector de 2 que es el bias"
   ]
  },
  {
   "cell_type": "code",
   "execution_count": 99,
   "metadata": {},
   "outputs": [
    {
     "name": "stdout",
     "output_type": "stream",
     "text": [
      "dense_1\n"
     ]
    },
    {
     "data": {
      "text/plain": [
       "((200, 2), (2,))"
      ]
     },
     "execution_count": 99,
     "metadata": {},
     "output_type": "execute_result"
    }
   ],
   "source": [
    "print(model.layers[10].name)\n",
    "model.layers[10].get_weights()[0].shape,model.layers[10].get_weights()[1].shape"
   ]
  },
  {
   "cell_type": "code",
   "execution_count": 100,
   "metadata": {},
   "outputs": [
    {
     "data": {
      "text/plain": [
       "array([[0.9786708 , 0.02132924]], dtype=float32)"
      ]
     },
     "execution_count": 100,
     "metadata": {},
     "output_type": "execute_result"
    }
   ],
   "source": [
    "lay8out=[layer.output for layer in model.layers[:11]]\n",
    "act9mod=Model(model.input,lay8out)\n",
    "pred9=np.array(act9mod.predict(xx_test[0:1])[-1])\n",
    "pred9"
   ]
  },
  {
   "cell_type": "markdown",
   "metadata": {},
   "source": [
    "Recordar que esta neurona usa funcioón de activación softmax:\n",
    "\n",
    "$$\\sigma(\\mathbf{z})_{j}=\\frac{e^{z_{j}}}{\\sum_{k=1}^{K} e^{z_{k}}} \\quad \\text { para } j=1, \\ldots, K$$"
   ]
  },
  {
   "cell_type": "code",
   "execution_count": 102,
   "metadata": {},
   "outputs": [
    {
     "data": {
      "text/plain": [
       "array([[ 1.46898702, -2.3033805 ]])"
      ]
     },
     "execution_count": 102,
     "metadata": {},
     "output_type": "execute_result"
    }
   ],
   "source": [
    "z=np.dot(bn3,model.layers[10].get_weights()[0])+model.layers[10].get_weights()[1]\n",
    "z"
   ]
  },
  {
   "cell_type": "code",
   "execution_count": null,
   "metadata": {},
   "outputs": [],
   "source": []
  },
  {
   "cell_type": "code",
   "execution_count": 110,
   "metadata": {},
   "outputs": [
    {
     "data": {
      "text/plain": [
       "array([[0.97751945, 0.02248055]])"
      ]
     },
     "execution_count": 110,
     "metadata": {},
     "output_type": "execute_result"
    }
   ],
   "source": [
    "sz=np.exp(z)/np.sum(np.exp(z))\n",
    "sz"
   ]
  },
  {
   "cell_type": "markdown",
   "metadata": {},
   "source": [
    "Podemos ver con esto que coinciden los scores por clase, y si vemos el modelo total tenemos:\n"
   ]
  },
  {
   "cell_type": "code",
   "execution_count": 111,
   "metadata": {},
   "outputs": [
    {
     "data": {
      "text/plain": [
       "array([[0.9786708 , 0.02132924]], dtype=float32)"
      ]
     },
     "execution_count": 111,
     "metadata": {},
     "output_type": "execute_result"
    }
   ],
   "source": [
    "model.predict(xx_test[0:1])"
   ]
  },
  {
   "cell_type": "markdown",
   "metadata": {},
   "source": [
    "**Hemos replicado ele entendimineto de los cálculos del la red usando los pesos**"
   ]
  },
  {
   "cell_type": "code",
   "execution_count": null,
   "metadata": {},
   "outputs": [],
   "source": []
  }
 ],
 "metadata": {
  "accelerator": "GPU",
  "colab": {
   "collapsed_sections": [],
   "name": "Bayes_CNN_manyvars.ipynb",
   "provenance": [],
   "toc_visible": true
  },
  "kernelspec": {
   "display_name": "Python 3.7 (tensorflow)",
   "language": "python",
   "name": "tensorflow"
  },
  "language_info": {
   "codemirror_mode": {
    "name": "ipython",
    "version": 3
   },
   "file_extension": ".py",
   "mimetype": "text/x-python",
   "name": "python",
   "nbconvert_exporter": "python",
   "pygments_lexer": "ipython3",
   "version": "3.7.7"
  },
  "toc": {
   "base_numbering": 1,
   "nav_menu": {},
   "number_sections": true,
   "sideBar": true,
   "skip_h1_title": false,
   "title_cell": "Table of Contents",
   "title_sidebar": "Contents",
   "toc_cell": false,
   "toc_position": {
    "height": "571.2px",
    "left": "996px",
    "top": "147.14px",
    "width": "307.2px"
   },
   "toc_section_display": true,
   "toc_window_display": true
  }
 },
 "nbformat": 4,
 "nbformat_minor": 1
}
